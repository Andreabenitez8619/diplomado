{
  "nbformat": 4,
  "nbformat_minor": 0,
  "metadata": {
    "colab": {
      "provenance": []
    },
    "kernelspec": {
      "name": "python3",
      "display_name": "Python 3"
    },
    "language_info": {
      "name": "python"
    },
    "accelerator": "GPU",
    "gpuClass": "standard"
  },
  "cells": [
    {
      "cell_type": "markdown",
      "source": [
        "<a href=\"https://colab.research.google.com/github/DCDPUAEM/DCDP/blob/main/03-Deep-Learning/notebooks/08-LSTM-Clasificacion.ipynb\" target=\"_parent\"><img src=\"https://colab.research.google.com/assets/colab-badge.svg\" alt=\"Open In Colab\"/></a>"
      ],
      "metadata": {
        "id": "HSyYPlAKVJGE"
      }
    },
    {
      "cell_type": "markdown",
      "source": [
        "<h1>Long Short-Term Memory Networks: Sentiment Analysis</h1>\n",
        "\n",
        "En esta notebook usaremos redes LSTM para análisis de sentimientos. Estudiaremos el dataset de reviews de películas de IMDB. Este es un dataset muy usado para tareas de análisis de sentimientos.\n",
        "\n",
        "En esta tarea no nos interesa tener una salida en cada elemento de la secuencia, solamente queremos la salida al final de la secuencia.\n",
        "\n",
        "\n",
        "<img align=\"left\" width=\"50%\" src=\"https://github.com/DCDPUAEM/DCDP/blob/main/03-Deep-Learning/img/LSTM.png?raw=1\"/>"
      ],
      "metadata": {
        "id": "0-QiMUBj-xrJ"
      }
    },
    {
      "cell_type": "code",
      "source": [
        "import tensorflow as tf\n",
        "\n",
        "print('GPU presente en: {}'.format(tf.test.gpu_device_name()))"
      ],
      "metadata": {
        "id": "WtXXpPwLBFOa",
        "colab": {
          "base_uri": "https://localhost:8080/"
        },
        "outputId": "f77e2d0a-d018-4a0f-a02d-07ad26055f06"
      },
      "execution_count": 2,
      "outputs": [
        {
          "output_type": "stream",
          "name": "stdout",
          "text": [
            "GPU presente en: /device:GPU:0\n"
          ]
        }
      ]
    },
    {
      "cell_type": "code",
      "execution_count": 3,
      "metadata": {
        "id": "QsQlfmy8YYDK"
      },
      "outputs": [],
      "source": [
        "import numpy as np\n",
        "import matplotlib.pyplot as plt"
      ]
    },
    {
      "cell_type": "code",
      "source": [
        "import re\n",
        "import numpy as np\n",
        "\n",
        "\n",
        "import keras\n",
        "from sklearn.metrics import classification_report\n",
        "from sklearn.metrics import accuracy_score\n",
        "import math\n",
        "import nltk"
      ],
      "metadata": {
        "id": "8cOV9jZib6RU"
      },
      "execution_count": 4,
      "outputs": []
    },
    {
      "cell_type": "markdown",
      "source": [
        "# LSTM for Sentiment Analysis"
      ],
      "metadata": {
        "id": "cCAbMc5gD32H"
      }
    },
    {
      "cell_type": "markdown",
      "source": [
        "## El conjunto de datos"
      ],
      "metadata": {
        "id": "Tje27BV-GVdi"
      }
    },
    {
      "cell_type": "markdown",
      "source": [
        "IMDB\n",
        "\n",
        "* Original source: http://ai.stanford.edu/~amaas/data/sentiment/\n",
        "* Kaggle: https://www.kaggle.com/datasets/lakshmi25npathi/imdb-dataset-of-50k-movie-reviews"
      ],
      "metadata": {
        "id": "xmH2IBtuGXaQ"
      }
    },
    {
      "cell_type": "markdown",
      "source": [
        "Bajamos este archivo desde Drive. En caso de tener problemas con el siguiente comando, puedes bajar el archivo de [aquí](https://drive.google.com/uc?id=1TewLD3BbgqV1t2I905Al3vm_VqUzoPzg) y luego subirlo manualmente a Colab."
      ],
      "metadata": {
        "id": "wmtR29HCIDIp"
      }
    },
    {
      "cell_type": "code",
      "source": [
        "!pip install -q gdown"
      ],
      "metadata": {
        "id": "cs_gYXs9bSUb"
      },
      "execution_count": 5,
      "outputs": []
    },
    {
      "cell_type": "code",
      "source": [
        "!gdown 1TewLD3BbgqV1t2I905Al3vm_VqUzoPzg"
      ],
      "metadata": {
        "id": "QscswTFwBSQM",
        "colab": {
          "base_uri": "https://localhost:8080/"
        },
        "outputId": "50c83c2c-c2e0-464d-ce72-5fb673b9eead"
      },
      "execution_count": 6,
      "outputs": [
        {
          "output_type": "stream",
          "name": "stdout",
          "text": [
            "Downloading...\n",
            "From: https://drive.google.com/uc?id=1TewLD3BbgqV1t2I905Al3vm_VqUzoPzg\n",
            "To: /content/IMDB Dataset.csv\n",
            "100% 66.2M/66.2M [00:00<00:00, 168MB/s]\n"
          ]
        }
      ]
    },
    {
      "cell_type": "markdown",
      "source": [
        "Leemos el dataframe"
      ],
      "metadata": {
        "id": "P5-xL-av1NaY"
      }
    },
    {
      "cell_type": "code",
      "source": [
        "import pandas as pd\n",
        "\n",
        "df = pd.read_csv('/content/IMDB Dataset.csv')\n",
        "display(df)"
      ],
      "metadata": {
        "id": "l4E4bIiAZuUf",
        "colab": {
          "base_uri": "https://localhost:8080/",
          "height": 423
        },
        "outputId": "ef871a4d-791d-48f1-a962-ccbe9bd8a8e9"
      },
      "execution_count": 7,
      "outputs": [
        {
          "output_type": "display_data",
          "data": {
            "text/plain": [
              "                                                  review sentiment\n",
              "0      One of the other reviewers has mentioned that ...  positive\n",
              "1      A wonderful little production. <br /><br />The...  positive\n",
              "2      I thought this was a wonderful way to spend ti...  positive\n",
              "3      Basically there's a family where a little boy ...  negative\n",
              "4      Petter Mattei's \"Love in the Time of Money\" is...  positive\n",
              "...                                                  ...       ...\n",
              "49995  I thought this movie did a down right good job...  positive\n",
              "49996  Bad plot, bad dialogue, bad acting, idiotic di...  negative\n",
              "49997  I am a Catholic taught in parochial elementary...  negative\n",
              "49998  I'm going to have to disagree with the previou...  negative\n",
              "49999  No one expects the Star Trek movies to be high...  negative\n",
              "\n",
              "[50000 rows x 2 columns]"
            ],
            "text/html": [
              "\n",
              "  <div id=\"df-3adb8fd9-e19e-4bb1-a254-64ba60811355\">\n",
              "    <div class=\"colab-df-container\">\n",
              "      <div>\n",
              "<style scoped>\n",
              "    .dataframe tbody tr th:only-of-type {\n",
              "        vertical-align: middle;\n",
              "    }\n",
              "\n",
              "    .dataframe tbody tr th {\n",
              "        vertical-align: top;\n",
              "    }\n",
              "\n",
              "    .dataframe thead th {\n",
              "        text-align: right;\n",
              "    }\n",
              "</style>\n",
              "<table border=\"1\" class=\"dataframe\">\n",
              "  <thead>\n",
              "    <tr style=\"text-align: right;\">\n",
              "      <th></th>\n",
              "      <th>review</th>\n",
              "      <th>sentiment</th>\n",
              "    </tr>\n",
              "  </thead>\n",
              "  <tbody>\n",
              "    <tr>\n",
              "      <th>0</th>\n",
              "      <td>One of the other reviewers has mentioned that ...</td>\n",
              "      <td>positive</td>\n",
              "    </tr>\n",
              "    <tr>\n",
              "      <th>1</th>\n",
              "      <td>A wonderful little production. &lt;br /&gt;&lt;br /&gt;The...</td>\n",
              "      <td>positive</td>\n",
              "    </tr>\n",
              "    <tr>\n",
              "      <th>2</th>\n",
              "      <td>I thought this was a wonderful way to spend ti...</td>\n",
              "      <td>positive</td>\n",
              "    </tr>\n",
              "    <tr>\n",
              "      <th>3</th>\n",
              "      <td>Basically there's a family where a little boy ...</td>\n",
              "      <td>negative</td>\n",
              "    </tr>\n",
              "    <tr>\n",
              "      <th>4</th>\n",
              "      <td>Petter Mattei's \"Love in the Time of Money\" is...</td>\n",
              "      <td>positive</td>\n",
              "    </tr>\n",
              "    <tr>\n",
              "      <th>...</th>\n",
              "      <td>...</td>\n",
              "      <td>...</td>\n",
              "    </tr>\n",
              "    <tr>\n",
              "      <th>49995</th>\n",
              "      <td>I thought this movie did a down right good job...</td>\n",
              "      <td>positive</td>\n",
              "    </tr>\n",
              "    <tr>\n",
              "      <th>49996</th>\n",
              "      <td>Bad plot, bad dialogue, bad acting, idiotic di...</td>\n",
              "      <td>negative</td>\n",
              "    </tr>\n",
              "    <tr>\n",
              "      <th>49997</th>\n",
              "      <td>I am a Catholic taught in parochial elementary...</td>\n",
              "      <td>negative</td>\n",
              "    </tr>\n",
              "    <tr>\n",
              "      <th>49998</th>\n",
              "      <td>I'm going to have to disagree with the previou...</td>\n",
              "      <td>negative</td>\n",
              "    </tr>\n",
              "    <tr>\n",
              "      <th>49999</th>\n",
              "      <td>No one expects the Star Trek movies to be high...</td>\n",
              "      <td>negative</td>\n",
              "    </tr>\n",
              "  </tbody>\n",
              "</table>\n",
              "<p>50000 rows × 2 columns</p>\n",
              "</div>\n",
              "      <button class=\"colab-df-convert\" onclick=\"convertToInteractive('df-3adb8fd9-e19e-4bb1-a254-64ba60811355')\"\n",
              "              title=\"Convert this dataframe to an interactive table.\"\n",
              "              style=\"display:none;\">\n",
              "        \n",
              "  <svg xmlns=\"http://www.w3.org/2000/svg\" height=\"24px\"viewBox=\"0 0 24 24\"\n",
              "       width=\"24px\">\n",
              "    <path d=\"M0 0h24v24H0V0z\" fill=\"none\"/>\n",
              "    <path d=\"M18.56 5.44l.94 2.06.94-2.06 2.06-.94-2.06-.94-.94-2.06-.94 2.06-2.06.94zm-11 1L8.5 8.5l.94-2.06 2.06-.94-2.06-.94L8.5 2.5l-.94 2.06-2.06.94zm10 10l.94 2.06.94-2.06 2.06-.94-2.06-.94-.94-2.06-.94 2.06-2.06.94z\"/><path d=\"M17.41 7.96l-1.37-1.37c-.4-.4-.92-.59-1.43-.59-.52 0-1.04.2-1.43.59L10.3 9.45l-7.72 7.72c-.78.78-.78 2.05 0 2.83L4 21.41c.39.39.9.59 1.41.59.51 0 1.02-.2 1.41-.59l7.78-7.78 2.81-2.81c.8-.78.8-2.07 0-2.86zM5.41 20L4 18.59l7.72-7.72 1.47 1.35L5.41 20z\"/>\n",
              "  </svg>\n",
              "      </button>\n",
              "      \n",
              "  <style>\n",
              "    .colab-df-container {\n",
              "      display:flex;\n",
              "      flex-wrap:wrap;\n",
              "      gap: 12px;\n",
              "    }\n",
              "\n",
              "    .colab-df-convert {\n",
              "      background-color: #E8F0FE;\n",
              "      border: none;\n",
              "      border-radius: 50%;\n",
              "      cursor: pointer;\n",
              "      display: none;\n",
              "      fill: #1967D2;\n",
              "      height: 32px;\n",
              "      padding: 0 0 0 0;\n",
              "      width: 32px;\n",
              "    }\n",
              "\n",
              "    .colab-df-convert:hover {\n",
              "      background-color: #E2EBFA;\n",
              "      box-shadow: 0px 1px 2px rgba(60, 64, 67, 0.3), 0px 1px 3px 1px rgba(60, 64, 67, 0.15);\n",
              "      fill: #174EA6;\n",
              "    }\n",
              "\n",
              "    [theme=dark] .colab-df-convert {\n",
              "      background-color: #3B4455;\n",
              "      fill: #D2E3FC;\n",
              "    }\n",
              "\n",
              "    [theme=dark] .colab-df-convert:hover {\n",
              "      background-color: #434B5C;\n",
              "      box-shadow: 0px 1px 3px 1px rgba(0, 0, 0, 0.15);\n",
              "      filter: drop-shadow(0px 1px 2px rgba(0, 0, 0, 0.3));\n",
              "      fill: #FFFFFF;\n",
              "    }\n",
              "  </style>\n",
              "\n",
              "      <script>\n",
              "        const buttonEl =\n",
              "          document.querySelector('#df-3adb8fd9-e19e-4bb1-a254-64ba60811355 button.colab-df-convert');\n",
              "        buttonEl.style.display =\n",
              "          google.colab.kernel.accessAllowed ? 'block' : 'none';\n",
              "\n",
              "        async function convertToInteractive(key) {\n",
              "          const element = document.querySelector('#df-3adb8fd9-e19e-4bb1-a254-64ba60811355');\n",
              "          const dataTable =\n",
              "            await google.colab.kernel.invokeFunction('convertToInteractive',\n",
              "                                                     [key], {});\n",
              "          if (!dataTable) return;\n",
              "\n",
              "          const docLinkHtml = 'Like what you see? Visit the ' +\n",
              "            '<a target=\"_blank\" href=https://colab.research.google.com/notebooks/data_table.ipynb>data table notebook</a>'\n",
              "            + ' to learn more about interactive tables.';\n",
              "          element.innerHTML = '';\n",
              "          dataTable['output_type'] = 'display_data';\n",
              "          await google.colab.output.renderOutput(dataTable, element);\n",
              "          const docLink = document.createElement('div');\n",
              "          docLink.innerHTML = docLinkHtml;\n",
              "          element.appendChild(docLink);\n",
              "        }\n",
              "      </script>\n",
              "    </div>\n",
              "  </div>\n",
              "  "
            ]
          },
          "metadata": {}
        }
      ]
    },
    {
      "cell_type": "markdown",
      "source": [
        "Tenemos dos clases. Es un problema de clasificación binaria"
      ],
      "metadata": {
        "id": "CD4QuvXuiteD"
      }
    },
    {
      "cell_type": "code",
      "source": [
        "df['sentiment'].unique()"
      ],
      "metadata": {
        "colab": {
          "base_uri": "https://localhost:8080/"
        },
        "id": "tomZPOEIijlR",
        "outputId": "d49c86c0-3250-4faa-dec1-d9bb0e4ad925"
      },
      "execution_count": 8,
      "outputs": [
        {
          "output_type": "execute_result",
          "data": {
            "text/plain": [
              "array(['positive', 'negative'], dtype=object)"
            ]
          },
          "metadata": {},
          "execution_count": 8
        }
      ]
    },
    {
      "cell_type": "markdown",
      "source": [
        "Las clases están balanceadas"
      ],
      "metadata": {
        "id": "fxBUbJTYkbrU"
      }
    },
    {
      "cell_type": "code",
      "source": [
        "import seaborn as sns\n",
        "\n",
        "sns.histplot(df['sentiment'].values)\n",
        "plt.show()"
      ],
      "metadata": {
        "id": "cpKZ7laCj-4v",
        "colab": {
          "base_uri": "https://localhost:8080/",
          "height": 430
        },
        "outputId": "139576d3-79ff-4b4e-d951-7a4f5fcff50d"
      },
      "execution_count": 9,
      "outputs": [
        {
          "output_type": "display_data",
          "data": {
            "text/plain": [
              "<Figure size 640x480 with 1 Axes>"
            ],
            "image/png": "[encoded data removed]"
          },
          "metadata": {}
        }
      ]
    },
    {
      "cell_type": "code",
      "source": [
        "from sklearn.preprocessing import LabelEncoder\n",
        "\n",
        "labels = df['sentiment'].values\n",
        "encoder = LabelEncoder()\n",
        "encoded_labels = encoder.fit_transform(labels) #codificar positive como 1, negative como 0"
      ],
      "metadata": {
        "id": "MHnnTxIBqTrr"
      },
      "execution_count": 10,
      "outputs": []
    },
    {
      "cell_type": "code",
      "source": [
        "print(f\"Before encoding {labels[:3]}\")\n",
        "print(f\"After encoding {encoded_labels[:3]}\")"
      ],
      "metadata": {
        "id": "Xsxqt7-75H21",
        "colab": {
          "base_uri": "https://localhost:8080/"
        },
        "outputId": "1081ca92-0b5b-4a56-9208-01fd54707a35"
      },
      "execution_count": 11,
      "outputs": [
        {
          "output_type": "stream",
          "name": "stdout",
          "text": [
            "Before encoding ['positive' 'positive' 'positive']\n",
            "After encoding [1 1 1]\n"
          ]
        }
      ]
    },
    {
      "cell_type": "markdown",
      "source": [
        "## Limpiar texto"
      ],
      "metadata": {
        "id": "-7oXHUhEc2VU"
      }
    },
    {
      "cell_type": "code",
      "source": [
        "import nltk\n",
        "\n",
        "nltk.download('stopwords')\n",
        "nltk.download('punkt')\n",
        "nltk.download('wordnet')\n",
        "nltk.download('omw-1.4')"
      ],
      "metadata": {
        "id": "lKRYt1e9c2Ah",
        "colab": {
          "base_uri": "https://localhost:8080/"
        },
        "outputId": "d177c24b-a395-40d2-8a21-321b67788712"
      },
      "execution_count": 12,
      "outputs": [
        {
          "output_type": "stream",
          "name": "stderr",
          "text": [
            "[nltk_data] Downloading package stopwords to /root/nltk_data...\n",
            "[nltk_data]   Unzipping corpora/stopwords.zip.\n",
            "[nltk_data] Downloading package punkt to /root/nltk_data...\n",
            "[nltk_data]   Unzipping tokenizers/punkt.zip.\n",
            "[nltk_data] Downloading package wordnet to /root/nltk_data...\n",
            "[nltk_data] Downloading package omw-1.4 to /root/nltk_data...\n"
          ]
        },
        {
          "output_type": "execute_result",
          "data": {
            "text/plain": [
              "True"
            ]
          },
          "metadata": {},
          "execution_count": 12
        }
      ]
    },
    {
      "cell_type": "markdown",
      "source": [
        "Limpiamos quitando stopwords, símbolos, tags HTML, etc usando herramientas del módulo `nltk`. Para hacer la limpieza también usamos expresiones regulares *regex*. Puedes practicar el uso de expresiones regulares [aquí](https://regex101.com/)."
      ],
      "metadata": {
        "id": "MIdZY2ozl6su"
      }
    },
    {
      "cell_type": "code",
      "source": [
        "import nltk\n",
        "from nltk.corpus import stopwords\n",
        "from nltk.tokenize import word_tokenize\n",
        "import re\n",
        "\n",
        "CLEANR = re.compile('<.*?>|&([a-z0-9]+|#[0-9]{1,6}|#x[0-9a-f]{1,6});')\n",
        "\n",
        "w_tokenizer = nltk.tokenize.WhitespaceTokenizer()\n",
        "lemmatizer = nltk.stem.WordNetLemmatizer()\n",
        "\n",
        "def clean(text):\n",
        "    clean_text = re.sub(CLEANR, '', text.lower()) # Quitamos etiquetas HTML\n",
        "    clean_text = re.sub(r'[^\\w\\s]', '', clean_text.lower()) # Quitamos signos de puntuación y símbolos\n",
        "    clean_text = re.sub('[0-9]', '', clean_text.lower())  # Quitamos números\n",
        "    SW = stopwords.words('english') # Leemos la lista de stopwords del inglés\n",
        "    tokens_no_sw = [word for word in word_tokenize(clean_text) if not word in SW] # Quitamos stopwords\n",
        "    stems = \"\"\n",
        "    for w in tokens_no_sw:\n",
        "        stems += lemmatizer.lemmatize(w) + \" \"\n",
        "    return stems"
      ],
      "metadata": {
        "id": "M_P3nmmIi7PU"
      },
      "execution_count": 13,
      "outputs": []
    },
    {
      "cell_type": "code",
      "source": [
        "df['clean'] = df['review'].apply(clean)\n",
        "df"
      ],
      "metadata": {
        "id": "v3gnQqwbnAt3",
        "colab": {
          "base_uri": "https://localhost:8080/",
          "height": 423
        },
        "outputId": "082b70e1-3460-4f57-fcaa-e6feae230b54"
      },
      "execution_count": 14,
      "outputs": [
        {
          "output_type": "execute_result",
          "data": {
            "text/plain": [
              "                                                  review sentiment  \\\n",
              "0      One of the other reviewers has mentioned that ...  positive   \n",
              "1      A wonderful little production. <br /><br />The...  positive   \n",
              "2      I thought this was a wonderful way to spend ti...  positive   \n",
              "3      Basically there's a family where a little boy ...  negative   \n",
              "4      Petter Mattei's \"Love in the Time of Money\" is...  positive   \n",
              "...                                                  ...       ...   \n",
              "49995  I thought this movie did a down right good job...  positive   \n",
              "49996  Bad plot, bad dialogue, bad acting, idiotic di...  negative   \n",
              "49997  I am a Catholic taught in parochial elementary...  negative   \n",
              "49998  I'm going to have to disagree with the previou...  negative   \n",
              "49999  No one expects the Star Trek movies to be high...  negative   \n",
              "\n",
              "                                                   clean  \n",
              "0      one reviewer mentioned watching oz episode you...  \n",
              "1      wonderful little production filming technique ...  \n",
              "2      thought wonderful way spend time hot summer we...  \n",
              "3      basically there family little boy jake think t...  \n",
              "4      petter matteis love time money visually stunni...  \n",
              "...                                                  ...  \n",
              "49995  thought movie right good job wasnt creative or...  \n",
              "49996  bad plot bad dialogue bad acting idiotic direc...  \n",
              "49997  catholic taught parochial elementary school nu...  \n",
              "49998  im going disagree previous comment side maltin...  \n",
              "49999  one expects star trek movie high art fan expec...  \n",
              "\n",
              "[50000 rows x 3 columns]"
            ],
            "text/html": [
              "\n",
              "  <div id=\"df-6afe668e-5da1-4a78-bb2a-3ebd6e34f919\">\n",
              "    <div class=\"colab-df-container\">\n",
              "      <div>\n",
              "<style scoped>\n",
              "    .dataframe tbody tr th:only-of-type {\n",
              "        vertical-align: middle;\n",
              "    }\n",
              "\n",
              "    .dataframe tbody tr th {\n",
              "        vertical-align: top;\n",
              "    }\n",
              "\n",
              "    .dataframe thead th {\n",
              "        text-align: right;\n",
              "    }\n",
              "</style>\n",
              "<table border=\"1\" class=\"dataframe\">\n",
              "  <thead>\n",
              "    <tr style=\"text-align: right;\">\n",
              "      <th></th>\n",
              "      <th>review</th>\n",
              "      <th>sentiment</th>\n",
              "      <th>clean</th>\n",
              "    </tr>\n",
              "  </thead>\n",
              "  <tbody>\n",
              "    <tr>\n",
              "      <th>0</th>\n",
              "      <td>One of the other reviewers has mentioned that ...</td>\n",
              "      <td>positive</td>\n",
              "      <td>one reviewer mentioned watching oz episode you...</td>\n",
              "    </tr>\n",
              "    <tr>\n",
              "      <th>1</th>\n",
              "      <td>A wonderful little production. &lt;br /&gt;&lt;br /&gt;The...</td>\n",
              "      <td>positive</td>\n",
              "      <td>wonderful little production filming technique ...</td>\n",
              "    </tr>\n",
              "    <tr>\n",
              "      <th>2</th>\n",
              "      <td>I thought this was a wonderful way to spend ti...</td>\n",
              "      <td>positive</td>\n",
              "      <td>thought wonderful way spend time hot summer we...</td>\n",
              "    </tr>\n",
              "    <tr>\n",
              "      <th>3</th>\n",
              "      <td>Basically there's a family where a little boy ...</td>\n",
              "      <td>negative</td>\n",
              "      <td>basically there family little boy jake think t...</td>\n",
              "    </tr>\n",
              "    <tr>\n",
              "      <th>4</th>\n",
              "      <td>Petter Mattei's \"Love in the Time of Money\" is...</td>\n",
              "      <td>positive</td>\n",
              "      <td>petter matteis love time money visually stunni...</td>\n",
              "    </tr>\n",
              "    <tr>\n",
              "      <th>...</th>\n",
              "      <td>...</td>\n",
              "      <td>...</td>\n",
              "      <td>...</td>\n",
              "    </tr>\n",
              "    <tr>\n",
              "      <th>49995</th>\n",
              "      <td>I thought this movie did a down right good job...</td>\n",
              "      <td>positive</td>\n",
              "      <td>thought movie right good job wasnt creative or...</td>\n",
              "    </tr>\n",
              "    <tr>\n",
              "      <th>49996</th>\n",
              "      <td>Bad plot, bad dialogue, bad acting, idiotic di...</td>\n",
              "      <td>negative</td>\n",
              "      <td>bad plot bad dialogue bad acting idiotic direc...</td>\n",
              "    </tr>\n",
              "    <tr>\n",
              "      <th>49997</th>\n",
              "      <td>I am a Catholic taught in parochial elementary...</td>\n",
              "      <td>negative</td>\n",
              "      <td>catholic taught parochial elementary school nu...</td>\n",
              "    </tr>\n",
              "    <tr>\n",
              "      <th>49998</th>\n",
              "      <td>I'm going to have to disagree with the previou...</td>\n",
              "      <td>negative</td>\n",
              "      <td>im going disagree previous comment side maltin...</td>\n",
              "    </tr>\n",
              "    <tr>\n",
              "      <th>49999</th>\n",
              "      <td>No one expects the Star Trek movies to be high...</td>\n",
              "      <td>negative</td>\n",
              "      <td>one expects star trek movie high art fan expec...</td>\n",
              "    </tr>\n",
              "  </tbody>\n",
              "</table>\n",
              "<p>50000 rows × 3 columns</p>\n",
              "</div>\n",
              "      <button class=\"colab-df-convert\" onclick=\"convertToInteractive('df-6afe668e-5da1-4a78-bb2a-3ebd6e34f919')\"\n",
              "              title=\"Convert this dataframe to an interactive table.\"\n",
              "              style=\"display:none;\">\n",
              "        \n",
              "  <svg xmlns=\"http://www.w3.org/2000/svg\" height=\"24px\"viewBox=\"0 0 24 24\"\n",
              "       width=\"24px\">\n",
              "    <path d=\"M0 0h24v24H0V0z\" fill=\"none\"/>\n",
              "    <path d=\"M18.56 5.44l.94 2.06.94-2.06 2.06-.94-2.06-.94-.94-2.06-.94 2.06-2.06.94zm-11 1L8.5 8.5l.94-2.06 2.06-.94-2.06-.94L8.5 2.5l-.94 2.06-2.06.94zm10 10l.94 2.06.94-2.06 2.06-.94-2.06-.94-.94-2.06-.94 2.06-2.06.94z\"/><path d=\"M17.41 7.96l-1.37-1.37c-.4-.4-.92-.59-1.43-.59-.52 0-1.04.2-1.43.59L10.3 9.45l-7.72 7.72c-.78.78-.78 2.05 0 2.83L4 21.41c.39.39.9.59 1.41.59.51 0 1.02-.2 1.41-.59l7.78-7.78 2.81-2.81c.8-.78.8-2.07 0-2.86zM5.41 20L4 18.59l7.72-7.72 1.47 1.35L5.41 20z\"/>\n",
              "  </svg>\n",
              "      </button>\n",
              "      \n",
              "  <style>\n",
              "    .colab-df-container {\n",
              "      display:flex;\n",
              "      flex-wrap:wrap;\n",
              "      gap: 12px;\n",
              "    }\n",
              "\n",
              "    .colab-df-convert {\n",
              "      background-color: #E8F0FE;\n",
              "      border: none;\n",
              "      border-radius: 50%;\n",
              "      cursor: pointer;\n",
              "      display: none;\n",
              "      fill: #1967D2;\n",
              "      height: 32px;\n",
              "      padding: 0 0 0 0;\n",
              "      width: 32px;\n",
              "    }\n",
              "\n",
              "    .colab-df-convert:hover {\n",
              "      background-color: #E2EBFA;\n",
              "      box-shadow: 0px 1px 2px rgba(60, 64, 67, 0.3), 0px 1px 3px 1px rgba(60, 64, 67, 0.15);\n",
              "      fill: #174EA6;\n",
              "    }\n",
              "\n",
              "    [theme=dark] .colab-df-convert {\n",
              "      background-color: #3B4455;\n",
              "      fill: #D2E3FC;\n",
              "    }\n",
              "\n",
              "    [theme=dark] .colab-df-convert:hover {\n",
              "      background-color: #434B5C;\n",
              "      box-shadow: 0px 1px 3px 1px rgba(0, 0, 0, 0.15);\n",
              "      filter: drop-shadow(0px 1px 2px rgba(0, 0, 0, 0.3));\n",
              "      fill: #FFFFFF;\n",
              "    }\n",
              "  </style>\n",
              "\n",
              "      <script>\n",
              "        const buttonEl =\n",
              "          document.querySelector('#df-6afe668e-5da1-4a78-bb2a-3ebd6e34f919 button.colab-df-convert');\n",
              "        buttonEl.style.display =\n",
              "          google.colab.kernel.accessAllowed ? 'block' : 'none';\n",
              "\n",
              "        async function convertToInteractive(key) {\n",
              "          const element = document.querySelector('#df-6afe668e-5da1-4a78-bb2a-3ebd6e34f919');\n",
              "          const dataTable =\n",
              "            await google.colab.kernel.invokeFunction('convertToInteractive',\n",
              "                                                     [key], {});\n",
              "          if (!dataTable) return;\n",
              "\n",
              "          const docLinkHtml = 'Like what you see? Visit the ' +\n",
              "            '<a target=\"_blank\" href=https://colab.research.google.com/notebooks/data_table.ipynb>data table notebook</a>'\n",
              "            + ' to learn more about interactive tables.';\n",
              "          element.innerHTML = '';\n",
              "          dataTable['output_type'] = 'display_data';\n",
              "          await google.colab.output.renderOutput(dataTable, element);\n",
              "          const docLink = document.createElement('div');\n",
              "          docLink.innerHTML = docLinkHtml;\n",
              "          element.appendChild(docLink);\n",
              "        }\n",
              "      </script>\n",
              "    </div>\n",
              "  </div>\n",
              "  "
            ]
          },
          "metadata": {},
          "execution_count": 14
        }
      ]
    },
    {
      "cell_type": "code",
      "source": [
        "reviews = df['clean'].values"
      ],
      "metadata": {
        "id": "OB0IMAIwr0Cl"
      },
      "execution_count": 15,
      "outputs": []
    },
    {
      "cell_type": "markdown",
      "source": [
        "Separamos en entrenamiento y prueba"
      ],
      "metadata": {
        "id": "PM7lVVK1rwKJ"
      }
    },
    {
      "cell_type": "code",
      "source": [
        "from sklearn.model_selection import train_test_split\n",
        "\n",
        "train_reviews, test_reviews, train_labels, test_labels = train_test_split(reviews, encoded_labels, train_size=0.8)#, stratify = encoded_labels)}}\n",
        "\n",
        "print(f\"Shape of X_train: {train_reviews.shape}\")\n",
        "print(f\"Shape of X_test: {test_reviews.shape}\")"
      ],
      "metadata": {
        "id": "5DLD8mHjrzDh",
        "colab": {
          "base_uri": "https://localhost:8080/"
        },
        "outputId": "fc4b9be7-b09b-4980-9427-6419f0c204d0"
      },
      "execution_count": 16,
      "outputs": [
        {
          "output_type": "stream",
          "name": "stdout",
          "text": [
            "Shape of X_train: (40000,)\n",
            "Shape of X_test: (10000,)\n"
          ]
        }
      ]
    },
    {
      "cell_type": "markdown",
      "source": [
        "Preparamos los reviews. Este proceso consta de dos partes:\n",
        "\n",
        "1. Vectorización: La clase `Tokenizer` de `keras` permite vectorizar un corpus de textos, convirtiendo cada texto en una secuencia de índices (cada índice representa un token en un diccionario, los índices son $1,...,n$). No se toman en cuenta todas las palabras del vocabulario, se toman solamente las `vocab_size` más frecuentes.\n",
        "\n",
        "2. Padding: Las secuencias de índices tienen diferentes longitudes, dependiendo de la longitud del review. Las hacemos todas del mismo tamaño de acuerdo a dos criterios:\n",
        "\n",
        "    * Si la secuencia es más corta que el tamaño especificado, añadimos ceros al final de la secuencia.\n",
        "    * Si la secuencia es más larga que el tamaño especificado, truncamos la secuencia.\n",
        "\n",
        "\n",
        "---\n",
        "\n",
        "**Importante**: Observa que el tokenizador se entrena con los textos de entrenamiento solamente. Después las secuencias de prueba se generan con este tokenizador.\n",
        "\n",
        "⭕ ¿Qué consecuencias tiene esto?\n",
        "\n"
      ],
      "metadata": {
        "id": "80DJ3ghFsibk"
      }
    },
    {
      "cell_type": "code",
      "source": [
        "from tensorflow.keras.preprocessing.text import Tokenizer\n",
        "from tensorflow.keras.preprocessing.sequence import pad_sequences\n",
        "\n",
        "# ----- Hiperparámetros para este preprocesamiento\n",
        "vocab_size = 3000   # Nos limitaremos a ese número de palabras del vocabulario\n",
        "oov_tok = ''        # Las palabras fuera del vocabulario se reemplazarán con este string\n",
        "max_length = 200    # La longitud común deseada para las secuencias al hacer el padding\n",
        "\n",
        "#  ----- Entrenamos el tokenizador\n",
        "tokenizer = Tokenizer(num_words = vocab_size, oov_token=oov_tok)\n",
        "tokenizer.fit_on_texts(train_reviews)\n",
        "\n",
        "#  ----- Creamos las secuencias de entrenamiento y hacemos el padding\n",
        "train_sequences = tokenizer.texts_to_sequences(train_reviews)\n",
        "train_padded = pad_sequences(train_sequences, padding='post', maxlen=max_length)\n",
        "\n",
        "#  ----- Creamos las secuencias de prueba y hacemos el padding\n",
        "test_sequences = tokenizer.texts_to_sequences(test_reviews)\n",
        "test_padded = pad_sequences(test_sequences, padding='post', maxlen=max_length)#padding post añadir ceros al final"
      ],
      "metadata": {
        "id": "dtqOEb6Ksh93"
      },
      "execution_count": 17,
      "outputs": []
    },
    {
      "cell_type": "markdown",
      "source": [
        "Veamos un ejemplo de cómo se ven las secuencias. Observa, por ejemplo, la palabra *secret*."
      ],
      "metadata": {
        "id": "ldJbIKXBNZa9"
      }
    },
    {
      "cell_type": "code",
      "source": [
        "print(f\"NL review:\\n{train_reviews[0]}\\n\")\n",
        "print(f\"Sequence:\\n{train_sequences[0]}\\n\")\n",
        "print(f\"Padded Sequence:\\n{train_padded[0]}\\n\")"
      ],
      "metadata": {
        "id": "oLD0B8GrLtdU",
        "colab": {
          "base_uri": "https://localhost:8080/"
        },
        "outputId": "c2a065a5-48fb-4a6d-dde7-11516aca016e"
      },
      "execution_count": 18,
      "outputs": [
        {
          "output_type": "stream",
          "name": "stdout",
          "text": [
            "NL review:\n",
            "yikes thought joan crawford horror mommy dearestwell laura hope crewes mom stinging character film delivers cop good cracker marital mommy manglethe silver cord genuinely sensational pre code drama rko made released play astonishing frank honest startling verbal exchange one son wife irenedunne along others fiancé two younger girl together go war gleefully angrily unwrapping clearly incestuous hankering mom towards hunky eldest son played virile joel maccrea younger beauson payed delicate beautiful year old actor eric linden would think film played many howling appreciative audience huge theater offer viewer even fruity melodrama enlivened crackling dialog afraid call mother exactly film would impossible make censorship code came viewer comment imdb support reaction find almost everyone lucky enough see tape silver cord agree unforgettable pungent script superbly produced film would played like virginia wolf laura hope crewes must kissed sound stage rko role lifetimeeven fluffy turn gwtw irene dunne gorgeous casual believable ever fighting husband yet well worth seeing divorcée made companion piece silver cord joel macrea certainly league cary grant randolph scott handsome lovable stake never seen eric linden real acting role played leg amputee hospital horror scene gwtw startling youthful excellent role robert younger sensitive son verbal barb leveled would get past code office made later really good film viewer forgives creakiness time settle sparring match unequaled pungency movie well rewarded first thought throat clutching melodrama mother dated realized set excellent screenplay make viewer laugh though weak little old ladynot two woman powerhouse play film hence fantastic retort dialog oceanliner seen reel one leviathan monster ship u german ww huge unwieldy crew nervous wreck trying wrestle upon atlantic infamous ploughing headfirst colossal wave storm shot crest angle spine along bottom cracked ship split vertically funnel limped port rattling steel panel winking rivet holesand mentally shattered crew passenger scuttled cursed plagued horror mechanical problem existence war prize anyway dialog silver cord enough excitement one night eg mother doctor said nothing wrong fact said would take stick dynamite kill whammo \n",
            "\n",
            "Sequence:\n",
            "[1, 97, 1853, 1, 102, 1, 1, 2454, 266, 1, 1271, 1, 8, 3, 1288, 518, 7, 1, 1, 1, 1, 2596, 1, 1779, 1, 1, 2395, 337, 1, 28, 496, 72, 1, 1095, 1005, 1, 1, 1, 4, 342, 223, 1, 244, 285, 1, 39, 939, 84, 201, 32, 186, 1, 1, 1, 580, 1, 1, 1271, 804, 1, 1, 342, 160, 1, 1, 1, 939, 1, 1, 1, 210, 47, 82, 38, 1888, 1, 12, 29, 3, 160, 36, 1, 1, 162, 514, 479, 688, 234, 11, 1, 2124, 1, 1, 523, 1418, 382, 295, 497, 3, 12, 999, 13, 1, 2395, 268, 234, 346, 772, 1221, 1327, 57, 126, 206, 1805, 103, 14, 1409, 2596, 1, 880, 2930, 1, 131, 1, 955, 3, 12, 160, 5, 1, 2163, 2454, 266, 1, 122, 1, 221, 723, 1, 81, 1, 1, 167, 1, 1, 1, 1350, 1, 714, 49, 844, 466, 153, 18, 180, 208, 1, 28, 1, 239, 2596, 1, 1, 1, 310, 2296, 1, 2274, 1, 899, 1984, 2744, 1, 41, 37, 1888, 1, 67, 45, 81, 160, 1818, 1, 1187, 102, 16, 1, 1, 1, 219, 81, 405, 939, 2354, 342, 1, 1, 1, 12, 9, 406, 2395, 911, 28, 212, 15, 7, 3, 234, 1, 1, 6, 1, 1, 774, 1, 1, 2, 18, 1, 24, 97, 2967, 1, 2124, 295, 1865, 1494, 129, 219, 759, 13, 234, 222, 76, 704, 48, 82, 1, 39, 71, 1, 72, 3, 2612, 664, 1, 523, 1, 37, 1, 4, 1, 464, 997, 78, 695, 1, 514, 1, 715, 1, 1, 171, 1, 552, 1, 1, 1, 1, 1, 2061, 2340, 138, 1, 1257, 1, 244, 1285, 1, 997, 2931, 1, 1, 1, 1, 1, 1, 1, 1, 1, 1, 2666, 1, 715, 1, 1, 1, 1, 102, 1, 192, 1806, 186, 1, 561, 523, 2596, 1, 103, 2201, 4, 199, 2492, 295, 617, 202, 77, 263, 91, 202, 12, 50, 889, 1, 269, 1]\n",
            "\n",
            "Padded Sequence:\n",
            "[ 160    5    1 2163 2454  266    1  122    1  221  723    1   81    1\n",
            "    1  167    1    1    1 1350    1  714   49  844  466  153   18  180\n",
            "  208    1   28    1  239 2596    1    1    1  310 2296    1 2274    1\n",
            "  899 1984 2744    1   41   37 1888    1   67   45   81  160 1818    1\n",
            " 1187  102   16    1    1    1  219   81  405  939 2354  342    1    1\n",
            "    1   12    9  406 2395  911   28  212   15    7    3  234    1    1\n",
            "    6    1    1  774    1    1    2   18    1   24   97 2967    1 2124\n",
            "  295 1865 1494  129  219  759   13  234  222   76  704   48   82    1\n",
            "   39   71    1   72    3 2612  664    1  523    1   37    1    4    1\n",
            "  464  997   78  695    1  514    1  715    1    1  171    1  552    1\n",
            "    1    1    1    1 2061 2340  138    1 1257    1  244 1285    1  997\n",
            " 2931    1    1    1    1    1    1    1    1    1    1 2666    1  715\n",
            "    1    1    1    1  102    1  192 1806  186    1  561  523 2596    1\n",
            "  103 2201    4  199 2492  295  617  202   77  263   91  202   12   50\n",
            "  889    1  269    1]\n",
            "\n"
          ]
        }
      ]
    },
    {
      "cell_type": "markdown",
      "source": [
        "Definimos la arquitectura del modelo.\n",
        "\n",
        "Observa la capa `Embedding` ([documentación](https://keras.io/api/layers/core_layers/embedding/)). Esta capa se encarga de asignar representaciones vectoriales (embeddings) a cada palabra, lo hace de manera implícita durante el entrenamiento. Otra alternativa es pasar directamente los embeddings pre-entrenados de palabras generados por *word2vec*, *FastText*, *GloVe*, etc."
      ],
      "metadata": {
        "id": "uuMGkHFD8HQx"
      }
    },
    {
      "cell_type": "markdown",
      "source": [
        "Definimos la dimensión de los embeddings."
      ],
      "metadata": {
        "id": "CPwYQXOxXT5e"
      }
    },
    {
      "cell_type": "code",
      "source": [
        "embedding_dim = 100 #vectores"
      ],
      "metadata": {
        "id": "_YTQg7LY4Dqd"
      },
      "execution_count": 19,
      "outputs": []
    },
    {
      "cell_type": "markdown",
      "source": [
        "Construimos el modelo de red neuronal para esta tarea de clasificación. La red consiste de las siguientes partes:\n",
        "\n",
        "1. Capa de Embedding. Esta capa *traduce* las secuencias de índices a representaciones vectoriales densas de menor dimensión `embedding_dim`. Le especificamos el tamaño de las secuencias y el número de palabras del vocabulario.\n",
        "2. Célula de LSTM. Esta es la capa recurrente que irá recibiendo secuencialmente las palabras, una a una, de cada review y al final de la secuencia producirá una salida que irá a la siguiente capa.\n",
        "3. Red MLP. En esta parte de la red hay una red *fully connected* con capas densas.\n",
        "4. Capa de salida. Dado que es una clasificación binaria, al final tenemos una capa densa de 1 neurona prediciendo la probabilidad de que el review sea positivo. Dado que es una clasificación binaria, usamos la perdida `binary_crossentropy` y además, la métrica `accuracy`."
      ],
      "metadata": {
        "id": "3RshV--hIwdy"
      }
    },
    {
      "cell_type": "code",
      "source": [
        "from keras.models import Sequential\n",
        "from keras.layers import Dense, Embedding, Dropout\n",
        "from keras.layers import LSTM\n",
        "\n",
        "# ----- model initialization\n",
        "model = keras.Sequential([\n",
        "    Embedding(vocab_size, embedding_dim, input_length=max_length),\n",
        "    LSTM(100, dropout=0.2),\n",
        "    Dense(16, activation='relu'),\n",
        "    Dense(1, activation='sigmoid')\n",
        "])\n",
        "\n",
        "# ----- compile model\n",
        "model.compile(loss='binary_crossentropy',\n",
        "              optimizer='adam',\n",
        "              metrics=['accuracy'])\n",
        "\n",
        "model.summary()"
      ],
      "metadata": {
        "id": "X6Xmo4iEAeI4",
        "colab": {
          "base_uri": "https://localhost:8080/"
        },
        "outputId": "c256537c-0e6a-473a-e8ed-f85f9825e16c"
      },
      "execution_count": 29,
      "outputs": [
        {
          "output_type": "stream",
          "name": "stdout",
          "text": [
            "Model: \"sequential_1\"\n",
            "_________________________________________________________________\n",
            " Layer (type)                Output Shape              Param #   \n",
            "=================================================================\n",
            " embedding_1 (Embedding)     (None, 200, 100)          300000    \n",
            "                                                                 \n",
            " lstm_1 (LSTM)               (None, 100)               80400     \n",
            "                                                                 \n",
            " dense_2 (Dense)             (None, 16)                1616      \n",
            "                                                                 \n",
            " dense_3 (Dense)             (None, 1)                 17        \n",
            "                                                                 \n",
            "=================================================================\n",
            "Total params: 382,033\n",
            "Trainable params: 382,033\n",
            "Non-trainable params: 0\n",
            "_________________________________________________________________\n"
          ]
        }
      ]
    },
    {
      "cell_type": "markdown",
      "source": [
        "Creamos un callback `EarlyStopping` para parar el entrenamiento de la red cuando la pérdida de validación empiece a aumentar. Observa el parámetro `patience`."
      ],
      "metadata": {
        "id": "fzuNsu1m7VKR"
      }
    },
    {
      "cell_type": "code",
      "source": [
        "from tensorflow.keras.callbacks import EarlyStopping\n",
        "\n",
        "es = EarlyStopping(monitor='val_loss', mode='min', verbose=1, patience=2)"
      ],
      "metadata": {
        "id": "pfGZfzrS2vMn"
      },
      "execution_count": 30,
      "outputs": []
    },
    {
      "cell_type": "markdown",
      "source": [
        "Entrenamos el modelo"
      ],
      "metadata": {
        "id": "Q_qiS1LtIaNo"
      }
    },
    {
      "cell_type": "code",
      "source": [
        "num_epochs = 20\n",
        "\n",
        "history = model.fit(train_padded, train_labels,\n",
        "                    epochs=num_epochs, verbose=1,\n",
        "                    validation_split=0.1,\n",
        "                    callbacks=[es])"
      ],
      "metadata": {
        "id": "xU982WFBAgO4"
      },
      "execution_count": null,
      "outputs": []
    },
    {
      "cell_type": "markdown",
      "source": [
        "Veamos las curvas de entrenamiento"
      ],
      "metadata": {
        "id": "ykCTxNHs8DkD"
      }
    },
    {
      "cell_type": "code",
      "source": [
        "plt.figure(figsize=(12, 4),dpi=100)\n",
        "plt.suptitle(\"Training Curves\",fontsize=16)\n",
        "plt.subplot(1, 2, 1)\n",
        "plt.suptitle(\"Validation and Training Loss\",fontsize=14)\n",
        "plt.plot(history.history['loss'], label='train')\n",
        "plt.plot(history.history['val_loss'], label='validation')\n",
        "plt.ylabel(\"Loss\")\n",
        "plt.xlabel(\"Epochs\")\n",
        "plt.legend()\n",
        "\n",
        "plt.subplot(1, 2, 2)\n",
        "plt.suptitle(\"Validation and Training Accuracy\",fontsize=14)\n",
        "plt.plot(history.history['accuracy'], label='train')\n",
        "plt.plot(history.history['val_accuracy'], label='validation')\n",
        "plt.legend()\n",
        "plt.xlabel(\"Epochs\")\n",
        "plt.ylabel(\"Accuracy\")\n",
        "plt.show()"
      ],
      "metadata": {
        "id": "91zBpqvIytvw",
        "colab": {
          "base_uri": "https://localhost:8080/",
          "height": 428
        },
        "outputId": "2c5ed5ff-201f-4d87-dd27-cfb9d8bc223e"
      },
      "execution_count": 24,
      "outputs": [
        {
          "output_type": "display_data",
          "data": {
            "text/plain": [
              "<Figure size 1200x400 with 2 Axes>"
            ],
            "image/png": "[encoded data removed]"
          },
          "metadata": {}
        }
      ]
    },
    {
      "cell_type": "markdown",
      "source": [
        "## Obtenemos las predicciones y evaluamos el desempeño de la red"
      ],
      "metadata": {
        "id": "lnGjOjfxDu9N"
      }
    },
    {
      "cell_type": "markdown",
      "source": [
        "¿Cómo se ven las predicciones?"
      ],
      "metadata": {
        "id": "5sEybYIh4ctU"
      }
    },
    {
      "cell_type": "code",
      "source": [
        "predictions = model.predict(test_padded)\n",
        "\n",
        "print(predictions[:5])"
      ],
      "metadata": {
        "id": "_Iyt2VS6Ak3z",
        "colab": {
          "base_uri": "https://localhost:8080/"
        },
        "outputId": "7004c214-6ef9-49f2-907b-8e5d6e5afc67"
      },
      "execution_count": 25,
      "outputs": [
        {
          "output_type": "stream",
          "name": "stdout",
          "text": [
            "313/313 [==============================] - 2s 4ms/step\n",
            "[[0.42533955]\n",
            " [0.6957174 ]\n",
            " [0.9683875 ]\n",
            " [0.9107865 ]\n",
            " [0.3819364 ]]\n"
          ]
        }
      ]
    },
    {
      "cell_type": "markdown",
      "source": [
        "Como podemos ver, la predicción de la red LSTM para cada review es un valor $0 \\leq x \\leq 1$ (esto, ya que la activación es una sigmoide). Podemos interpretar este valor como la probabilidad que estima la red de que el review tenga la clase 1 (es decir, que el review tenga opinión \"positiva\").\n",
        "\n",
        "Entonces, para obtener las predicciones de las clases, asignamos la clase 1 si $x\\geq 0.5$ y clase 0 si $x<0.5$."
      ],
      "metadata": {
        "id": "52rmyyMU4vGZ"
      }
    },
    {
      "cell_type": "code",
      "source": [
        "pred_labels = []\n",
        "\n",
        "for x in predictions:\n",
        "    if x >= 0.5:\n",
        "        pred_labels.append(1)\n",
        "    else:\n",
        "        pred_labels.append(0)\n",
        "\n",
        "print(pred_labels[:5])"
      ],
      "metadata": {
        "id": "cCsskJdX4ZES",
        "colab": {
          "base_uri": "https://localhost:8080/"
        },
        "outputId": "17dee075-3040-4c09-ef51-9f849df30de7"
      },
      "execution_count": 26,
      "outputs": [
        {
          "output_type": "stream",
          "name": "stdout",
          "text": [
            "[0, 1, 1, 1, 0]\n"
          ]
        }
      ]
    },
    {
      "cell_type": "markdown",
      "source": [
        "Evaluamos la calidad de las predicciones usando el accuracy y el recall."
      ],
      "metadata": {
        "id": "at5o4R897_LF"
      }
    },
    {
      "cell_type": "code",
      "source": [
        "from sklearn.metrics import accuracy_score, recall_score, confusion_matrix\n",
        "\n",
        "test_accuracy = accuracy_score(test_labels,pred_labels)\n",
        "test_recall = recall_score(test_labels,pred_labels)\n",
        "print(f\"Test Accuracy: {round(test_accuracy,3)}\")\n",
        "print(f\"Test Recall: {round(test_recall,3)}\")\n",
        "\n",
        "print(\"\\nConfusion Matrix:\\n\",confusion_matrix(test_labels,pred_labels))"
      ],
      "metadata": {
        "id": "bO1AqC1K5r7c",
        "colab": {
          "base_uri": "https://localhost:8080/"
        },
        "outputId": "70fb0798-117b-46aa-a75e-49d55a87541b"
      },
      "execution_count": 27,
      "outputs": [
        {
          "output_type": "stream",
          "name": "stdout",
          "text": [
            "Test Accuracy: 0.874\n",
            "Test Recall: 0.879\n",
            "\n",
            "Confusion Matrix:\n",
            " [[4418  662]\n",
            " [ 595 4325]]\n"
          ]
        }
      ]
    },
    {
      "cell_type": "markdown",
      "source": [
        "Finalmente, veamos algunas predicciones arbitrarias:"
      ],
      "metadata": {
        "id": "SAU457OM6QDV"
      }
    },
    {
      "cell_type": "code",
      "source": [
        "test_size = len(test_reviews)\n",
        "\n",
        "idxs = np.random.choice(test_size,size=5,replace=False)\n",
        "\n",
        "for j in idxs:\n",
        "    print(\"Review:\")\n",
        "    print(df.loc[j,'review'])\n",
        "    print(f\"Label: {df.loc[j,'sentiment']}\")\n",
        "    print(f\"Predicted Label: {pred_labels[j]}\\n\")"
      ],
      "metadata": {
        "id": "rOi7dbki6OfX",
        "colab": {
          "base_uri": "https://localhost:8080/"
        },
        "outputId": "13f1b0ab-a049-4e65-e0bb-dc1a08a2587f"
      },
      "execution_count": 28,
      "outputs": [
        {
          "output_type": "stream",
          "name": "stdout",
          "text": [
            "Review:\n",
            "This is one of the finest films to come out of Hong Kong's 'New Wave' that began with Tsui Hark's \"ZU: Warriors of Magic Mountain\". Tsui set a tone for the New Wave's approach to the martial arts film that pretty much all the directors of the New Wave (Jackie Chan, Sammo Hung, Wong Jing, Ching Siu Tung, etc.) accepted from then on as a given; namely, the approach to such films thenceforth would need more than a touch of irony, if not outright comedy. \"Burning Paradise\" put a stop to all that, and with a vengeance.<br /><br />It's not that there isn't humor here; but it is a purely human humor, as with the aged Buddhist priest at the beginning who somehow manages a quick feel of the nubile young prostitute while hiding in a bundle of straw. But this is just as humans are, not even Buddhist priests can be saints all the time.<br /><br />When irony is at last introduced into the film, it is the nastiest possible, emanating from the 'abbot' of Red Lotus Temple, who is a study in pure nihilism such as has never been recorded on film before. He is the very incarnation of Milton's Satan from \"Paradise Lost\": \"Better to rule in Hell than serve in heaven!\" And if he can't get to Satan's hell soon enough, he'll turn the world around him into a living hell he can rule.<br /><br />That's the motif underscoring the brutal violence of much of the imagery here: It's not that the Abbot just wants to kill people; he wants them to despair, to feel utterly hopeless, to accept his nihilism as all-encompassing reality. Thus there's a definite sense pervading the Red Temple scenes that there just might not be any other reality outside of the Temple itself - it has become all there is to the universe, and the Abbot, claiming mastery of infinite power, is in charge.<br /><br />Of course, fortunately, the film doesn't end there. Though there are losses, the human will to be just ordinarily human at last prevails. (If you want to know how, see the film!) Yet there is no doubt that, in viewing this film, we visit hell. Hopefully, we do not witness our own afterlives; but we certainly feel chastened by the experience - and somehow better for it over all.\n",
            "Label: positive\n",
            "Predicted Label: 1\n",
            "\n",
            "Review:\n",
            "\"Fat Girls\" is among the worst films within the indie gay genre.<br /><br />The premise is promising: an average-looking gay teen is trapped in a repressive small TX town. His only kindred spirits are the other village HS misfits: the class 'fat girl', a naïve immigrant from Cuba, and the sensitive drama teacher. So far, interesting. In theory, this plot line creates a decent setup for an appealing coming of age story with a built-in audience---the thousands of gay men who grew up in small towns across America and experienced this adolescent anxiety first hand, peppered with a dose of self-deprecating humor.<br /><br />Unfortunately, rather than a nuanced dramedy, Ash Christian approaches his autobiographical subject matter with a poorly executed attempt at irony and dark humor. The result is a cast of unlikeable, derivative, two-dimensional characters which the viewer cannot but help feel indifferent toward. Sabrina (Fink) is a quasi-Goth bitter navel-gazer. She is such a prickly, unsympathetic person; there is little doubt as to the reason for her friendless condition. The chemistry between her and Rodney (Christian) registers zero. This may have been bad casting, but is more likely due to a screenplay which is simply unsalvageable. Consequently, one is left wondering when there is such a non-existent bond, what could possibly warrant their near-constant companionship throughout the story.<br /><br />Sabrina's newfound boyfriend, Rudy (de Jesus), and Rodney's mother Judy (Theaker) are among the most exaggerated of the clichéd stock characters ripped off from dozens of other films. Rudy is the horny undersexed immigrant/nerd lifted directly from every raunchy adolescent \"comedy\" ever made within the realm of TV or film. Judy is the born-again obsessed with Jesus- talk and big hair. Just when you thought the Tammy Faye thing had been done to death, Christian inserts a scene where Judy's mascara is running with her tears! Is there anyone in the civilized world that can possibly think this tired old stereotype gag is still funny after seeing it ad nauseum for 20 years?<br /><br />In addition to the failed attempts at sardonic humor, there are many puzzling story inconsistencies. Rodney considers himself a \"fat ugly\" loser. However, he simultaneously manages to participate in casual and regular impromptu trysts with the ubiquitous school jock/hunk, Ted (Miller). Although these liaisons are devoid of emotional fulfillment, most gay teens (filled with raging testosterone, just like their hetero brethren) would find this to be a rather enviable arrangement given the more common alternative of involuntary celibacy.<br /><br />Rodney finds an object for his affection in Bobby (Bruening), an exotic transplant from England. Against all believable odds, the lad not only happens to land in this tiny TX hamlet, but is conveniently openly gay to boot. Like Sabrina, Bobby is an icy, angry smart aleck and the viewer is left head-scratching as to his magnetic appeal. <br /><br />Much to his delight, Rodney is invited by his new crush to the town gay bar, where Bobby claims to be the DJ. Upon arrival, the boyfriend-to-be promptly leaves Rodney solo and heads off to another area of the bar for a quick encounter with a rather handsome young man. This is yet one more of the ridiculously inexplicable plot elements since Rodney's feeling as an outcast are supposedly derived largely from his lonely existence in a parochial town. As tiny as the town is, they have openly gay students at the high school? A secretly bisexual football captain? Lesbian moms? A Gay teacher? and it has a gay bar downtown (patronized by attractive men, no less)? Apparently, the place is not so backwater after all.<br /><br />Ten years earlier, Todd Stephens' \"Edge of Seventeen\" covered nearly the same material with a much more creative, honest, touching, and humorous film.\n",
            "Label: negative\n",
            "Predicted Label: 1\n",
            "\n",
            "Review:\n",
            "The original Female Convict Scorpion is an all time masterpiece. The first sequel, Jailhouse 41, was not quite as good in my opinion, though it's still notable for the fact that it took the idea from the original and created something in a completely different style. Director Shunya Ito has managed to do the same thing again with this film; the story is a bit different here, but still he's managed to take what made the previous entries excellent and better than many films of this type and craft something fairly original around it. Again the action focuses on Nami Matsushima (a.k.a. \"Scorpion\") and this time she's out of the jailhouse and not too keen on the idea of going back. After escaping from pursuing police officers, one thing leads to another and Scorpion finds herself getting it together with a prostitute and her retarded brother. The prostitute ends up getting impregnated by the retarded brother (...), while Scorpion is kidnapped and caged up by someone who she made an enemy out of in prison. But Scorpion doesn't like spending time behind bars and it's not long before she's back to doing what she does best.<br /><br />The film gets off to a great start as we see Scorpion hack the arm off a copper intent on taking her back to jail. From there, however, the film slows down a lot and Beast Stable ends up being more of a drama than the previous two films. That's not to say that there isn't still plenty of action - Scorpion still spends a lot of time in 'revenge mode' and the film isn't exactly short on general sleaze. Meiko Kaji once again reprises her role as the sinister title character and it's another understated, almost wordless performance. Her screen presence is great, however and she manages to have a menacing presence despite being only small physically. The plot structure for this film is similar to the other two in that it all builds into a crescendo of revenge. There are more people who have angered Scorpion in this film than in the previous two so this section takes up a fairly large part of the film. There's a few surreal sequences, not as many as in the first film and nowhere near as in the second, but the film stays in with the rest of the series on that point. Overall, I would say this film is between the first two in terms of quality - not as great as the original and slightly better than the second.\n",
            "Label: positive\n",
            "Predicted Label: 0\n",
            "\n",
            "Review:\n",
            "I saw this movie today at the Haifa Film Festival in Israel after hearing rave reviews, but I guess the critics were just sucking up to Willem Defoe and his wife (the director) who were present at the festival. It is definitely the slowest movie I have ever seen with numerous pointless, ridiculously long scenes of nothing. Besides Defoe who was decent, the acting of the two and a half other people in the movie, Defoe's wife Giada included, was ridiculously awful (how they cast the part of the salesgirl at the bakery is beyond me). This movie is pretty much plot less with a lame attempt to be abstract and off the wall. The only scene that stirred any kind of reaction in the crowd was vulgar and came from nowhere as if just to add some kind of shock value to the dullness that is this movie. Sorry for being so harsh, but really this movie is a precious waste of time and money. I appreciate good indie cinema, but this movie is not worthy of moviegoers' time.\n",
            "Label: negative\n",
            "Predicted Label: 0\n",
            "\n",
            "Review:\n",
            "This, \"Prodigal Son\" and \"Eastern Condors\" are my favourite Sammo Hung films. The Fat Dragon is fatter in this outing than he was in \"Condors\", but he's no less sure-footed as director or actor. He is, in fact, at the top of his form and delivers a devastating, brutal actioner that boasts half a dozen amazing sequences and manages to tell a compassionate, sweet love story also. Love and romance are not the director's priorities here, but they serve as curious adjuncts to the action, and insure that viewers don't hit the fast-forward button between the physical clashes.<br /><br />The opening scene, which features a funny light sabre duel, sets a solid but deceptive tone. A sequence in which Sammo's pedicab is chased by a car is beautifully staged and sweetened with a sharp, comic tone. The fast and furious stick fight between Sammo and Lau Kar Leung is a model of dazzling choreography and sharp, superb direction, and easily one of the best ever of its type. The film's violence escalates slowly until, finally, when the climactic showdown comes, we are subjected to some of the most brutal altercations ever seen in a Sammo production. The director/actor's assault on Billy Chow and a house filled with angry, menacing opponents is a bone-cracking, physically punishing delight.<br /><br />Terrific on every level and one of the best martial arts movies ever made.<br /><br />Great score, too.\n",
            "Label: positive\n",
            "Predicted Label: 1\n",
            "\n"
          ]
        }
      ]
    },
    {
      "cell_type": "markdown",
      "source": [
        "# ⭕ Ejercicio:\n",
        "\n",
        "* Modifica la arquitectura de la LSTM para mejorar el desempeño de la LSTM anterior.\n",
        "* Puedes usar también capas de dropout, callbacks, modificar las capas densas del final (recuerda que la capa final no se puede mover)."
      ],
      "metadata": {
        "id": "A80nr1Cvv38Z"
      }
    },
    {
      "cell_type": "code",
      "source": [],
      "metadata": {
        "id": "nPeL6eZdCxkK"
      },
      "execution_count": 103,
      "outputs": []
    },
    {
      "cell_type": "code",
      "source": [
        "from keras.models import Sequential\n",
        "from keras.layers import Dense, Embedding, Dropout\n",
        "from keras.layers import LSTM\n",
        "\n",
        "# ----- model initialization\n",
        "model = keras.Sequential([\n",
        "    Embedding(vocab_size, embedding_dim, input_length=max_length),\n",
        "    LSTM(100, dropout=0.5),\n",
        "    Dense(32, activation='relu'),\n",
        "    Dropout(0.5),\n",
        "    Dense(16, activation='selu'),\n",
        "    Dropout(0.5),\n",
        "    Dense(1, activation='sigmoid')\n",
        "])\n",
        "\n",
        "# ----- compile model\n",
        "model.compile(loss='binary_crossentropy',\n",
        "              optimizer='adamax',\n",
        "              metrics=['accuracy'])\n",
        "\n",
        "model.summary()"
      ],
      "metadata": {
        "colab": {
          "base_uri": "https://localhost:8080/"
        },
        "outputId": "6ffe8004-6dfc-47d5-8807-2535cac998f7",
        "id": "vWtaChqY4peP"
      },
      "execution_count": 111,
      "outputs": [
        {
          "output_type": "stream",
          "name": "stdout",
          "text": [
            "Model: \"sequential_17\"\n",
            "_________________________________________________________________\n",
            " Layer (type)                Output Shape              Param #   \n",
            "=================================================================\n",
            " embedding_20 (Embedding)    (None, 200, 100)          300000    \n",
            "                                                                 \n",
            " lstm_20 (LSTM)              (None, 100)               80400     \n",
            "                                                                 \n",
            " dense_48 (Dense)            (None, 32)                3232      \n",
            "                                                                 \n",
            " dropout_17 (Dropout)        (None, 32)                0         \n",
            "                                                                 \n",
            " dense_49 (Dense)            (None, 16)                528       \n",
            "                                                                 \n",
            " dropout_18 (Dropout)        (None, 16)                0         \n",
            "                                                                 \n",
            " dense_50 (Dense)            (None, 1)                 17        \n",
            "                                                                 \n",
            "=================================================================\n",
            "Total params: 384,177\n",
            "Trainable params: 384,177\n",
            "Non-trainable params: 0\n",
            "_________________________________________________________________\n"
          ]
        }
      ]
    },
    {
      "cell_type": "markdown",
      "source": [
        "Creamos un callback `EarlyStopping` para parar el entrenamiento de la red cuando la pérdida de validación empiece a aumentar. Observa el parámetro `patience`."
      ],
      "metadata": {
        "id": "fndD7QSc4peR"
      }
    },
    {
      "cell_type": "code",
      "source": [
        "from tensorflow.keras.callbacks import EarlyStopping\n",
        "\n",
        "es = EarlyStopping(monitor='val_loss', mode='min', verbose=1, patience=2)"
      ],
      "metadata": {
        "id": "4y6xAhk64peS"
      },
      "execution_count": 112,
      "outputs": []
    },
    {
      "cell_type": "markdown",
      "source": [
        "Entrenamos el modelo"
      ],
      "metadata": {
        "id": "SAUgilW84peT"
      }
    },
    {
      "cell_type": "code",
      "source": [
        "num_epochs = 20\n",
        "\n",
        "history = model.fit(train_padded, train_labels,\n",
        "                    epochs=num_epochs, verbose=1,\n",
        "                    validation_split=0.1,\n",
        "                    callbacks=[es])"
      ],
      "metadata": {
        "colab": {
          "base_uri": "https://localhost:8080/"
        },
        "outputId": "1aa1c029-0870-4918-e54e-e201b69c3568",
        "id": "rjcMZmCx4peU"
      },
      "execution_count": 113,
      "outputs": [
        {
          "output_type": "stream",
          "name": "stdout",
          "text": [
            "Epoch 1/20\n",
            "1125/1125 [==============================] - 56s 48ms/step - loss: 0.6933 - accuracy: 0.5039 - val_loss: 0.6919 - val_accuracy: 0.5125\n",
            "Epoch 2/20\n",
            "1125/1125 [==============================] - 18s 16ms/step - loss: 0.6805 - accuracy: 0.5445 - val_loss: 0.5312 - val_accuracy: 0.7567\n",
            "Epoch 3/20\n",
            "1125/1125 [==============================] - 15s 14ms/step - loss: 0.4672 - accuracy: 0.8111 - val_loss: 0.3462 - val_accuracy: 0.8610\n",
            "Epoch 4/20\n",
            "1125/1125 [==============================] - 15s 13ms/step - loss: 0.3902 - accuracy: 0.8503 - val_loss: 0.3133 - val_accuracy: 0.8692\n",
            "Epoch 5/20\n",
            "1125/1125 [==============================] - 13s 12ms/step - loss: 0.3464 - accuracy: 0.8676 - val_loss: 0.3171 - val_accuracy: 0.8570\n",
            "Epoch 6/20\n",
            "1125/1125 [==============================] - 14s 13ms/step - loss: 0.3403 - accuracy: 0.8698 - val_loss: 0.3024 - val_accuracy: 0.8652\n",
            "Epoch 7/20\n",
            "1125/1125 [==============================] - 13s 12ms/step - loss: 0.3154 - accuracy: 0.8814 - val_loss: 0.2785 - val_accuracy: 0.8870\n",
            "Epoch 8/20\n",
            "1125/1125 [==============================] - 13s 12ms/step - loss: 0.3064 - accuracy: 0.8838 - val_loss: 0.3133 - val_accuracy: 0.8788\n",
            "Epoch 9/20\n",
            "1125/1125 [==============================] - 13s 12ms/step - loss: 0.3005 - accuracy: 0.8886 - val_loss: 0.3194 - val_accuracy: 0.8695\n",
            "Epoch 9: early stopping\n"
          ]
        }
      ]
    },
    {
      "cell_type": "markdown",
      "source": [
        "Veamos las curvas de entrenamiento"
      ],
      "metadata": {
        "id": "WQ3LU0jk4peU"
      }
    },
    {
      "cell_type": "code",
      "source": [
        "plt.figure(figsize=(12, 4),dpi=100)\n",
        "plt.suptitle(\"Training Curves\",fontsize=16)\n",
        "plt.subplot(1, 2, 1)\n",
        "plt.suptitle(\"Validation and Training Loss\",fontsize=14)\n",
        "plt.plot(history.history['loss'], label='train')\n",
        "plt.plot(history.history['val_loss'], label='validation')\n",
        "plt.ylabel(\"Loss\")\n",
        "plt.xlabel(\"Epochs\")\n",
        "plt.legend()\n",
        "\n",
        "plt.subplot(1, 2, 2)\n",
        "plt.suptitle(\"Validation and Training Accuracy\",fontsize=14)\n",
        "plt.plot(history.history['accuracy'], label='train')\n",
        "plt.plot(history.history['val_accuracy'], label='validation')\n",
        "plt.legend()\n",
        "plt.xlabel(\"Epochs\")\n",
        "plt.ylabel(\"Accuracy\")\n",
        "plt.show()"
      ],
      "metadata": {
        "colab": {
          "base_uri": "https://localhost:8080/",
          "height": 428
        },
        "outputId": "531f25e7-0113-4c3e-854d-9e0eb857c25d",
        "id": "1PPyTpif4peU"
      },
      "execution_count": 114,
      "outputs": [
        {
          "output_type": "display_data",
          "data": {
            "text/plain": [
              "<Figure size 1200x400 with 2 Axes>"
            ],
            "image/png": "[encoded data removed]"
          },
          "metadata": {}
        }
      ]
    },
    {
      "cell_type": "markdown",
      "source": [
        "## Obtenemos las predicciones y evaluamos el desempeño de la red"
      ],
      "metadata": {
        "id": "FtOz9YSw4peV"
      }
    },
    {
      "cell_type": "markdown",
      "source": [
        "¿Cómo se ven las predicciones?"
      ],
      "metadata": {
        "id": "Qnhfa-MK4peW"
      }
    },
    {
      "cell_type": "code",
      "source": [
        "predictions = model.predict(test_padded)\n",
        "\n",
        "print(predictions[:5])"
      ],
      "metadata": {
        "colab": {
          "base_uri": "https://localhost:8080/"
        },
        "outputId": "79fa5b43-2eba-4824-f814-7c32042a57e1",
        "id": "kHlwoVE94peW"
      },
      "execution_count": 115,
      "outputs": [
        {
          "output_type": "stream",
          "name": "stdout",
          "text": [
            "313/313 [==============================] - 2s 5ms/step\n",
            "[[0.6977934 ]\n",
            " [0.7699672 ]\n",
            " [0.9869266 ]\n",
            " [0.9905104 ]\n",
            " [0.36829072]]\n"
          ]
        }
      ]
    },
    {
      "cell_type": "code",
      "source": [
        "pred_labels = []\n",
        "\n",
        "for x in predictions:\n",
        "    if x >= 0.5:\n",
        "        pred_labels.append(1)\n",
        "    else:\n",
        "        pred_labels.append(0)\n",
        "\n",
        "print(pred_labels[:5])"
      ],
      "metadata": {
        "colab": {
          "base_uri": "https://localhost:8080/"
        },
        "outputId": "933374be-3fb8-4ea6-84c6-e753fc8021b9",
        "id": "smVM5Mnc4peX"
      },
      "execution_count": 116,
      "outputs": [
        {
          "output_type": "stream",
          "name": "stdout",
          "text": [
            "[1, 1, 1, 1, 0]\n"
          ]
        }
      ]
    },
    {
      "cell_type": "markdown",
      "source": [
        "Evaluamos la calidad de las predicciones usando el accuracy y el recall."
      ],
      "metadata": {
        "id": "iP5jNc154peY"
      }
    },
    {
      "cell_type": "code",
      "source": [
        "from sklearn.metrics import accuracy_score, recall_score, confusion_matrix\n",
        "\n",
        "test_accuracy = accuracy_score(test_labels,pred_labels)\n",
        "test_recall = recall_score(test_labels,pred_labels)\n",
        "print(f\"Test Accuracy: {round(test_accuracy,3)}\")\n",
        "print(f\"Test Recall: {round(test_recall,3)}\")\n",
        "\n",
        "print(\"\\nConfusion Matrix:\\n\",confusion_matrix(test_labels,pred_labels))"
      ],
      "metadata": {
        "colab": {
          "base_uri": "https://localhost:8080/"
        },
        "outputId": "a4a4010f-2bd1-4f44-c245-2ec62fd203ac",
        "id": "K1GBulo24peY"
      },
      "execution_count": 117,
      "outputs": [
        {
          "output_type": "stream",
          "name": "stdout",
          "text": [
            "Test Accuracy: 0.861\n",
            "Test Recall: 0.935\n",
            "\n",
            "Confusion Matrix:\n",
            " [[4008 1072]\n",
            " [ 320 4600]]\n"
          ]
        }
      ]
    }
  ]
}