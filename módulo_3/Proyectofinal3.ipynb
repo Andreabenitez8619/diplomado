{
  "cells": [
    {
      "cell_type": "markdown",
      "metadata": {
        "id": "q7YXMuJoJPZl"
      },
      "source": [
        "#ANÁLISIS DE SENTIMIENTOS\n",
        "\n",
        "ANDREA BENÍTEZ PINEDA"
      ]
    },
    {
      "cell_type": "markdown",
      "metadata": {
        "id": "IA0hdtCnJmq8"
      },
      "source": [
        "##Acerca del conjunto de datos\n",
        "\n",
        "Este conjunto de datos contiene un archivo CSV relacionado con ChatGPT que incluye palabras clave (chatgpt, chat gpt) #hashtags y @mentions sobre ChatGPT. Modelo de IA conversacional de OpenAI. El archivo incluye información sobre 500.000 tweets. El conjunto de datos tiene como objetivo ayudar a comprender la opinión pública, las tendencias y las posibles aplicaciones de ChatGPT mediante el análisis del volumen de tweets, el sentimiento, la participación del usuario y la influencia de los eventos clave de IA. El conjunto de datos ofrece información valiosa para empresas, investigadores y responsables políticos, lo que les permite tomar decisiones informadas y dar forma al futuro de las tecnologías conversacionales impulsadas por IA.\n",
        "\n",
        "Este conjunto de datos contiene las siguientes columnas:\n",
        "\n",
        "* **Fecha** - Fecha del tweet.\n",
        "* **id** - Un identificador único para cada tweet.\n",
        "* **content** - Contenido del tweet.\n",
        "* **nombre de ususario** - Nombre de usuario de la persona que tuiteó.\n",
        "* **like_count** - El número de likes recibidos por el tweet.\n",
        "* **retweet_count**- El número de veces que el tweet fue retuiteado.\n",
        "\n",
        "\n",
        "Link:\n",
        "\n",
        "https://www.kaggle.com/datasets/khalidryder777/500k-chatgpt-tweets-jan-mar-2023\n"
      ]
    },
    {
      "cell_type": "markdown",
      "metadata": {
        "id": "ZNbrjS8_M4fj"
      },
      "source": [
        "##1. Conjunto de datos"
      ]
    },
    {
      "cell_type": "code",
      "source": [
        "from google.colab import drive\n",
        "drive.mount('/content/drive')"
      ],
      "metadata": {
        "colab": {
          "base_uri": "https://localhost:8080/"
        },
        "id": "seJZwU3s-jJw",
        "outputId": "116a2c1b-5f0f-4e63-8653-94b67334503c"
      },
      "execution_count": null,
      "outputs": [
        {
          "output_type": "stream",
          "name": "stdout",
          "text": [
            "Drive already mounted at /content/drive; to attempt to forcibly remount, call drive.mount(\"/content/drive\", force_remount=True).\n"
          ]
        }
      ]
    },
    {
      "cell_type": "code",
      "execution_count": null,
      "metadata": {
        "colab": {
          "base_uri": "https://localhost:8080/"
        },
        "id": "0W0p4OlvJN5u",
        "outputId": "6ec6d39d-f5fd-4eac-f405-d84abbb40fcb"
      },
      "outputs": [
        {
          "output_type": "stream",
          "name": "stdout",
          "text": [
            "Extrayendo contenido...\n",
            "Extracción finalizada.\n"
          ]
        }
      ],
      "source": [
        "import numpy as np\n",
        "from zipfile import ZipFile\n",
        "import pandas as pd\n",
        "\n",
        "\n",
        "#archivo = \"/content/drive/MyDrive/Colab Notebooks/Twitter Jan Mar.csv.zip\"\n",
        "\n",
        "archivo =\"/content/drive/MyDrive/Twitter Jan Mar.csv.zip\"\n",
        "\n",
        "print('Extrayendo contenido...')\n",
        "with ZipFile(archivo, 'r') as Zip:\n",
        "    Zip.extractall()\n",
        "    print('Extracción finalizada.')\n",
        "\n",
        "df = pd.read_csv(\"Twitter Jan Mar.csv\")"
      ]
    },
    {
      "cell_type": "code",
      "execution_count": null,
      "metadata": {
        "colab": {
          "base_uri": "https://localhost:8080/",
          "height": 424
        },
        "id": "QvRgMpKGO64k",
        "outputId": "bf431397-b70c-4bf6-b2d5-11323d0d635b"
      },
      "outputs": [
        {
          "output_type": "execute_result",
          "data": {
            "text/plain": [
              "                             date                   id  \\\n",
              "0       2023-03-29 22:58:21+00:00  1641213230730051584   \n",
              "1       2023-03-29 22:58:18+00:00  1641213218520481805   \n",
              "2       2023-03-29 22:57:53+00:00  1641213115684536323   \n",
              "3       2023-03-29 22:57:52+00:00  1641213110915571715   \n",
              "4       2023-03-29 22:57:26+00:00  1641213003260633088   \n",
              "...                           ...                  ...   \n",
              "500031  2023-01-04 07:18:08+00:00  1610536038094757888   \n",
              "500032  2023-01-04 07:17:50+00:00  1610535961670172674   \n",
              "500033  2023-01-04 07:17:20+00:00  1610535837363486720   \n",
              "500034  2023-01-04 07:17:08+00:00  1610535786017091584   \n",
              "500035  2023-01-04 07:16:56+00:00  1610535734758219778   \n",
              "\n",
              "                                                  content        username  \\\n",
              "0       Free AI marketing and automation tools, strate...  RealProfitPros   \n",
              "1                @MecoleHardman4 Chat GPT says it’s 15. 😂    AmyLouWho321   \n",
              "2       https://t.co/FjJSprt0te - Chat with any PDF!\\n...      yjleon1976   \n",
              "3       AI muses: \"In the court of life, we must all f...  ChatGPT_Thinks   \n",
              "4       Most people haven't heard of Chat GPT yet.\\nFi...   nikocosmonaut   \n",
              "...                                                   ...             ...   \n",
              "500031  @GoogleAI #LAMDA Versus @OpenAI #ChatGPT ?! Wh...      Pup_In_Cup   \n",
              "500032  #ChatGPT \\n\\nSo much #Censorship.\\n\\nNever tru...  TryingToOffend   \n",
              "500033  all my twitter feed is about ChatGPT and @Open...          mcp350   \n",
              "500034  I'm quite amazed by Chat GPT. A really promisi...   manumurali369   \n",
              "500035  I used chat gpt to get gym workout program and...          pnik91   \n",
              "\n",
              "        like_count  retweet_count  \n",
              "0              0.0            0.0  \n",
              "1              0.0            0.0  \n",
              "2              0.0            0.0  \n",
              "3              0.0            0.0  \n",
              "4              0.0            0.0  \n",
              "...            ...            ...  \n",
              "500031         1.0            0.0  \n",
              "500032         2.0            0.0  \n",
              "500033         3.0            1.0  \n",
              "500034         1.0            0.0  \n",
              "500035         0.0            0.0  \n",
              "\n",
              "[500036 rows x 6 columns]"
            ],
            "text/html": [
              "\n",
              "\n",
              "  <div id=\"df-01ad033a-235e-4579-8f39-04a22b18857b\">\n",
              "    <div class=\"colab-df-container\">\n",
              "      <div>\n",
              "<style scoped>\n",
              "    .dataframe tbody tr th:only-of-type {\n",
              "        vertical-align: middle;\n",
              "    }\n",
              "\n",
              "    .dataframe tbody tr th {\n",
              "        vertical-align: top;\n",
              "    }\n",
              "\n",
              "    .dataframe thead th {\n",
              "        text-align: right;\n",
              "    }\n",
              "</style>\n",
              "<table border=\"1\" class=\"dataframe\">\n",
              "  <thead>\n",
              "    <tr style=\"text-align: right;\">\n",
              "      <th></th>\n",
              "      <th>date</th>\n",
              "      <th>id</th>\n",
              "      <th>content</th>\n",
              "      <th>username</th>\n",
              "      <th>like_count</th>\n",
              "      <th>retweet_count</th>\n",
              "    </tr>\n",
              "  </thead>\n",
              "  <tbody>\n",
              "    <tr>\n",
              "      <th>0</th>\n",
              "      <td>2023-03-29 22:58:21+00:00</td>\n",
              "      <td>1641213230730051584</td>\n",
              "      <td>Free AI marketing and automation tools, strate...</td>\n",
              "      <td>RealProfitPros</td>\n",
              "      <td>0.0</td>\n",
              "      <td>0.0</td>\n",
              "    </tr>\n",
              "    <tr>\n",
              "      <th>1</th>\n",
              "      <td>2023-03-29 22:58:18+00:00</td>\n",
              "      <td>1641213218520481805</td>\n",
              "      <td>@MecoleHardman4 Chat GPT says it’s 15. 😂</td>\n",
              "      <td>AmyLouWho321</td>\n",
              "      <td>0.0</td>\n",
              "      <td>0.0</td>\n",
              "    </tr>\n",
              "    <tr>\n",
              "      <th>2</th>\n",
              "      <td>2023-03-29 22:57:53+00:00</td>\n",
              "      <td>1641213115684536323</td>\n",
              "      <td>https://t.co/FjJSprt0te - Chat with any PDF!\\n...</td>\n",
              "      <td>yjleon1976</td>\n",
              "      <td>0.0</td>\n",
              "      <td>0.0</td>\n",
              "    </tr>\n",
              "    <tr>\n",
              "      <th>3</th>\n",
              "      <td>2023-03-29 22:57:52+00:00</td>\n",
              "      <td>1641213110915571715</td>\n",
              "      <td>AI muses: \"In the court of life, we must all f...</td>\n",
              "      <td>ChatGPT_Thinks</td>\n",
              "      <td>0.0</td>\n",
              "      <td>0.0</td>\n",
              "    </tr>\n",
              "    <tr>\n",
              "      <th>4</th>\n",
              "      <td>2023-03-29 22:57:26+00:00</td>\n",
              "      <td>1641213003260633088</td>\n",
              "      <td>Most people haven't heard of Chat GPT yet.\\nFi...</td>\n",
              "      <td>nikocosmonaut</td>\n",
              "      <td>0.0</td>\n",
              "      <td>0.0</td>\n",
              "    </tr>\n",
              "    <tr>\n",
              "      <th>...</th>\n",
              "      <td>...</td>\n",
              "      <td>...</td>\n",
              "      <td>...</td>\n",
              "      <td>...</td>\n",
              "      <td>...</td>\n",
              "      <td>...</td>\n",
              "    </tr>\n",
              "    <tr>\n",
              "      <th>500031</th>\n",
              "      <td>2023-01-04 07:18:08+00:00</td>\n",
              "      <td>1610536038094757888</td>\n",
              "      <td>@GoogleAI #LAMDA Versus @OpenAI #ChatGPT ?! Wh...</td>\n",
              "      <td>Pup_In_Cup</td>\n",
              "      <td>1.0</td>\n",
              "      <td>0.0</td>\n",
              "    </tr>\n",
              "    <tr>\n",
              "      <th>500032</th>\n",
              "      <td>2023-01-04 07:17:50+00:00</td>\n",
              "      <td>1610535961670172674</td>\n",
              "      <td>#ChatGPT \\n\\nSo much #Censorship.\\n\\nNever tru...</td>\n",
              "      <td>TryingToOffend</td>\n",
              "      <td>2.0</td>\n",
              "      <td>0.0</td>\n",
              "    </tr>\n",
              "    <tr>\n",
              "      <th>500033</th>\n",
              "      <td>2023-01-04 07:17:20+00:00</td>\n",
              "      <td>1610535837363486720</td>\n",
              "      <td>all my twitter feed is about ChatGPT and @Open...</td>\n",
              "      <td>mcp350</td>\n",
              "      <td>3.0</td>\n",
              "      <td>1.0</td>\n",
              "    </tr>\n",
              "    <tr>\n",
              "      <th>500034</th>\n",
              "      <td>2023-01-04 07:17:08+00:00</td>\n",
              "      <td>1610535786017091584</td>\n",
              "      <td>I'm quite amazed by Chat GPT. A really promisi...</td>\n",
              "      <td>manumurali369</td>\n",
              "      <td>1.0</td>\n",
              "      <td>0.0</td>\n",
              "    </tr>\n",
              "    <tr>\n",
              "      <th>500035</th>\n",
              "      <td>2023-01-04 07:16:56+00:00</td>\n",
              "      <td>1610535734758219778</td>\n",
              "      <td>I used chat gpt to get gym workout program and...</td>\n",
              "      <td>pnik91</td>\n",
              "      <td>0.0</td>\n",
              "      <td>0.0</td>\n",
              "    </tr>\n",
              "  </tbody>\n",
              "</table>\n",
              "<p>500036 rows × 6 columns</p>\n",
              "</div>\n",
              "      <button class=\"colab-df-convert\" onclick=\"convertToInteractive('df-01ad033a-235e-4579-8f39-04a22b18857b')\"\n",
              "              title=\"Convert this dataframe to an interactive table.\"\n",
              "              style=\"display:none;\">\n",
              "\n",
              "  <svg xmlns=\"http://www.w3.org/2000/svg\" height=\"24px\"viewBox=\"0 0 24 24\"\n",
              "       width=\"24px\">\n",
              "    <path d=\"M0 0h24v24H0V0z\" fill=\"none\"/>\n",
              "    <path d=\"M18.56 5.44l.94 2.06.94-2.06 2.06-.94-2.06-.94-.94-2.06-.94 2.06-2.06.94zm-11 1L8.5 8.5l.94-2.06 2.06-.94-2.06-.94L8.5 2.5l-.94 2.06-2.06.94zm10 10l.94 2.06.94-2.06 2.06-.94-2.06-.94-.94-2.06-.94 2.06-2.06.94z\"/><path d=\"M17.41 7.96l-1.37-1.37c-.4-.4-.92-.59-1.43-.59-.52 0-1.04.2-1.43.59L10.3 9.45l-7.72 7.72c-.78.78-.78 2.05 0 2.83L4 21.41c.39.39.9.59 1.41.59.51 0 1.02-.2 1.41-.59l7.78-7.78 2.81-2.81c.8-.78.8-2.07 0-2.86zM5.41 20L4 18.59l7.72-7.72 1.47 1.35L5.41 20z\"/>\n",
              "  </svg>\n",
              "      </button>\n",
              "\n",
              "\n",
              "\n",
              "    <div id=\"df-94235b37-c0d7-40ce-a0da-da6015efb0d9\">\n",
              "      <button class=\"colab-df-quickchart\" onclick=\"quickchart('df-94235b37-c0d7-40ce-a0da-da6015efb0d9')\"\n",
              "              title=\"Suggest charts.\"\n",
              "              style=\"display:none;\">\n",
              "\n",
              "<svg xmlns=\"http://www.w3.org/2000/svg\" height=\"24px\"viewBox=\"0 0 24 24\"\n",
              "     width=\"24px\">\n",
              "    <g>\n",
              "        <path d=\"M19 3H5c-1.1 0-2 .9-2 2v14c0 1.1.9 2 2 2h14c1.1 0 2-.9 2-2V5c0-1.1-.9-2-2-2zM9 17H7v-7h2v7zm4 0h-2V7h2v10zm4 0h-2v-4h2v4z\"/>\n",
              "    </g>\n",
              "</svg>\n",
              "      </button>\n",
              "    </div>\n",
              "\n",
              "<style>\n",
              "  .colab-df-quickchart {\n",
              "    background-color: #E8F0FE;\n",
              "    border: none;\n",
              "    border-radius: 50%;\n",
              "    cursor: pointer;\n",
              "    display: none;\n",
              "    fill: #1967D2;\n",
              "    height: 32px;\n",
              "    padding: 0 0 0 0;\n",
              "    width: 32px;\n",
              "  }\n",
              "\n",
              "  .colab-df-quickchart:hover {\n",
              "    background-color: #E2EBFA;\n",
              "    box-shadow: 0px 1px 2px rgba(60, 64, 67, 0.3), 0px 1px 3px 1px rgba(60, 64, 67, 0.15);\n",
              "    fill: #174EA6;\n",
              "  }\n",
              "\n",
              "  [theme=dark] .colab-df-quickchart {\n",
              "    background-color: #3B4455;\n",
              "    fill: #D2E3FC;\n",
              "  }\n",
              "\n",
              "  [theme=dark] .colab-df-quickchart:hover {\n",
              "    background-color: #434B5C;\n",
              "    box-shadow: 0px 1px 3px 1px rgba(0, 0, 0, 0.15);\n",
              "    filter: drop-shadow(0px 1px 2px rgba(0, 0, 0, 0.3));\n",
              "    fill: #FFFFFF;\n",
              "  }\n",
              "</style>\n",
              "\n",
              "    <script>\n",
              "      async function quickchart(key) {\n",
              "        const containerElement = document.querySelector('#' + key);\n",
              "        const charts = await google.colab.kernel.invokeFunction(\n",
              "            'suggestCharts', [key], {});\n",
              "      }\n",
              "    </script>\n",
              "\n",
              "      <script>\n",
              "\n",
              "function displayQuickchartButton(domScope) {\n",
              "  let quickchartButtonEl =\n",
              "    domScope.querySelector('#df-94235b37-c0d7-40ce-a0da-da6015efb0d9 button.colab-df-quickchart');\n",
              "  quickchartButtonEl.style.display =\n",
              "    google.colab.kernel.accessAllowed ? 'block' : 'none';\n",
              "}\n",
              "\n",
              "        displayQuickchartButton(document);\n",
              "      </script>\n",
              "      <style>\n",
              "    .colab-df-container {\n",
              "      display:flex;\n",
              "      flex-wrap:wrap;\n",
              "      gap: 12px;\n",
              "    }\n",
              "\n",
              "    .colab-df-convert {\n",
              "      background-color: #E8F0FE;\n",
              "      border: none;\n",
              "      border-radius: 50%;\n",
              "      cursor: pointer;\n",
              "      display: none;\n",
              "      fill: #1967D2;\n",
              "      height: 32px;\n",
              "      padding: 0 0 0 0;\n",
              "      width: 32px;\n",
              "    }\n",
              "\n",
              "    .colab-df-convert:hover {\n",
              "      background-color: #E2EBFA;\n",
              "      box-shadow: 0px 1px 2px rgba(60, 64, 67, 0.3), 0px 1px 3px 1px rgba(60, 64, 67, 0.15);\n",
              "      fill: #174EA6;\n",
              "    }\n",
              "\n",
              "    [theme=dark] .colab-df-convert {\n",
              "      background-color: #3B4455;\n",
              "      fill: #D2E3FC;\n",
              "    }\n",
              "\n",
              "    [theme=dark] .colab-df-convert:hover {\n",
              "      background-color: #434B5C;\n",
              "      box-shadow: 0px 1px 3px 1px rgba(0, 0, 0, 0.15);\n",
              "      filter: drop-shadow(0px 1px 2px rgba(0, 0, 0, 0.3));\n",
              "      fill: #FFFFFF;\n",
              "    }\n",
              "  </style>\n",
              "\n",
              "      <script>\n",
              "        const buttonEl =\n",
              "          document.querySelector('#df-01ad033a-235e-4579-8f39-04a22b18857b button.colab-df-convert');\n",
              "        buttonEl.style.display =\n",
              "          google.colab.kernel.accessAllowed ? 'block' : 'none';\n",
              "\n",
              "        async function convertToInteractive(key) {\n",
              "          const element = document.querySelector('#df-01ad033a-235e-4579-8f39-04a22b18857b');\n",
              "          const dataTable =\n",
              "            await google.colab.kernel.invokeFunction('convertToInteractive',\n",
              "                                                     [key], {});\n",
              "          if (!dataTable) return;\n",
              "\n",
              "          const docLinkHtml = 'Like what you see? Visit the ' +\n",
              "            '<a target=\"_blank\" href=https://colab.research.google.com/notebooks/data_table.ipynb>data table notebook</a>'\n",
              "            + ' to learn more about interactive tables.';\n",
              "          element.innerHTML = '';\n",
              "          dataTable['output_type'] = 'display_data';\n",
              "          await google.colab.output.renderOutput(dataTable, element);\n",
              "          const docLink = document.createElement('div');\n",
              "          docLink.innerHTML = docLinkHtml;\n",
              "          element.appendChild(docLink);\n",
              "        }\n",
              "      </script>\n",
              "    </div>\n",
              "  </div>\n"
            ]
          },
          "metadata": {},
          "execution_count": 3
        }
      ],
      "source": [
        "df"
      ]
    },
    {
      "cell_type": "markdown",
      "metadata": {
        "id": "8eGOs0IHKAxr"
      },
      "source": [
        "##Limpieza de datos"
      ]
    },
    {
      "cell_type": "code",
      "execution_count": null,
      "metadata": {
        "colab": {
          "base_uri": "https://localhost:8080/"
        },
        "id": "vqS0mlNZi75i",
        "outputId": "58a49c6a-4e4f-4bbe-cffe-fd7380025b0a"
      },
      "outputs": [
        {
          "output_type": "stream",
          "name": "stdout",
          "text": [
            " 0 filas duplicadas.\n"
          ]
        }
      ],
      "source": [
        "#Veamos si hay datos duplicados\n",
        "duplicated = df.duplicated().sum()\n",
        "print(f' {duplicated} filas duplicadas.')\n"
      ]
    },
    {
      "cell_type": "code",
      "execution_count": null,
      "metadata": {
        "colab": {
          "base_uri": "https://localhost:8080/"
        },
        "id": "aeymwMqBudPB",
        "outputId": "393c082f-582d-4c8b-8d52-e79f2e09031a"
      },
      "outputs": [
        {
          "output_type": "execute_result",
          "data": {
            "text/plain": [
              "date              0\n",
              "id                6\n",
              "content           6\n",
              "username         34\n",
              "like_count       62\n",
              "retweet_count    62\n",
              "dtype: int64"
            ]
          },
          "metadata": {},
          "execution_count": 5
        }
      ],
      "source": [
        "#Veamos si hay valores faltantes.\n",
        "df.isnull().sum()"
      ]
    },
    {
      "cell_type": "code",
      "execution_count": null,
      "metadata": {
        "id": "Bv_UqUfFutSV"
      },
      "outputs": [],
      "source": [
        "#Eliminar las filas que contienen uno o más datos faltantes, dejando solo registros completos.\n",
        "\n",
        "df= df.dropna()"
      ]
    },
    {
      "cell_type": "markdown",
      "metadata": {
        "id": "fsARPd_NG-gT"
      },
      "source": [
        "###Clasificación de los datos\n",
        "Extraemos los tweets que contienen iconos que representan sentimientos para clasificar."
      ]
    },
    {
      "cell_type": "code",
      "execution_count": null,
      "metadata": {
        "colab": {
          "base_uri": "https://localhost:8080/"
        },
        "id": "4518xPpIF2W9",
        "outputId": "ab291fbc-e336-46ca-eca4-239574ed5082"
      },
      "outputs": [
        {
          "output_type": "execute_result",
          "data": {
            "text/plain": [
              "21072"
            ]
          },
          "metadata": {},
          "execution_count": 7
        }
      ],
      "source": [
        "#28\n",
        "positivos_icons = '😁|😂|😃|😄|😅|😆|😉|😊|😍|🤩|❤️|👍|😇|🤓|🥰|🤠|🫰|💕|🎉|🎊|😌|🤩|🥳|😺|😸|😻|🌈'\n",
        "\n",
        "positivos= pd.Series(df['content'], dtype=\"string\", name=\"positivos\").str.contains(positivos_icons)\n",
        "positivos.sum()"
      ]
    },
    {
      "cell_type": "code",
      "execution_count": null,
      "metadata": {
        "colab": {
          "base_uri": "https://localhost:8080/"
        },
        "id": "3KsOloYzF2Z4",
        "outputId": "a2560c9d-4a26-4066-aa2d-3fe89d5d1d0d"
      },
      "outputs": [
        {
          "output_type": "execute_result",
          "data": {
            "text/plain": [
              "7271"
            ]
          },
          "metadata": {},
          "execution_count": 8
        }
      ],
      "source": [
        "#31\n",
        "negativos_icons = '😓|😖|😢|😭|😰|😱|🙍|🙎|😞|🥺|😧|💧|🫤|🫥|😾|👎|🤨|🤢|🤮|👿|👺|😧|😞|💩|😡|🤬|🤯|👎|💔|💀|☠️'\n",
        "\n",
        "negativos = pd.Series(df['content'], dtype=\"string\", name=\"negativos\").str.contains(negativos_icons)\n",
        "negativos.sum()"
      ]
    },
    {
      "cell_type": "code",
      "execution_count": null,
      "metadata": {
        "colab": {
          "base_uri": "https://localhost:8080/",
          "height": 424
        },
        "id": "IDAlwSBcF2jP",
        "outputId": "848668aa-3137-40d3-d243-ca978beebf74"
      },
      "outputs": [
        {
          "output_type": "execute_result",
          "data": {
            "text/plain": [
              "                         id  \\\n",
              "0       1641213230730051584   \n",
              "1       1641213218520481805   \n",
              "2       1641213115684536323   \n",
              "3       1641213110915571715   \n",
              "4       1641213003260633088   \n",
              "...                     ...   \n",
              "500031  1610536038094757888   \n",
              "500032  1610535961670172674   \n",
              "500033  1610535837363486720   \n",
              "500034  1610535786017091584   \n",
              "500035  1610535734758219778   \n",
              "\n",
              "                                                  content  positivos  \\\n",
              "0       Free AI marketing and automation tools, strate...      False   \n",
              "1                @MecoleHardman4 Chat GPT says it’s 15. 😂       True   \n",
              "2       https://t.co/FjJSprt0te - Chat with any PDF!\\n...      False   \n",
              "3       AI muses: \"In the court of life, we must all f...      False   \n",
              "4       Most people haven't heard of Chat GPT yet.\\nFi...      False   \n",
              "...                                                   ...        ...   \n",
              "500031  @GoogleAI #LAMDA Versus @OpenAI #ChatGPT ?! Wh...      False   \n",
              "500032  #ChatGPT \\n\\nSo much #Censorship.\\n\\nNever tru...      False   \n",
              "500033  all my twitter feed is about ChatGPT and @Open...       True   \n",
              "500034  I'm quite amazed by Chat GPT. A really promisi...       True   \n",
              "500035  I used chat gpt to get gym workout program and...      False   \n",
              "\n",
              "        negativos  \n",
              "0           False  \n",
              "1           False  \n",
              "2           False  \n",
              "3           False  \n",
              "4           False  \n",
              "...           ...  \n",
              "500031      False  \n",
              "500032      False  \n",
              "500033      False  \n",
              "500034      False  \n",
              "500035      False  \n",
              "\n",
              "[499974 rows x 4 columns]"
            ],
            "text/html": [
              "\n",
              "\n",
              "  <div id=\"df-270650c3-5f04-41aa-943c-f2942ee3c8b8\">\n",
              "    <div class=\"colab-df-container\">\n",
              "      <div>\n",
              "<style scoped>\n",
              "    .dataframe tbody tr th:only-of-type {\n",
              "        vertical-align: middle;\n",
              "    }\n",
              "\n",
              "    .dataframe tbody tr th {\n",
              "        vertical-align: top;\n",
              "    }\n",
              "\n",
              "    .dataframe thead th {\n",
              "        text-align: right;\n",
              "    }\n",
              "</style>\n",
              "<table border=\"1\" class=\"dataframe\">\n",
              "  <thead>\n",
              "    <tr style=\"text-align: right;\">\n",
              "      <th></th>\n",
              "      <th>id</th>\n",
              "      <th>content</th>\n",
              "      <th>positivos</th>\n",
              "      <th>negativos</th>\n",
              "    </tr>\n",
              "  </thead>\n",
              "  <tbody>\n",
              "    <tr>\n",
              "      <th>0</th>\n",
              "      <td>1641213230730051584</td>\n",
              "      <td>Free AI marketing and automation tools, strate...</td>\n",
              "      <td>False</td>\n",
              "      <td>False</td>\n",
              "    </tr>\n",
              "    <tr>\n",
              "      <th>1</th>\n",
              "      <td>1641213218520481805</td>\n",
              "      <td>@MecoleHardman4 Chat GPT says it’s 15. 😂</td>\n",
              "      <td>True</td>\n",
              "      <td>False</td>\n",
              "    </tr>\n",
              "    <tr>\n",
              "      <th>2</th>\n",
              "      <td>1641213115684536323</td>\n",
              "      <td>https://t.co/FjJSprt0te - Chat with any PDF!\\n...</td>\n",
              "      <td>False</td>\n",
              "      <td>False</td>\n",
              "    </tr>\n",
              "    <tr>\n",
              "      <th>3</th>\n",
              "      <td>1641213110915571715</td>\n",
              "      <td>AI muses: \"In the court of life, we must all f...</td>\n",
              "      <td>False</td>\n",
              "      <td>False</td>\n",
              "    </tr>\n",
              "    <tr>\n",
              "      <th>4</th>\n",
              "      <td>1641213003260633088</td>\n",
              "      <td>Most people haven't heard of Chat GPT yet.\\nFi...</td>\n",
              "      <td>False</td>\n",
              "      <td>False</td>\n",
              "    </tr>\n",
              "    <tr>\n",
              "      <th>...</th>\n",
              "      <td>...</td>\n",
              "      <td>...</td>\n",
              "      <td>...</td>\n",
              "      <td>...</td>\n",
              "    </tr>\n",
              "    <tr>\n",
              "      <th>500031</th>\n",
              "      <td>1610536038094757888</td>\n",
              "      <td>@GoogleAI #LAMDA Versus @OpenAI #ChatGPT ?! Wh...</td>\n",
              "      <td>False</td>\n",
              "      <td>False</td>\n",
              "    </tr>\n",
              "    <tr>\n",
              "      <th>500032</th>\n",
              "      <td>1610535961670172674</td>\n",
              "      <td>#ChatGPT \\n\\nSo much #Censorship.\\n\\nNever tru...</td>\n",
              "      <td>False</td>\n",
              "      <td>False</td>\n",
              "    </tr>\n",
              "    <tr>\n",
              "      <th>500033</th>\n",
              "      <td>1610535837363486720</td>\n",
              "      <td>all my twitter feed is about ChatGPT and @Open...</td>\n",
              "      <td>True</td>\n",
              "      <td>False</td>\n",
              "    </tr>\n",
              "    <tr>\n",
              "      <th>500034</th>\n",
              "      <td>1610535786017091584</td>\n",
              "      <td>I'm quite amazed by Chat GPT. A really promisi...</td>\n",
              "      <td>True</td>\n",
              "      <td>False</td>\n",
              "    </tr>\n",
              "    <tr>\n",
              "      <th>500035</th>\n",
              "      <td>1610535734758219778</td>\n",
              "      <td>I used chat gpt to get gym workout program and...</td>\n",
              "      <td>False</td>\n",
              "      <td>False</td>\n",
              "    </tr>\n",
              "  </tbody>\n",
              "</table>\n",
              "<p>499974 rows × 4 columns</p>\n",
              "</div>\n",
              "      <button class=\"colab-df-convert\" onclick=\"convertToInteractive('df-270650c3-5f04-41aa-943c-f2942ee3c8b8')\"\n",
              "              title=\"Convert this dataframe to an interactive table.\"\n",
              "              style=\"display:none;\">\n",
              "\n",
              "  <svg xmlns=\"http://www.w3.org/2000/svg\" height=\"24px\"viewBox=\"0 0 24 24\"\n",
              "       width=\"24px\">\n",
              "    <path d=\"M0 0h24v24H0V0z\" fill=\"none\"/>\n",
              "    <path d=\"M18.56 5.44l.94 2.06.94-2.06 2.06-.94-2.06-.94-.94-2.06-.94 2.06-2.06.94zm-11 1L8.5 8.5l.94-2.06 2.06-.94-2.06-.94L8.5 2.5l-.94 2.06-2.06.94zm10 10l.94 2.06.94-2.06 2.06-.94-2.06-.94-.94-2.06-.94 2.06-2.06.94z\"/><path d=\"M17.41 7.96l-1.37-1.37c-.4-.4-.92-.59-1.43-.59-.52 0-1.04.2-1.43.59L10.3 9.45l-7.72 7.72c-.78.78-.78 2.05 0 2.83L4 21.41c.39.39.9.59 1.41.59.51 0 1.02-.2 1.41-.59l7.78-7.78 2.81-2.81c.8-.78.8-2.07 0-2.86zM5.41 20L4 18.59l7.72-7.72 1.47 1.35L5.41 20z\"/>\n",
              "  </svg>\n",
              "      </button>\n",
              "\n",
              "\n",
              "\n",
              "    <div id=\"df-d1f82a34-450f-4278-bcbc-60488ac3fa37\">\n",
              "      <button class=\"colab-df-quickchart\" onclick=\"quickchart('df-d1f82a34-450f-4278-bcbc-60488ac3fa37')\"\n",
              "              title=\"Suggest charts.\"\n",
              "              style=\"display:none;\">\n",
              "\n",
              "<svg xmlns=\"http://www.w3.org/2000/svg\" height=\"24px\"viewBox=\"0 0 24 24\"\n",
              "     width=\"24px\">\n",
              "    <g>\n",
              "        <path d=\"M19 3H5c-1.1 0-2 .9-2 2v14c0 1.1.9 2 2 2h14c1.1 0 2-.9 2-2V5c0-1.1-.9-2-2-2zM9 17H7v-7h2v7zm4 0h-2V7h2v10zm4 0h-2v-4h2v4z\"/>\n",
              "    </g>\n",
              "</svg>\n",
              "      </button>\n",
              "    </div>\n",
              "\n",
              "<style>\n",
              "  .colab-df-quickchart {\n",
              "    background-color: #E8F0FE;\n",
              "    border: none;\n",
              "    border-radius: 50%;\n",
              "    cursor: pointer;\n",
              "    display: none;\n",
              "    fill: #1967D2;\n",
              "    height: 32px;\n",
              "    padding: 0 0 0 0;\n",
              "    width: 32px;\n",
              "  }\n",
              "\n",
              "  .colab-df-quickchart:hover {\n",
              "    background-color: #E2EBFA;\n",
              "    box-shadow: 0px 1px 2px rgba(60, 64, 67, 0.3), 0px 1px 3px 1px rgba(60, 64, 67, 0.15);\n",
              "    fill: #174EA6;\n",
              "  }\n",
              "\n",
              "  [theme=dark] .colab-df-quickchart {\n",
              "    background-color: #3B4455;\n",
              "    fill: #D2E3FC;\n",
              "  }\n",
              "\n",
              "  [theme=dark] .colab-df-quickchart:hover {\n",
              "    background-color: #434B5C;\n",
              "    box-shadow: 0px 1px 3px 1px rgba(0, 0, 0, 0.15);\n",
              "    filter: drop-shadow(0px 1px 2px rgba(0, 0, 0, 0.3));\n",
              "    fill: #FFFFFF;\n",
              "  }\n",
              "</style>\n",
              "\n",
              "    <script>\n",
              "      async function quickchart(key) {\n",
              "        const containerElement = document.querySelector('#' + key);\n",
              "        const charts = await google.colab.kernel.invokeFunction(\n",
              "            'suggestCharts', [key], {});\n",
              "      }\n",
              "    </script>\n",
              "\n",
              "      <script>\n",
              "\n",
              "function displayQuickchartButton(domScope) {\n",
              "  let quickchartButtonEl =\n",
              "    domScope.querySelector('#df-d1f82a34-450f-4278-bcbc-60488ac3fa37 button.colab-df-quickchart');\n",
              "  quickchartButtonEl.style.display =\n",
              "    google.colab.kernel.accessAllowed ? 'block' : 'none';\n",
              "}\n",
              "\n",
              "        displayQuickchartButton(document);\n",
              "      </script>\n",
              "      <style>\n",
              "    .colab-df-container {\n",
              "      display:flex;\n",
              "      flex-wrap:wrap;\n",
              "      gap: 12px;\n",
              "    }\n",
              "\n",
              "    .colab-df-convert {\n",
              "      background-color: #E8F0FE;\n",
              "      border: none;\n",
              "      border-radius: 50%;\n",
              "      cursor: pointer;\n",
              "      display: none;\n",
              "      fill: #1967D2;\n",
              "      height: 32px;\n",
              "      padding: 0 0 0 0;\n",
              "      width: 32px;\n",
              "    }\n",
              "\n",
              "    .colab-df-convert:hover {\n",
              "      background-color: #E2EBFA;\n",
              "      box-shadow: 0px 1px 2px rgba(60, 64, 67, 0.3), 0px 1px 3px 1px rgba(60, 64, 67, 0.15);\n",
              "      fill: #174EA6;\n",
              "    }\n",
              "\n",
              "    [theme=dark] .colab-df-convert {\n",
              "      background-color: #3B4455;\n",
              "      fill: #D2E3FC;\n",
              "    }\n",
              "\n",
              "    [theme=dark] .colab-df-convert:hover {\n",
              "      background-color: #434B5C;\n",
              "      box-shadow: 0px 1px 3px 1px rgba(0, 0, 0, 0.15);\n",
              "      filter: drop-shadow(0px 1px 2px rgba(0, 0, 0, 0.3));\n",
              "      fill: #FFFFFF;\n",
              "    }\n",
              "  </style>\n",
              "\n",
              "      <script>\n",
              "        const buttonEl =\n",
              "          document.querySelector('#df-270650c3-5f04-41aa-943c-f2942ee3c8b8 button.colab-df-convert');\n",
              "        buttonEl.style.display =\n",
              "          google.colab.kernel.accessAllowed ? 'block' : 'none';\n",
              "\n",
              "        async function convertToInteractive(key) {\n",
              "          const element = document.querySelector('#df-270650c3-5f04-41aa-943c-f2942ee3c8b8');\n",
              "          const dataTable =\n",
              "            await google.colab.kernel.invokeFunction('convertToInteractive',\n",
              "                                                     [key], {});\n",
              "          if (!dataTable) return;\n",
              "\n",
              "          const docLinkHtml = 'Like what you see? Visit the ' +\n",
              "            '<a target=\"_blank\" href=https://colab.research.google.com/notebooks/data_table.ipynb>data table notebook</a>'\n",
              "            + ' to learn more about interactive tables.';\n",
              "          element.innerHTML = '';\n",
              "          dataTable['output_type'] = 'display_data';\n",
              "          await google.colab.output.renderOutput(dataTable, element);\n",
              "          const docLink = document.createElement('div');\n",
              "          docLink.innerHTML = docLinkHtml;\n",
              "          element.appendChild(docLink);\n",
              "        }\n",
              "      </script>\n",
              "    </div>\n",
              "  </div>\n"
            ]
          },
          "metadata": {},
          "execution_count": 9
        }
      ],
      "source": [
        "#unimos resultados\n",
        "df1=pd.concat([df['id'],df['content'], positivos,negativos], axis=1)\n",
        "df1"
      ]
    },
    {
      "cell_type": "code",
      "execution_count": null,
      "metadata": {
        "id": "MP2i_p3AF2tQ"
      },
      "outputs": [],
      "source": [
        "#Clasificamos los textos que contienen las categorias\n",
        "texts_classified = df1[(df1['positivos'] | df1['negativos'] )]\n",
        "\n",
        "texts_no_classified = df1[~(df1['positivos'] )]['content']"
      ]
    },
    {
      "cell_type": "code",
      "execution_count": null,
      "metadata": {
        "id": "CDxliprqlc5o"
      },
      "outputs": [],
      "source": [
        "#limpiamos los que tienen ambas categorias\n",
        "count = texts_classified.apply(lambda row: row['positivos'] + row['negativos'] , axis=1)\n",
        "count = count.rename(\"count\")"
      ]
    },
    {
      "cell_type": "code",
      "execution_count": null,
      "metadata": {
        "id": "88o6DXiDlyTJ"
      },
      "outputs": [],
      "source": [
        "texts_classified = pd.concat([texts_classified, count], axis=1)"
      ]
    },
    {
      "cell_type": "code",
      "execution_count": null,
      "metadata": {
        "colab": {
          "base_uri": "https://localhost:8080/",
          "height": 424
        },
        "id": "hUn5FPDMl3nf",
        "outputId": "c401b4ba-5105-48a9-91ed-4575097594b6"
      },
      "outputs": [
        {
          "output_type": "execute_result",
          "data": {
            "text/plain": [
              "                         id  \\\n",
              "1       1641213218520481805   \n",
              "8       1641212856984109072   \n",
              "43      1641210743369396225   \n",
              "48      1641210371037097984   \n",
              "84      1641208764161306627   \n",
              "...                     ...   \n",
              "499975  1610542918309220353   \n",
              "499978  1610542537592246272   \n",
              "500024  1610537189590564864   \n",
              "500033  1610535837363486720   \n",
              "500034  1610535786017091584   \n",
              "\n",
              "                                                  content  positivos  \\\n",
              "1                @MecoleHardman4 Chat GPT says it’s 15. 😂       True   \n",
              "8       Yours Robotically - by Shaun Usher - Letters o...       True   \n",
              "43      @nertilqatja @michael_dehart @greg16676935420 ...      False   \n",
              "48      I asked Chat GPT about defensive football. \\n\\...      False   \n",
              "84      not me demanding chat gpt to write corny fanfi...      False   \n",
              "...                                                   ...        ...   \n",
              "499975  @DataChaz Did you ask #chatGPT for an explanat...       True   \n",
              "499978  Do you want to use #chatGPT like a Pro? \\nFoll...       True   \n",
              "500024  Just managed to convince BiL to check out #cha...       True   \n",
              "500033  all my twitter feed is about ChatGPT and @Open...       True   \n",
              "500034  I'm quite amazed by Chat GPT. A really promisi...       True   \n",
              "\n",
              "        negativos  count  \n",
              "1           False      1  \n",
              "8           False      1  \n",
              "43           True      1  \n",
              "48           True      1  \n",
              "84           True      1  \n",
              "...           ...    ...  \n",
              "499975      False      1  \n",
              "499978      False      1  \n",
              "500024      False      1  \n",
              "500033      False      1  \n",
              "500034      False      1  \n",
              "\n",
              "[27109 rows x 5 columns]"
            ],
            "text/html": [
              "\n",
              "\n",
              "  <div id=\"df-910a1146-464f-4c49-b57c-b533a814bf08\">\n",
              "    <div class=\"colab-df-container\">\n",
              "      <div>\n",
              "<style scoped>\n",
              "    .dataframe tbody tr th:only-of-type {\n",
              "        vertical-align: middle;\n",
              "    }\n",
              "\n",
              "    .dataframe tbody tr th {\n",
              "        vertical-align: top;\n",
              "    }\n",
              "\n",
              "    .dataframe thead th {\n",
              "        text-align: right;\n",
              "    }\n",
              "</style>\n",
              "<table border=\"1\" class=\"dataframe\">\n",
              "  <thead>\n",
              "    <tr style=\"text-align: right;\">\n",
              "      <th></th>\n",
              "      <th>id</th>\n",
              "      <th>content</th>\n",
              "      <th>positivos</th>\n",
              "      <th>negativos</th>\n",
              "      <th>count</th>\n",
              "    </tr>\n",
              "  </thead>\n",
              "  <tbody>\n",
              "    <tr>\n",
              "      <th>1</th>\n",
              "      <td>1641213218520481805</td>\n",
              "      <td>@MecoleHardman4 Chat GPT says it’s 15. 😂</td>\n",
              "      <td>True</td>\n",
              "      <td>False</td>\n",
              "      <td>1</td>\n",
              "    </tr>\n",
              "    <tr>\n",
              "      <th>8</th>\n",
              "      <td>1641212856984109072</td>\n",
              "      <td>Yours Robotically - by Shaun Usher - Letters o...</td>\n",
              "      <td>True</td>\n",
              "      <td>False</td>\n",
              "      <td>1</td>\n",
              "    </tr>\n",
              "    <tr>\n",
              "      <th>43</th>\n",
              "      <td>1641210743369396225</td>\n",
              "      <td>@nertilqatja @michael_dehart @greg16676935420 ...</td>\n",
              "      <td>False</td>\n",
              "      <td>True</td>\n",
              "      <td>1</td>\n",
              "    </tr>\n",
              "    <tr>\n",
              "      <th>48</th>\n",
              "      <td>1641210371037097984</td>\n",
              "      <td>I asked Chat GPT about defensive football. \\n\\...</td>\n",
              "      <td>False</td>\n",
              "      <td>True</td>\n",
              "      <td>1</td>\n",
              "    </tr>\n",
              "    <tr>\n",
              "      <th>84</th>\n",
              "      <td>1641208764161306627</td>\n",
              "      <td>not me demanding chat gpt to write corny fanfi...</td>\n",
              "      <td>False</td>\n",
              "      <td>True</td>\n",
              "      <td>1</td>\n",
              "    </tr>\n",
              "    <tr>\n",
              "      <th>...</th>\n",
              "      <td>...</td>\n",
              "      <td>...</td>\n",
              "      <td>...</td>\n",
              "      <td>...</td>\n",
              "      <td>...</td>\n",
              "    </tr>\n",
              "    <tr>\n",
              "      <th>499975</th>\n",
              "      <td>1610542918309220353</td>\n",
              "      <td>@DataChaz Did you ask #chatGPT for an explanat...</td>\n",
              "      <td>True</td>\n",
              "      <td>False</td>\n",
              "      <td>1</td>\n",
              "    </tr>\n",
              "    <tr>\n",
              "      <th>499978</th>\n",
              "      <td>1610542537592246272</td>\n",
              "      <td>Do you want to use #chatGPT like a Pro? \\nFoll...</td>\n",
              "      <td>True</td>\n",
              "      <td>False</td>\n",
              "      <td>1</td>\n",
              "    </tr>\n",
              "    <tr>\n",
              "      <th>500024</th>\n",
              "      <td>1610537189590564864</td>\n",
              "      <td>Just managed to convince BiL to check out #cha...</td>\n",
              "      <td>True</td>\n",
              "      <td>False</td>\n",
              "      <td>1</td>\n",
              "    </tr>\n",
              "    <tr>\n",
              "      <th>500033</th>\n",
              "      <td>1610535837363486720</td>\n",
              "      <td>all my twitter feed is about ChatGPT and @Open...</td>\n",
              "      <td>True</td>\n",
              "      <td>False</td>\n",
              "      <td>1</td>\n",
              "    </tr>\n",
              "    <tr>\n",
              "      <th>500034</th>\n",
              "      <td>1610535786017091584</td>\n",
              "      <td>I'm quite amazed by Chat GPT. A really promisi...</td>\n",
              "      <td>True</td>\n",
              "      <td>False</td>\n",
              "      <td>1</td>\n",
              "    </tr>\n",
              "  </tbody>\n",
              "</table>\n",
              "<p>27109 rows × 5 columns</p>\n",
              "</div>\n",
              "      <button class=\"colab-df-convert\" onclick=\"convertToInteractive('df-910a1146-464f-4c49-b57c-b533a814bf08')\"\n",
              "              title=\"Convert this dataframe to an interactive table.\"\n",
              "              style=\"display:none;\">\n",
              "\n",
              "  <svg xmlns=\"http://www.w3.org/2000/svg\" height=\"24px\"viewBox=\"0 0 24 24\"\n",
              "       width=\"24px\">\n",
              "    <path d=\"M0 0h24v24H0V0z\" fill=\"none\"/>\n",
              "    <path d=\"M18.56 5.44l.94 2.06.94-2.06 2.06-.94-2.06-.94-.94-2.06-.94 2.06-2.06.94zm-11 1L8.5 8.5l.94-2.06 2.06-.94-2.06-.94L8.5 2.5l-.94 2.06-2.06.94zm10 10l.94 2.06.94-2.06 2.06-.94-2.06-.94-.94-2.06-.94 2.06-2.06.94z\"/><path d=\"M17.41 7.96l-1.37-1.37c-.4-.4-.92-.59-1.43-.59-.52 0-1.04.2-1.43.59L10.3 9.45l-7.72 7.72c-.78.78-.78 2.05 0 2.83L4 21.41c.39.39.9.59 1.41.59.51 0 1.02-.2 1.41-.59l7.78-7.78 2.81-2.81c.8-.78.8-2.07 0-2.86zM5.41 20L4 18.59l7.72-7.72 1.47 1.35L5.41 20z\"/>\n",
              "  </svg>\n",
              "      </button>\n",
              "\n",
              "\n",
              "\n",
              "    <div id=\"df-73d2ca86-edb0-4cf4-9652-3e22df59ad09\">\n",
              "      <button class=\"colab-df-quickchart\" onclick=\"quickchart('df-73d2ca86-edb0-4cf4-9652-3e22df59ad09')\"\n",
              "              title=\"Suggest charts.\"\n",
              "              style=\"display:none;\">\n",
              "\n",
              "<svg xmlns=\"http://www.w3.org/2000/svg\" height=\"24px\"viewBox=\"0 0 24 24\"\n",
              "     width=\"24px\">\n",
              "    <g>\n",
              "        <path d=\"M19 3H5c-1.1 0-2 .9-2 2v14c0 1.1.9 2 2 2h14c1.1 0 2-.9 2-2V5c0-1.1-.9-2-2-2zM9 17H7v-7h2v7zm4 0h-2V7h2v10zm4 0h-2v-4h2v4z\"/>\n",
              "    </g>\n",
              "</svg>\n",
              "      </button>\n",
              "    </div>\n",
              "\n",
              "<style>\n",
              "  .colab-df-quickchart {\n",
              "    background-color: #E8F0FE;\n",
              "    border: none;\n",
              "    border-radius: 50%;\n",
              "    cursor: pointer;\n",
              "    display: none;\n",
              "    fill: #1967D2;\n",
              "    height: 32px;\n",
              "    padding: 0 0 0 0;\n",
              "    width: 32px;\n",
              "  }\n",
              "\n",
              "  .colab-df-quickchart:hover {\n",
              "    background-color: #E2EBFA;\n",
              "    box-shadow: 0px 1px 2px rgba(60, 64, 67, 0.3), 0px 1px 3px 1px rgba(60, 64, 67, 0.15);\n",
              "    fill: #174EA6;\n",
              "  }\n",
              "\n",
              "  [theme=dark] .colab-df-quickchart {\n",
              "    background-color: #3B4455;\n",
              "    fill: #D2E3FC;\n",
              "  }\n",
              "\n",
              "  [theme=dark] .colab-df-quickchart:hover {\n",
              "    background-color: #434B5C;\n",
              "    box-shadow: 0px 1px 3px 1px rgba(0, 0, 0, 0.15);\n",
              "    filter: drop-shadow(0px 1px 2px rgba(0, 0, 0, 0.3));\n",
              "    fill: #FFFFFF;\n",
              "  }\n",
              "</style>\n",
              "\n",
              "    <script>\n",
              "      async function quickchart(key) {\n",
              "        const containerElement = document.querySelector('#' + key);\n",
              "        const charts = await google.colab.kernel.invokeFunction(\n",
              "            'suggestCharts', [key], {});\n",
              "      }\n",
              "    </script>\n",
              "\n",
              "      <script>\n",
              "\n",
              "function displayQuickchartButton(domScope) {\n",
              "  let quickchartButtonEl =\n",
              "    domScope.querySelector('#df-73d2ca86-edb0-4cf4-9652-3e22df59ad09 button.colab-df-quickchart');\n",
              "  quickchartButtonEl.style.display =\n",
              "    google.colab.kernel.accessAllowed ? 'block' : 'none';\n",
              "}\n",
              "\n",
              "        displayQuickchartButton(document);\n",
              "      </script>\n",
              "      <style>\n",
              "    .colab-df-container {\n",
              "      display:flex;\n",
              "      flex-wrap:wrap;\n",
              "      gap: 12px;\n",
              "    }\n",
              "\n",
              "    .colab-df-convert {\n",
              "      background-color: #E8F0FE;\n",
              "      border: none;\n",
              "      border-radius: 50%;\n",
              "      cursor: pointer;\n",
              "      display: none;\n",
              "      fill: #1967D2;\n",
              "      height: 32px;\n",
              "      padding: 0 0 0 0;\n",
              "      width: 32px;\n",
              "    }\n",
              "\n",
              "    .colab-df-convert:hover {\n",
              "      background-color: #E2EBFA;\n",
              "      box-shadow: 0px 1px 2px rgba(60, 64, 67, 0.3), 0px 1px 3px 1px rgba(60, 64, 67, 0.15);\n",
              "      fill: #174EA6;\n",
              "    }\n",
              "\n",
              "    [theme=dark] .colab-df-convert {\n",
              "      background-color: #3B4455;\n",
              "      fill: #D2E3FC;\n",
              "    }\n",
              "\n",
              "    [theme=dark] .colab-df-convert:hover {\n",
              "      background-color: #434B5C;\n",
              "      box-shadow: 0px 1px 3px 1px rgba(0, 0, 0, 0.15);\n",
              "      filter: drop-shadow(0px 1px 2px rgba(0, 0, 0, 0.3));\n",
              "      fill: #FFFFFF;\n",
              "    }\n",
              "  </style>\n",
              "\n",
              "      <script>\n",
              "        const buttonEl =\n",
              "          document.querySelector('#df-910a1146-464f-4c49-b57c-b533a814bf08 button.colab-df-convert');\n",
              "        buttonEl.style.display =\n",
              "          google.colab.kernel.accessAllowed ? 'block' : 'none';\n",
              "\n",
              "        async function convertToInteractive(key) {\n",
              "          const element = document.querySelector('#df-910a1146-464f-4c49-b57c-b533a814bf08');\n",
              "          const dataTable =\n",
              "            await google.colab.kernel.invokeFunction('convertToInteractive',\n",
              "                                                     [key], {});\n",
              "          if (!dataTable) return;\n",
              "\n",
              "          const docLinkHtml = 'Like what you see? Visit the ' +\n",
              "            '<a target=\"_blank\" href=https://colab.research.google.com/notebooks/data_table.ipynb>data table notebook</a>'\n",
              "            + ' to learn more about interactive tables.';\n",
              "          element.innerHTML = '';\n",
              "          dataTable['output_type'] = 'display_data';\n",
              "          await google.colab.output.renderOutput(dataTable, element);\n",
              "          const docLink = document.createElement('div');\n",
              "          docLink.innerHTML = docLinkHtml;\n",
              "          element.appendChild(docLink);\n",
              "        }\n",
              "      </script>\n",
              "    </div>\n",
              "  </div>\n"
            ]
          },
          "metadata": {},
          "execution_count": 13
        }
      ],
      "source": [
        "texts_classified = texts_classified[texts_classified['count'] == 1]\n",
        "texts_classified"
      ]
    },
    {
      "cell_type": "code",
      "execution_count": null,
      "metadata": {
        "colab": {
          "base_uri": "https://localhost:8080/",
          "height": 424
        },
        "id": "WQrBwTlKmEar",
        "outputId": "bd7603fb-8f53-4cb2-cba0-be4c9fe1d541"
      },
      "outputs": [
        {
          "output_type": "execute_result",
          "data": {
            "text/plain": [
              "                         id  \\\n",
              "1       1641213218520481805   \n",
              "8       1641212856984109072   \n",
              "43      1641210743369396225   \n",
              "48      1641210371037097984   \n",
              "84      1641208764161306627   \n",
              "...                     ...   \n",
              "499975  1610542918309220353   \n",
              "499978  1610542537592246272   \n",
              "500024  1610537189590564864   \n",
              "500033  1610535837363486720   \n",
              "500034  1610535786017091584   \n",
              "\n",
              "                                                  content  positivos  \\\n",
              "1                @MecoleHardman4 Chat GPT says it’s 15. 😂       True   \n",
              "8       Yours Robotically - by Shaun Usher - Letters o...       True   \n",
              "43      @nertilqatja @michael_dehart @greg16676935420 ...      False   \n",
              "48      I asked Chat GPT about defensive football. \\n\\...      False   \n",
              "84      not me demanding chat gpt to write corny fanfi...      False   \n",
              "...                                                   ...        ...   \n",
              "499975  @DataChaz Did you ask #chatGPT for an explanat...       True   \n",
              "499978  Do you want to use #chatGPT like a Pro? \\nFoll...       True   \n",
              "500024  Just managed to convince BiL to check out #cha...       True   \n",
              "500033  all my twitter feed is about ChatGPT and @Open...       True   \n",
              "500034  I'm quite amazed by Chat GPT. A really promisi...       True   \n",
              "\n",
              "        negativos  count  target  \n",
              "1           False      1       0  \n",
              "8           False      1       0  \n",
              "43           True      1       1  \n",
              "48           True      1       1  \n",
              "84           True      1       1  \n",
              "...           ...    ...     ...  \n",
              "499975      False      1       0  \n",
              "499978      False      1       0  \n",
              "500024      False      1       0  \n",
              "500033      False      1       0  \n",
              "500034      False      1       0  \n",
              "\n",
              "[27109 rows x 6 columns]"
            ],
            "text/html": [
              "\n",
              "\n",
              "  <div id=\"df-326140d0-40f2-4496-a742-3290b59be1a9\">\n",
              "    <div class=\"colab-df-container\">\n",
              "      <div>\n",
              "<style scoped>\n",
              "    .dataframe tbody tr th:only-of-type {\n",
              "        vertical-align: middle;\n",
              "    }\n",
              "\n",
              "    .dataframe tbody tr th {\n",
              "        vertical-align: top;\n",
              "    }\n",
              "\n",
              "    .dataframe thead th {\n",
              "        text-align: right;\n",
              "    }\n",
              "</style>\n",
              "<table border=\"1\" class=\"dataframe\">\n",
              "  <thead>\n",
              "    <tr style=\"text-align: right;\">\n",
              "      <th></th>\n",
              "      <th>id</th>\n",
              "      <th>content</th>\n",
              "      <th>positivos</th>\n",
              "      <th>negativos</th>\n",
              "      <th>count</th>\n",
              "      <th>target</th>\n",
              "    </tr>\n",
              "  </thead>\n",
              "  <tbody>\n",
              "    <tr>\n",
              "      <th>1</th>\n",
              "      <td>1641213218520481805</td>\n",
              "      <td>@MecoleHardman4 Chat GPT says it’s 15. 😂</td>\n",
              "      <td>True</td>\n",
              "      <td>False</td>\n",
              "      <td>1</td>\n",
              "      <td>0</td>\n",
              "    </tr>\n",
              "    <tr>\n",
              "      <th>8</th>\n",
              "      <td>1641212856984109072</td>\n",
              "      <td>Yours Robotically - by Shaun Usher - Letters o...</td>\n",
              "      <td>True</td>\n",
              "      <td>False</td>\n",
              "      <td>1</td>\n",
              "      <td>0</td>\n",
              "    </tr>\n",
              "    <tr>\n",
              "      <th>43</th>\n",
              "      <td>1641210743369396225</td>\n",
              "      <td>@nertilqatja @michael_dehart @greg16676935420 ...</td>\n",
              "      <td>False</td>\n",
              "      <td>True</td>\n",
              "      <td>1</td>\n",
              "      <td>1</td>\n",
              "    </tr>\n",
              "    <tr>\n",
              "      <th>48</th>\n",
              "      <td>1641210371037097984</td>\n",
              "      <td>I asked Chat GPT about defensive football. \\n\\...</td>\n",
              "      <td>False</td>\n",
              "      <td>True</td>\n",
              "      <td>1</td>\n",
              "      <td>1</td>\n",
              "    </tr>\n",
              "    <tr>\n",
              "      <th>84</th>\n",
              "      <td>1641208764161306627</td>\n",
              "      <td>not me demanding chat gpt to write corny fanfi...</td>\n",
              "      <td>False</td>\n",
              "      <td>True</td>\n",
              "      <td>1</td>\n",
              "      <td>1</td>\n",
              "    </tr>\n",
              "    <tr>\n",
              "      <th>...</th>\n",
              "      <td>...</td>\n",
              "      <td>...</td>\n",
              "      <td>...</td>\n",
              "      <td>...</td>\n",
              "      <td>...</td>\n",
              "      <td>...</td>\n",
              "    </tr>\n",
              "    <tr>\n",
              "      <th>499975</th>\n",
              "      <td>1610542918309220353</td>\n",
              "      <td>@DataChaz Did you ask #chatGPT for an explanat...</td>\n",
              "      <td>True</td>\n",
              "      <td>False</td>\n",
              "      <td>1</td>\n",
              "      <td>0</td>\n",
              "    </tr>\n",
              "    <tr>\n",
              "      <th>499978</th>\n",
              "      <td>1610542537592246272</td>\n",
              "      <td>Do you want to use #chatGPT like a Pro? \\nFoll...</td>\n",
              "      <td>True</td>\n",
              "      <td>False</td>\n",
              "      <td>1</td>\n",
              "      <td>0</td>\n",
              "    </tr>\n",
              "    <tr>\n",
              "      <th>500024</th>\n",
              "      <td>1610537189590564864</td>\n",
              "      <td>Just managed to convince BiL to check out #cha...</td>\n",
              "      <td>True</td>\n",
              "      <td>False</td>\n",
              "      <td>1</td>\n",
              "      <td>0</td>\n",
              "    </tr>\n",
              "    <tr>\n",
              "      <th>500033</th>\n",
              "      <td>1610535837363486720</td>\n",
              "      <td>all my twitter feed is about ChatGPT and @Open...</td>\n",
              "      <td>True</td>\n",
              "      <td>False</td>\n",
              "      <td>1</td>\n",
              "      <td>0</td>\n",
              "    </tr>\n",
              "    <tr>\n",
              "      <th>500034</th>\n",
              "      <td>1610535786017091584</td>\n",
              "      <td>I'm quite amazed by Chat GPT. A really promisi...</td>\n",
              "      <td>True</td>\n",
              "      <td>False</td>\n",
              "      <td>1</td>\n",
              "      <td>0</td>\n",
              "    </tr>\n",
              "  </tbody>\n",
              "</table>\n",
              "<p>27109 rows × 6 columns</p>\n",
              "</div>\n",
              "      <button class=\"colab-df-convert\" onclick=\"convertToInteractive('df-326140d0-40f2-4496-a742-3290b59be1a9')\"\n",
              "              title=\"Convert this dataframe to an interactive table.\"\n",
              "              style=\"display:none;\">\n",
              "\n",
              "  <svg xmlns=\"http://www.w3.org/2000/svg\" height=\"24px\"viewBox=\"0 0 24 24\"\n",
              "       width=\"24px\">\n",
              "    <path d=\"M0 0h24v24H0V0z\" fill=\"none\"/>\n",
              "    <path d=\"M18.56 5.44l.94 2.06.94-2.06 2.06-.94-2.06-.94-.94-2.06-.94 2.06-2.06.94zm-11 1L8.5 8.5l.94-2.06 2.06-.94-2.06-.94L8.5 2.5l-.94 2.06-2.06.94zm10 10l.94 2.06.94-2.06 2.06-.94-2.06-.94-.94-2.06-.94 2.06-2.06.94z\"/><path d=\"M17.41 7.96l-1.37-1.37c-.4-.4-.92-.59-1.43-.59-.52 0-1.04.2-1.43.59L10.3 9.45l-7.72 7.72c-.78.78-.78 2.05 0 2.83L4 21.41c.39.39.9.59 1.41.59.51 0 1.02-.2 1.41-.59l7.78-7.78 2.81-2.81c.8-.78.8-2.07 0-2.86zM5.41 20L4 18.59l7.72-7.72 1.47 1.35L5.41 20z\"/>\n",
              "  </svg>\n",
              "      </button>\n",
              "\n",
              "\n",
              "\n",
              "    <div id=\"df-2fb8449a-9c5d-4879-9cee-84803cde87b8\">\n",
              "      <button class=\"colab-df-quickchart\" onclick=\"quickchart('df-2fb8449a-9c5d-4879-9cee-84803cde87b8')\"\n",
              "              title=\"Suggest charts.\"\n",
              "              style=\"display:none;\">\n",
              "\n",
              "<svg xmlns=\"http://www.w3.org/2000/svg\" height=\"24px\"viewBox=\"0 0 24 24\"\n",
              "     width=\"24px\">\n",
              "    <g>\n",
              "        <path d=\"M19 3H5c-1.1 0-2 .9-2 2v14c0 1.1.9 2 2 2h14c1.1 0 2-.9 2-2V5c0-1.1-.9-2-2-2zM9 17H7v-7h2v7zm4 0h-2V7h2v10zm4 0h-2v-4h2v4z\"/>\n",
              "    </g>\n",
              "</svg>\n",
              "      </button>\n",
              "    </div>\n",
              "\n",
              "<style>\n",
              "  .colab-df-quickchart {\n",
              "    background-color: #E8F0FE;\n",
              "    border: none;\n",
              "    border-radius: 50%;\n",
              "    cursor: pointer;\n",
              "    display: none;\n",
              "    fill: #1967D2;\n",
              "    height: 32px;\n",
              "    padding: 0 0 0 0;\n",
              "    width: 32px;\n",
              "  }\n",
              "\n",
              "  .colab-df-quickchart:hover {\n",
              "    background-color: #E2EBFA;\n",
              "    box-shadow: 0px 1px 2px rgba(60, 64, 67, 0.3), 0px 1px 3px 1px rgba(60, 64, 67, 0.15);\n",
              "    fill: #174EA6;\n",
              "  }\n",
              "\n",
              "  [theme=dark] .colab-df-quickchart {\n",
              "    background-color: #3B4455;\n",
              "    fill: #D2E3FC;\n",
              "  }\n",
              "\n",
              "  [theme=dark] .colab-df-quickchart:hover {\n",
              "    background-color: #434B5C;\n",
              "    box-shadow: 0px 1px 3px 1px rgba(0, 0, 0, 0.15);\n",
              "    filter: drop-shadow(0px 1px 2px rgba(0, 0, 0, 0.3));\n",
              "    fill: #FFFFFF;\n",
              "  }\n",
              "</style>\n",
              "\n",
              "    <script>\n",
              "      async function quickchart(key) {\n",
              "        const containerElement = document.querySelector('#' + key);\n",
              "        const charts = await google.colab.kernel.invokeFunction(\n",
              "            'suggestCharts', [key], {});\n",
              "      }\n",
              "    </script>\n",
              "\n",
              "      <script>\n",
              "\n",
              "function displayQuickchartButton(domScope) {\n",
              "  let quickchartButtonEl =\n",
              "    domScope.querySelector('#df-2fb8449a-9c5d-4879-9cee-84803cde87b8 button.colab-df-quickchart');\n",
              "  quickchartButtonEl.style.display =\n",
              "    google.colab.kernel.accessAllowed ? 'block' : 'none';\n",
              "}\n",
              "\n",
              "        displayQuickchartButton(document);\n",
              "      </script>\n",
              "      <style>\n",
              "    .colab-df-container {\n",
              "      display:flex;\n",
              "      flex-wrap:wrap;\n",
              "      gap: 12px;\n",
              "    }\n",
              "\n",
              "    .colab-df-convert {\n",
              "      background-color: #E8F0FE;\n",
              "      border: none;\n",
              "      border-radius: 50%;\n",
              "      cursor: pointer;\n",
              "      display: none;\n",
              "      fill: #1967D2;\n",
              "      height: 32px;\n",
              "      padding: 0 0 0 0;\n",
              "      width: 32px;\n",
              "    }\n",
              "\n",
              "    .colab-df-convert:hover {\n",
              "      background-color: #E2EBFA;\n",
              "      box-shadow: 0px 1px 2px rgba(60, 64, 67, 0.3), 0px 1px 3px 1px rgba(60, 64, 67, 0.15);\n",
              "      fill: #174EA6;\n",
              "    }\n",
              "\n",
              "    [theme=dark] .colab-df-convert {\n",
              "      background-color: #3B4455;\n",
              "      fill: #D2E3FC;\n",
              "    }\n",
              "\n",
              "    [theme=dark] .colab-df-convert:hover {\n",
              "      background-color: #434B5C;\n",
              "      box-shadow: 0px 1px 3px 1px rgba(0, 0, 0, 0.15);\n",
              "      filter: drop-shadow(0px 1px 2px rgba(0, 0, 0, 0.3));\n",
              "      fill: #FFFFFF;\n",
              "    }\n",
              "  </style>\n",
              "\n",
              "      <script>\n",
              "        const buttonEl =\n",
              "          document.querySelector('#df-326140d0-40f2-4496-a742-3290b59be1a9 button.colab-df-convert');\n",
              "        buttonEl.style.display =\n",
              "          google.colab.kernel.accessAllowed ? 'block' : 'none';\n",
              "\n",
              "        async function convertToInteractive(key) {\n",
              "          const element = document.querySelector('#df-326140d0-40f2-4496-a742-3290b59be1a9');\n",
              "          const dataTable =\n",
              "            await google.colab.kernel.invokeFunction('convertToInteractive',\n",
              "                                                     [key], {});\n",
              "          if (!dataTable) return;\n",
              "\n",
              "          const docLinkHtml = 'Like what you see? Visit the ' +\n",
              "            '<a target=\"_blank\" href=https://colab.research.google.com/notebooks/data_table.ipynb>data table notebook</a>'\n",
              "            + ' to learn more about interactive tables.';\n",
              "          element.innerHTML = '';\n",
              "          dataTable['output_type'] = 'display_data';\n",
              "          await google.colab.output.renderOutput(dataTable, element);\n",
              "          const docLink = document.createElement('div');\n",
              "          docLink.innerHTML = docLinkHtml;\n",
              "          element.appendChild(docLink);\n",
              "        }\n",
              "      </script>\n",
              "    </div>\n",
              "  </div>\n"
            ]
          },
          "metadata": {},
          "execution_count": 14
        }
      ],
      "source": [
        "#Agregamos la columna target\n",
        "def label_feeling (row):\n",
        "   if row['positivos'] :\n",
        "      return 0\n",
        "   if row['negativos'] :\n",
        "      return 1\n",
        "\n",
        "\n",
        "texts_classified['target'] = texts_classified.apply(lambda row: label_feeling(row), axis=1)\n",
        "texts_classified"
      ]
    },
    {
      "cell_type": "code",
      "execution_count": null,
      "metadata": {
        "colab": {
          "base_uri": "https://localhost:8080/",
          "height": 206
        },
        "id": "hHENIoLTl33V",
        "outputId": "1c39e338-7052-492c-8b1d-4a46fe26aa30"
      },
      "outputs": [
        {
          "output_type": "execute_result",
          "data": {
            "text/plain": [
              "                     id                                            content  \\\n",
              "1   1641213218520481805           @MecoleHardman4 Chat GPT says it’s 15. 😂   \n",
              "8   1641212856984109072  Yours Robotically - by Shaun Usher - Letters o...   \n",
              "43  1641210743369396225  @nertilqatja @michael_dehart @greg16676935420 ...   \n",
              "48  1641210371037097984  I asked Chat GPT about defensive football. \\n\\...   \n",
              "84  1641208764161306627  not me demanding chat gpt to write corny fanfi...   \n",
              "\n",
              "    target  \n",
              "1        0  \n",
              "8        0  \n",
              "43       1  \n",
              "48       1  \n",
              "84       1  "
            ],
            "text/html": [
              "\n",
              "\n",
              "  <div id=\"df-713df619-4e0b-4afe-9f4b-ed22e763a195\">\n",
              "    <div class=\"colab-df-container\">\n",
              "      <div>\n",
              "<style scoped>\n",
              "    .dataframe tbody tr th:only-of-type {\n",
              "        vertical-align: middle;\n",
              "    }\n",
              "\n",
              "    .dataframe tbody tr th {\n",
              "        vertical-align: top;\n",
              "    }\n",
              "\n",
              "    .dataframe thead th {\n",
              "        text-align: right;\n",
              "    }\n",
              "</style>\n",
              "<table border=\"1\" class=\"dataframe\">\n",
              "  <thead>\n",
              "    <tr style=\"text-align: right;\">\n",
              "      <th></th>\n",
              "      <th>id</th>\n",
              "      <th>content</th>\n",
              "      <th>target</th>\n",
              "    </tr>\n",
              "  </thead>\n",
              "  <tbody>\n",
              "    <tr>\n",
              "      <th>1</th>\n",
              "      <td>1641213218520481805</td>\n",
              "      <td>@MecoleHardman4 Chat GPT says it’s 15. 😂</td>\n",
              "      <td>0</td>\n",
              "    </tr>\n",
              "    <tr>\n",
              "      <th>8</th>\n",
              "      <td>1641212856984109072</td>\n",
              "      <td>Yours Robotically - by Shaun Usher - Letters o...</td>\n",
              "      <td>0</td>\n",
              "    </tr>\n",
              "    <tr>\n",
              "      <th>43</th>\n",
              "      <td>1641210743369396225</td>\n",
              "      <td>@nertilqatja @michael_dehart @greg16676935420 ...</td>\n",
              "      <td>1</td>\n",
              "    </tr>\n",
              "    <tr>\n",
              "      <th>48</th>\n",
              "      <td>1641210371037097984</td>\n",
              "      <td>I asked Chat GPT about defensive football. \\n\\...</td>\n",
              "      <td>1</td>\n",
              "    </tr>\n",
              "    <tr>\n",
              "      <th>84</th>\n",
              "      <td>1641208764161306627</td>\n",
              "      <td>not me demanding chat gpt to write corny fanfi...</td>\n",
              "      <td>1</td>\n",
              "    </tr>\n",
              "  </tbody>\n",
              "</table>\n",
              "</div>\n",
              "      <button class=\"colab-df-convert\" onclick=\"convertToInteractive('df-713df619-4e0b-4afe-9f4b-ed22e763a195')\"\n",
              "              title=\"Convert this dataframe to an interactive table.\"\n",
              "              style=\"display:none;\">\n",
              "\n",
              "  <svg xmlns=\"http://www.w3.org/2000/svg\" height=\"24px\"viewBox=\"0 0 24 24\"\n",
              "       width=\"24px\">\n",
              "    <path d=\"M0 0h24v24H0V0z\" fill=\"none\"/>\n",
              "    <path d=\"M18.56 5.44l.94 2.06.94-2.06 2.06-.94-2.06-.94-.94-2.06-.94 2.06-2.06.94zm-11 1L8.5 8.5l.94-2.06 2.06-.94-2.06-.94L8.5 2.5l-.94 2.06-2.06.94zm10 10l.94 2.06.94-2.06 2.06-.94-2.06-.94-.94-2.06-.94 2.06-2.06.94z\"/><path d=\"M17.41 7.96l-1.37-1.37c-.4-.4-.92-.59-1.43-.59-.52 0-1.04.2-1.43.59L10.3 9.45l-7.72 7.72c-.78.78-.78 2.05 0 2.83L4 21.41c.39.39.9.59 1.41.59.51 0 1.02-.2 1.41-.59l7.78-7.78 2.81-2.81c.8-.78.8-2.07 0-2.86zM5.41 20L4 18.59l7.72-7.72 1.47 1.35L5.41 20z\"/>\n",
              "  </svg>\n",
              "      </button>\n",
              "\n",
              "\n",
              "\n",
              "    <div id=\"df-00f3c284-4e4a-453e-98b7-8dc9aff3c88f\">\n",
              "      <button class=\"colab-df-quickchart\" onclick=\"quickchart('df-00f3c284-4e4a-453e-98b7-8dc9aff3c88f')\"\n",
              "              title=\"Suggest charts.\"\n",
              "              style=\"display:none;\">\n",
              "\n",
              "<svg xmlns=\"http://www.w3.org/2000/svg\" height=\"24px\"viewBox=\"0 0 24 24\"\n",
              "     width=\"24px\">\n",
              "    <g>\n",
              "        <path d=\"M19 3H5c-1.1 0-2 .9-2 2v14c0 1.1.9 2 2 2h14c1.1 0 2-.9 2-2V5c0-1.1-.9-2-2-2zM9 17H7v-7h2v7zm4 0h-2V7h2v10zm4 0h-2v-4h2v4z\"/>\n",
              "    </g>\n",
              "</svg>\n",
              "      </button>\n",
              "    </div>\n",
              "\n",
              "<style>\n",
              "  .colab-df-quickchart {\n",
              "    background-color: #E8F0FE;\n",
              "    border: none;\n",
              "    border-radius: 50%;\n",
              "    cursor: pointer;\n",
              "    display: none;\n",
              "    fill: #1967D2;\n",
              "    height: 32px;\n",
              "    padding: 0 0 0 0;\n",
              "    width: 32px;\n",
              "  }\n",
              "\n",
              "  .colab-df-quickchart:hover {\n",
              "    background-color: #E2EBFA;\n",
              "    box-shadow: 0px 1px 2px rgba(60, 64, 67, 0.3), 0px 1px 3px 1px rgba(60, 64, 67, 0.15);\n",
              "    fill: #174EA6;\n",
              "  }\n",
              "\n",
              "  [theme=dark] .colab-df-quickchart {\n",
              "    background-color: #3B4455;\n",
              "    fill: #D2E3FC;\n",
              "  }\n",
              "\n",
              "  [theme=dark] .colab-df-quickchart:hover {\n",
              "    background-color: #434B5C;\n",
              "    box-shadow: 0px 1px 3px 1px rgba(0, 0, 0, 0.15);\n",
              "    filter: drop-shadow(0px 1px 2px rgba(0, 0, 0, 0.3));\n",
              "    fill: #FFFFFF;\n",
              "  }\n",
              "</style>\n",
              "\n",
              "    <script>\n",
              "      async function quickchart(key) {\n",
              "        const containerElement = document.querySelector('#' + key);\n",
              "        const charts = await google.colab.kernel.invokeFunction(\n",
              "            'suggestCharts', [key], {});\n",
              "      }\n",
              "    </script>\n",
              "\n",
              "      <script>\n",
              "\n",
              "function displayQuickchartButton(domScope) {\n",
              "  let quickchartButtonEl =\n",
              "    domScope.querySelector('#df-00f3c284-4e4a-453e-98b7-8dc9aff3c88f button.colab-df-quickchart');\n",
              "  quickchartButtonEl.style.display =\n",
              "    google.colab.kernel.accessAllowed ? 'block' : 'none';\n",
              "}\n",
              "\n",
              "        displayQuickchartButton(document);\n",
              "      </script>\n",
              "      <style>\n",
              "    .colab-df-container {\n",
              "      display:flex;\n",
              "      flex-wrap:wrap;\n",
              "      gap: 12px;\n",
              "    }\n",
              "\n",
              "    .colab-df-convert {\n",
              "      background-color: #E8F0FE;\n",
              "      border: none;\n",
              "      border-radius: 50%;\n",
              "      cursor: pointer;\n",
              "      display: none;\n",
              "      fill: #1967D2;\n",
              "      height: 32px;\n",
              "      padding: 0 0 0 0;\n",
              "      width: 32px;\n",
              "    }\n",
              "\n",
              "    .colab-df-convert:hover {\n",
              "      background-color: #E2EBFA;\n",
              "      box-shadow: 0px 1px 2px rgba(60, 64, 67, 0.3), 0px 1px 3px 1px rgba(60, 64, 67, 0.15);\n",
              "      fill: #174EA6;\n",
              "    }\n",
              "\n",
              "    [theme=dark] .colab-df-convert {\n",
              "      background-color: #3B4455;\n",
              "      fill: #D2E3FC;\n",
              "    }\n",
              "\n",
              "    [theme=dark] .colab-df-convert:hover {\n",
              "      background-color: #434B5C;\n",
              "      box-shadow: 0px 1px 3px 1px rgba(0, 0, 0, 0.15);\n",
              "      filter: drop-shadow(0px 1px 2px rgba(0, 0, 0, 0.3));\n",
              "      fill: #FFFFFF;\n",
              "    }\n",
              "  </style>\n",
              "\n",
              "      <script>\n",
              "        const buttonEl =\n",
              "          document.querySelector('#df-713df619-4e0b-4afe-9f4b-ed22e763a195 button.colab-df-convert');\n",
              "        buttonEl.style.display =\n",
              "          google.colab.kernel.accessAllowed ? 'block' : 'none';\n",
              "\n",
              "        async function convertToInteractive(key) {\n",
              "          const element = document.querySelector('#df-713df619-4e0b-4afe-9f4b-ed22e763a195');\n",
              "          const dataTable =\n",
              "            await google.colab.kernel.invokeFunction('convertToInteractive',\n",
              "                                                     [key], {});\n",
              "          if (!dataTable) return;\n",
              "\n",
              "          const docLinkHtml = 'Like what you see? Visit the ' +\n",
              "            '<a target=\"_blank\" href=https://colab.research.google.com/notebooks/data_table.ipynb>data table notebook</a>'\n",
              "            + ' to learn more about interactive tables.';\n",
              "          element.innerHTML = '';\n",
              "          dataTable['output_type'] = 'display_data';\n",
              "          await google.colab.output.renderOutput(dataTable, element);\n",
              "          const docLink = document.createElement('div');\n",
              "          docLink.innerHTML = docLinkHtml;\n",
              "          element.appendChild(docLink);\n",
              "        }\n",
              "      </script>\n",
              "    </div>\n",
              "  </div>\n"
            ]
          },
          "metadata": {},
          "execution_count": 15
        }
      ],
      "source": [
        "#Nos quedamos con las columnas del usuario, tweets y target\n",
        "texts_classified = texts_classified[['id','content' ,'target']]\n",
        "texts_classified.head()"
      ]
    },
    {
      "cell_type": "code",
      "execution_count": null,
      "metadata": {
        "colab": {
          "base_uri": "https://localhost:8080/"
        },
        "id": "bbCB38NIo3Bu",
        "outputId": "a0b797aa-ee8d-47bf-df7b-24fb032114f3"
      },
      "outputs": [
        {
          "output_type": "execute_result",
          "data": {
            "text/plain": [
              "0    20455\n",
              "1     6654\n",
              "Name: target, dtype: int64"
            ]
          },
          "metadata": {},
          "execution_count": 16
        }
      ],
      "source": [
        "texts_classified['target'].value_counts()"
      ]
    },
    {
      "cell_type": "code",
      "execution_count": null,
      "metadata": {
        "colab": {
          "base_uri": "https://localhost:8080/",
          "height": 449
        },
        "id": "dR24I1j-pLDR",
        "outputId": "55566be9-0ed6-435f-c8b1-f0cb5dea2cd5"
      },
      "outputs": [
        {
          "output_type": "display_data",
          "data": {
            "text/plain": [
              "<Figure size 640x480 with 1 Axes>"
            ],
            "image/png": "[encoded data removed]"
          },
          "metadata": {}
        }
      ],
      "source": [
        "import seaborn as sns\n",
        "import matplotlib.pyplot as plt\n",
        "\n",
        "\n",
        "plt.figure()\n",
        "sns.countplot(x = \"target\", data = texts_classified)\n",
        "plt.show()"
      ]
    },
    {
      "cell_type": "markdown",
      "metadata": {
        "id": "vm4l5tOyQBW8"
      },
      "source": [
        "##Submuestreo"
      ]
    },
    {
      "cell_type": "code",
      "execution_count": null,
      "metadata": {
        "id": "qgF2nQ89Lukj"
      },
      "outputs": [],
      "source": [
        "positivos_target = texts_classified[texts_classified['target'] == 0].sample(6654)\n",
        "negativos_target = texts_classified[texts_classified['target'] == 1].sample(6654)\n"
      ]
    },
    {
      "cell_type": "code",
      "execution_count": null,
      "metadata": {
        "colab": {
          "base_uri": "https://localhost:8080/",
          "height": 424
        },
        "id": "2vFKrnH_QHVi",
        "outputId": "bb1feb67-432f-444c-d9b8-bd61a16f6438"
      },
      "outputs": [
        {
          "output_type": "execute_result",
          "data": {
            "text/plain": [
              "                        id                                            content  \\\n",
              "0      1620709814958702592  Would anyone have an idea of the times when Ch...   \n",
              "1      1630672036061143042  ADA News: AI #Altcoin Based on #Cardano (#ADA)...   \n",
              "2      1617213941708427264  Chat GPT told me the town/city most similar to...   \n",
              "3      1631464786532896770  Powerful 👍🏻 ChatGPT Video Generator 🎥See how y...   \n",
              "4      1617699997881110530  @ksorbs I agree. To end a human life, at any s...   \n",
              "...                    ...                                                ...   \n",
              "13303  1635941985184890884  Chat GPT n me … call it forbidden love 🥺 https...   \n",
              "13304  1626764547108511745  Using #ChatGPT jailbreaks=anarchist cookbook o...   \n",
              "13305  1639960812759531523  This #ChatGPT bollox reminds me to value Libra...   \n",
              "13306  1622120855617802241  @JagjotS40616574 #Ban_Chat_GPT\\n#Boycott_Chat_...   \n",
              "13307  1635400844467400705  I asked #chatgpt for scientific papers to anal...   \n",
              "\n",
              "       target  \n",
              "0           0  \n",
              "1           0  \n",
              "2           0  \n",
              "3           0  \n",
              "4           0  \n",
              "...       ...  \n",
              "13303       1  \n",
              "13304       1  \n",
              "13305       1  \n",
              "13306       1  \n",
              "13307       1  \n",
              "\n",
              "[13308 rows x 3 columns]"
            ],
            "text/html": [
              "\n",
              "\n",
              "  <div id=\"df-5a0466b8-8b93-4294-8751-453bfcc389a4\">\n",
              "    <div class=\"colab-df-container\">\n",
              "      <div>\n",
              "<style scoped>\n",
              "    .dataframe tbody tr th:only-of-type {\n",
              "        vertical-align: middle;\n",
              "    }\n",
              "\n",
              "    .dataframe tbody tr th {\n",
              "        vertical-align: top;\n",
              "    }\n",
              "\n",
              "    .dataframe thead th {\n",
              "        text-align: right;\n",
              "    }\n",
              "</style>\n",
              "<table border=\"1\" class=\"dataframe\">\n",
              "  <thead>\n",
              "    <tr style=\"text-align: right;\">\n",
              "      <th></th>\n",
              "      <th>id</th>\n",
              "      <th>content</th>\n",
              "      <th>target</th>\n",
              "    </tr>\n",
              "  </thead>\n",
              "  <tbody>\n",
              "    <tr>\n",
              "      <th>0</th>\n",
              "      <td>1620709814958702592</td>\n",
              "      <td>Would anyone have an idea of the times when Ch...</td>\n",
              "      <td>0</td>\n",
              "    </tr>\n",
              "    <tr>\n",
              "      <th>1</th>\n",
              "      <td>1630672036061143042</td>\n",
              "      <td>ADA News: AI #Altcoin Based on #Cardano (#ADA)...</td>\n",
              "      <td>0</td>\n",
              "    </tr>\n",
              "    <tr>\n",
              "      <th>2</th>\n",
              "      <td>1617213941708427264</td>\n",
              "      <td>Chat GPT told me the town/city most similar to...</td>\n",
              "      <td>0</td>\n",
              "    </tr>\n",
              "    <tr>\n",
              "      <th>3</th>\n",
              "      <td>1631464786532896770</td>\n",
              "      <td>Powerful 👍🏻 ChatGPT Video Generator 🎥See how y...</td>\n",
              "      <td>0</td>\n",
              "    </tr>\n",
              "    <tr>\n",
              "      <th>4</th>\n",
              "      <td>1617699997881110530</td>\n",
              "      <td>@ksorbs I agree. To end a human life, at any s...</td>\n",
              "      <td>0</td>\n",
              "    </tr>\n",
              "    <tr>\n",
              "      <th>...</th>\n",
              "      <td>...</td>\n",
              "      <td>...</td>\n",
              "      <td>...</td>\n",
              "    </tr>\n",
              "    <tr>\n",
              "      <th>13303</th>\n",
              "      <td>1635941985184890884</td>\n",
              "      <td>Chat GPT n me … call it forbidden love 🥺 https...</td>\n",
              "      <td>1</td>\n",
              "    </tr>\n",
              "    <tr>\n",
              "      <th>13304</th>\n",
              "      <td>1626764547108511745</td>\n",
              "      <td>Using #ChatGPT jailbreaks=anarchist cookbook o...</td>\n",
              "      <td>1</td>\n",
              "    </tr>\n",
              "    <tr>\n",
              "      <th>13305</th>\n",
              "      <td>1639960812759531523</td>\n",
              "      <td>This #ChatGPT bollox reminds me to value Libra...</td>\n",
              "      <td>1</td>\n",
              "    </tr>\n",
              "    <tr>\n",
              "      <th>13306</th>\n",
              "      <td>1622120855617802241</td>\n",
              "      <td>@JagjotS40616574 #Ban_Chat_GPT\\n#Boycott_Chat_...</td>\n",
              "      <td>1</td>\n",
              "    </tr>\n",
              "    <tr>\n",
              "      <th>13307</th>\n",
              "      <td>1635400844467400705</td>\n",
              "      <td>I asked #chatgpt for scientific papers to anal...</td>\n",
              "      <td>1</td>\n",
              "    </tr>\n",
              "  </tbody>\n",
              "</table>\n",
              "<p>13308 rows × 3 columns</p>\n",
              "</div>\n",
              "      <button class=\"colab-df-convert\" onclick=\"convertToInteractive('df-5a0466b8-8b93-4294-8751-453bfcc389a4')\"\n",
              "              title=\"Convert this dataframe to an interactive table.\"\n",
              "              style=\"display:none;\">\n",
              "\n",
              "  <svg xmlns=\"http://www.w3.org/2000/svg\" height=\"24px\"viewBox=\"0 0 24 24\"\n",
              "       width=\"24px\">\n",
              "    <path d=\"M0 0h24v24H0V0z\" fill=\"none\"/>\n",
              "    <path d=\"M18.56 5.44l.94 2.06.94-2.06 2.06-.94-2.06-.94-.94-2.06-.94 2.06-2.06.94zm-11 1L8.5 8.5l.94-2.06 2.06-.94-2.06-.94L8.5 2.5l-.94 2.06-2.06.94zm10 10l.94 2.06.94-2.06 2.06-.94-2.06-.94-.94-2.06-.94 2.06-2.06.94z\"/><path d=\"M17.41 7.96l-1.37-1.37c-.4-.4-.92-.59-1.43-.59-.52 0-1.04.2-1.43.59L10.3 9.45l-7.72 7.72c-.78.78-.78 2.05 0 2.83L4 21.41c.39.39.9.59 1.41.59.51 0 1.02-.2 1.41-.59l7.78-7.78 2.81-2.81c.8-.78.8-2.07 0-2.86zM5.41 20L4 18.59l7.72-7.72 1.47 1.35L5.41 20z\"/>\n",
              "  </svg>\n",
              "      </button>\n",
              "\n",
              "\n",
              "\n",
              "    <div id=\"df-0701eb2d-7dac-43d8-8c61-09b7857ae3ec\">\n",
              "      <button class=\"colab-df-quickchart\" onclick=\"quickchart('df-0701eb2d-7dac-43d8-8c61-09b7857ae3ec')\"\n",
              "              title=\"Suggest charts.\"\n",
              "              style=\"display:none;\">\n",
              "\n",
              "<svg xmlns=\"http://www.w3.org/2000/svg\" height=\"24px\"viewBox=\"0 0 24 24\"\n",
              "     width=\"24px\">\n",
              "    <g>\n",
              "        <path d=\"M19 3H5c-1.1 0-2 .9-2 2v14c0 1.1.9 2 2 2h14c1.1 0 2-.9 2-2V5c0-1.1-.9-2-2-2zM9 17H7v-7h2v7zm4 0h-2V7h2v10zm4 0h-2v-4h2v4z\"/>\n",
              "    </g>\n",
              "</svg>\n",
              "      </button>\n",
              "    </div>\n",
              "\n",
              "<style>\n",
              "  .colab-df-quickchart {\n",
              "    background-color: #E8F0FE;\n",
              "    border: none;\n",
              "    border-radius: 50%;\n",
              "    cursor: pointer;\n",
              "    display: none;\n",
              "    fill: #1967D2;\n",
              "    height: 32px;\n",
              "    padding: 0 0 0 0;\n",
              "    width: 32px;\n",
              "  }\n",
              "\n",
              "  .colab-df-quickchart:hover {\n",
              "    background-color: #E2EBFA;\n",
              "    box-shadow: 0px 1px 2px rgba(60, 64, 67, 0.3), 0px 1px 3px 1px rgba(60, 64, 67, 0.15);\n",
              "    fill: #174EA6;\n",
              "  }\n",
              "\n",
              "  [theme=dark] .colab-df-quickchart {\n",
              "    background-color: #3B4455;\n",
              "    fill: #D2E3FC;\n",
              "  }\n",
              "\n",
              "  [theme=dark] .colab-df-quickchart:hover {\n",
              "    background-color: #434B5C;\n",
              "    box-shadow: 0px 1px 3px 1px rgba(0, 0, 0, 0.15);\n",
              "    filter: drop-shadow(0px 1px 2px rgba(0, 0, 0, 0.3));\n",
              "    fill: #FFFFFF;\n",
              "  }\n",
              "</style>\n",
              "\n",
              "    <script>\n",
              "      async function quickchart(key) {\n",
              "        const containerElement = document.querySelector('#' + key);\n",
              "        const charts = await google.colab.kernel.invokeFunction(\n",
              "            'suggestCharts', [key], {});\n",
              "      }\n",
              "    </script>\n",
              "\n",
              "      <script>\n",
              "\n",
              "function displayQuickchartButton(domScope) {\n",
              "  let quickchartButtonEl =\n",
              "    domScope.querySelector('#df-0701eb2d-7dac-43d8-8c61-09b7857ae3ec button.colab-df-quickchart');\n",
              "  quickchartButtonEl.style.display =\n",
              "    google.colab.kernel.accessAllowed ? 'block' : 'none';\n",
              "}\n",
              "\n",
              "        displayQuickchartButton(document);\n",
              "      </script>\n",
              "      <style>\n",
              "    .colab-df-container {\n",
              "      display:flex;\n",
              "      flex-wrap:wrap;\n",
              "      gap: 12px;\n",
              "    }\n",
              "\n",
              "    .colab-df-convert {\n",
              "      background-color: #E8F0FE;\n",
              "      border: none;\n",
              "      border-radius: 50%;\n",
              "      cursor: pointer;\n",
              "      display: none;\n",
              "      fill: #1967D2;\n",
              "      height: 32px;\n",
              "      padding: 0 0 0 0;\n",
              "      width: 32px;\n",
              "    }\n",
              "\n",
              "    .colab-df-convert:hover {\n",
              "      background-color: #E2EBFA;\n",
              "      box-shadow: 0px 1px 2px rgba(60, 64, 67, 0.3), 0px 1px 3px 1px rgba(60, 64, 67, 0.15);\n",
              "      fill: #174EA6;\n",
              "    }\n",
              "\n",
              "    [theme=dark] .colab-df-convert {\n",
              "      background-color: #3B4455;\n",
              "      fill: #D2E3FC;\n",
              "    }\n",
              "\n",
              "    [theme=dark] .colab-df-convert:hover {\n",
              "      background-color: #434B5C;\n",
              "      box-shadow: 0px 1px 3px 1px rgba(0, 0, 0, 0.15);\n",
              "      filter: drop-shadow(0px 1px 2px rgba(0, 0, 0, 0.3));\n",
              "      fill: #FFFFFF;\n",
              "    }\n",
              "  </style>\n",
              "\n",
              "      <script>\n",
              "        const buttonEl =\n",
              "          document.querySelector('#df-5a0466b8-8b93-4294-8751-453bfcc389a4 button.colab-df-convert');\n",
              "        buttonEl.style.display =\n",
              "          google.colab.kernel.accessAllowed ? 'block' : 'none';\n",
              "\n",
              "        async function convertToInteractive(key) {\n",
              "          const element = document.querySelector('#df-5a0466b8-8b93-4294-8751-453bfcc389a4');\n",
              "          const dataTable =\n",
              "            await google.colab.kernel.invokeFunction('convertToInteractive',\n",
              "                                                     [key], {});\n",
              "          if (!dataTable) return;\n",
              "\n",
              "          const docLinkHtml = 'Like what you see? Visit the ' +\n",
              "            '<a target=\"_blank\" href=https://colab.research.google.com/notebooks/data_table.ipynb>data table notebook</a>'\n",
              "            + ' to learn more about interactive tables.';\n",
              "          element.innerHTML = '';\n",
              "          dataTable['output_type'] = 'display_data';\n",
              "          await google.colab.output.renderOutput(dataTable, element);\n",
              "          const docLink = document.createElement('div');\n",
              "          docLink.innerHTML = docLinkHtml;\n",
              "          element.appendChild(docLink);\n",
              "        }\n",
              "      </script>\n",
              "    </div>\n",
              "  </div>\n"
            ]
          },
          "metadata": {},
          "execution_count": 19
        }
      ],
      "source": [
        "datos_balanceados = pd.concat([positivos_target,negativos_target], ignore_index=True)\n",
        "datos_balanceados"
      ]
    },
    {
      "cell_type": "markdown",
      "metadata": {
        "id": "jeigxj3jGu4v"
      },
      "source": [
        "###Limpieza de texto\n",
        "\n",
        "---\n",
        "\n"
      ]
    },
    {
      "cell_type": "code",
      "execution_count": null,
      "metadata": {
        "id": "3r8JMlZycMau",
        "colab": {
          "base_uri": "https://localhost:8080/"
        },
        "outputId": "45f915dd-fed5-44a5-874b-c5190205a75a"
      },
      "outputs": [
        {
          "output_type": "stream",
          "name": "stderr",
          "text": [
            "[nltk_data] Downloading package stopwords to /root/nltk_data...\n",
            "[nltk_data]   Package stopwords is already up-to-date!\n",
            "[nltk_data] Downloading package punkt to /root/nltk_data...\n",
            "[nltk_data]   Package punkt is already up-to-date!\n",
            "[nltk_data] Downloading package wordnet to /root/nltk_data...\n",
            "[nltk_data]   Package wordnet is already up-to-date!\n",
            "[nltk_data] Downloading package omw-1.4 to /root/nltk_data...\n",
            "[nltk_data]   Package omw-1.4 is already up-to-date!\n"
          ]
        },
        {
          "output_type": "execute_result",
          "data": {
            "text/plain": [
              "True"
            ]
          },
          "metadata": {},
          "execution_count": 20
        }
      ],
      "source": [
        "#@title Bajamos los datos de nltk\n",
        "import nltk\n",
        "\n",
        "nltk.download('stopwords')\n",
        "nltk.download('punkt')\n",
        "nltk.download('wordnet')\n",
        "nltk.download('omw-1.4')"
      ]
    },
    {
      "cell_type": "code",
      "execution_count": null,
      "metadata": {
        "id": "9WLvARJoNrLl"
      },
      "outputs": [],
      "source": [
        "#@title Función para limpiar el texto\n",
        "import nltk\n",
        "from nltk.corpus import stopwords\n",
        "from nltk.tokenize import word_tokenize\n",
        "import re\n",
        "\n",
        "CLEANR = re.compile('<.*?>|&([a-z0-9]+|#[0-9]{1,6}|#x[0-9a-f]{1,6});')\n",
        "\n",
        "w_tokenizer = nltk.tokenize.WhitespaceTokenizer()\n",
        "lemmatizer = nltk.stem.WordNetLemmatizer()\n",
        "\n",
        "def preprocesar_textos(docs,ignore_list:list=[]):\n",
        "    strings_list = [re.sub(CLEANR, '', x.lower()) for x in docs]\n",
        "    strings_list = [re.sub(r'[^\\w\\s]', '', x.lower()) for x in docs]  # quita signos de puntuación\n",
        "    strings_list = [re.sub('[0-9]', '', x.lower()) for x in strings_list] # quita números\n",
        "    SW = stopwords.words('english')\n",
        "    for x in ignore_list: # quitamos stopwords\n",
        "        SW.remove(x)\n",
        "    tokens_no_sw = [lemmatizer.lemmatize(token) for token in strings_list ]\n",
        "    tokens_no_sw = [\" \".join([word for word in word_tokenize(text) if not word in SW]) for\n",
        "                         text in tokens_no_sw ]\n",
        "    return tokens_no_sw\n"
      ]
    },
    {
      "cell_type": "code",
      "execution_count": null,
      "metadata": {
        "id": "w7_1I84BNrLm"
      },
      "outputs": [],
      "source": [
        "datos_balanceados['clean']=preprocesar_textos(datos_balanceados['content'])\n"
      ]
    },
    {
      "cell_type": "code",
      "source": [
        "datos_balanceados"
      ],
      "metadata": {
        "colab": {
          "base_uri": "https://localhost:8080/",
          "height": 424
        },
        "id": "aCYc4A7MZRBc",
        "outputId": "187bf0fb-96d6-4385-f206-18a65beccdad"
      },
      "execution_count": null,
      "outputs": [
        {
          "output_type": "execute_result",
          "data": {
            "text/plain": [
              "                        id                                            content  \\\n",
              "0      1620709814958702592  Would anyone have an idea of the times when Ch...   \n",
              "1      1630672036061143042  ADA News: AI #Altcoin Based on #Cardano (#ADA)...   \n",
              "2      1617213941708427264  Chat GPT told me the town/city most similar to...   \n",
              "3      1631464786532896770  Powerful 👍🏻 ChatGPT Video Generator 🎥See how y...   \n",
              "4      1617699997881110530  @ksorbs I agree. To end a human life, at any s...   \n",
              "...                    ...                                                ...   \n",
              "13303  1635941985184890884  Chat GPT n me … call it forbidden love 🥺 https...   \n",
              "13304  1626764547108511745  Using #ChatGPT jailbreaks=anarchist cookbook o...   \n",
              "13305  1639960812759531523  This #ChatGPT bollox reminds me to value Libra...   \n",
              "13306  1622120855617802241  @JagjotS40616574 #Ban_Chat_GPT\\n#Boycott_Chat_...   \n",
              "13307  1635400844467400705  I asked #chatgpt for scientific papers to anal...   \n",
              "\n",
              "       target                                              clean  \n",
              "0           0  would anyone idea times chat gpt full capacity...  \n",
              "1           0  ada news ai altcoin based cardano ada rallies ...  \n",
              "2           0  chat gpt told towncity similar randolph brockt...  \n",
              "3           0  powerful chatgpt video generator see scale vid...  \n",
              "4           0  ksorbs agree end human life stage constitutes ...  \n",
              "...       ...                                                ...  \n",
              "13303       1   chat gpt n call forbidden love httpstcoydljquzxt  \n",
              "13304       1  using chatgpt jailbreaksanarchist cookbook ste...  \n",
              "13305       1  chatgpt bollox reminds value librarians librar...  \n",
              "13306       1  jagjots ban_chat_gpt boycott_chat_gpt pmoindia...  \n",
              "13307       1  asked chatgpt scientific papers analyze risk l...  \n",
              "\n",
              "[13308 rows x 4 columns]"
            ],
            "text/html": [
              "\n",
              "\n",
              "  <div id=\"df-b3150dd0-40a1-4957-98e0-456efe688840\">\n",
              "    <div class=\"colab-df-container\">\n",
              "      <div>\n",
              "<style scoped>\n",
              "    .dataframe tbody tr th:only-of-type {\n",
              "        vertical-align: middle;\n",
              "    }\n",
              "\n",
              "    .dataframe tbody tr th {\n",
              "        vertical-align: top;\n",
              "    }\n",
              "\n",
              "    .dataframe thead th {\n",
              "        text-align: right;\n",
              "    }\n",
              "</style>\n",
              "<table border=\"1\" class=\"dataframe\">\n",
              "  <thead>\n",
              "    <tr style=\"text-align: right;\">\n",
              "      <th></th>\n",
              "      <th>id</th>\n",
              "      <th>content</th>\n",
              "      <th>target</th>\n",
              "      <th>clean</th>\n",
              "    </tr>\n",
              "  </thead>\n",
              "  <tbody>\n",
              "    <tr>\n",
              "      <th>0</th>\n",
              "      <td>1620709814958702592</td>\n",
              "      <td>Would anyone have an idea of the times when Ch...</td>\n",
              "      <td>0</td>\n",
              "      <td>would anyone idea times chat gpt full capacity...</td>\n",
              "    </tr>\n",
              "    <tr>\n",
              "      <th>1</th>\n",
              "      <td>1630672036061143042</td>\n",
              "      <td>ADA News: AI #Altcoin Based on #Cardano (#ADA)...</td>\n",
              "      <td>0</td>\n",
              "      <td>ada news ai altcoin based cardano ada rallies ...</td>\n",
              "    </tr>\n",
              "    <tr>\n",
              "      <th>2</th>\n",
              "      <td>1617213941708427264</td>\n",
              "      <td>Chat GPT told me the town/city most similar to...</td>\n",
              "      <td>0</td>\n",
              "      <td>chat gpt told towncity similar randolph brockt...</td>\n",
              "    </tr>\n",
              "    <tr>\n",
              "      <th>3</th>\n",
              "      <td>1631464786532896770</td>\n",
              "      <td>Powerful 👍🏻 ChatGPT Video Generator 🎥See how y...</td>\n",
              "      <td>0</td>\n",
              "      <td>powerful chatgpt video generator see scale vid...</td>\n",
              "    </tr>\n",
              "    <tr>\n",
              "      <th>4</th>\n",
              "      <td>1617699997881110530</td>\n",
              "      <td>@ksorbs I agree. To end a human life, at any s...</td>\n",
              "      <td>0</td>\n",
              "      <td>ksorbs agree end human life stage constitutes ...</td>\n",
              "    </tr>\n",
              "    <tr>\n",
              "      <th>...</th>\n",
              "      <td>...</td>\n",
              "      <td>...</td>\n",
              "      <td>...</td>\n",
              "      <td>...</td>\n",
              "    </tr>\n",
              "    <tr>\n",
              "      <th>13303</th>\n",
              "      <td>1635941985184890884</td>\n",
              "      <td>Chat GPT n me … call it forbidden love 🥺 https...</td>\n",
              "      <td>1</td>\n",
              "      <td>chat gpt n call forbidden love httpstcoydljquzxt</td>\n",
              "    </tr>\n",
              "    <tr>\n",
              "      <th>13304</th>\n",
              "      <td>1626764547108511745</td>\n",
              "      <td>Using #ChatGPT jailbreaks=anarchist cookbook o...</td>\n",
              "      <td>1</td>\n",
              "      <td>using chatgpt jailbreaksanarchist cookbook ste...</td>\n",
              "    </tr>\n",
              "    <tr>\n",
              "      <th>13305</th>\n",
              "      <td>1639960812759531523</td>\n",
              "      <td>This #ChatGPT bollox reminds me to value Libra...</td>\n",
              "      <td>1</td>\n",
              "      <td>chatgpt bollox reminds value librarians librar...</td>\n",
              "    </tr>\n",
              "    <tr>\n",
              "      <th>13306</th>\n",
              "      <td>1622120855617802241</td>\n",
              "      <td>@JagjotS40616574 #Ban_Chat_GPT\\n#Boycott_Chat_...</td>\n",
              "      <td>1</td>\n",
              "      <td>jagjots ban_chat_gpt boycott_chat_gpt pmoindia...</td>\n",
              "    </tr>\n",
              "    <tr>\n",
              "      <th>13307</th>\n",
              "      <td>1635400844467400705</td>\n",
              "      <td>I asked #chatgpt for scientific papers to anal...</td>\n",
              "      <td>1</td>\n",
              "      <td>asked chatgpt scientific papers analyze risk l...</td>\n",
              "    </tr>\n",
              "  </tbody>\n",
              "</table>\n",
              "<p>13308 rows × 4 columns</p>\n",
              "</div>\n",
              "      <button class=\"colab-df-convert\" onclick=\"convertToInteractive('df-b3150dd0-40a1-4957-98e0-456efe688840')\"\n",
              "              title=\"Convert this dataframe to an interactive table.\"\n",
              "              style=\"display:none;\">\n",
              "\n",
              "  <svg xmlns=\"http://www.w3.org/2000/svg\" height=\"24px\"viewBox=\"0 0 24 24\"\n",
              "       width=\"24px\">\n",
              "    <path d=\"M0 0h24v24H0V0z\" fill=\"none\"/>\n",
              "    <path d=\"M18.56 5.44l.94 2.06.94-2.06 2.06-.94-2.06-.94-.94-2.06-.94 2.06-2.06.94zm-11 1L8.5 8.5l.94-2.06 2.06-.94-2.06-.94L8.5 2.5l-.94 2.06-2.06.94zm10 10l.94 2.06.94-2.06 2.06-.94-2.06-.94-.94-2.06-.94 2.06-2.06.94z\"/><path d=\"M17.41 7.96l-1.37-1.37c-.4-.4-.92-.59-1.43-.59-.52 0-1.04.2-1.43.59L10.3 9.45l-7.72 7.72c-.78.78-.78 2.05 0 2.83L4 21.41c.39.39.9.59 1.41.59.51 0 1.02-.2 1.41-.59l7.78-7.78 2.81-2.81c.8-.78.8-2.07 0-2.86zM5.41 20L4 18.59l7.72-7.72 1.47 1.35L5.41 20z\"/>\n",
              "  </svg>\n",
              "      </button>\n",
              "\n",
              "\n",
              "\n",
              "    <div id=\"df-f7aff374-793d-43a8-9dd8-c7551401506f\">\n",
              "      <button class=\"colab-df-quickchart\" onclick=\"quickchart('df-f7aff374-793d-43a8-9dd8-c7551401506f')\"\n",
              "              title=\"Suggest charts.\"\n",
              "              style=\"display:none;\">\n",
              "\n",
              "<svg xmlns=\"http://www.w3.org/2000/svg\" height=\"24px\"viewBox=\"0 0 24 24\"\n",
              "     width=\"24px\">\n",
              "    <g>\n",
              "        <path d=\"M19 3H5c-1.1 0-2 .9-2 2v14c0 1.1.9 2 2 2h14c1.1 0 2-.9 2-2V5c0-1.1-.9-2-2-2zM9 17H7v-7h2v7zm4 0h-2V7h2v10zm4 0h-2v-4h2v4z\"/>\n",
              "    </g>\n",
              "</svg>\n",
              "      </button>\n",
              "    </div>\n",
              "\n",
              "<style>\n",
              "  .colab-df-quickchart {\n",
              "    background-color: #E8F0FE;\n",
              "    border: none;\n",
              "    border-radius: 50%;\n",
              "    cursor: pointer;\n",
              "    display: none;\n",
              "    fill: #1967D2;\n",
              "    height: 32px;\n",
              "    padding: 0 0 0 0;\n",
              "    width: 32px;\n",
              "  }\n",
              "\n",
              "  .colab-df-quickchart:hover {\n",
              "    background-color: #E2EBFA;\n",
              "    box-shadow: 0px 1px 2px rgba(60, 64, 67, 0.3), 0px 1px 3px 1px rgba(60, 64, 67, 0.15);\n",
              "    fill: #174EA6;\n",
              "  }\n",
              "\n",
              "  [theme=dark] .colab-df-quickchart {\n",
              "    background-color: #3B4455;\n",
              "    fill: #D2E3FC;\n",
              "  }\n",
              "\n",
              "  [theme=dark] .colab-df-quickchart:hover {\n",
              "    background-color: #434B5C;\n",
              "    box-shadow: 0px 1px 3px 1px rgba(0, 0, 0, 0.15);\n",
              "    filter: drop-shadow(0px 1px 2px rgba(0, 0, 0, 0.3));\n",
              "    fill: #FFFFFF;\n",
              "  }\n",
              "</style>\n",
              "\n",
              "    <script>\n",
              "      async function quickchart(key) {\n",
              "        const containerElement = document.querySelector('#' + key);\n",
              "        const charts = await google.colab.kernel.invokeFunction(\n",
              "            'suggestCharts', [key], {});\n",
              "      }\n",
              "    </script>\n",
              "\n",
              "      <script>\n",
              "\n",
              "function displayQuickchartButton(domScope) {\n",
              "  let quickchartButtonEl =\n",
              "    domScope.querySelector('#df-f7aff374-793d-43a8-9dd8-c7551401506f button.colab-df-quickchart');\n",
              "  quickchartButtonEl.style.display =\n",
              "    google.colab.kernel.accessAllowed ? 'block' : 'none';\n",
              "}\n",
              "\n",
              "        displayQuickchartButton(document);\n",
              "      </script>\n",
              "      <style>\n",
              "    .colab-df-container {\n",
              "      display:flex;\n",
              "      flex-wrap:wrap;\n",
              "      gap: 12px;\n",
              "    }\n",
              "\n",
              "    .colab-df-convert {\n",
              "      background-color: #E8F0FE;\n",
              "      border: none;\n",
              "      border-radius: 50%;\n",
              "      cursor: pointer;\n",
              "      display: none;\n",
              "      fill: #1967D2;\n",
              "      height: 32px;\n",
              "      padding: 0 0 0 0;\n",
              "      width: 32px;\n",
              "    }\n",
              "\n",
              "    .colab-df-convert:hover {\n",
              "      background-color: #E2EBFA;\n",
              "      box-shadow: 0px 1px 2px rgba(60, 64, 67, 0.3), 0px 1px 3px 1px rgba(60, 64, 67, 0.15);\n",
              "      fill: #174EA6;\n",
              "    }\n",
              "\n",
              "    [theme=dark] .colab-df-convert {\n",
              "      background-color: #3B4455;\n",
              "      fill: #D2E3FC;\n",
              "    }\n",
              "\n",
              "    [theme=dark] .colab-df-convert:hover {\n",
              "      background-color: #434B5C;\n",
              "      box-shadow: 0px 1px 3px 1px rgba(0, 0, 0, 0.15);\n",
              "      filter: drop-shadow(0px 1px 2px rgba(0, 0, 0, 0.3));\n",
              "      fill: #FFFFFF;\n",
              "    }\n",
              "  </style>\n",
              "\n",
              "      <script>\n",
              "        const buttonEl =\n",
              "          document.querySelector('#df-b3150dd0-40a1-4957-98e0-456efe688840 button.colab-df-convert');\n",
              "        buttonEl.style.display =\n",
              "          google.colab.kernel.accessAllowed ? 'block' : 'none';\n",
              "\n",
              "        async function convertToInteractive(key) {\n",
              "          const element = document.querySelector('#df-b3150dd0-40a1-4957-98e0-456efe688840');\n",
              "          const dataTable =\n",
              "            await google.colab.kernel.invokeFunction('convertToInteractive',\n",
              "                                                     [key], {});\n",
              "          if (!dataTable) return;\n",
              "\n",
              "          const docLinkHtml = 'Like what you see? Visit the ' +\n",
              "            '<a target=\"_blank\" href=https://colab.research.google.com/notebooks/data_table.ipynb>data table notebook</a>'\n",
              "            + ' to learn more about interactive tables.';\n",
              "          element.innerHTML = '';\n",
              "          dataTable['output_type'] = 'display_data';\n",
              "          await google.colab.output.renderOutput(dataTable, element);\n",
              "          const docLink = document.createElement('div');\n",
              "          docLink.innerHTML = docLinkHtml;\n",
              "          element.appendChild(docLink);\n",
              "        }\n",
              "      </script>\n",
              "    </div>\n",
              "  </div>\n"
            ]
          },
          "metadata": {},
          "execution_count": 23
        }
      ]
    },
    {
      "cell_type": "code",
      "execution_count": null,
      "metadata": {
        "id": "SJP9KqQRMhIA"
      },
      "outputs": [],
      "source": [
        "def  clean_text(df, text_field):\n",
        "    df[text_field] = df[text_field].str.lower()\n",
        "    df[text_field] = df[text_field].apply(lambda elem: re.sub(r\"(@[A-Za-z0-9]+)|([^0-9A-Za-z \\t])|(\\w+:\\/\\/\\S+)|^rt|http.+?\", \"\", elem))\n",
        "\n",
        "    return df"
      ]
    },
    {
      "cell_type": "code",
      "execution_count": null,
      "metadata": {
        "colab": {
          "base_uri": "https://localhost:8080/",
          "height": 206
        },
        "id": "l47b-MpGMpEZ",
        "outputId": "6ddb114c-9f1a-417a-abcf-a3790137147f"
      },
      "outputs": [
        {
          "output_type": "execute_result",
          "data": {
            "text/plain": [
              "                    id                                            content  \\\n",
              "0  1620709814958702592  Would anyone have an idea of the times when Ch...   \n",
              "1  1630672036061143042  ADA News: AI #Altcoin Based on #Cardano (#ADA)...   \n",
              "2  1617213941708427264  Chat GPT told me the town/city most similar to...   \n",
              "3  1631464786532896770  Powerful 👍🏻 ChatGPT Video Generator 🎥See how y...   \n",
              "4  1617699997881110530  @ksorbs I agree. To end a human life, at any s...   \n",
              "\n",
              "   target                                              clean  \n",
              "0       0  would anyone idea times chat gpt full capacity...  \n",
              "1       0  ada news ai altcoin based cardano ada rallies ...  \n",
              "2       0  chat gpt told towncity similar randolph brockt...  \n",
              "3       0  powerful chatgpt video generator see scale vid...  \n",
              "4       0  ksorbs agree end human life stage constitutes ...  "
            ],
            "text/html": [
              "\n",
              "\n",
              "  <div id=\"df-6f9638d2-ea20-4ed5-ad77-a67ff2b2d4e6\">\n",
              "    <div class=\"colab-df-container\">\n",
              "      <div>\n",
              "<style scoped>\n",
              "    .dataframe tbody tr th:only-of-type {\n",
              "        vertical-align: middle;\n",
              "    }\n",
              "\n",
              "    .dataframe tbody tr th {\n",
              "        vertical-align: top;\n",
              "    }\n",
              "\n",
              "    .dataframe thead th {\n",
              "        text-align: right;\n",
              "    }\n",
              "</style>\n",
              "<table border=\"1\" class=\"dataframe\">\n",
              "  <thead>\n",
              "    <tr style=\"text-align: right;\">\n",
              "      <th></th>\n",
              "      <th>id</th>\n",
              "      <th>content</th>\n",
              "      <th>target</th>\n",
              "      <th>clean</th>\n",
              "    </tr>\n",
              "  </thead>\n",
              "  <tbody>\n",
              "    <tr>\n",
              "      <th>0</th>\n",
              "      <td>1620709814958702592</td>\n",
              "      <td>Would anyone have an idea of the times when Ch...</td>\n",
              "      <td>0</td>\n",
              "      <td>would anyone idea times chat gpt full capacity...</td>\n",
              "    </tr>\n",
              "    <tr>\n",
              "      <th>1</th>\n",
              "      <td>1630672036061143042</td>\n",
              "      <td>ADA News: AI #Altcoin Based on #Cardano (#ADA)...</td>\n",
              "      <td>0</td>\n",
              "      <td>ada news ai altcoin based cardano ada rallies ...</td>\n",
              "    </tr>\n",
              "    <tr>\n",
              "      <th>2</th>\n",
              "      <td>1617213941708427264</td>\n",
              "      <td>Chat GPT told me the town/city most similar to...</td>\n",
              "      <td>0</td>\n",
              "      <td>chat gpt told towncity similar randolph brockt...</td>\n",
              "    </tr>\n",
              "    <tr>\n",
              "      <th>3</th>\n",
              "      <td>1631464786532896770</td>\n",
              "      <td>Powerful 👍🏻 ChatGPT Video Generator 🎥See how y...</td>\n",
              "      <td>0</td>\n",
              "      <td>powerful chatgpt video generator see scale vid...</td>\n",
              "    </tr>\n",
              "    <tr>\n",
              "      <th>4</th>\n",
              "      <td>1617699997881110530</td>\n",
              "      <td>@ksorbs I agree. To end a human life, at any s...</td>\n",
              "      <td>0</td>\n",
              "      <td>ksorbs agree end human life stage constitutes ...</td>\n",
              "    </tr>\n",
              "  </tbody>\n",
              "</table>\n",
              "</div>\n",
              "      <button class=\"colab-df-convert\" onclick=\"convertToInteractive('df-6f9638d2-ea20-4ed5-ad77-a67ff2b2d4e6')\"\n",
              "              title=\"Convert this dataframe to an interactive table.\"\n",
              "              style=\"display:none;\">\n",
              "\n",
              "  <svg xmlns=\"http://www.w3.org/2000/svg\" height=\"24px\"viewBox=\"0 0 24 24\"\n",
              "       width=\"24px\">\n",
              "    <path d=\"M0 0h24v24H0V0z\" fill=\"none\"/>\n",
              "    <path d=\"M18.56 5.44l.94 2.06.94-2.06 2.06-.94-2.06-.94-.94-2.06-.94 2.06-2.06.94zm-11 1L8.5 8.5l.94-2.06 2.06-.94-2.06-.94L8.5 2.5l-.94 2.06-2.06.94zm10 10l.94 2.06.94-2.06 2.06-.94-2.06-.94-.94-2.06-.94 2.06-2.06.94z\"/><path d=\"M17.41 7.96l-1.37-1.37c-.4-.4-.92-.59-1.43-.59-.52 0-1.04.2-1.43.59L10.3 9.45l-7.72 7.72c-.78.78-.78 2.05 0 2.83L4 21.41c.39.39.9.59 1.41.59.51 0 1.02-.2 1.41-.59l7.78-7.78 2.81-2.81c.8-.78.8-2.07 0-2.86zM5.41 20L4 18.59l7.72-7.72 1.47 1.35L5.41 20z\"/>\n",
              "  </svg>\n",
              "      </button>\n",
              "\n",
              "\n",
              "\n",
              "    <div id=\"df-bc178268-435c-46cb-9191-4ee6a8326766\">\n",
              "      <button class=\"colab-df-quickchart\" onclick=\"quickchart('df-bc178268-435c-46cb-9191-4ee6a8326766')\"\n",
              "              title=\"Suggest charts.\"\n",
              "              style=\"display:none;\">\n",
              "\n",
              "<svg xmlns=\"http://www.w3.org/2000/svg\" height=\"24px\"viewBox=\"0 0 24 24\"\n",
              "     width=\"24px\">\n",
              "    <g>\n",
              "        <path d=\"M19 3H5c-1.1 0-2 .9-2 2v14c0 1.1.9 2 2 2h14c1.1 0 2-.9 2-2V5c0-1.1-.9-2-2-2zM9 17H7v-7h2v7zm4 0h-2V7h2v10zm4 0h-2v-4h2v4z\"/>\n",
              "    </g>\n",
              "</svg>\n",
              "      </button>\n",
              "    </div>\n",
              "\n",
              "<style>\n",
              "  .colab-df-quickchart {\n",
              "    background-color: #E8F0FE;\n",
              "    border: none;\n",
              "    border-radius: 50%;\n",
              "    cursor: pointer;\n",
              "    display: none;\n",
              "    fill: #1967D2;\n",
              "    height: 32px;\n",
              "    padding: 0 0 0 0;\n",
              "    width: 32px;\n",
              "  }\n",
              "\n",
              "  .colab-df-quickchart:hover {\n",
              "    background-color: #E2EBFA;\n",
              "    box-shadow: 0px 1px 2px rgba(60, 64, 67, 0.3), 0px 1px 3px 1px rgba(60, 64, 67, 0.15);\n",
              "    fill: #174EA6;\n",
              "  }\n",
              "\n",
              "  [theme=dark] .colab-df-quickchart {\n",
              "    background-color: #3B4455;\n",
              "    fill: #D2E3FC;\n",
              "  }\n",
              "\n",
              "  [theme=dark] .colab-df-quickchart:hover {\n",
              "    background-color: #434B5C;\n",
              "    box-shadow: 0px 1px 3px 1px rgba(0, 0, 0, 0.15);\n",
              "    filter: drop-shadow(0px 1px 2px rgba(0, 0, 0, 0.3));\n",
              "    fill: #FFFFFF;\n",
              "  }\n",
              "</style>\n",
              "\n",
              "    <script>\n",
              "      async function quickchart(key) {\n",
              "        const containerElement = document.querySelector('#' + key);\n",
              "        const charts = await google.colab.kernel.invokeFunction(\n",
              "            'suggestCharts', [key], {});\n",
              "      }\n",
              "    </script>\n",
              "\n",
              "      <script>\n",
              "\n",
              "function displayQuickchartButton(domScope) {\n",
              "  let quickchartButtonEl =\n",
              "    domScope.querySelector('#df-bc178268-435c-46cb-9191-4ee6a8326766 button.colab-df-quickchart');\n",
              "  quickchartButtonEl.style.display =\n",
              "    google.colab.kernel.accessAllowed ? 'block' : 'none';\n",
              "}\n",
              "\n",
              "        displayQuickchartButton(document);\n",
              "      </script>\n",
              "      <style>\n",
              "    .colab-df-container {\n",
              "      display:flex;\n",
              "      flex-wrap:wrap;\n",
              "      gap: 12px;\n",
              "    }\n",
              "\n",
              "    .colab-df-convert {\n",
              "      background-color: #E8F0FE;\n",
              "      border: none;\n",
              "      border-radius: 50%;\n",
              "      cursor: pointer;\n",
              "      display: none;\n",
              "      fill: #1967D2;\n",
              "      height: 32px;\n",
              "      padding: 0 0 0 0;\n",
              "      width: 32px;\n",
              "    }\n",
              "\n",
              "    .colab-df-convert:hover {\n",
              "      background-color: #E2EBFA;\n",
              "      box-shadow: 0px 1px 2px rgba(60, 64, 67, 0.3), 0px 1px 3px 1px rgba(60, 64, 67, 0.15);\n",
              "      fill: #174EA6;\n",
              "    }\n",
              "\n",
              "    [theme=dark] .colab-df-convert {\n",
              "      background-color: #3B4455;\n",
              "      fill: #D2E3FC;\n",
              "    }\n",
              "\n",
              "    [theme=dark] .colab-df-convert:hover {\n",
              "      background-color: #434B5C;\n",
              "      box-shadow: 0px 1px 3px 1px rgba(0, 0, 0, 0.15);\n",
              "      filter: drop-shadow(0px 1px 2px rgba(0, 0, 0, 0.3));\n",
              "      fill: #FFFFFF;\n",
              "    }\n",
              "  </style>\n",
              "\n",
              "      <script>\n",
              "        const buttonEl =\n",
              "          document.querySelector('#df-6f9638d2-ea20-4ed5-ad77-a67ff2b2d4e6 button.colab-df-convert');\n",
              "        buttonEl.style.display =\n",
              "          google.colab.kernel.accessAllowed ? 'block' : 'none';\n",
              "\n",
              "        async function convertToInteractive(key) {\n",
              "          const element = document.querySelector('#df-6f9638d2-ea20-4ed5-ad77-a67ff2b2d4e6');\n",
              "          const dataTable =\n",
              "            await google.colab.kernel.invokeFunction('convertToInteractive',\n",
              "                                                     [key], {});\n",
              "          if (!dataTable) return;\n",
              "\n",
              "          const docLinkHtml = 'Like what you see? Visit the ' +\n",
              "            '<a target=\"_blank\" href=https://colab.research.google.com/notebooks/data_table.ipynb>data table notebook</a>'\n",
              "            + ' to learn more about interactive tables.';\n",
              "          element.innerHTML = '';\n",
              "          dataTable['output_type'] = 'display_data';\n",
              "          await google.colab.output.renderOutput(dataTable, element);\n",
              "          const docLink = document.createElement('div');\n",
              "          docLink.innerHTML = docLinkHtml;\n",
              "          element.appendChild(docLink);\n",
              "        }\n",
              "      </script>\n",
              "    </div>\n",
              "  </div>\n"
            ]
          },
          "metadata": {},
          "execution_count": 25
        }
      ],
      "source": [
        "clean_text(datos_balanceados, 'clean')\n",
        "datos_balanceados.head()"
      ]
    },
    {
      "cell_type": "markdown",
      "metadata": {
        "id": "wjNOGBoWNrLn"
      },
      "source": [
        "Guardemos el modelo para no volver a limpiarlo"
      ]
    },
    {
      "cell_type": "code",
      "execution_count": null,
      "metadata": {
        "id": "Q3jP2Y8Iqs9A"
      },
      "outputs": [],
      "source": [
        "datos_balanceados.to_pickle('twitter-procesado.pickle')"
      ]
    },
    {
      "cell_type": "code",
      "execution_count": null,
      "metadata": {
        "id": "3rQ859WYq1iP",
        "colab": {
          "base_uri": "https://localhost:8080/",
          "height": 424
        },
        "outputId": "c9ef45a1-6e4a-4a30-cf13-66e35e931903"
      },
      "outputs": [
        {
          "output_type": "execute_result",
          "data": {
            "text/plain": [
              "                        id                                            content  \\\n",
              "0      1620709814958702592  Would anyone have an idea of the times when Ch...   \n",
              "1      1630672036061143042  ADA News: AI #Altcoin Based on #Cardano (#ADA)...   \n",
              "2      1617213941708427264  Chat GPT told me the town/city most similar to...   \n",
              "3      1631464786532896770  Powerful 👍🏻 ChatGPT Video Generator 🎥See how y...   \n",
              "4      1617699997881110530  @ksorbs I agree. To end a human life, at any s...   \n",
              "...                    ...                                                ...   \n",
              "13303  1635941985184890884  Chat GPT n me … call it forbidden love 🥺 https...   \n",
              "13304  1626764547108511745  Using #ChatGPT jailbreaks=anarchist cookbook o...   \n",
              "13305  1639960812759531523  This #ChatGPT bollox reminds me to value Libra...   \n",
              "13306  1622120855617802241  @JagjotS40616574 #Ban_Chat_GPT\\n#Boycott_Chat_...   \n",
              "13307  1635400844467400705  I asked #chatgpt for scientific papers to anal...   \n",
              "\n",
              "       target                                              clean  \n",
              "0           0  would anyone idea times chat gpt full capacity...  \n",
              "1           0  ada news ai altcoin based cardano ada rallies ...  \n",
              "2           0  chat gpt told towncity similar randolph brockt...  \n",
              "3           0  powerful chatgpt video generator see scale vid...  \n",
              "4           0  ksorbs agree end human life stage constitutes ...  \n",
              "...       ...                                                ...  \n",
              "13303       1        chat gpt n call forbidden love tcoydljquzxt  \n",
              "13304       1  using chatgpt jailbreaksanarchist cookbook ste...  \n",
              "13305       1  chatgpt bollox reminds value librarians librar...  \n",
              "13306       1  jagjots banchatgpt boycottchatgpt pmoindia ami...  \n",
              "13307       1  asked chatgpt scientific papers analyze risk l...  \n",
              "\n",
              "[13308 rows x 4 columns]"
            ],
            "text/html": [
              "\n",
              "\n",
              "  <div id=\"df-48899198-dd3e-4e2b-93b9-567fde6ce798\">\n",
              "    <div class=\"colab-df-container\">\n",
              "      <div>\n",
              "<style scoped>\n",
              "    .dataframe tbody tr th:only-of-type {\n",
              "        vertical-align: middle;\n",
              "    }\n",
              "\n",
              "    .dataframe tbody tr th {\n",
              "        vertical-align: top;\n",
              "    }\n",
              "\n",
              "    .dataframe thead th {\n",
              "        text-align: right;\n",
              "    }\n",
              "</style>\n",
              "<table border=\"1\" class=\"dataframe\">\n",
              "  <thead>\n",
              "    <tr style=\"text-align: right;\">\n",
              "      <th></th>\n",
              "      <th>id</th>\n",
              "      <th>content</th>\n",
              "      <th>target</th>\n",
              "      <th>clean</th>\n",
              "    </tr>\n",
              "  </thead>\n",
              "  <tbody>\n",
              "    <tr>\n",
              "      <th>0</th>\n",
              "      <td>1620709814958702592</td>\n",
              "      <td>Would anyone have an idea of the times when Ch...</td>\n",
              "      <td>0</td>\n",
              "      <td>would anyone idea times chat gpt full capacity...</td>\n",
              "    </tr>\n",
              "    <tr>\n",
              "      <th>1</th>\n",
              "      <td>1630672036061143042</td>\n",
              "      <td>ADA News: AI #Altcoin Based on #Cardano (#ADA)...</td>\n",
              "      <td>0</td>\n",
              "      <td>ada news ai altcoin based cardano ada rallies ...</td>\n",
              "    </tr>\n",
              "    <tr>\n",
              "      <th>2</th>\n",
              "      <td>1617213941708427264</td>\n",
              "      <td>Chat GPT told me the town/city most similar to...</td>\n",
              "      <td>0</td>\n",
              "      <td>chat gpt told towncity similar randolph brockt...</td>\n",
              "    </tr>\n",
              "    <tr>\n",
              "      <th>3</th>\n",
              "      <td>1631464786532896770</td>\n",
              "      <td>Powerful 👍🏻 ChatGPT Video Generator 🎥See how y...</td>\n",
              "      <td>0</td>\n",
              "      <td>powerful chatgpt video generator see scale vid...</td>\n",
              "    </tr>\n",
              "    <tr>\n",
              "      <th>4</th>\n",
              "      <td>1617699997881110530</td>\n",
              "      <td>@ksorbs I agree. To end a human life, at any s...</td>\n",
              "      <td>0</td>\n",
              "      <td>ksorbs agree end human life stage constitutes ...</td>\n",
              "    </tr>\n",
              "    <tr>\n",
              "      <th>...</th>\n",
              "      <td>...</td>\n",
              "      <td>...</td>\n",
              "      <td>...</td>\n",
              "      <td>...</td>\n",
              "    </tr>\n",
              "    <tr>\n",
              "      <th>13303</th>\n",
              "      <td>1635941985184890884</td>\n",
              "      <td>Chat GPT n me … call it forbidden love 🥺 https...</td>\n",
              "      <td>1</td>\n",
              "      <td>chat gpt n call forbidden love tcoydljquzxt</td>\n",
              "    </tr>\n",
              "    <tr>\n",
              "      <th>13304</th>\n",
              "      <td>1626764547108511745</td>\n",
              "      <td>Using #ChatGPT jailbreaks=anarchist cookbook o...</td>\n",
              "      <td>1</td>\n",
              "      <td>using chatgpt jailbreaksanarchist cookbook ste...</td>\n",
              "    </tr>\n",
              "    <tr>\n",
              "      <th>13305</th>\n",
              "      <td>1639960812759531523</td>\n",
              "      <td>This #ChatGPT bollox reminds me to value Libra...</td>\n",
              "      <td>1</td>\n",
              "      <td>chatgpt bollox reminds value librarians librar...</td>\n",
              "    </tr>\n",
              "    <tr>\n",
              "      <th>13306</th>\n",
              "      <td>1622120855617802241</td>\n",
              "      <td>@JagjotS40616574 #Ban_Chat_GPT\\n#Boycott_Chat_...</td>\n",
              "      <td>1</td>\n",
              "      <td>jagjots banchatgpt boycottchatgpt pmoindia ami...</td>\n",
              "    </tr>\n",
              "    <tr>\n",
              "      <th>13307</th>\n",
              "      <td>1635400844467400705</td>\n",
              "      <td>I asked #chatgpt for scientific papers to anal...</td>\n",
              "      <td>1</td>\n",
              "      <td>asked chatgpt scientific papers analyze risk l...</td>\n",
              "    </tr>\n",
              "  </tbody>\n",
              "</table>\n",
              "<p>13308 rows × 4 columns</p>\n",
              "</div>\n",
              "      <button class=\"colab-df-convert\" onclick=\"convertToInteractive('df-48899198-dd3e-4e2b-93b9-567fde6ce798')\"\n",
              "              title=\"Convert this dataframe to an interactive table.\"\n",
              "              style=\"display:none;\">\n",
              "\n",
              "  <svg xmlns=\"http://www.w3.org/2000/svg\" height=\"24px\"viewBox=\"0 0 24 24\"\n",
              "       width=\"24px\">\n",
              "    <path d=\"M0 0h24v24H0V0z\" fill=\"none\"/>\n",
              "    <path d=\"M18.56 5.44l.94 2.06.94-2.06 2.06-.94-2.06-.94-.94-2.06-.94 2.06-2.06.94zm-11 1L8.5 8.5l.94-2.06 2.06-.94-2.06-.94L8.5 2.5l-.94 2.06-2.06.94zm10 10l.94 2.06.94-2.06 2.06-.94-2.06-.94-.94-2.06-.94 2.06-2.06.94z\"/><path d=\"M17.41 7.96l-1.37-1.37c-.4-.4-.92-.59-1.43-.59-.52 0-1.04.2-1.43.59L10.3 9.45l-7.72 7.72c-.78.78-.78 2.05 0 2.83L4 21.41c.39.39.9.59 1.41.59.51 0 1.02-.2 1.41-.59l7.78-7.78 2.81-2.81c.8-.78.8-2.07 0-2.86zM5.41 20L4 18.59l7.72-7.72 1.47 1.35L5.41 20z\"/>\n",
              "  </svg>\n",
              "      </button>\n",
              "\n",
              "\n",
              "\n",
              "    <div id=\"df-8e4008f3-7cbe-4dc6-b407-eb1a408d3196\">\n",
              "      <button class=\"colab-df-quickchart\" onclick=\"quickchart('df-8e4008f3-7cbe-4dc6-b407-eb1a408d3196')\"\n",
              "              title=\"Suggest charts.\"\n",
              "              style=\"display:none;\">\n",
              "\n",
              "<svg xmlns=\"http://www.w3.org/2000/svg\" height=\"24px\"viewBox=\"0 0 24 24\"\n",
              "     width=\"24px\">\n",
              "    <g>\n",
              "        <path d=\"M19 3H5c-1.1 0-2 .9-2 2v14c0 1.1.9 2 2 2h14c1.1 0 2-.9 2-2V5c0-1.1-.9-2-2-2zM9 17H7v-7h2v7zm4 0h-2V7h2v10zm4 0h-2v-4h2v4z\"/>\n",
              "    </g>\n",
              "</svg>\n",
              "      </button>\n",
              "    </div>\n",
              "\n",
              "<style>\n",
              "  .colab-df-quickchart {\n",
              "    background-color: #E8F0FE;\n",
              "    border: none;\n",
              "    border-radius: 50%;\n",
              "    cursor: pointer;\n",
              "    display: none;\n",
              "    fill: #1967D2;\n",
              "    height: 32px;\n",
              "    padding: 0 0 0 0;\n",
              "    width: 32px;\n",
              "  }\n",
              "\n",
              "  .colab-df-quickchart:hover {\n",
              "    background-color: #E2EBFA;\n",
              "    box-shadow: 0px 1px 2px rgba(60, 64, 67, 0.3), 0px 1px 3px 1px rgba(60, 64, 67, 0.15);\n",
              "    fill: #174EA6;\n",
              "  }\n",
              "\n",
              "  [theme=dark] .colab-df-quickchart {\n",
              "    background-color: #3B4455;\n",
              "    fill: #D2E3FC;\n",
              "  }\n",
              "\n",
              "  [theme=dark] .colab-df-quickchart:hover {\n",
              "    background-color: #434B5C;\n",
              "    box-shadow: 0px 1px 3px 1px rgba(0, 0, 0, 0.15);\n",
              "    filter: drop-shadow(0px 1px 2px rgba(0, 0, 0, 0.3));\n",
              "    fill: #FFFFFF;\n",
              "  }\n",
              "</style>\n",
              "\n",
              "    <script>\n",
              "      async function quickchart(key) {\n",
              "        const containerElement = document.querySelector('#' + key);\n",
              "        const charts = await google.colab.kernel.invokeFunction(\n",
              "            'suggestCharts', [key], {});\n",
              "      }\n",
              "    </script>\n",
              "\n",
              "      <script>\n",
              "\n",
              "function displayQuickchartButton(domScope) {\n",
              "  let quickchartButtonEl =\n",
              "    domScope.querySelector('#df-8e4008f3-7cbe-4dc6-b407-eb1a408d3196 button.colab-df-quickchart');\n",
              "  quickchartButtonEl.style.display =\n",
              "    google.colab.kernel.accessAllowed ? 'block' : 'none';\n",
              "}\n",
              "\n",
              "        displayQuickchartButton(document);\n",
              "      </script>\n",
              "      <style>\n",
              "    .colab-df-container {\n",
              "      display:flex;\n",
              "      flex-wrap:wrap;\n",
              "      gap: 12px;\n",
              "    }\n",
              "\n",
              "    .colab-df-convert {\n",
              "      background-color: #E8F0FE;\n",
              "      border: none;\n",
              "      border-radius: 50%;\n",
              "      cursor: pointer;\n",
              "      display: none;\n",
              "      fill: #1967D2;\n",
              "      height: 32px;\n",
              "      padding: 0 0 0 0;\n",
              "      width: 32px;\n",
              "    }\n",
              "\n",
              "    .colab-df-convert:hover {\n",
              "      background-color: #E2EBFA;\n",
              "      box-shadow: 0px 1px 2px rgba(60, 64, 67, 0.3), 0px 1px 3px 1px rgba(60, 64, 67, 0.15);\n",
              "      fill: #174EA6;\n",
              "    }\n",
              "\n",
              "    [theme=dark] .colab-df-convert {\n",
              "      background-color: #3B4455;\n",
              "      fill: #D2E3FC;\n",
              "    }\n",
              "\n",
              "    [theme=dark] .colab-df-convert:hover {\n",
              "      background-color: #434B5C;\n",
              "      box-shadow: 0px 1px 3px 1px rgba(0, 0, 0, 0.15);\n",
              "      filter: drop-shadow(0px 1px 2px rgba(0, 0, 0, 0.3));\n",
              "      fill: #FFFFFF;\n",
              "    }\n",
              "  </style>\n",
              "\n",
              "      <script>\n",
              "        const buttonEl =\n",
              "          document.querySelector('#df-48899198-dd3e-4e2b-93b9-567fde6ce798 button.colab-df-convert');\n",
              "        buttonEl.style.display =\n",
              "          google.colab.kernel.accessAllowed ? 'block' : 'none';\n",
              "\n",
              "        async function convertToInteractive(key) {\n",
              "          const element = document.querySelector('#df-48899198-dd3e-4e2b-93b9-567fde6ce798');\n",
              "          const dataTable =\n",
              "            await google.colab.kernel.invokeFunction('convertToInteractive',\n",
              "                                                     [key], {});\n",
              "          if (!dataTable) return;\n",
              "\n",
              "          const docLinkHtml = 'Like what you see? Visit the ' +\n",
              "            '<a target=\"_blank\" href=https://colab.research.google.com/notebooks/data_table.ipynb>data table notebook</a>'\n",
              "            + ' to learn more about interactive tables.';\n",
              "          element.innerHTML = '';\n",
              "          dataTable['output_type'] = 'display_data';\n",
              "          await google.colab.output.renderOutput(dataTable, element);\n",
              "          const docLink = document.createElement('div');\n",
              "          docLink.innerHTML = docLinkHtml;\n",
              "          element.appendChild(docLink);\n",
              "        }\n",
              "      </script>\n",
              "    </div>\n",
              "  </div>\n"
            ]
          },
          "metadata": {},
          "execution_count": 27
        }
      ],
      "source": [
        "import pandas as pd\n",
        "\n",
        "df = pd.read_pickle('/content/twitter-procesado.pickle')\n",
        "df"
      ]
    },
    {
      "cell_type": "markdown",
      "metadata": {
        "id": "PKfFv07hhXSJ"
      },
      "source": [
        "## Clasificación (Análisis de Sentimientos)\n"
      ]
    },
    {
      "cell_type": "markdown",
      "metadata": {
        "id": "NC2kRvpohhJ0"
      },
      "source": [
        "\n",
        "\n",
        "---\n",
        "\n",
        "\n",
        "### MLP\n",
        "\n",
        "\n",
        "---\n",
        "\n"
      ]
    },
    {
      "cell_type": "code",
      "execution_count": null,
      "metadata": {
        "id": "1oN9RNhTe1QI"
      },
      "outputs": [],
      "source": [
        "y=df['target'].values"
      ]
    },
    {
      "cell_type": "markdown",
      "metadata": {
        "id": "Yazp3KcJ8kuA"
      },
      "source": [
        "\n",
        "\n",
        "---\n",
        "\n",
        "\n",
        "### CountVectorizer\n",
        "\n",
        "\n",
        "---\n",
        "\n",
        "\n",
        "\n",
        "Usaremos el modelo BOW de conteos de ocurrencias de palabras que hemos usado para generar features de texto, usaremos el `CountVectorizer` de scikit-learn."
      ]
    },
    {
      "cell_type": "code",
      "execution_count": null,
      "metadata": {
        "colab": {
          "base_uri": "https://localhost:8080/"
        },
        "id": "UcMzhrj1HDA0",
        "outputId": "3e3923df-8102-45e2-9205-b90c5486d936"
      },
      "outputs": [
        {
          "output_type": "stream",
          "name": "stdout",
          "text": [
            "(13308, 800)\n"
          ]
        }
      ],
      "source": [
        "from sklearn.feature_extraction.text import CountVectorizer\n",
        "\n",
        "docs_list = df['clean'].values\n",
        "\n",
        "count_vectorizer = CountVectorizer(stop_words='english',\n",
        "                                    max_features=800)\n",
        "X_counts = count_vectorizer.fit_transform(docs_list)\n",
        "X_counts =  np.asarray(X_counts.todense())\n",
        "print(X_counts.shape)\n",
        "#(filas,features(palabras))\n",
        "\n"
      ]
    },
    {
      "cell_type": "code",
      "source": [
        "from sklearn.model_selection import train_test_split\n",
        "\n",
        "X_train, X_test, y_train, y_test = train_test_split(X_counts, y, random_state=64, train_size=0.8, stratify=y)\n",
        "\n",
        "print(f\"Shape of X_train: {X_train.shape}\")\n",
        "print(f\"Shape of X_test: {X_test.shape}\")"
      ],
      "metadata": {
        "colab": {
          "base_uri": "https://localhost:8080/"
        },
        "id": "ZsVa-3NZehU0",
        "outputId": "a42d6c48-2956-4bc8-b60e-a5e648e35fa8"
      },
      "execution_count": null,
      "outputs": [
        {
          "output_type": "stream",
          "name": "stdout",
          "text": [
            "Shape of X_train: (10646, 800)\n",
            "Shape of X_test: (2662, 800)\n"
          ]
        }
      ]
    },
    {
      "cell_type": "code",
      "source": [
        "from sklearn.preprocessing import StandardScaler\n",
        "\n",
        "scaler = StandardScaler()\n",
        "X_train = scaler.fit_transform(X_train)\n",
        "X_test = scaler.transform(X_test)\n"
      ],
      "metadata": {
        "id": "UE1kuCXoBtj_"
      },
      "execution_count": null,
      "outputs": []
    },
    {
      "cell_type": "markdown",
      "metadata": {
        "id": "x2-4KbTImUeg"
      },
      "source": [
        "Definimos el modelo"
      ]
    },
    {
      "cell_type": "code",
      "execution_count": null,
      "metadata": {
        "colab": {
          "base_uri": "https://localhost:8080/"
        },
        "id": "y4IAbLDBmRGS",
        "outputId": "4b279434-4d7c-4bb7-9e2c-e3144525380b"
      },
      "outputs": [
        {
          "output_type": "stream",
          "name": "stdout",
          "text": [
            "Model: \"sequential\"\n",
            "_________________________________________________________________\n",
            " Layer (type)                Output Shape              Param #   \n",
            "=================================================================\n",
            " dense (Dense)               (None, 50)                40050     \n",
            "                                                                 \n",
            " dropout (Dropout)           (None, 50)                0         \n",
            "                                                                 \n",
            " dense_1 (Dense)             (None, 800)               40800     \n",
            "                                                                 \n",
            " dropout_1 (Dropout)         (None, 800)               0         \n",
            "                                                                 \n",
            " dense_2 (Dense)             (None, 1)                 801       \n",
            "                                                                 \n",
            "=================================================================\n",
            "Total params: 81,651\n",
            "Trainable params: 81,651\n",
            "Non-trainable params: 0\n",
            "_________________________________________________________________\n"
          ]
        }
      ],
      "source": [
        "from keras.models import Sequential\n",
        "from keras.layers import Dense, Dropout\n",
        "\n",
        "model = Sequential()\n",
        "\n",
        "model.add(Dense(50,input_dim=800,activation='relu'))\n",
        "model.add(Dropout(0.7))\n",
        "model.add(Dense(800, activation='LeakyReLU'))\n",
        "model.add(Dropout(0.5))\n",
        "model.add(Dense(1,activation='sigmoid'))\n",
        "\n",
        "\n",
        "\n",
        "model.compile(optimizer='adamax',loss='binary_crossentropy',metrics=['accuracy'])\n",
        "\n",
        "model.summary()"
      ]
    },
    {
      "cell_type": "code",
      "execution_count": null,
      "metadata": {
        "id": "QHF9cGHW9uU6"
      },
      "outputs": [],
      "source": [
        "from keras.callbacks import EarlyStopping\n",
        "\n",
        "es = EarlyStopping(monitor='val_loss',mode='min',patience=4,verbose=1)"
      ]
    },
    {
      "cell_type": "code",
      "execution_count": null,
      "metadata": {
        "colab": {
          "base_uri": "https://localhost:8080/"
        },
        "id": "f47aMhr8nHBr",
        "outputId": "eca13f2b-6a66-4ea7-e255-128bcc20dc29"
      },
      "outputs": [
        {
          "output_type": "stream",
          "name": "stdout",
          "text": [
            "Epoch 1/30\n",
            "300/300 [==============================] - 3s 4ms/step - loss: 0.7534 - accuracy: 0.5010 - val_loss: 0.6910 - val_accuracy: 0.5399\n",
            "Epoch 2/30\n",
            "300/300 [==============================] - 1s 4ms/step - loss: 0.7342 - accuracy: 0.5130 - val_loss: 0.6872 - val_accuracy: 0.5277\n",
            "Epoch 3/30\n",
            "300/300 [==============================] - 1s 4ms/step - loss: 0.7194 - accuracy: 0.5212 - val_loss: 0.6894 - val_accuracy: 0.5305\n",
            "Epoch 4/30\n",
            "300/300 [==============================] - 1s 4ms/step - loss: 0.7149 - accuracy: 0.5181 - val_loss: 0.6850 - val_accuracy: 0.5493\n",
            "Epoch 5/30\n",
            "300/300 [==============================] - 1s 5ms/step - loss: 0.7085 - accuracy: 0.5303 - val_loss: 0.6850 - val_accuracy: 0.5484\n",
            "Epoch 6/30\n",
            "300/300 [==============================] - 2s 5ms/step - loss: 0.6993 - accuracy: 0.5431 - val_loss: 0.6801 - val_accuracy: 0.5624\n",
            "Epoch 7/30\n",
            "300/300 [==============================] - 1s 5ms/step - loss: 0.6933 - accuracy: 0.5496 - val_loss: 0.6770 - val_accuracy: 0.5822\n",
            "Epoch 8/30\n",
            "300/300 [==============================] - 1s 4ms/step - loss: 0.6869 - accuracy: 0.5603 - val_loss: 0.6723 - val_accuracy: 0.5831\n",
            "Epoch 9/30\n",
            "300/300 [==============================] - 1s 4ms/step - loss: 0.6796 - accuracy: 0.5713 - val_loss: 0.6686 - val_accuracy: 0.5756\n",
            "Epoch 10/30\n",
            "300/300 [==============================] - 1s 4ms/step - loss: 0.6724 - accuracy: 0.5803 - val_loss: 0.6634 - val_accuracy: 0.5944\n",
            "Epoch 11/30\n",
            "300/300 [==============================] - 1s 4ms/step - loss: 0.6689 - accuracy: 0.5884 - val_loss: 0.6627 - val_accuracy: 0.5906\n",
            "Epoch 12/30\n",
            "300/300 [==============================] - 1s 4ms/step - loss: 0.6628 - accuracy: 0.6005 - val_loss: 0.6576 - val_accuracy: 0.6038\n",
            "Epoch 13/30\n",
            "300/300 [==============================] - 1s 4ms/step - loss: 0.6573 - accuracy: 0.6016 - val_loss: 0.6561 - val_accuracy: 0.6047\n",
            "Epoch 14/30\n",
            "300/300 [==============================] - 1s 4ms/step - loss: 0.6523 - accuracy: 0.6175 - val_loss: 0.6568 - val_accuracy: 0.6009\n",
            "Epoch 15/30\n",
            "300/300 [==============================] - 1s 4ms/step - loss: 0.6400 - accuracy: 0.6186 - val_loss: 0.6509 - val_accuracy: 0.5962\n",
            "Epoch 16/30\n",
            "300/300 [==============================] - 1s 5ms/step - loss: 0.6411 - accuracy: 0.6250 - val_loss: 0.6494 - val_accuracy: 0.6094\n",
            "Epoch 17/30\n",
            "300/300 [==============================] - 2s 5ms/step - loss: 0.6371 - accuracy: 0.6281 - val_loss: 0.6471 - val_accuracy: 0.6094\n",
            "Epoch 18/30\n",
            "300/300 [==============================] - 1s 5ms/step - loss: 0.6298 - accuracy: 0.6371 - val_loss: 0.6457 - val_accuracy: 0.6131\n",
            "Epoch 19/30\n",
            "300/300 [==============================] - 1s 4ms/step - loss: 0.6261 - accuracy: 0.6365 - val_loss: 0.6442 - val_accuracy: 0.6131\n",
            "Epoch 20/30\n",
            "300/300 [==============================] - 1s 4ms/step - loss: 0.6195 - accuracy: 0.6447 - val_loss: 0.6434 - val_accuracy: 0.6075\n",
            "Epoch 21/30\n",
            "300/300 [==============================] - 1s 4ms/step - loss: 0.6153 - accuracy: 0.6490 - val_loss: 0.6426 - val_accuracy: 0.6094\n",
            "Epoch 22/30\n",
            "300/300 [==============================] - 1s 4ms/step - loss: 0.6149 - accuracy: 0.6503 - val_loss: 0.6438 - val_accuracy: 0.6047\n",
            "Epoch 23/30\n",
            "300/300 [==============================] - 1s 4ms/step - loss: 0.6046 - accuracy: 0.6576 - val_loss: 0.6448 - val_accuracy: 0.6019\n",
            "Epoch 24/30\n",
            "300/300 [==============================] - 1s 4ms/step - loss: 0.6044 - accuracy: 0.6583 - val_loss: 0.6438 - val_accuracy: 0.5906\n",
            "Epoch 25/30\n",
            "300/300 [==============================] - 1s 4ms/step - loss: 0.6003 - accuracy: 0.6628 - val_loss: 0.6432 - val_accuracy: 0.6056\n",
            "Epoch 25: early stopping\n"
          ]
        }
      ],
      "source": [
        "history = model.fit(X_train,y_train,validation_split=0.1,epochs=30,\n",
        "                    callbacks=[es])"
      ]
    },
    {
      "cell_type": "code",
      "execution_count": null,
      "metadata": {
        "colab": {
          "base_uri": "https://localhost:8080/",
          "height": 428
        },
        "id": "Jc8OffwCsfs5",
        "outputId": "0c216e4c-289b-46ca-e90b-46bf25f145cf"
      },
      "outputs": [
        {
          "output_type": "display_data",
          "data": {
            "text/plain": [
              "<Figure size 1200x400 with 2 Axes>"
            ],
            "image/png": "[encoded data removed]"
          },
          "metadata": {}
        }
      ],
      "source": [
        "import matplotlib.pyplot as plt\n",
        "\n",
        "plt.figure(figsize=(12, 4),dpi=100)\n",
        "plt.suptitle(\"Training Curves\",fontsize=16)\n",
        "plt.subplot(1, 2, 1)\n",
        "plt.suptitle(\"Validation and Training Loss\",fontsize=14)\n",
        "plt.plot(history.history['loss'], label='train')\n",
        "plt.plot(history.history['val_loss'], label='validation')\n",
        "plt.ylabel(\"Loss\")\n",
        "plt.xlabel(\"Epochs\")\n",
        "plt.legend()\n",
        "plt.subplot(1, 2, 2)\n",
        "plt.suptitle(\"Validation and Training Accuracy\",fontsize=14)\n",
        "plt.plot(history.history['accuracy'], label='train')\n",
        "plt.plot(history.history['val_accuracy'], label='validation')\n",
        "plt.legend()\n",
        "plt.xlabel(\"Epochs\")\n",
        "plt.ylabel(\"Accuracy\")\n",
        "plt.show()"
      ]
    },
    {
      "cell_type": "code",
      "execution_count": null,
      "metadata": {
        "colab": {
          "base_uri": "https://localhost:8080/"
        },
        "id": "vz1C8P7MsgYE",
        "outputId": "fe61ef40-bb3a-4e2f-8deb-d9ce7316e17f"
      },
      "outputs": [
        {
          "output_type": "stream",
          "name": "stdout",
          "text": [
            "84/84 [==============================] - 0s 1ms/step\n",
            "Test Accuracy: 0.614\n",
            "Test Recall: 0.47\n",
            "Test Precision: 0.6606765327695561\n",
            "\n",
            "Confusion Matrix:\n",
            " [[1010  321]\n",
            " [ 706  625]]\n"
          ]
        }
      ],
      "source": [
        "from sklearn.metrics import accuracy_score, recall_score,precision_score, confusion_matrix\n",
        "\n",
        "predictions = model.predict(X_test)\n",
        "\n",
        "pred_labels = []\n",
        "\n",
        "for x in predictions:\n",
        "    if x >= 0.5:\n",
        "        pred_labels.append(1)\n",
        "    else:\n",
        "        pred_labels.append(0)\n",
        "\n",
        "test_accuracy = accuracy_score(y_test,pred_labels)\n",
        "test_recall = recall_score(y_test,pred_labels)\n",
        "print(f\"Test Accuracy: {round(test_accuracy,3)}\")\n",
        "print(f\"Test Recall: {round(test_recall,3)}\")\n",
        "print(f\"Test Precision: {precision_score(y_test,pred_labels)}\")\n",
        "\n",
        "print(\"\\nConfusion Matrix:\\n\",confusion_matrix(y_test,pred_labels))"
      ]
    },
    {
      "cell_type": "code",
      "source": [
        "from sklearn.metrics import confusion_matrix, ConfusionMatrixDisplay\n",
        "plt.figure(figsize=(.1,.1))\n",
        "#sns.heatmap(cm,cmap='plasma',annot=True)\n",
        "cm_display = ConfusionMatrixDisplay(confusion_matrix = confusion_matrix(y_test,pred_labels), display_labels = ['0', '1' ])\n",
        "cm_display.plot()\n",
        "plt.show()"
      ],
      "metadata": {
        "colab": {
          "base_uri": "https://localhost:8080/",
          "height": 467
        },
        "id": "5CwH8kujAHIR",
        "outputId": "9e11a5a0-cc0b-49d4-f7ef-bb1ef261a6e4"
      },
      "execution_count": null,
      "outputs": [
        {
          "output_type": "display_data",
          "data": {
            "text/plain": [
              "<Figure size 10x10 with 0 Axes>"
            ]
          },
          "metadata": {}
        },
        {
          "output_type": "display_data",
          "data": {
            "text/plain": [
              "<Figure size 640x480 with 2 Axes>"
            ],
            "image/png": "[encoded data removed]"
          },
          "metadata": {}
        }
      ]
    },
    {
      "cell_type": "markdown",
      "metadata": {
        "id": "iXvO_n44I3Lp"
      },
      "source": [
        "##Veamos el score ROC-AUC"
      ]
    },
    {
      "cell_type": "code",
      "execution_count": null,
      "metadata": {
        "colab": {
          "base_uri": "https://localhost:8080/"
        },
        "outputId": "189da170-ca1a-4ef4-e4fa-9ceb53a80e8c",
        "id": "MvEcCHcvI3Lp"
      },
      "outputs": [
        {
          "output_type": "stream",
          "name": "stdout",
          "text": [
            "84/84 [==============================] - 0s 1ms/step\n",
            "Shape de y_test: (2662,)\n",
            "Shape de las predicciones para el conjunto de prueba: (2662, 1)\n"
          ]
        },
        {
          "output_type": "execute_result",
          "data": {
            "text/plain": [
              "0.6632131210836093"
            ]
          },
          "metadata": {},
          "execution_count": 38
        }
      ],
      "source": [
        "from sklearn.metrics import roc_auc_score\n",
        "\n",
        "predictions_matrix = model.predict(X_test)\n",
        "print(f\"Shape de y_test: {y_test.shape}\")\n",
        "print(f\"Shape de las predicciones para el conjunto de prueba: {predictions_matrix.shape}\")\n",
        "\n",
        "roc_auc_score(y_test,predictions_matrix)"
      ]
    },
    {
      "cell_type": "code",
      "source": [],
      "metadata": {
        "id": "dnNx5w8VHh9I"
      },
      "execution_count": null,
      "outputs": []
    },
    {
      "cell_type": "markdown",
      "source": [
        "\n",
        "\n",
        "---\n",
        "\n",
        "###PCA\n",
        "\n",
        "\n",
        "---\n",
        "\n"
      ],
      "metadata": {
        "id": "TeM7FfutHiqw"
      }
    },
    {
      "cell_type": "code",
      "source": [
        "from sklearn.decomposition import PCA\n",
        "\n",
        "pca = PCA(n_components=100)\n",
        "X_train= pca.fit_transform(X_train)\n",
        "X_test = pca.transform(X_test)"
      ],
      "metadata": {
        "id": "b3CD6kBMHiqx"
      },
      "execution_count": null,
      "outputs": []
    },
    {
      "cell_type": "markdown",
      "metadata": {
        "id": "3RJlp8hhHiqy"
      },
      "source": [
        "Definimos el modelo"
      ]
    },
    {
      "cell_type": "code",
      "execution_count": null,
      "metadata": {
        "colab": {
          "base_uri": "https://localhost:8080/"
        },
        "outputId": "b76d67d0-5086-418d-e0c1-651f33b65ae9",
        "id": "dVYPoWLEHiqy"
      },
      "outputs": [
        {
          "output_type": "stream",
          "name": "stdout",
          "text": [
            "Model: \"sequential_1\"\n",
            "_________________________________________________________________\n",
            " Layer (type)                Output Shape              Param #   \n",
            "=================================================================\n",
            " dense_3 (Dense)             (None, 50)                5050      \n",
            "                                                                 \n",
            " dropout_2 (Dropout)         (None, 50)                0         \n",
            "                                                                 \n",
            " dense_4 (Dense)             (None, 800)               40800     \n",
            "                                                                 \n",
            " dropout_3 (Dropout)         (None, 800)               0         \n",
            "                                                                 \n",
            " dense_5 (Dense)             (None, 1)                 801       \n",
            "                                                                 \n",
            "=================================================================\n",
            "Total params: 46,651\n",
            "Trainable params: 46,651\n",
            "Non-trainable params: 0\n",
            "_________________________________________________________________\n"
          ]
        }
      ],
      "source": [
        "from keras.models import Sequential\n",
        "from keras.layers import Dense, Dropout\n",
        "\n",
        "model = Sequential()\n",
        "\n",
        "model.add(Dense(50,input_dim=100,activation='relu'))\n",
        "model.add(Dropout(0.7))\n",
        "model.add(Dense(800, activation='LeakyReLU'))\n",
        "model.add(Dropout(0.5))\n",
        "model.add(Dense(1,activation='sigmoid'))\n",
        "\n",
        "\n",
        "\n",
        "model.compile(optimizer='adamax',loss='binary_crossentropy',metrics=['accuracy'])\n",
        "\n",
        "model.summary()"
      ]
    },
    {
      "cell_type": "code",
      "execution_count": null,
      "metadata": {
        "id": "i6h-6uYkHiqz"
      },
      "outputs": [],
      "source": [
        "from keras.callbacks import EarlyStopping\n",
        "\n",
        "es = EarlyStopping(monitor='val_loss',mode='min',patience=4,verbose=1)"
      ]
    },
    {
      "cell_type": "code",
      "execution_count": null,
      "metadata": {
        "colab": {
          "base_uri": "https://localhost:8080/"
        },
        "outputId": "2e80fd9c-7306-46db-bfb4-ceefbcd6be45",
        "id": "EEoyT6YtHiqz"
      },
      "outputs": [
        {
          "output_type": "stream",
          "name": "stdout",
          "text": [
            "Epoch 1/35\n",
            "300/300 [==============================] - 7s 9ms/step - loss: 0.7481 - accuracy: 0.5144 - val_loss: 0.6857 - val_accuracy: 0.5390\n",
            "Epoch 2/35\n",
            "300/300 [==============================] - 2s 6ms/step - loss: 0.7350 - accuracy: 0.5218 - val_loss: 0.6806 - val_accuracy: 0.5474\n",
            "Epoch 3/35\n",
            "300/300 [==============================] - 2s 7ms/step - loss: 0.7314 - accuracy: 0.5189 - val_loss: 0.6745 - val_accuracy: 0.5831\n",
            "Epoch 4/35\n",
            "300/300 [==============================] - 2s 7ms/step - loss: 0.7170 - accuracy: 0.5257 - val_loss: 0.6778 - val_accuracy: 0.5549\n",
            "Epoch 5/35\n",
            "300/300 [==============================] - 1s 4ms/step - loss: 0.7165 - accuracy: 0.5223 - val_loss: 0.6710 - val_accuracy: 0.5962\n",
            "Epoch 6/35\n",
            "300/300 [==============================] - 1s 4ms/step - loss: 0.7069 - accuracy: 0.5281 - val_loss: 0.6726 - val_accuracy: 0.5549\n",
            "Epoch 7/35\n",
            "300/300 [==============================] - 2s 5ms/step - loss: 0.7045 - accuracy: 0.5339 - val_loss: 0.6699 - val_accuracy: 0.5812\n",
            "Epoch 8/35\n",
            "300/300 [==============================] - 2s 5ms/step - loss: 0.6961 - accuracy: 0.5493 - val_loss: 0.6662 - val_accuracy: 0.5784\n",
            "Epoch 9/35\n",
            "300/300 [==============================] - 1s 4ms/step - loss: 0.6957 - accuracy: 0.5394 - val_loss: 0.6719 - val_accuracy: 0.5559\n",
            "Epoch 10/35\n",
            "300/300 [==============================] - 1s 4ms/step - loss: 0.6901 - accuracy: 0.5478 - val_loss: 0.6644 - val_accuracy: 0.5991\n",
            "Epoch 11/35\n",
            "300/300 [==============================] - 1s 4ms/step - loss: 0.6839 - accuracy: 0.5556 - val_loss: 0.6626 - val_accuracy: 0.5897\n",
            "Epoch 12/35\n",
            "300/300 [==============================] - 1s 4ms/step - loss: 0.6823 - accuracy: 0.5618 - val_loss: 0.6634 - val_accuracy: 0.6122\n",
            "Epoch 13/35\n",
            "300/300 [==============================] - 1s 4ms/step - loss: 0.6806 - accuracy: 0.5578 - val_loss: 0.6600 - val_accuracy: 0.6094\n",
            "Epoch 14/35\n",
            "300/300 [==============================] - 1s 4ms/step - loss: 0.6814 - accuracy: 0.5523 - val_loss: 0.6595 - val_accuracy: 0.6103\n",
            "Epoch 15/35\n",
            "300/300 [==============================] - 1s 4ms/step - loss: 0.6776 - accuracy: 0.5596 - val_loss: 0.6602 - val_accuracy: 0.5934\n",
            "Epoch 16/35\n",
            "300/300 [==============================] - 1s 4ms/step - loss: 0.6726 - accuracy: 0.5712 - val_loss: 0.6594 - val_accuracy: 0.5944\n",
            "Epoch 17/35\n",
            "300/300 [==============================] - 1s 4ms/step - loss: 0.6705 - accuracy: 0.5777 - val_loss: 0.6593 - val_accuracy: 0.5831\n",
            "Epoch 18/35\n",
            "300/300 [==============================] - 1s 5ms/step - loss: 0.6687 - accuracy: 0.5784 - val_loss: 0.6562 - val_accuracy: 0.6000\n",
            "Epoch 19/35\n",
            "300/300 [==============================] - 2s 6ms/step - loss: 0.6684 - accuracy: 0.5827 - val_loss: 0.6595 - val_accuracy: 0.5812\n",
            "Epoch 20/35\n",
            "300/300 [==============================] - 1s 5ms/step - loss: 0.6636 - accuracy: 0.5847 - val_loss: 0.6560 - val_accuracy: 0.6000\n",
            "Epoch 21/35\n",
            "300/300 [==============================] - 1s 4ms/step - loss: 0.6611 - accuracy: 0.5855 - val_loss: 0.6544 - val_accuracy: 0.6066\n",
            "Epoch 22/35\n",
            "300/300 [==============================] - 1s 3ms/step - loss: 0.6617 - accuracy: 0.5879 - val_loss: 0.6533 - val_accuracy: 0.5981\n",
            "Epoch 23/35\n",
            "300/300 [==============================] - 2s 6ms/step - loss: 0.6611 - accuracy: 0.5850 - val_loss: 0.6545 - val_accuracy: 0.6056\n",
            "Epoch 24/35\n",
            "300/300 [==============================] - 2s 6ms/step - loss: 0.6552 - accuracy: 0.5943 - val_loss: 0.6519 - val_accuracy: 0.6178\n",
            "Epoch 25/35\n",
            "300/300 [==============================] - 2s 6ms/step - loss: 0.6571 - accuracy: 0.5894 - val_loss: 0.6529 - val_accuracy: 0.5991\n",
            "Epoch 26/35\n",
            "300/300 [==============================] - 1s 3ms/step - loss: 0.6565 - accuracy: 0.5942 - val_loss: 0.6541 - val_accuracy: 0.5991\n",
            "Epoch 27/35\n",
            "300/300 [==============================] - 1s 4ms/step - loss: 0.6571 - accuracy: 0.5961 - val_loss: 0.6525 - val_accuracy: 0.6113\n",
            "Epoch 28/35\n",
            "300/300 [==============================] - 2s 5ms/step - loss: 0.6543 - accuracy: 0.5961 - val_loss: 0.6552 - val_accuracy: 0.5925\n",
            "Epoch 28: early stopping\n"
          ]
        }
      ],
      "source": [
        "history = model.fit(X_train,y_train,validation_split=0.1,epochs=35,\n",
        "                    callbacks=[es])"
      ]
    },
    {
      "cell_type": "code",
      "execution_count": null,
      "metadata": {
        "colab": {
          "base_uri": "https://localhost:8080/",
          "height": 428
        },
        "outputId": "0aff1399-4fea-4d98-9b9b-56c957e5f907",
        "id": "IojsJIjgHiqz"
      },
      "outputs": [
        {
          "output_type": "display_data",
          "data": {
            "text/plain": [
              "<Figure size 1200x400 with 2 Axes>"
            ],
            "image/png": "[encoded data removed]"
          },
          "metadata": {}
        }
      ],
      "source": [
        "import matplotlib.pyplot as plt\n",
        "\n",
        "plt.figure(figsize=(12, 4),dpi=100)\n",
        "plt.suptitle(\"Training Curves\",fontsize=16)\n",
        "plt.subplot(1, 2, 1)\n",
        "plt.suptitle(\"Validation and Training Loss\",fontsize=14)\n",
        "plt.plot(history.history['loss'], label='train')\n",
        "plt.plot(history.history['val_loss'], label='validation')\n",
        "plt.ylabel(\"Loss\")\n",
        "plt.xlabel(\"Epochs\")\n",
        "plt.legend()\n",
        "plt.subplot(1, 2, 2)\n",
        "plt.suptitle(\"Validation and Training Accuracy\",fontsize=14)\n",
        "plt.plot(history.history['accuracy'], label='train')\n",
        "plt.plot(history.history['val_accuracy'], label='validation')\n",
        "plt.legend()\n",
        "plt.xlabel(\"Epochs\")\n",
        "plt.ylabel(\"Accuracy\")\n",
        "plt.show()"
      ]
    },
    {
      "cell_type": "code",
      "execution_count": null,
      "metadata": {
        "colab": {
          "base_uri": "https://localhost:8080/"
        },
        "outputId": "24710f5b-22eb-4271-cce8-3f1dc6d4c94d",
        "id": "i45pTrg8Hiq0"
      },
      "outputs": [
        {
          "output_type": "stream",
          "name": "stdout",
          "text": [
            "84/84 [==============================] - 0s 2ms/step\n",
            "Test Accuracy: 0.587\n",
            "Test Recall: 0.329\n",
            "Test Precision: 0.6801242236024845\n",
            "\n",
            "Confusion Matrix:\n",
            " [[1125  206]\n",
            " [ 893  438]]\n"
          ]
        }
      ],
      "source": [
        "from sklearn.metrics import accuracy_score, recall_score,precision_score, confusion_matrix\n",
        "\n",
        "predictions = model.predict(X_test)\n",
        "\n",
        "pred_labels = []\n",
        "\n",
        "for x in predictions:\n",
        "    if x >= 0.5:\n",
        "        pred_labels.append(1)\n",
        "    else:\n",
        "        pred_labels.append(0)\n",
        "\n",
        "test_accuracy = accuracy_score(y_test,pred_labels)\n",
        "test_recall = recall_score(y_test,pred_labels)\n",
        "print(f\"Test Accuracy: {round(test_accuracy,3)}\")\n",
        "print(f\"Test Recall: {round(test_recall,3)}\")\n",
        "print(f\"Test Precision: {precision_score(y_test,pred_labels)}\")\n",
        "\n",
        "print(\"\\nConfusion Matrix:\\n\",confusion_matrix(y_test,pred_labels))"
      ]
    },
    {
      "cell_type": "code",
      "source": [
        "from sklearn.metrics import confusion_matrix, ConfusionMatrixDisplay\n",
        "plt.figure(figsize=(.1,.1))\n",
        "#sns.heatmap(cm,cmap='plasma',annot=True)\n",
        "cm_display = ConfusionMatrixDisplay(confusion_matrix = confusion_matrix(y_test,pred_labels), display_labels = ['0', '1' ])\n",
        "cm_display.plot()\n",
        "plt.show()"
      ],
      "metadata": {
        "colab": {
          "base_uri": "https://localhost:8080/",
          "height": 466
        },
        "outputId": "befdb0a4-2ef0-49c6-da7a-b7139111f4d2",
        "id": "11yEMTzRHiq0"
      },
      "execution_count": null,
      "outputs": [
        {
          "output_type": "display_data",
          "data": {
            "text/plain": [
              "<Figure size 10x10 with 0 Axes>"
            ]
          },
          "metadata": {}
        },
        {
          "output_type": "display_data",
          "data": {
            "text/plain": [
              "<Figure size 640x480 with 2 Axes>"
            ],
            "image/png": "[encoded data removed]"
          },
          "metadata": {}
        }
      ]
    },
    {
      "cell_type": "markdown",
      "metadata": {
        "id": "nhgdA7kMHiq1"
      },
      "source": [
        "##Veamos el score ROC-AUC"
      ]
    },
    {
      "cell_type": "code",
      "execution_count": null,
      "metadata": {
        "colab": {
          "base_uri": "https://localhost:8080/"
        },
        "outputId": "8f88cb23-d72f-4e33-e23f-135287f9f6da",
        "id": "LNgctUsMHiq1"
      },
      "outputs": [
        {
          "output_type": "stream",
          "name": "stdout",
          "text": [
            "84/84 [==============================] - 0s 2ms/step\n",
            "Shape de y_test: (2662,)\n",
            "Shape de las predicciones para el conjunto de prueba: (2662, 1)\n"
          ]
        },
        {
          "output_type": "execute_result",
          "data": {
            "text/plain": [
              "0.65177970163037"
            ]
          },
          "metadata": {},
          "execution_count": 46
        }
      ],
      "source": [
        "from sklearn.metrics import roc_auc_score\n",
        "\n",
        "predictions_matrix = model.predict(X_test)\n",
        "print(f\"Shape de y_test: {y_test.shape}\")\n",
        "print(f\"Shape de las predicciones para el conjunto de prueba: {predictions_matrix.shape}\")\n",
        "\n",
        "roc_auc_score(y_test,predictions_matrix)"
      ]
    },
    {
      "cell_type": "markdown",
      "source": [
        "\n",
        "\n",
        "---\n",
        "\n",
        "\n",
        "###**TF-IDF**\n",
        "\n",
        "\n",
        "---\n",
        "\n"
      ],
      "metadata": {
        "id": "nQOCTM3mC_O0"
      }
    },
    {
      "cell_type": "code",
      "source": [
        "from sklearn.feature_extraction.text import TfidfVectorizer\n",
        "\n",
        "topn_words = 800\n",
        "docs_list = df['clean'].values\n",
        "\n",
        "vectorizer = TfidfVectorizer(stop_words='english',\n",
        "                             max_features=topn_words)\n",
        "X_tfidf = vectorizer.fit_transform(docs_list)\n",
        "X_tfidf = np.asarray(X_tfidf.todense())\n",
        "print(X_tfidf.shape)"
      ],
      "metadata": {
        "colab": {
          "base_uri": "https://localhost:8080/"
        },
        "id": "Y8jBvIK1BP7X",
        "outputId": "c71d56f4-3ea3-4c83-bcab-21c3005d1eca"
      },
      "execution_count": null,
      "outputs": [
        {
          "output_type": "stream",
          "name": "stdout",
          "text": [
            "(13308, 800)\n"
          ]
        }
      ]
    },
    {
      "cell_type": "code",
      "source": [
        "from sklearn.model_selection import train_test_split\n",
        "\n",
        "X_train2, X_test2, y_train2, y_test2 = train_test_split(X_tfidf,y,train_size=0.8,random_state=189,stratify=y)\n",
        "\n",
        "print(f\"Train size: {X_train2.shape[0]}\")\n",
        "print(f\"Test size: {X_test2.shape[0]}\")\n"
      ],
      "metadata": {
        "colab": {
          "base_uri": "https://localhost:8080/"
        },
        "id": "msoj5cWABQBG",
        "outputId": "629c0c2c-e835-4590-f441-4260be447941"
      },
      "execution_count": null,
      "outputs": [
        {
          "output_type": "stream",
          "name": "stdout",
          "text": [
            "Train size: 10646\n",
            "Test size: 2662\n"
          ]
        }
      ]
    },
    {
      "cell_type": "code",
      "source": [
        "\n",
        "from sklearn.preprocessing import StandardScaler\n",
        "\n",
        "scaler = StandardScaler()\n",
        "X_train2 = scaler.fit_transform(X_train2)\n",
        "X_test2 = scaler.transform(X_test2)"
      ],
      "metadata": {
        "id": "6on7M-GPBQEq"
      },
      "execution_count": null,
      "outputs": []
    },
    {
      "cell_type": "markdown",
      "metadata": {
        "id": "_yaVqll4Eoxf"
      },
      "source": [
        "Definimos el modelo"
      ]
    },
    {
      "cell_type": "code",
      "execution_count": null,
      "metadata": {
        "colab": {
          "base_uri": "https://localhost:8080/"
        },
        "outputId": "d324663d-596e-4400-b7f7-fda6516b4500",
        "id": "ACyskjvQEoxy"
      },
      "outputs": [
        {
          "output_type": "stream",
          "name": "stdout",
          "text": [
            "Model: \"sequential_2\"\n",
            "_________________________________________________________________\n",
            " Layer (type)                Output Shape              Param #   \n",
            "=================================================================\n",
            " dense_6 (Dense)             (None, 50)                40050     \n",
            "                                                                 \n",
            " dropout_4 (Dropout)         (None, 50)                0         \n",
            "                                                                 \n",
            " dense_7 (Dense)             (None, 800)               40800     \n",
            "                                                                 \n",
            " dropout_5 (Dropout)         (None, 800)               0         \n",
            "                                                                 \n",
            " dense_8 (Dense)             (None, 1)                 801       \n",
            "                                                                 \n",
            "=================================================================\n",
            "Total params: 81,651\n",
            "Trainable params: 81,651\n",
            "Non-trainable params: 0\n",
            "_________________________________________________________________\n"
          ]
        }
      ],
      "source": [
        "from keras.models import Sequential\n",
        "from keras.layers import Dense, Dropout\n",
        "\n",
        "model = Sequential()\n",
        "\n",
        "model.add(Dense(50,input_dim=800,activation='relu'))\n",
        "model.add(Dropout(0.7))\n",
        "model.add(Dense(800, activation='LeakyReLU'))\n",
        "model.add(Dropout(0.5))\n",
        "model.add(Dense(1,activation='sigmoid'))\n",
        "\n",
        "\n",
        "\n",
        "model.compile(optimizer='adamax',loss='binary_crossentropy',metrics=['accuracy'])\n",
        "\n",
        "model.summary()"
      ]
    },
    {
      "cell_type": "code",
      "execution_count": null,
      "metadata": {
        "id": "jtKnMIfsEoxz"
      },
      "outputs": [],
      "source": [
        "from keras.callbacks import EarlyStopping\n",
        "\n",
        "es = EarlyStopping(monitor='val_loss',mode='min',patience=4,verbose=1)"
      ]
    },
    {
      "cell_type": "code",
      "execution_count": null,
      "metadata": {
        "colab": {
          "base_uri": "https://localhost:8080/"
        },
        "outputId": "2916778e-b670-485a-ce3d-621fd74f6123",
        "id": "AQOyz0FTEox0"
      },
      "outputs": [
        {
          "output_type": "stream",
          "name": "stdout",
          "text": [
            "Epoch 1/35\n",
            "300/300 [==============================] - 2s 4ms/step - loss: 0.7534 - accuracy: 0.4974 - val_loss: 0.7014 - val_accuracy: 0.4977\n",
            "Epoch 2/35\n",
            "300/300 [==============================] - 1s 4ms/step - loss: 0.7304 - accuracy: 0.5117 - val_loss: 0.6936 - val_accuracy: 0.5164\n",
            "Epoch 3/35\n",
            "300/300 [==============================] - 1s 4ms/step - loss: 0.7219 - accuracy: 0.5116 - val_loss: 0.6896 - val_accuracy: 0.5362\n",
            "Epoch 4/35\n",
            "300/300 [==============================] - 1s 4ms/step - loss: 0.7130 - accuracy: 0.5180 - val_loss: 0.6916 - val_accuracy: 0.5268\n",
            "Epoch 5/35\n",
            "300/300 [==============================] - 1s 4ms/step - loss: 0.7065 - accuracy: 0.5206 - val_loss: 0.6868 - val_accuracy: 0.5484\n",
            "Epoch 6/35\n",
            "300/300 [==============================] - 1s 4ms/step - loss: 0.6967 - accuracy: 0.5366 - val_loss: 0.6867 - val_accuracy: 0.5559\n",
            "Epoch 7/35\n",
            "300/300 [==============================] - 1s 4ms/step - loss: 0.6915 - accuracy: 0.5537 - val_loss: 0.6802 - val_accuracy: 0.5634\n",
            "Epoch 8/35\n",
            "300/300 [==============================] - 1s 4ms/step - loss: 0.6908 - accuracy: 0.5478 - val_loss: 0.6865 - val_accuracy: 0.5418\n",
            "Epoch 9/35\n",
            "300/300 [==============================] - 1s 5ms/step - loss: 0.6788 - accuracy: 0.5683 - val_loss: 0.6783 - val_accuracy: 0.5784\n",
            "Epoch 10/35\n",
            "300/300 [==============================] - 2s 5ms/step - loss: 0.6773 - accuracy: 0.5750 - val_loss: 0.6766 - val_accuracy: 0.5746\n",
            "Epoch 11/35\n",
            "300/300 [==============================] - 1s 4ms/step - loss: 0.6706 - accuracy: 0.5829 - val_loss: 0.6757 - val_accuracy: 0.5869\n",
            "Epoch 12/35\n",
            "300/300 [==============================] - 2s 5ms/step - loss: 0.6609 - accuracy: 0.5947 - val_loss: 0.6700 - val_accuracy: 0.5700\n",
            "Epoch 13/35\n",
            "300/300 [==============================] - 2s 5ms/step - loss: 0.6544 - accuracy: 0.6049 - val_loss: 0.6712 - val_accuracy: 0.5822\n",
            "Epoch 14/35\n",
            "300/300 [==============================] - 1s 4ms/step - loss: 0.6482 - accuracy: 0.6143 - val_loss: 0.6671 - val_accuracy: 0.5869\n",
            "Epoch 15/35\n",
            "300/300 [==============================] - 1s 4ms/step - loss: 0.6401 - accuracy: 0.6198 - val_loss: 0.6716 - val_accuracy: 0.5756\n",
            "Epoch 16/35\n",
            "300/300 [==============================] - 1s 4ms/step - loss: 0.6387 - accuracy: 0.6299 - val_loss: 0.6651 - val_accuracy: 0.5812\n",
            "Epoch 17/35\n",
            "300/300 [==============================] - 1s 4ms/step - loss: 0.6313 - accuracy: 0.6373 - val_loss: 0.6687 - val_accuracy: 0.5878\n",
            "Epoch 18/35\n",
            "300/300 [==============================] - 1s 4ms/step - loss: 0.6264 - accuracy: 0.6370 - val_loss: 0.6630 - val_accuracy: 0.5850\n",
            "Epoch 19/35\n",
            "300/300 [==============================] - 1s 5ms/step - loss: 0.6188 - accuracy: 0.6512 - val_loss: 0.6679 - val_accuracy: 0.5840\n",
            "Epoch 20/35\n",
            "300/300 [==============================] - 1s 5ms/step - loss: 0.6179 - accuracy: 0.6555 - val_loss: 0.6609 - val_accuracy: 0.5869\n",
            "Epoch 21/35\n",
            "300/300 [==============================] - 1s 4ms/step - loss: 0.6134 - accuracy: 0.6537 - val_loss: 0.6668 - val_accuracy: 0.5859\n",
            "Epoch 22/35\n",
            "300/300 [==============================] - 1s 4ms/step - loss: 0.6087 - accuracy: 0.6652 - val_loss: 0.6679 - val_accuracy: 0.5887\n",
            "Epoch 23/35\n",
            "300/300 [==============================] - 1s 4ms/step - loss: 0.6051 - accuracy: 0.6582 - val_loss: 0.6696 - val_accuracy: 0.5859\n",
            "Epoch 24/35\n",
            "300/300 [==============================] - 1s 4ms/step - loss: 0.5977 - accuracy: 0.6717 - val_loss: 0.6654 - val_accuracy: 0.5906\n",
            "Epoch 24: early stopping\n"
          ]
        }
      ],
      "source": [
        "history = model.fit(X_train2,y_train2,validation_split=0.1,epochs=35,\n",
        "                    callbacks=[es])"
      ]
    },
    {
      "cell_type": "code",
      "execution_count": null,
      "metadata": {
        "colab": {
          "base_uri": "https://localhost:8080/",
          "height": 428
        },
        "outputId": "be1dc291-4eba-4dce-baef-ae8d236f3487",
        "id": "7xIgdOW6Eox0"
      },
      "outputs": [
        {
          "output_type": "display_data",
          "data": {
            "text/plain": [
              "<Figure size 1200x400 with 2 Axes>"
            ],
            "image/png": "[encoded data removed]"
          },
          "metadata": {}
        }
      ],
      "source": [
        "import matplotlib.pyplot as plt\n",
        "\n",
        "plt.figure(figsize=(12, 4),dpi=100)\n",
        "plt.suptitle(\"Training Curves\",fontsize=16)\n",
        "plt.subplot(1, 2, 1)\n",
        "plt.suptitle(\"Validation and Training Loss\",fontsize=14)\n",
        "plt.plot(history.history['loss'], label='train')\n",
        "plt.plot(history.history['val_loss'], label='validation')\n",
        "plt.ylabel(\"Loss\")\n",
        "plt.xlabel(\"Epochs\")\n",
        "plt.legend()\n",
        "plt.subplot(1, 2, 2)\n",
        "plt.suptitle(\"Validation and Training Accuracy\",fontsize=14)\n",
        "plt.plot(history.history['accuracy'], label='train')\n",
        "plt.plot(history.history['val_accuracy'], label='validation')\n",
        "plt.legend()\n",
        "plt.xlabel(\"Epochs\")\n",
        "plt.ylabel(\"Accuracy\")\n",
        "plt.show()"
      ]
    },
    {
      "cell_type": "code",
      "execution_count": null,
      "metadata": {
        "colab": {
          "base_uri": "https://localhost:8080/"
        },
        "outputId": "75583a0d-3adc-4e1a-b0a7-ad3cfba83556",
        "id": "MvTKYranEox1"
      },
      "outputs": [
        {
          "output_type": "stream",
          "name": "stdout",
          "text": [
            "84/84 [==============================] - 0s 1ms/step\n",
            "Test Accuracy: 0.505\n",
            "Test Recall: 0.246\n",
            "Test Precision: 0.5093167701863354\n",
            "\n",
            "Confusion Matrix:\n",
            " [[1015  316]\n",
            " [1003  328]]\n"
          ]
        }
      ],
      "source": [
        "from sklearn.metrics import accuracy_score, recall_score,precision_score, confusion_matrix\n",
        "\n",
        "predictions2 = model.predict(X_test2)\n",
        "\n",
        "pred_labels2 = []\n",
        "\n",
        "for x in predictions:\n",
        "    if x >= 0.5:\n",
        "        pred_labels2.append(1)\n",
        "    else:\n",
        "        pred_labels2.append(0)\n",
        "\n",
        "test_accuracy = accuracy_score(y_test2,pred_labels2)\n",
        "test_recall = recall_score(y_test2,pred_labels2)\n",
        "print(f\"Test Accuracy: {round(test_accuracy,3)}\")\n",
        "print(f\"Test Recall: {round(test_recall,3)}\")\n",
        "print(f\"Test Precision: {precision_score(y_test2,pred_labels2)}\")\n",
        "\n",
        "print(\"\\nConfusion Matrix:\\n\",confusion_matrix(y_test2,pred_labels2))"
      ]
    },
    {
      "cell_type": "code",
      "source": [
        "from sklearn.metrics import confusion_matrix, ConfusionMatrixDisplay\n",
        "plt.figure(figsize=(.1,.1))\n",
        "#sns.heatmap(cm,cmap='plasma',annot=True)\n",
        "cm_display = ConfusionMatrixDisplay(confusion_matrix = confusion_matrix(y_test2,pred_labels2), display_labels = ['0', '1' ])\n",
        "cm_display.plot()\n",
        "plt.show()"
      ],
      "metadata": {
        "colab": {
          "base_uri": "https://localhost:8080/",
          "height": 466
        },
        "outputId": "315a3c0e-14f3-4ff7-e663-36639bce977b",
        "id": "YoTIlVE1Eox1"
      },
      "execution_count": null,
      "outputs": [
        {
          "output_type": "display_data",
          "data": {
            "text/plain": [
              "<Figure size 10x10 with 0 Axes>"
            ]
          },
          "metadata": {}
        },
        {
          "output_type": "display_data",
          "data": {
            "text/plain": [
              "<Figure size 640x480 with 2 Axes>"
            ],
            "image/png": "[encoded data removed]"
          },
          "metadata": {}
        }
      ]
    },
    {
      "cell_type": "markdown",
      "metadata": {
        "id": "nwaS2WXpEox2"
      },
      "source": [
        "##Veamos el score ROC-AUC"
      ]
    },
    {
      "cell_type": "code",
      "execution_count": null,
      "metadata": {
        "colab": {
          "base_uri": "https://localhost:8080/"
        },
        "outputId": "8730d9d7-28da-427b-afca-cd05889c0b4f",
        "id": "a-ASzEaqEox2"
      },
      "outputs": [
        {
          "output_type": "stream",
          "name": "stdout",
          "text": [
            "84/84 [==============================] - 0s 1ms/step\n",
            "Shape de y_test: (2662,)\n",
            "Shape de las predicciones para el conjunto de prueba: (2662, 1)\n"
          ]
        },
        {
          "output_type": "execute_result",
          "data": {
            "text/plain": [
              "0.6767946460776683"
            ]
          },
          "metadata": {},
          "execution_count": 56
        }
      ],
      "source": [
        "from sklearn.metrics import roc_auc_score\n",
        "\n",
        "predictions_matrix = model.predict(X_test2)\n",
        "print(f\"Shape de y_test: {y_test2.shape}\")\n",
        "print(f\"Shape de las predicciones para el conjunto de prueba: {predictions_matrix.shape}\")\n",
        "\n",
        "roc_auc_score(y_test2,predictions_matrix)"
      ]
    },
    {
      "cell_type": "code",
      "source": [],
      "metadata": {
        "id": "1T80NI2bEbG3"
      },
      "execution_count": null,
      "outputs": []
    },
    {
      "cell_type": "markdown",
      "source": [
        "\n",
        "\n",
        "---\n",
        "\n",
        "###PCA\n",
        "\n",
        "\n",
        "---\n",
        "\n"
      ],
      "metadata": {
        "id": "NLyt_f9_FOK-"
      }
    },
    {
      "cell_type": "code",
      "source": [
        "from sklearn.decomposition import PCA\n",
        "\n",
        "pca = PCA(n_components=100)\n",
        "X_train2= pca.fit_transform(X_train2)\n",
        "X_test2 = pca.transform(X_test2)"
      ],
      "metadata": {
        "id": "hGPY3wNyEbKH"
      },
      "execution_count": null,
      "outputs": []
    },
    {
      "cell_type": "markdown",
      "metadata": {
        "id": "OO8oBq5HGqR3"
      },
      "source": [
        "Definimos el modelo"
      ]
    },
    {
      "cell_type": "code",
      "execution_count": null,
      "metadata": {
        "colab": {
          "base_uri": "https://localhost:8080/"
        },
        "outputId": "f226939d-34a7-4e4b-e0b3-14c1aafc7036",
        "id": "A9cISu0_GqSJ"
      },
      "outputs": [
        {
          "output_type": "stream",
          "name": "stdout",
          "text": [
            "Model: \"sequential_3\"\n",
            "_________________________________________________________________\n",
            " Layer (type)                Output Shape              Param #   \n",
            "=================================================================\n",
            " dense_9 (Dense)             (None, 50)                5050      \n",
            "                                                                 \n",
            " dropout_6 (Dropout)         (None, 50)                0         \n",
            "                                                                 \n",
            " dense_10 (Dense)            (None, 800)               40800     \n",
            "                                                                 \n",
            " dropout_7 (Dropout)         (None, 800)               0         \n",
            "                                                                 \n",
            " dense_11 (Dense)            (None, 1)                 801       \n",
            "                                                                 \n",
            "=================================================================\n",
            "Total params: 46,651\n",
            "Trainable params: 46,651\n",
            "Non-trainable params: 0\n",
            "_________________________________________________________________\n"
          ]
        }
      ],
      "source": [
        "from keras.models import Sequential\n",
        "from keras.layers import Dense, Dropout\n",
        "\n",
        "model = Sequential()\n",
        "\n",
        "model.add(Dense(50,input_dim=100,activation='relu'))\n",
        "model.add(Dropout(0.7))\n",
        "model.add(Dense(800, activation='LeakyReLU'))\n",
        "model.add(Dropout(0.5))\n",
        "model.add(Dense(1,activation='sigmoid'))\n",
        "\n",
        "\n",
        "\n",
        "model.compile(optimizer='adamax',loss='binary_crossentropy',metrics=['accuracy'])\n",
        "\n",
        "model.summary()"
      ]
    },
    {
      "cell_type": "code",
      "execution_count": null,
      "metadata": {
        "id": "0LBEgx3fGqSK"
      },
      "outputs": [],
      "source": [
        "from keras.callbacks import EarlyStopping\n",
        "\n",
        "es = EarlyStopping(monitor='val_loss',mode='min',patience=4,verbose=1)"
      ]
    },
    {
      "cell_type": "code",
      "execution_count": null,
      "metadata": {
        "colab": {
          "base_uri": "https://localhost:8080/"
        },
        "outputId": "31c3dc25-4071-4d2c-d3b3-56fbe7bff8e9",
        "id": "UlT4HyiTGqSK"
      },
      "outputs": [
        {
          "output_type": "stream",
          "name": "stdout",
          "text": [
            "Epoch 1/35\n",
            "300/300 [==============================] - 2s 4ms/step - loss: 0.7436 - accuracy: 0.5149 - val_loss: 0.6857 - val_accuracy: 0.5183\n",
            "Epoch 2/35\n",
            "300/300 [==============================] - 1s 4ms/step - loss: 0.7285 - accuracy: 0.5148 - val_loss: 0.6782 - val_accuracy: 0.5681\n",
            "Epoch 3/35\n",
            "300/300 [==============================] - 1s 4ms/step - loss: 0.7211 - accuracy: 0.5193 - val_loss: 0.6761 - val_accuracy: 0.5493\n",
            "Epoch 4/35\n",
            "300/300 [==============================] - 2s 5ms/step - loss: 0.7112 - accuracy: 0.5231 - val_loss: 0.6769 - val_accuracy: 0.5615\n",
            "Epoch 5/35\n",
            "300/300 [==============================] - 2s 5ms/step - loss: 0.7045 - accuracy: 0.5297 - val_loss: 0.6775 - val_accuracy: 0.5756\n",
            "Epoch 6/35\n",
            "300/300 [==============================] - 1s 4ms/step - loss: 0.7019 - accuracy: 0.5370 - val_loss: 0.6799 - val_accuracy: 0.5474\n",
            "Epoch 7/35\n",
            "300/300 [==============================] - 1s 4ms/step - loss: 0.7006 - accuracy: 0.5319 - val_loss: 0.6732 - val_accuracy: 0.5897\n",
            "Epoch 8/35\n",
            "300/300 [==============================] - 1s 3ms/step - loss: 0.6952 - accuracy: 0.5460 - val_loss: 0.6680 - val_accuracy: 0.5915\n",
            "Epoch 9/35\n",
            "300/300 [==============================] - 1s 3ms/step - loss: 0.6883 - accuracy: 0.5552 - val_loss: 0.6671 - val_accuracy: 0.5887\n",
            "Epoch 10/35\n",
            "300/300 [==============================] - 1s 4ms/step - loss: 0.6850 - accuracy: 0.5550 - val_loss: 0.6630 - val_accuracy: 0.6038\n",
            "Epoch 11/35\n",
            "300/300 [==============================] - 1s 4ms/step - loss: 0.6833 - accuracy: 0.5538 - val_loss: 0.6662 - val_accuracy: 0.5925\n",
            "Epoch 12/35\n",
            "300/300 [==============================] - 1s 3ms/step - loss: 0.6773 - accuracy: 0.5673 - val_loss: 0.6646 - val_accuracy: 0.5859\n",
            "Epoch 13/35\n",
            "300/300 [==============================] - 1s 3ms/step - loss: 0.6779 - accuracy: 0.5655 - val_loss: 0.6618 - val_accuracy: 0.5981\n",
            "Epoch 14/35\n",
            "300/300 [==============================] - 1s 3ms/step - loss: 0.6740 - accuracy: 0.5684 - val_loss: 0.6606 - val_accuracy: 0.5934\n",
            "Epoch 15/35\n",
            "300/300 [==============================] - 1s 5ms/step - loss: 0.6747 - accuracy: 0.5703 - val_loss: 0.6622 - val_accuracy: 0.5869\n",
            "Epoch 16/35\n",
            "300/300 [==============================] - 2s 5ms/step - loss: 0.6696 - accuracy: 0.5789 - val_loss: 0.6645 - val_accuracy: 0.5869\n",
            "Epoch 17/35\n",
            "300/300 [==============================] - 1s 4ms/step - loss: 0.6642 - accuracy: 0.5858 - val_loss: 0.6613 - val_accuracy: 0.5925\n",
            "Epoch 18/35\n",
            "300/300 [==============================] - 1s 3ms/step - loss: 0.6667 - accuracy: 0.5836 - val_loss: 0.6609 - val_accuracy: 0.5972\n",
            "Epoch 18: early stopping\n"
          ]
        }
      ],
      "source": [
        "history = model.fit(X_train2,y_train2,validation_split=0.1,epochs=35,\n",
        "                    callbacks=[es])"
      ]
    },
    {
      "cell_type": "code",
      "execution_count": null,
      "metadata": {
        "colab": {
          "base_uri": "https://localhost:8080/",
          "height": 428
        },
        "outputId": "5d98af7e-5650-421b-f270-ce4a477dac49",
        "id": "NV4-3SogGqSK"
      },
      "outputs": [
        {
          "output_type": "display_data",
          "data": {
            "text/plain": [
              "<Figure size 1200x400 with 2 Axes>"
            ],
            "image/png": "[encoded data removed]"
          },
          "metadata": {}
        }
      ],
      "source": [
        "import matplotlib.pyplot as plt\n",
        "\n",
        "plt.figure(figsize=(12, 4),dpi=100)\n",
        "plt.suptitle(\"Training Curves\",fontsize=16)\n",
        "plt.subplot(1, 2, 1)\n",
        "plt.suptitle(\"Validation and Training Loss\",fontsize=14)\n",
        "plt.plot(history.history['loss'], label='train')\n",
        "plt.plot(history.history['val_loss'], label='validation')\n",
        "plt.ylabel(\"Loss\")\n",
        "plt.xlabel(\"Epochs\")\n",
        "plt.legend()\n",
        "plt.subplot(1, 2, 2)\n",
        "plt.suptitle(\"Validation and Training Accuracy\",fontsize=14)\n",
        "plt.plot(history.history['accuracy'], label='train')\n",
        "plt.plot(history.history['val_accuracy'], label='validation')\n",
        "plt.legend()\n",
        "plt.xlabel(\"Epochs\")\n",
        "plt.ylabel(\"Accuracy\")\n",
        "plt.show()"
      ]
    },
    {
      "cell_type": "code",
      "execution_count": null,
      "metadata": {
        "colab": {
          "base_uri": "https://localhost:8080/"
        },
        "outputId": "61ea7076-6f89-4f7c-85ed-94cea3701ab2",
        "id": "1A53OxMfGqSL"
      },
      "outputs": [
        {
          "output_type": "stream",
          "name": "stdout",
          "text": [
            "84/84 [==============================] - 0s 1ms/step\n",
            "Test Accuracy: 0.505\n",
            "Test Recall: 0.246\n",
            "Test Precision: 0.5093167701863354\n",
            "\n",
            "Confusion Matrix:\n",
            " [[1015  316]\n",
            " [1003  328]]\n"
          ]
        }
      ],
      "source": [
        "from sklearn.metrics import accuracy_score, recall_score,precision_score, confusion_matrix\n",
        "\n",
        "predictions2 = model.predict(X_test2)\n",
        "\n",
        "pred_labels2 = []\n",
        "\n",
        "for x in predictions:\n",
        "    if x >= 0.5:\n",
        "        pred_labels2.append(1)\n",
        "    else:\n",
        "        pred_labels2.append(0)\n",
        "\n",
        "test_accuracy = accuracy_score(y_test2,pred_labels2)\n",
        "test_recall = recall_score(y_test2,pred_labels2)\n",
        "print(f\"Test Accuracy: {round(test_accuracy,3)}\")\n",
        "print(f\"Test Recall: {round(test_recall,3)}\")\n",
        "print(f\"Test Precision: {precision_score(y_test2,pred_labels2)}\")\n",
        "\n",
        "print(\"\\nConfusion Matrix:\\n\",confusion_matrix(y_test2,pred_labels2))"
      ]
    },
    {
      "cell_type": "code",
      "source": [
        "from sklearn.metrics import confusion_matrix, ConfusionMatrixDisplay\n",
        "plt.figure(figsize=(.1,.1))\n",
        "#sns.heatmap(cm,cmap='plasma',annot=True)\n",
        "cm_display = ConfusionMatrixDisplay(confusion_matrix = confusion_matrix(y_test2,pred_labels2), display_labels = ['0', '1' ])\n",
        "cm_display.plot()\n",
        "plt.show()"
      ],
      "metadata": {
        "colab": {
          "base_uri": "https://localhost:8080/",
          "height": 466
        },
        "outputId": "b54dad4a-416e-4685-ea1d-215165dcef32",
        "id": "R9E7M9GKGqSL"
      },
      "execution_count": null,
      "outputs": [
        {
          "output_type": "display_data",
          "data": {
            "text/plain": [
              "<Figure size 10x10 with 0 Axes>"
            ]
          },
          "metadata": {}
        },
        {
          "output_type": "display_data",
          "data": {
            "text/plain": [
              "<Figure size 640x480 with 2 Axes>"
            ],
            "image/png": "[encoded data removed]"
          },
          "metadata": {}
        }
      ]
    },
    {
      "cell_type": "markdown",
      "metadata": {
        "id": "Mm3eeZUjGqSO"
      },
      "source": [
        "##Veamos el score ROC-AUC"
      ]
    },
    {
      "cell_type": "code",
      "execution_count": null,
      "metadata": {
        "colab": {
          "base_uri": "https://localhost:8080/"
        },
        "outputId": "fbb2ba87-10a7-4dfa-da9c-68d2bbef9e9c",
        "id": "MVgzoiZsGqSP"
      },
      "outputs": [
        {
          "output_type": "stream",
          "name": "stdout",
          "text": [
            "84/84 [==============================] - 0s 1ms/step\n",
            "Shape de y_test: (2662,)\n",
            "Shape de las predicciones para el conjunto de prueba: (2662, 1)\n"
          ]
        },
        {
          "output_type": "execute_result",
          "data": {
            "text/plain": [
              "0.6464222795602297"
            ]
          },
          "metadata": {},
          "execution_count": 64
        }
      ],
      "source": [
        "from sklearn.metrics import roc_auc_score\n",
        "\n",
        "predictions_matrix = model.predict(X_test2)\n",
        "print(f\"Shape de y_test: {y_test2.shape}\")\n",
        "print(f\"Shape de las predicciones para el conjunto de prueba: {predictions_matrix.shape}\")\n",
        "\n",
        "roc_auc_score(y_test2,predictions_matrix)"
      ]
    }
  ],
  "metadata": {
    "colab": {
      "provenance": [],
      "gpuType": "T4"
    },
    "kernelspec": {
      "display_name": "Python 3",
      "name": "python3"
    },
    "language_info": {
      "name": "python"
    },
    "accelerator": "GPU"
  },
  "nbformat": 4,
  "nbformat_minor": 0
}