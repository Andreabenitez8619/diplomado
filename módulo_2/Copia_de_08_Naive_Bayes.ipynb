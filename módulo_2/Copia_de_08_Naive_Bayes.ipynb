{
  "cells": [
    {
      "cell_type": "markdown",
      "metadata": {
        "id": "7m2L9c0IfnGA"
      },
      "source": [
        "<a href=\"https://colab.research.google.com/github/DCDPUAEM/DCDP/blob/master/02-Machine-Learning/notebooks/08-Naive-Bayes.ipynb\" target=\"_parent\"><img src=\"https://colab.research.google.com/assets/colab-badge.svg\" alt=\"Open In Colab\"/></a>"
      ]
    },
    {
      "cell_type": "markdown",
      "metadata": {
        "id": "xRzVC46XfnGD"
      },
      "source": [
        "# Clasificador Naive Bayes\n",
        "\n",
        "En esta notebook implementaremos un clasificador Naive-Bayes para resolver problemas de clasificación de texto. Además, mostraremos cómo usar la implementación de scikit-learn."
      ]
    },
    {
      "cell_type": "code",
      "execution_count": null,
      "metadata": {
        "id": "jNj7498efnGF"
      },
      "outputs": [],
      "source": [
        "import pandas as pd\n",
        "import numpy as np"
      ]
    },
    {
      "cell_type": "markdown",
      "metadata": {
        "id": "evFtGtWUfnGG"
      },
      "source": [
        "Traemos la carpeta 'data' desde el repositorio de github"
      ]
    },
    {
      "cell_type": "code",
      "execution_count": null,
      "metadata": {
        "id": "kl1KHqkNfnGH",
        "colab": {
          "base_uri": "https://localhost:8080/"
        },
        "outputId": "9bac722a-18c7-42b7-a129-30d82577ecd6"
      },
      "outputs": [
        {
          "output_type": "stream",
          "name": "stdout",
          "text": [
            "Checked out revision 191.\n"
          ]
        }
      ],
      "source": [
        "# !apt-get -qq install subversion\n",
        "!apt-get -qq install > /dev/null subversion\n",
        "\n",
        "!svn checkout \"https://github.com/DCDPUAEM/DCDP/trunk/02-Machine-Learning/data/\""
      ]
    },
    {
      "cell_type": "markdown",
      "metadata": {
        "id": "2KYy8TtafnGI"
      },
      "source": [
        "## Archivo de datos preprocesados\n",
        "\n",
        "* El dataframe contiene una matriz BOW.\n",
        "\n",
        "$$\\begin{array}{cccc}\n",
        "    & doc_1 & ... & doc_n \\\\\n",
        "w_1 & 0 & ... & 1 \\\\\n",
        "... & ... & ... & ... \\\\\n",
        "w_k & 2 & ... & 1 \n",
        "\\end{array}$$\n",
        "\n",
        "donde $w_i$ es la $i$-sima palabra en el corpus y $doc_j$ es el $j$-simo documento (email).\n",
        "\n",
        "* Son 1000 correos y 9406 palabras.\n",
        "\n",
        "* Los correos vienen etiquetados de la siguiente forma: `correo_enron1_<0/1>_<#email>` donde \n",
        "\n",
        "    * 0: Ham \n",
        "    * 1: Spam"
      ]
    },
    {
      "cell_type": "code",
      "execution_count": null,
      "metadata": {
        "id": "2J13sCMQfnGI",
        "colab": {
          "base_uri": "https://localhost:8080/",
          "height": 318
        },
        "outputId": "3a041f7c-e788-40df-d5f1-51224b55d0b1"
      },
      "outputs": [
        {
          "output_type": "stream",
          "name": "stdout",
          "text": [
            "(9406, 1001)\n"
          ]
        },
        {
          "output_type": "execute_result",
          "data": {
            "text/plain": [
              "       WORD  correo_enron1_0_0  correo_enron1_0_1  correo_enron1_0_2  \\\n",
              "0        fw                  1                  0                  0   \n",
              "1  everyone                  1                  0                  0   \n",
              "2    access                  3                  0                  0   \n",
              "3    change                  1                  0                  0   \n",
              "4  security                  2                  0                  0   \n",
              "\n",
              "   correo_enron1_0_3  correo_enron1_0_4  correo_enron1_0_5  correo_enron1_0_6  \\\n",
              "0                  0                  0                  0                  0   \n",
              "1                  0                  0                  0                  0   \n",
              "2                  0                  0                  0                  0   \n",
              "3                  0                  5                  0                  0   \n",
              "4                  0                  0                  0                  0   \n",
              "\n",
              "   correo_enron1_0_7  correo_enron1_0_8  ...  correo_enron1_1_490  \\\n",
              "0                  0                  0  ...                    0   \n",
              "1                  0                  0  ...                    0   \n",
              "2                  0                  0  ...                    0   \n",
              "3                  0                  0  ...                    1   \n",
              "4                  0                  0  ...                    0   \n",
              "\n",
              "   correo_enron1_1_491  correo_enron1_1_492  correo_enron1_1_493  \\\n",
              "0                    0                    0                    0   \n",
              "1                    0                    0                    0   \n",
              "2                    0                    0                    0   \n",
              "3                    0                    0                    0   \n",
              "4                    0                    0                    0   \n",
              "\n",
              "   correo_enron1_1_494  correo_enron1_1_495  correo_enron1_1_496  \\\n",
              "0                    0                    0                    0   \n",
              "1                    0                    0                    0   \n",
              "2                    0                    0                    0   \n",
              "3                    0                    0                    0   \n",
              "4                    0                    0                    0   \n",
              "\n",
              "   correo_enron1_1_497  correo_enron1_1_498  correo_enron1_1_499  \n",
              "0                    0                    0                    0  \n",
              "1                    0                    0                    0  \n",
              "2                    0                    0                    0  \n",
              "3                    0                    0                    1  \n",
              "4                    0                    0                    2  \n",
              "\n",
              "[5 rows x 1001 columns]"
            ],
            "text/html": [
              "\n",
              "  <div id=\"df-386ccda3-8e36-4655-9326-b2fd7e74e8aa\">\n",
              "    <div class=\"colab-df-container\">\n",
              "      <div>\n",
              "<style scoped>\n",
              "    .dataframe tbody tr th:only-of-type {\n",
              "        vertical-align: middle;\n",
              "    }\n",
              "\n",
              "    .dataframe tbody tr th {\n",
              "        vertical-align: top;\n",
              "    }\n",
              "\n",
              "    .dataframe thead th {\n",
              "        text-align: right;\n",
              "    }\n",
              "</style>\n",
              "<table border=\"1\" class=\"dataframe\">\n",
              "  <thead>\n",
              "    <tr style=\"text-align: right;\">\n",
              "      <th></th>\n",
              "      <th>WORD</th>\n",
              "      <th>correo_enron1_0_0</th>\n",
              "      <th>correo_enron1_0_1</th>\n",
              "      <th>correo_enron1_0_2</th>\n",
              "      <th>correo_enron1_0_3</th>\n",
              "      <th>correo_enron1_0_4</th>\n",
              "      <th>correo_enron1_0_5</th>\n",
              "      <th>correo_enron1_0_6</th>\n",
              "      <th>correo_enron1_0_7</th>\n",
              "      <th>correo_enron1_0_8</th>\n",
              "      <th>...</th>\n",
              "      <th>correo_enron1_1_490</th>\n",
              "      <th>correo_enron1_1_491</th>\n",
              "      <th>correo_enron1_1_492</th>\n",
              "      <th>correo_enron1_1_493</th>\n",
              "      <th>correo_enron1_1_494</th>\n",
              "      <th>correo_enron1_1_495</th>\n",
              "      <th>correo_enron1_1_496</th>\n",
              "      <th>correo_enron1_1_497</th>\n",
              "      <th>correo_enron1_1_498</th>\n",
              "      <th>correo_enron1_1_499</th>\n",
              "    </tr>\n",
              "  </thead>\n",
              "  <tbody>\n",
              "    <tr>\n",
              "      <th>0</th>\n",
              "      <td>fw</td>\n",
              "      <td>1</td>\n",
              "      <td>0</td>\n",
              "      <td>0</td>\n",
              "      <td>0</td>\n",
              "      <td>0</td>\n",
              "      <td>0</td>\n",
              "      <td>0</td>\n",
              "      <td>0</td>\n",
              "      <td>0</td>\n",
              "      <td>...</td>\n",
              "      <td>0</td>\n",
              "      <td>0</td>\n",
              "      <td>0</td>\n",
              "      <td>0</td>\n",
              "      <td>0</td>\n",
              "      <td>0</td>\n",
              "      <td>0</td>\n",
              "      <td>0</td>\n",
              "      <td>0</td>\n",
              "      <td>0</td>\n",
              "    </tr>\n",
              "    <tr>\n",
              "      <th>1</th>\n",
              "      <td>everyone</td>\n",
              "      <td>1</td>\n",
              "      <td>0</td>\n",
              "      <td>0</td>\n",
              "      <td>0</td>\n",
              "      <td>0</td>\n",
              "      <td>0</td>\n",
              "      <td>0</td>\n",
              "      <td>0</td>\n",
              "      <td>0</td>\n",
              "      <td>...</td>\n",
              "      <td>0</td>\n",
              "      <td>0</td>\n",
              "      <td>0</td>\n",
              "      <td>0</td>\n",
              "      <td>0</td>\n",
              "      <td>0</td>\n",
              "      <td>0</td>\n",
              "      <td>0</td>\n",
              "      <td>0</td>\n",
              "      <td>0</td>\n",
              "    </tr>\n",
              "    <tr>\n",
              "      <th>2</th>\n",
              "      <td>access</td>\n",
              "      <td>3</td>\n",
              "      <td>0</td>\n",
              "      <td>0</td>\n",
              "      <td>0</td>\n",
              "      <td>0</td>\n",
              "      <td>0</td>\n",
              "      <td>0</td>\n",
              "      <td>0</td>\n",
              "      <td>0</td>\n",
              "      <td>...</td>\n",
              "      <td>0</td>\n",
              "      <td>0</td>\n",
              "      <td>0</td>\n",
              "      <td>0</td>\n",
              "      <td>0</td>\n",
              "      <td>0</td>\n",
              "      <td>0</td>\n",
              "      <td>0</td>\n",
              "      <td>0</td>\n",
              "      <td>0</td>\n",
              "    </tr>\n",
              "    <tr>\n",
              "      <th>3</th>\n",
              "      <td>change</td>\n",
              "      <td>1</td>\n",
              "      <td>0</td>\n",
              "      <td>0</td>\n",
              "      <td>0</td>\n",
              "      <td>5</td>\n",
              "      <td>0</td>\n",
              "      <td>0</td>\n",
              "      <td>0</td>\n",
              "      <td>0</td>\n",
              "      <td>...</td>\n",
              "      <td>1</td>\n",
              "      <td>0</td>\n",
              "      <td>0</td>\n",
              "      <td>0</td>\n",
              "      <td>0</td>\n",
              "      <td>0</td>\n",
              "      <td>0</td>\n",
              "      <td>0</td>\n",
              "      <td>0</td>\n",
              "      <td>1</td>\n",
              "    </tr>\n",
              "    <tr>\n",
              "      <th>4</th>\n",
              "      <td>security</td>\n",
              "      <td>2</td>\n",
              "      <td>0</td>\n",
              "      <td>0</td>\n",
              "      <td>0</td>\n",
              "      <td>0</td>\n",
              "      <td>0</td>\n",
              "      <td>0</td>\n",
              "      <td>0</td>\n",
              "      <td>0</td>\n",
              "      <td>...</td>\n",
              "      <td>0</td>\n",
              "      <td>0</td>\n",
              "      <td>0</td>\n",
              "      <td>0</td>\n",
              "      <td>0</td>\n",
              "      <td>0</td>\n",
              "      <td>0</td>\n",
              "      <td>0</td>\n",
              "      <td>0</td>\n",
              "      <td>2</td>\n",
              "    </tr>\n",
              "  </tbody>\n",
              "</table>\n",
              "<p>5 rows × 1001 columns</p>\n",
              "</div>\n",
              "      <button class=\"colab-df-convert\" onclick=\"convertToInteractive('df-386ccda3-8e36-4655-9326-b2fd7e74e8aa')\"\n",
              "              title=\"Convert this dataframe to an interactive table.\"\n",
              "              style=\"display:none;\">\n",
              "        \n",
              "  <svg xmlns=\"http://www.w3.org/2000/svg\" height=\"24px\"viewBox=\"0 0 24 24\"\n",
              "       width=\"24px\">\n",
              "    <path d=\"M0 0h24v24H0V0z\" fill=\"none\"/>\n",
              "    <path d=\"M18.56 5.44l.94 2.06.94-2.06 2.06-.94-2.06-.94-.94-2.06-.94 2.06-2.06.94zm-11 1L8.5 8.5l.94-2.06 2.06-.94-2.06-.94L8.5 2.5l-.94 2.06-2.06.94zm10 10l.94 2.06.94-2.06 2.06-.94-2.06-.94-.94-2.06-.94 2.06-2.06.94z\"/><path d=\"M17.41 7.96l-1.37-1.37c-.4-.4-.92-.59-1.43-.59-.52 0-1.04.2-1.43.59L10.3 9.45l-7.72 7.72c-.78.78-.78 2.05 0 2.83L4 21.41c.39.39.9.59 1.41.59.51 0 1.02-.2 1.41-.59l7.78-7.78 2.81-2.81c.8-.78.8-2.07 0-2.86zM5.41 20L4 18.59l7.72-7.72 1.47 1.35L5.41 20z\"/>\n",
              "  </svg>\n",
              "      </button>\n",
              "      \n",
              "  <style>\n",
              "    .colab-df-container {\n",
              "      display:flex;\n",
              "      flex-wrap:wrap;\n",
              "      gap: 12px;\n",
              "    }\n",
              "\n",
              "    .colab-df-convert {\n",
              "      background-color: #E8F0FE;\n",
              "      border: none;\n",
              "      border-radius: 50%;\n",
              "      cursor: pointer;\n",
              "      display: none;\n",
              "      fill: #1967D2;\n",
              "      height: 32px;\n",
              "      padding: 0 0 0 0;\n",
              "      width: 32px;\n",
              "    }\n",
              "\n",
              "    .colab-df-convert:hover {\n",
              "      background-color: #E2EBFA;\n",
              "      box-shadow: 0px 1px 2px rgba(60, 64, 67, 0.3), 0px 1px 3px 1px rgba(60, 64, 67, 0.15);\n",
              "      fill: #174EA6;\n",
              "    }\n",
              "\n",
              "    [theme=dark] .colab-df-convert {\n",
              "      background-color: #3B4455;\n",
              "      fill: #D2E3FC;\n",
              "    }\n",
              "\n",
              "    [theme=dark] .colab-df-convert:hover {\n",
              "      background-color: #434B5C;\n",
              "      box-shadow: 0px 1px 3px 1px rgba(0, 0, 0, 0.15);\n",
              "      filter: drop-shadow(0px 1px 2px rgba(0, 0, 0, 0.3));\n",
              "      fill: #FFFFFF;\n",
              "    }\n",
              "  </style>\n",
              "\n",
              "      <script>\n",
              "        const buttonEl =\n",
              "          document.querySelector('#df-386ccda3-8e36-4655-9326-b2fd7e74e8aa button.colab-df-convert');\n",
              "        buttonEl.style.display =\n",
              "          google.colab.kernel.accessAllowed ? 'block' : 'none';\n",
              "\n",
              "        async function convertToInteractive(key) {\n",
              "          const element = document.querySelector('#df-386ccda3-8e36-4655-9326-b2fd7e74e8aa');\n",
              "          const dataTable =\n",
              "            await google.colab.kernel.invokeFunction('convertToInteractive',\n",
              "                                                     [key], {});\n",
              "          if (!dataTable) return;\n",
              "\n",
              "          const docLinkHtml = 'Like what you see? Visit the ' +\n",
              "            '<a target=\"_blank\" href=https://colab.research.google.com/notebooks/data_table.ipynb>data table notebook</a>'\n",
              "            + ' to learn more about interactive tables.';\n",
              "          element.innerHTML = '';\n",
              "          dataTable['output_type'] = 'display_data';\n",
              "          await google.colab.output.renderOutput(dataTable, element);\n",
              "          const docLink = document.createElement('div');\n",
              "          docLink.innerHTML = docLinkHtml;\n",
              "          element.appendChild(docLink);\n",
              "        }\n",
              "      </script>\n",
              "    </div>\n",
              "  </div>\n",
              "  "
            ]
          },
          "metadata": {},
          "execution_count": 3
        }
      ],
      "source": [
        "data = pd.read_csv('data/frecuencia_palabras.csv',index_col=0) # lectura del documento con pandas\n",
        "\n",
        "print(data.shape)\n",
        "data.head()"
      ]
    },
    {
      "cell_type": "markdown",
      "source": [
        "Algunas palabras"
      ],
      "metadata": {
        "id": "B2Hphm_BWHNM"
      }
    },
    {
      "cell_type": "code",
      "source": [
        "list(data['WORD'].values[:15])"
      ],
      "metadata": {
        "id": "yby-FYIsV96N",
        "colab": {
          "base_uri": "https://localhost:8080/"
        },
        "outputId": "6b60e78c-8aaa-43cd-bb4d-fcd1909919fc"
      },
      "execution_count": null,
      "outputs": [
        {
          "output_type": "execute_result",
          "data": {
            "text/plain": [
              "['fw',\n",
              " 'everyone',\n",
              " 'access',\n",
              " 'change',\n",
              " 'security',\n",
              " 'reason',\n",
              " 'brandee',\n",
              " 'process',\n",
              " 'initiate',\n",
              " 'request',\n",
              " 'get',\n",
              " 'approve',\n",
              " 'email',\n",
              " 'addition',\n",
              " 'network']"
            ]
          },
          "metadata": {},
          "execution_count": 4
        }
      ]
    },
    {
      "cell_type": "markdown",
      "metadata": {
        "id": "4d56CAe3fnGJ"
      },
      "source": [
        "Extraemos $X$, $y$ del conjunto de datos"
      ]
    },
    {
      "cell_type": "code",
      "source": [
        "y = np.array([0 if 'correo_enron1_0' in col else 1 for col in data.columns.to_list()[1:]])\n",
        "\n",
        "X = data.iloc[:,1:].values.T\n",
        "\n",
        "print(X.shape,y.shape)"
      ],
      "metadata": {
        "id": "ZIh8B9grj-dG",
        "colab": {
          "base_uri": "https://localhost:8080/"
        },
        "outputId": "44ec5ee3-b275-4159-9ee8-a030d7791ab8"
      },
      "execution_count": null,
      "outputs": [
        {
          "output_type": "stream",
          "name": "stdout",
          "text": [
            "(1000, 9406) (1000,)\n"
          ]
        }
      ]
    },
    {
      "cell_type": "markdown",
      "source": [
        "Separamos en conjunto de entrenamiento y prueba"
      ],
      "metadata": {
        "id": "RvBecjqZtx63"
      }
    },
    {
      "cell_type": "code",
      "source": [
        "from sklearn.model_selection import train_test_split\n",
        "\n",
        "X_train, X_test, y_train, y_test = train_test_split(X,y,\n",
        "                                                    test_size=0.2,random_state=40)"
      ],
      "metadata": {
        "id": "ozQpp77mtxON"
      },
      "execution_count": null,
      "outputs": []
    },
    {
      "cell_type": "code",
      "execution_count": null,
      "metadata": {
        "id": "wMIu9bJ-fnGN",
        "colab": {
          "base_uri": "https://localhost:8080/"
        },
        "outputId": "4af6b1cd-b8f1-4431-b06e-69536d322c05"
      },
      "outputs": [
        {
          "output_type": "stream",
          "name": "stdout",
          "text": [
            "Correos de Entrenamiento: 800; Features (palabras): 9406\n",
            "Correos de Pruba: 200; Features (palabras): 9406\n",
            "Clases de Prueba:\n",
            "[0 0 1 1 0 0 0 0 0 1 0 1 0 1 0 1 0 0 1 0 0 0 1 0 1 1 0 0 0 0 1 1 1 1 0 1 0\n",
            " 1 1 0 0 1 1 1 1 0 1 0 0 1 1 1 1 0 0 1 0 0 1 1 0 1 1 1 1 0 0 0 0 1 0 1 0 0\n",
            " 1 0 1 0 1 1 1 0 1 1 0 0 1 1 0 0 1 0 0 0 0 0 1 1 0 0 1 1 0 0 1 0 1 1 1 0 0\n",
            " 0 1 1 0 0 1 1 1 0 1 0 1 0 0 1 0 0 0 1 0 0 1 1 1 0 0 1 1 1 1 1 0 1 0 0 1 1\n",
            " 0 1 1 0 0 1 0 1 1 1 1 1 0 1 0 0 1 1 0 1 1 0 1 0 0 1 0 0 0 0 0 1 0 1 0 1 1\n",
            " 1 1 1 1 0 1 0 0 1 1 1 1 1 1 1]\n"
          ]
        }
      ],
      "source": [
        "print(f\"Correos de Entrenamiento: {X_train.shape[0]}; Features (palabras): {X_train.shape[1]}\")\n",
        "print(f\"Correos de Pruba: {X_test.shape[0]}; Features (palabras): {X_test.shape[1]}\")\n",
        "print(\"Clases de Prueba:\")\n",
        "print(y_test)"
      ]
    },
    {
      "cell_type": "markdown",
      "metadata": {
        "id": "Bhj0fGbdfnGP"
      },
      "source": [
        "## Entrenamiento - NAIVE BAYES MULTINOMIAL\n",
        "\n",
        "En el caso de un problema de clasificación de documentos, consideramos el vocabulario del conjunto de documentos. Cada documento es considerado como la secuencia del número de ocurrencias de cada palabra del vocabulario dentro del documento.\n",
        "\n",
        "\n",
        "Entonces, la distribución multinomial nos dice cuál es la probabilidad de que un documento pertenezca a una clase $y_j$.\n",
        "\n",
        "\n",
        "---\n",
        "\n",
        "\n",
        "\n",
        "La distribución de probabilidad de la Variable Aleatoria $\\textrm{x}$ es una distribución multinomial (conteos de palabras) de la conjunción de palabras únicas, es decir del vocabulario, el cual es denotado por $V$.\n",
        "\n",
        "$P(x_i|y_j)$ nos dice qué tan probable es que la palabra $x_i$ aparezca en la clase $j$. Esta probabilidad está dada por:\n",
        "\n",
        "$$ P(x_i|y_j) = \\theta_i^j=\\frac{n_i + 1}{|S_j| + k} ;\\;\\;\\;\n",
        "\\begin{array}{l}\n",
        "i=1,2,\\ldots,k \\\\\n",
        "j\\in\\{\\text{Spam},\\text{Ham}\\}\n",
        "\\end{array}\n",
        "$$\n",
        "\n",
        "* $|S_j|$ es la suma de los conteos de todas las palabras para la clase $y_j$. \n",
        "* $k=|V|$ es la longitud del vocabulario, el número de palabras únicas.\n",
        "* $n_i$ es la suma de los conteos para la palabra $i$ en la case $y_j$.\n",
        "\n",
        "Por la forma de calcular la probabilidad queremos evitar que $\\theta_i^j=0$.\n",
        "\n",
        "Al final obtenemos dos vectores $\\theta_0$ y $\\theta_1$:\n",
        "\n",
        "* $\\theta_0=(\\theta_1^{\\text{Spam}},\\ldots,\\theta_k^{\\text{Spam}})$, nos dice la probabilidad de que cada palabra aparezca en correos *Spam*.\n",
        "* $\\theta_1=(\\theta_1^{\\text{Ham}},\\ldots,\\theta_k^{\\text{Ham}})$, nos dice la probabilidad de que cada palabra aparezca en correos *Ham*.\n",
        "\n",
        "Observar que \n",
        "\n",
        "$$\\sum_{i=1}^k \\theta_i^{\\text{Ham}}=1,\\;\\;\\sum_{i=1}^k \\theta_i^{\\text{Spam}}=1$$"
      ]
    },
    {
      "cell_type": "markdown",
      "metadata": {
        "id": "Fpk23FqIfnGQ"
      },
      "source": [
        "Entrena al modelo para obtener los vectores $\\theta_0$ y $\\theta_1$. utiliza la fórmula para $P(x_i|y_j)$.\n",
        "\n",
        "Crea una función que reciba un arreglo o un dataframe $X_{train}$ y devuelva dos vectores: $\\theta_p$ y $\\theta_n$."
      ]
    },
    {
      "cell_type": "code",
      "source": [
        "def fit(X_train,y_train):\n",
        "    \"\"\"\n",
        "    Entrenamiento del clasificador NAIVE BAYES:\n",
        "    Entrada: \n",
        "     - X_train: un DataFrame o Arreglo con instancias de entrenamiento.\n",
        "    Salida:\n",
        "     - una lista: [theta_n,theta_p] conteniendo \n",
        "       los vectores (np.arrays) de probabilidad de cada feature (palabra) \n",
        "       en correos Ham y Spam respectivamente. \n",
        "    \"\"\"\n",
        "    correos,k = X_train.shape # numero de palabras\n",
        "    print(f\"numero de palabras: {k}\")\n",
        "    print(f\"número de correos: {correos}\")\n",
        "    theta = []\n",
        "    for j in range(2):\n",
        "        x_train_clase = X_train[y_train==j]\n",
        "        n = np.sum(x_train_clase,axis=0)+1        # calcula n_i para cada palabra\n",
        "        S = np.sum(x_train_clase)+k               # calcula |S_j|+k\n",
        "        print(n)\n",
        "        theta.append(n/S)                 # calcula theta correspondiente\n",
        "    print('theta shapes=',theta[0].shape,theta[1].shape) #debe ser (k,) para ambos\n",
        "\n",
        "    return theta[0],theta[1]"
      ],
      "metadata": {
        "id": "jRZ_19v5s9lI"
      },
      "execution_count": null,
      "outputs": []
    },
    {
      "cell_type": "markdown",
      "metadata": {
        "id": "QVgGQ-UwfnGT"
      },
      "source": [
        "**Entrena el modelo**"
      ]
    },
    {
      "cell_type": "code",
      "execution_count": null,
      "metadata": {
        "id": "lPU7jCLYfnGT",
        "colab": {
          "base_uri": "https://localhost:8080/"
        },
        "outputId": "d44731d7-43fd-46a3-aa7f-03db1ad61233"
      },
      "outputs": [
        {
          "output_type": "stream",
          "name": "stdout",
          "text": [
            "numero de palabras: 9406\n",
            "número de correos: 800\n",
            "[35 19 21 ...  1  1  1]\n",
            "[ 5 12 13 ...  2  2  2]\n",
            "theta shapes= (9406,) (9406,)\n"
          ]
        }
      ],
      "source": [
        "theta_n, theta_p = fit(X_train,y_train)"
      ]
    },
    {
      "cell_type": "code",
      "source": [
        "theta_n.shape, theta_p.shape"
      ],
      "metadata": {
        "id": "E2XR0nGBsjW_",
        "colab": {
          "base_uri": "https://localhost:8080/"
        },
        "outputId": "8bac3ba0-0d4c-4ced-f17e-154f6b8e7090"
      },
      "execution_count": null,
      "outputs": [
        {
          "output_type": "execute_result",
          "data": {
            "text/plain": [
              "((9406,), (9406,))"
            ]
          },
          "metadata": {},
          "execution_count": 10
        }
      ]
    },
    {
      "cell_type": "code",
      "execution_count": null,
      "metadata": {
        "id": "sXAV4F_0fnGU",
        "colab": {
          "base_uri": "https://localhost:8080/"
        },
        "outputId": "f2389641-6ea1-4d88-9715-016501dc133b"
      },
      "outputs": [
        {
          "output_type": "stream",
          "name": "stdout",
          "text": [
            "La suma para vector debe ser 1 \n",
            " Theta_p :  1.0\n",
            "La suma para vector debe ser 1 \n",
            " Theta_n :  1.0\n"
          ]
        }
      ],
      "source": [
        "print(\"La suma para vector debe ser 1 \\n Theta_p : \",np.sum(theta_p))\n",
        "print(\"La suma para vector debe ser 1 \\n Theta_n : \",np.sum(theta_n))"
      ]
    },
    {
      "cell_type": "markdown",
      "metadata": {
        "id": "ho04HflDfnGW"
      },
      "source": [
        "## Prueba del Modelo"
      ]
    },
    {
      "cell_type": "markdown",
      "metadata": {
        "id": "Yw1NO61yfnGW"
      },
      "source": [
        "La función que calcula la verosimilitud está dada por\n",
        "\n",
        "$$ p(\\textrm{x}|\\theta) =  \\prod_{i=1}^{k} p(x_i|\\theta) = n!\\times\\frac{\\theta_{1}^{x_1}}{x_1!}\\times...\\times\\frac{\\theta_k^{x_k}}{x_k!}$$\n",
        "\n",
        "donde $\\textrm{x}=(x_1,...,x_k)$ es el documento dado por los conteos de las palabras, $\\theta\\in\\{\\theta^\\text{Spam},\\theta^\\text{Ham}\\}$ y $n=\\sum x_i$.\n",
        "\n",
        "La función de verosimilitud nos dice qué tanto una clase $j$ explica (hace creíbles) los datos $\\textrm{x}$. \n",
        "\n",
        "<br>\n",
        "\n",
        "\n",
        "---\n",
        "\n",
        "<br>\n",
        "\n",
        "La implementación de la distribución de probabilidad de arriba puede llevar a errores numéricos por términos $x_i$ muy grandes o $\\theta_i$ muy pequeños. Por lo tanto calculamos la *verosimilitud logarítmica*:\n",
        "\n",
        "$$ \\log(p(\\textrm{x}|\\theta)) =  \\log(n!) + x_1\\log(\\theta_{1})-\\log(x_1!)+ ... + x_k\\log(\\theta_{k})-\\log(x_k!)$$\n",
        "\n",
        "Después usamos la exponencial para obtener $p(\\textrm{x}|\\theta)$. "
      ]
    },
    {
      "cell_type": "markdown",
      "metadata": {
        "id": "gxr0hMmXfnGW"
      },
      "source": [
        "\n",
        "* Se recomienda usar:\n",
        "  - `np.math.log` para escalares\n",
        "  - `np.log` para arreglos\n",
        "  - `np.math.factorial` para escalares \n",
        "  - `scipy.special.factorial` para arreglos.\n",
        "  - `np.math.exp` como inverso de `log`"
      ]
    },
    {
      "cell_type": "code",
      "execution_count": null,
      "metadata": {
        "id": "yMuSdlm2fnGX"
      },
      "outputs": [],
      "source": [
        "from scipy.special import factorial\n",
        "\n",
        "def P_Mi(x,theta):\n",
        "    \"\"\"\n",
        "    Cálcula la función de verosimilitud: P(x|theta)\n",
        "    Entrada:\n",
        "     - x: arreglo unidimensional de datos\n",
        "     - theta: arreglo unidimensional de probabilidades dim(theta)=dim(x)\n",
        "    Salida:\n",
        "     - Valor de log(P(x|theta)) según distribución MULTINOMIAL de x\n",
        "    \"\"\"\n",
        "    if not isinstance(x,np.ndarray):  \n",
        "        raise TypeError('Error, x debe ser de tipo numpy.ndarray')\n",
        "        \n",
        "    P_x = 0\n",
        "    \n",
        "    '''\n",
        "    SOLUCIÓN 1: USANDO UN CICLO 'FOR'\n",
        "    '''  \n",
        "    # prod = 0   \n",
        "    # n_i = 0  \n",
        "    # for i in range(len(x)):\n",
        "    #     n_i += x[i]\n",
        "    #     prod += (x[i]*np.math.log(theta[i]) - np.math.log(np.math.factorial(x[i])))\n",
        "    # n_fact = np.math.log(np.math.factorial(n_i))\n",
        "    # P_x = prod + n_fact\n",
        "\n",
        "    '''\n",
        "    SOLUCIÓN 2: USANDO VECTORIZACIÓN DE NUMPY (MÁS RÁPIDO)\n",
        "    '''  \n",
        "    P_x = x*np.log(theta)-np.log(factorial(x))\n",
        "    P_x = np.sum(P_x)\n",
        "    n = np.sum(x)\n",
        "    P_x += np.math.log(np.math.factorial(n))\n",
        "    \"\"\" ------------- \"\"\"\n",
        "    \n",
        "    return np.math.exp(P_x)"
      ]
    },
    {
      "cell_type": "markdown",
      "metadata": {
        "id": "IslQiBi1fnGX"
      },
      "source": [
        "Definimos la función que clasifica X mediante el criterio LR:<br> <br>\n",
        "\n",
        "$$ LR = \\frac{p(\\textrm{x}|\\theta_{Pos})}{p(\\textrm{x}|\\theta_{Neg})}$$\n",
        "\n",
        "\n",
        "Este modelo utiliza la razón de verosimilitud (LR) para hacer la predición de la clase del documento $\\textrm{x}$.\n",
        "\n",
        "* Si $LR > 1$ $\\Rightarrow$ $y=1$ <br>\n",
        "* Si $LR < 1$ $\\Rightarrow$ $y=0$ <br>"
      ]
    },
    {
      "cell_type": "code",
      "execution_count": null,
      "metadata": {
        "id": "IdJTvdXNfnGX"
      },
      "outputs": [],
      "source": [
        "def clasifica_LR(X_test,theta_p, theta_n):\n",
        "    \"\"\"\n",
        "    Calcula: LR=P(x|y=+)/P(x|y=-)\n",
        "    Entrada:\n",
        "     - X_test: arreglo o DataFrame de datos\n",
        "     - theta_p: arreglo unidimensional de probabilidades Pos\n",
        "     - theta_n: arreglo unidimensional de probabilidades Neg\n",
        "    Salida:\n",
        "     - Valor de LR\n",
        "    \"\"\"\n",
        "    instancias = X_test.shape[0]\n",
        "    y = np.zeros(instancias)\n",
        "    if not isinstance(X_test,np.ndarray):\n",
        "        X_ = X_test.values\n",
        "    else:\n",
        "        X_ = X_test \n",
        "    for i in range(instancias):\n",
        "        pos = P_Mi(X_[i,:],theta_p)\n",
        "        neg = P_Mi(X_[i,:],theta_n)\n",
        "        try:\n",
        "            lr = pos/neg\n",
        "        except:\n",
        "            lr = 1\n",
        "        if lr>=1:\n",
        "            y[i] = 1\n",
        "        else:\n",
        "            y[i] = 0\n",
        "    return y.astype(int)    "
      ]
    },
    {
      "cell_type": "markdown",
      "metadata": {
        "id": "ZrdHLW7JfnGY"
      },
      "source": [
        "## Evaluamos el modelo\n",
        "\n",
        "La siguiente función predice las etiquetas de un conjunto de prueba.\n",
        "\n",
        "Recibe el arreglo de datos de prueba, el vector theta positivo y negativo para el LR."
      ]
    },
    {
      "cell_type": "code",
      "execution_count": null,
      "metadata": {
        "id": "fqjoRTDOfnGY",
        "colab": {
          "base_uri": "https://localhost:8080/"
        },
        "outputId": "2a7eb177-6719-429d-9ff2-d3b8a89c6174"
      },
      "outputs": [
        {
          "output_type": "stream",
          "name": "stdout",
          "text": [
            "[0 1 1 1 0 0 0 0 0 1 0 1 0 0 0 1 0 0 0 0 0 0 1 0 1 1 0 0 0 0 1 1 1 1 0 1 0\n",
            " 1 1 0 0 1 1 1 1 0 1 0 0 1 1 1 0 1 0 1 0 0 1 1 0 1 1 1 1 0 0 0 0 1 0 1 0 0\n",
            " 1 1 1 0 1 1 1 0 1 1 0 0 1 1 0 0 1 0 0 0 1 0 1 1 0 0 1 1 0 0 1 0 1 1 1 0 0\n",
            " 0 1 1 0 0 1 1 0 0 1 0 1 0 0 1 0 1 0 1 0 0 1 1 1 0 0 1 1 1 1 1 0 1 0 0 1 1\n",
            " 0 1 1 0 0 1 1 1 1 1 1 1 0 1 0 0 1 1 0 1 1 0 1 0 0 1 0 0 0 0 0 1 0 0 0 1 1\n",
            " 1 1 1 1 0 1 0 0 1 1 1 1 1 1 1]\n"
          ]
        }
      ],
      "source": [
        "y_predic = clasifica_LR(X_test,theta_p, theta_n)\n",
        "print(y_predic)"
      ]
    },
    {
      "cell_type": "markdown",
      "source": [
        "Evaluamos la tarea de predicción usando las métricas de desempeño y la matriz de confusión"
      ],
      "metadata": {
        "id": "AYg3q1voUVm7"
      }
    },
    {
      "cell_type": "code",
      "source": [
        "from sklearn.metrics import accuracy_score, recall_score, precision_score\n",
        "\n",
        "print(f\"Accuracy: {accuracy_score(y_test,y_predic)}\")\n",
        "print(f\"Recall: {recall_score(y_test,y_predic)}\")\n",
        "print(f\"Precision: {precision_score(y_test,y_predic)}\")"
      ],
      "metadata": {
        "id": "-azfMC9W1_mP",
        "colab": {
          "base_uri": "https://localhost:8080/"
        },
        "outputId": "22823416-0adb-4f5f-bd4c-3dba6bed51c0"
      },
      "execution_count": null,
      "outputs": [
        {
          "output_type": "stream",
          "name": "stdout",
          "text": [
            "Accuracy: 0.945\n",
            "Recall: 0.9519230769230769\n",
            "Precision: 0.9428571428571428\n"
          ]
        }
      ]
    },
    {
      "cell_type": "code",
      "source": [
        "from sklearn.metrics import confusion_matrix\n",
        "\n",
        "cm = confusion_matrix(y_test,y_predic)\n",
        "cm"
      ],
      "metadata": {
        "id": "NTuw0IE3zNmh",
        "colab": {
          "base_uri": "https://localhost:8080/"
        },
        "outputId": "3ba78849-072f-47a3-ee8e-2cb474da565c"
      },
      "execution_count": null,
      "outputs": [
        {
          "output_type": "execute_result",
          "data": {
            "text/plain": [
              "array([[90,  6],\n",
              "       [ 5, 99]])"
            ]
          },
          "metadata": {},
          "execution_count": 16
        }
      ]
    },
    {
      "cell_type": "code",
      "source": [
        "import seaborn as sns\n",
        "import matplotlib.pyplot as plt\n",
        "\n",
        "plt.figure(figsize=(3,3))\n",
        "sns.heatmap(cm,cmap='plasma',annot=True)\n",
        "plt.show()"
      ],
      "metadata": {
        "id": "YQC6Cs8fzkRb",
        "colab": {
          "base_uri": "https://localhost:8080/",
          "height": 291
        },
        "outputId": "98f91786-d41e-465e-8610-6020f4528f3f"
      },
      "execution_count": null,
      "outputs": [
        {
          "output_type": "display_data",
          "data": {
            "text/plain": [
              "<Figure size 300x300 with 2 Axes>"
            ],
            "image/png": "[encoded data removed]"
          },
          "metadata": {}
        }
      ]
    },
    {
      "cell_type": "markdown",
      "source": [
        "# ⭕ Práctica\n",
        "\n",
        "Trabajaremos con el corpus `20newsgroups`. Este es un conjunto de documentos conteniendo cerca de 18000 posts perteneciendo a 20 temas. Tomaremos documentos pertenecientes a 2 temas (*autos* y *ateísmo*). Usaremos nuestro clasificador y la implementación del Naive-Bayes de scikit-learn para hacer la clasificación. "
      ],
      "metadata": {
        "id": "MLZoNT8VLxZ9"
      }
    },
    {
      "cell_type": "markdown",
      "source": [
        "Usaremos el módulo `nltk`, el cual contiene herramientas para el PLN."
      ],
      "metadata": {
        "id": "NSReSGzQVQSG"
      }
    },
    {
      "cell_type": "code",
      "source": [
        "!pip install nltk"
      ],
      "metadata": {
        "id": "E4QsiRZsVrAs",
        "colab": {
          "base_uri": "https://localhost:8080/"
        },
        "outputId": "44cdf247-c85e-4aff-e747-04731f7f5104"
      },
      "execution_count": null,
      "outputs": [
        {
          "output_type": "stream",
          "name": "stdout",
          "text": [
            "Looking in indexes: https://pypi.org/simple, https://us-python.pkg.dev/colab-wheels/public/simple/\n",
            "Requirement already satisfied: nltk in /usr/local/lib/python3.10/dist-packages (3.8.1)\n",
            "Requirement already satisfied: regex>=2021.8.3 in /usr/local/lib/python3.10/dist-packages (from nltk) (2022.10.31)\n",
            "Requirement already satisfied: click in /usr/local/lib/python3.10/dist-packages (from nltk) (8.1.3)\n",
            "Requirement already satisfied: joblib in /usr/local/lib/python3.10/dist-packages (from nltk) (1.2.0)\n",
            "Requirement already satisfied: tqdm in /usr/local/lib/python3.10/dist-packages (from nltk) (4.65.0)\n"
          ]
        }
      ]
    },
    {
      "cell_type": "markdown",
      "source": [
        "Bajamos la colección de signos de puntuación y *stopwords* para hacer el preprocesamiento. Las stopwords (palabras vacías) son palabras sin significado como artículos, pronombres, preposiciones, etc. que son filtradas antes o después del procesamiento de datos en lenguaje natural."
      ],
      "metadata": {
        "id": "LwT0QKfKoWRB"
      }
    },
    {
      "cell_type": "code",
      "source": [
        "from nltk import download\n",
        "\n",
        "download('stopwords')\n",
        "download('punkt')"
      ],
      "metadata": {
        "id": "HqKDM17fWMXi",
        "colab": {
          "base_uri": "https://localhost:8080/"
        },
        "outputId": "cce05035-cb51-484c-8edd-c1077dcb0d00"
      },
      "execution_count": null,
      "outputs": [
        {
          "output_type": "stream",
          "name": "stderr",
          "text": [
            "[nltk_data] Downloading package stopwords to /root/nltk_data...\n",
            "[nltk_data]   Package stopwords is already up-to-date!\n",
            "[nltk_data] Downloading package punkt to /root/nltk_data...\n",
            "[nltk_data]   Package punkt is already up-to-date!\n"
          ]
        },
        {
          "output_type": "execute_result",
          "data": {
            "text/plain": [
              "True"
            ]
          },
          "metadata": {},
          "execution_count": 19
        }
      ]
    },
    {
      "cell_type": "markdown",
      "source": [
        "Bajamos el conjunto de documentos"
      ],
      "metadata": {
        "id": "hKzwY4AqoilA"
      }
    },
    {
      "cell_type": "code",
      "source": [
        "from sklearn.datasets import fetch_20newsgroups\n",
        "\n",
        "(Docs,Y) = fetch_20newsgroups(\n",
        "                        categories=['rec.autos','alt.atheism'],\n",
        "                        remove=('headers', 'footers', 'quotes'),\n",
        "                        return_X_y=True\n",
        "                        )"
      ],
      "metadata": {
        "id": "G3rmEshZLy2v"
      },
      "execution_count": null,
      "outputs": []
    },
    {
      "cell_type": "markdown",
      "source": [
        "Vista previa de los primeros 3 documentos"
      ],
      "metadata": {
        "id": "E5r8FsQwooff"
      }
    },
    {
      "cell_type": "code",
      "source": [
        "Docs[:3]"
      ],
      "metadata": {
        "id": "us40sWLdTV1W",
        "colab": {
          "base_uri": "https://localhost:8080/"
        },
        "outputId": "22b4982e-5cb4-4ffa-ba20-4ffbb9dd102d"
      },
      "execution_count": null,
      "outputs": [
        {
          "output_type": "execute_result",
          "data": {
            "text/plain": [
              "[\"\\n\\nI lived in Tokyo for a year and a half, and one of the many reasons why\\nI intend to go back indefinitely is the freedom one enjoys when one can\\nwalk anywhere (and I mean *anywhere*) at any time of day or night and not\\nfeel uneasy, even if one's from an ethnic minority as I was.\\n\\nClues for Bobby (why do I bother?): (i) Tokyo is a city, and inner Tokyo\\nis an inner city; (ii) there is a negligible level of violent crime, and\\na street murder will be a lead item on *national* TV news; (iii) the\\npopulation is almost universally atheistic.\\n\\nNext time I go for a stroll around Beirut at night, I'll let you know how\\nit compares.\\n\\n\\nCheers\\n\\nSimon\",\n",
              " '\\n\\nReading newspapers to learn about this kind of stuff is not the best idea in\\nthe world.  Newspaper reporters are notoriously ignorant on the subject of\\nreligion, and are prone to exaggeration in the interests of having a \"real\"\\nstory (that is, a bigger headline).\\n\\nLet\\'s back up to 1935.  At this point, we have the Masoretic text, the\\nvarious targums (translations/commentaries in aramaic, etc.), and the\\nSeptuagint, the ancient greek translation.  The Masoretic text is the\\nstandard Jewish text and essentially does not vary.  In some places it has\\nobvious corruptions, all of which are copied faithfully from copy to copy.\\nThese passages in the past were interpreted by reference to the targums and\\nto the Septuagint.\\n\\nNow, the septuagint differs from the masoretic text in two particulars:\\nfirst, it includes additional texts, and second, in some passages there are\\nvariant readings from the masoretic text (in addition to \"fixing\"/predating\\nthe various corrupted passages).  It must be emphasized that, to the best of\\nmy knowledge, these variations are only signifcant to bible scholars, and\\nhave little theological import.\\n\\nThe dead sea scroll materials add to this an ancient *copy* of almost all of\\nIsaiah and fragments of various sizes of almost all other OT books.  There\\nis also an abundance of other material, but as far as I know, there is no\\nsign there of any hebrew antecdent to the apocrypha (the extra texts in the\\nseptuagint).  As far as analysis has proceeded, there are also variations\\nbetween the DSS texts and the masoretic versions.  These tend to reflect the\\nseptuagint, where the latter isn\\'t obviously in error.  Again, though, the\\ndifferences (thus far) are not significant theologically.  There is this big\\nexpectation that there are great theological surprises lurking in the\\nmaterial, but so far this hasn\\'t happened.\\n\\nThe DSS *are* important because there is almost no textual tradition in the\\nOT, unlike for the NT.',\n",
              " \"\\nHehehe, so you say, but this objective morality somehere tells you \\nthat this is not the case, and you don't know all the rules of such\\ntranscendental game systems...\\n\\nCheers,\\nKent\"]"
            ]
          },
          "metadata": {},
          "execution_count": 21
        }
      ]
    },
    {
      "cell_type": "code",
      "source": [
        "Y"
      ],
      "metadata": {
        "id": "T2EgoxCFvsW3",
        "colab": {
          "base_uri": "https://localhost:8080/"
        },
        "outputId": "f17df0a0-679a-4e66-eb02-01c44f536035"
      },
      "execution_count": null,
      "outputs": [
        {
          "output_type": "execute_result",
          "data": {
            "text/plain": [
              "array([0, 0, 0, ..., 1, 1, 1])"
            ]
          },
          "metadata": {},
          "execution_count": 22
        }
      ]
    },
    {
      "cell_type": "markdown",
      "source": [
        "Función para preprocesar el texto, limpiarlo y quitar *stopwords*. \n",
        "\n",
        "Esta función usa expresiones regulares, las cuales son muy útiles en el tratamiento de texto. Más información: https://regex101.com/\n",
        "\n"
      ],
      "metadata": {
        "id": "tOiWiRMdoCf1"
      }
    },
    {
      "cell_type": "code",
      "source": [
        "from nltk.corpus import stopwords\n",
        "from nltk.tokenize import word_tokenize\n",
        "import re\n",
        "\n",
        "def preprocesar_textos(docs,ignore_list:list=[]):\n",
        "    strings_list = [re.sub(r'\\n', '', x.lower()) for x in docs]\n",
        "    strings_list = [re.sub(r'[^\\w\\s]', '', x.lower()) for x in docs]  # quita signos de puntuación\n",
        "    strings_list = [re.sub('[0-9]', '', x.lower()) for x in strings_list] # quita números\n",
        "    SW = stopwords.words('english') \n",
        "    for x in ignore_list: # quitamos stopwords\n",
        "        SW.remove(x)\n",
        "    tokens_no_sw = [\" \".join([word for word in word_tokenize(text) if not word in SW]) for\n",
        "                         text in strings_list ]\n",
        "    return tokens_no_sw"
      ],
      "metadata": {
        "id": "Q7rPpOmbabrC"
      },
      "execution_count": null,
      "outputs": []
    },
    {
      "cell_type": "markdown",
      "source": [
        "Vista previa de los primeros 3 documentos ya preprocesados"
      ],
      "metadata": {
        "id": "LzoVj3xgn9LN"
      }
    },
    {
      "cell_type": "code",
      "source": [
        "documentos = preprocesar_textos(Docs)\n",
        "documentos[:3]"
      ],
      "metadata": {
        "id": "5HZoiotVarMY",
        "colab": {
          "base_uri": "https://localhost:8080/"
        },
        "outputId": "5e998f47-2a4c-415e-bab3-f6c8428d34c1"
      },
      "execution_count": null,
      "outputs": [
        {
          "output_type": "execute_result",
          "data": {
            "text/plain": [
              "['lived tokyo year half one many reasons intend go back indefinitely freedom one enjoys one walk anywhere mean anywhere time day night feel uneasy even ones ethnic minority clues bobby bother tokyo city inner tokyo inner city ii negligible level violent crime street murder lead item national tv news iii population almost universally atheistic next time go stroll around beirut night ill let know compares cheers simon',\n",
              " 'reading newspapers learn kind stuff best idea world newspaper reporters notoriously ignorant subject religion prone exaggeration interests real story bigger headline lets back point masoretic text various targums translationscommentaries aramaic etc septuagint ancient greek translation masoretic text standard jewish text essentially vary places obvious corruptions copied faithfully copy copy passages past interpreted reference targums septuagint septuagint differs masoretic text two particulars first includes additional texts second passages variant readings masoretic text addition fixingpredating various corrupted passages must emphasized best knowledge variations signifcant bible scholars little theological import dead sea scroll materials add ancient copy almost isaiah fragments various sizes almost ot books also abundance material far know sign hebrew antecdent apocrypha extra texts septuagint far analysis proceeded also variations dss texts masoretic versions tend reflect septuagint latter isnt obviously error though differences thus far significant theologically big expectation great theological surprises lurking material far hasnt happened dss important almost textual tradition ot unlike nt',\n",
              " 'hehehe say objective morality somehere tells case dont know rules transcendental game systems cheers kent']"
            ]
          },
          "metadata": {},
          "execution_count": 24
        }
      ]
    },
    {
      "cell_type": "markdown",
      "source": [
        "`CountVectorizer` crea la matriz de términos-documentos necesaria para aplicar nuestro Naive-Bayes multinomial.\n",
        "\n",
        "** Prueba cambiando el parámetro `max_features`\n",
        "\n",
        "*Revisar https://docs.scipy.org/doc/scipy/reference/sparse.html"
      ],
      "metadata": {
        "id": "lKwU732Hop9J"
      }
    },
    {
      "cell_type": "code",
      "source": [
        "from sklearn.feature_extraction.text import CountVectorizer\n",
        "\n",
        "vec = CountVectorizer(max_features=8000)\n",
        "X = vec.fit_transform(documentos)\n",
        "\n",
        "X = np.array(X.todense())\n",
        "\n",
        "print(X.shape)"
      ],
      "metadata": {
        "id": "Uq8G3EvIa4v8",
        "colab": {
          "base_uri": "https://localhost:8080/"
        },
        "outputId": "f1d48cb1-fe72-4580-fc9c-59b0dcd11c57"
      },
      "execution_count": null,
      "outputs": [
        {
          "output_type": "stream",
          "name": "stdout",
          "text": [
            "(1074, 8000)\n"
          ]
        }
      ]
    },
    {
      "cell_type": "markdown",
      "source": [
        "Diccionario que contiene el índice de cada palabra en el vocabulario"
      ],
      "metadata": {
        "id": "QwPPU-3roz2L"
      }
    },
    {
      "cell_type": "code",
      "source": [
        "vec.vocabulary_"
      ],
      "metadata": {
        "id": "hzOzgYAgjIiQ"
      },
      "execution_count": null,
      "outputs": []
    },
    {
      "cell_type": "markdown",
      "source": [
        "Separamos en train/test"
      ],
      "metadata": {
        "id": "LKfR5Ovto56b"
      }
    },
    {
      "cell_type": "code",
      "source": [
        "from sklearn.model_selection import train_test_split\n",
        "\n",
        "X_train, X_test, y_train, y_test = train_test_split(X,Y,train_size=0.8,random_state=9)"
      ],
      "metadata": {
        "id": "5e5JjbDJgB8e"
      },
      "execution_count": null,
      "outputs": []
    },
    {
      "cell_type": "markdown",
      "source": [
        "## Usando nuestro clasificador"
      ],
      "metadata": {
        "id": "S0B2s1jU0Fqu"
      }
    },
    {
      "cell_type": "markdown",
      "source": [
        "Recupera la función de entrenamiento implementada en el ejercicio de SPAM. Es decir, copiala aquí y modificala si es necesario."
      ],
      "metadata": {
        "id": "-pLezLAi1pGD"
      }
    },
    {
      "cell_type": "code",
      "source": [
        "def fit(X_train,y_train):\n",
        "    \n",
        "    '''\n",
        "    Entrenamiento del clasificador NAIVE BAYES:\n",
        "    Entrada: \n",
        "     - X_train: un DataFrame o Arreglo con instancias de entrenamiento.\n",
        "    Salida:\n",
        "     - una lista: [theta_n,theta_p] conteniendo \n",
        "       los vectores (np.arrays) de probabilidad de cada feature (palabra) \n",
        "       en correos Ham y Spam respectivamente. \n",
        "    llena el código\n",
        "    '''\n",
        "    documentos,k = X_train.shape # numero de palabras\n",
        "    print(f\"numero de palabras: {k}\")\n",
        "    print(f\"número de documentos: {documentos}\")\n",
        "    theta = []\n",
        "    for j in range(2):\n",
        "        x_train_clase = X_train[y_train==j]\n",
        "        n = np.sum(x_train_clase,axis=0)+1        # calcula n_i para cada palabra\n",
        "        S = np.sum(x_train_clase)+k               # calcula |S_j|+k\n",
        "        print(n)\n",
        "        theta.append(n/S)                 # calcula theta correspondiente\n",
        "    print('theta shapes=',theta[0].shape,theta[1].shape) #debe ser (k,) para ambos\n",
        "\n",
        "\n",
        "    return theta[0],theta[1]"
      ],
      "metadata": {
        "id": "eZBMZqE-0FAO"
      },
      "execution_count": null,
      "outputs": []
    },
    {
      "cell_type": "markdown",
      "source": [
        "Entrenamos el modelo"
      ],
      "metadata": {
        "id": "GVrKk4Zbo9A3"
      }
    },
    {
      "cell_type": "code",
      "source": [
        "theta_n, theta_p = fit(X_train,y_train)"
      ],
      "metadata": {
        "id": "JOyU9KZSggRf",
        "colab": {
          "base_uri": "https://localhost:8080/"
        },
        "outputId": "c69a7311-6eda-4c71-d30c-ffecd79f84f6"
      },
      "execution_count": null,
      "outputs": [
        {
          "output_type": "stream",
          "name": "stdout",
          "text": [
            "numero de palabras: 8000\n",
            "número de documentos: 859\n",
            "[1 1 1 ... 1 4 1]\n",
            "[34 14 10 ...  3  1  3]\n",
            "theta shapes= (8000,) (8000,)\n"
          ]
        }
      ]
    },
    {
      "cell_type": "code",
      "source": [
        "print(f\"La suma para vector debe ser 1 \\n Theta_p : {np.sum(theta_p)}\")\n",
        "print(f\"La suma para vector debe ser 1 \\n Theta_n : {np.sum(theta_n)}\")"
      ],
      "metadata": {
        "id": "5doS5Go20jvp",
        "colab": {
          "base_uri": "https://localhost:8080/"
        },
        "outputId": "cdc551e5-f60b-4af9-f795-80966b3b9aa7"
      },
      "execution_count": null,
      "outputs": [
        {
          "output_type": "stream",
          "name": "stdout",
          "text": [
            "La suma para vector debe ser 1 \n",
            " Theta_p : 1.0\n",
            "La suma para vector debe ser 1 \n",
            " Theta_n : 1.0\n"
          ]
        }
      ]
    },
    {
      "cell_type": "markdown",
      "source": [
        "Obtenemos el vector de predicciones"
      ],
      "metadata": {
        "id": "zkf25E50pFSc"
      }
    },
    {
      "cell_type": "code",
      "source": [
        "y_predic1 = clasifica_LR(X_test,theta_p, theta_n)\n",
        "print(y_predic1)"
      ],
      "metadata": {
        "id": "vxDpi8zL10gK",
        "colab": {
          "base_uri": "https://localhost:8080/"
        },
        "outputId": "0fab5a17-3a17-483e-b961-3a29697af2dc"
      },
      "execution_count": null,
      "outputs": [
        {
          "output_type": "stream",
          "name": "stdout",
          "text": [
            "[1 0 0 0 0 1 1 1 1 1 1 1 1 1 0 0 0 0 0 0 0 1 0 1 1 1 1 0 0 1 0 1 1 1 1 1 1\n",
            " 1 1 1 0 0 1 1 0 0 0 1 1 0 1 1 0 1 1 1 0 0 1 0 0 0 1 0 0 1 1 0 1 1 0 0 0 1\n",
            " 1 1 0 1 0 1 1 0 1 0 1 1 1 0 0 0 0 0 0 0 0 1 1 0 1 0 1 1 1 1 0 1 0 1 0 1 0\n",
            " 0 1 1 1 1 1 0 1 0 1 1 1 1 0 1 0 1 1 1 1 1 1 1 0 0 1 0 1 1 0 1 0 0 1 1 1 1\n",
            " 1 0 1 0 1 0 0 1 0 1 1 1 1 1 1 0 0 1 1 1 1 1 0 1 0 1 1 1 0 1 0 1 1 1 0 1 1\n",
            " 1 0 0 0 0 1 1 1 1 1 1 1 0 1 1 1 1 0 1 0 0 1 0 1 0 0 1 1 1 0]\n"
          ]
        }
      ]
    },
    {
      "cell_type": "markdown",
      "source": [
        "Visualizamos los resultados y las métricas"
      ],
      "metadata": {
        "id": "BMreyGrlpHzC"
      }
    },
    {
      "cell_type": "code",
      "source": [
        "from sklearn.metrics import confusion_matrix\n",
        "\n",
        "cm1 = confusion_matrix(y_test,y_predic1)\n",
        "cm1"
      ],
      "metadata": {
        "id": "34GRcNeV14fu",
        "colab": {
          "base_uri": "https://localhost:8080/"
        },
        "outputId": "0e5c6503-4c35-414f-eaeb-843b6f3bbabf"
      },
      "execution_count": null,
      "outputs": [
        {
          "output_type": "execute_result",
          "data": {
            "text/plain": [
              "array([[ 83,  19],\n",
              "       [  3, 110]])"
            ]
          },
          "metadata": {},
          "execution_count": 32
        }
      ]
    },
    {
      "cell_type": "code",
      "source": [
        "import seaborn as sns\n",
        "import matplotlib.pyplot as plt\n",
        "\n",
        "plt.figure(figsize=(2,2))\n",
        "sns.heatmap(cm1,cmap='plasma',annot=True)\n",
        "plt.show()"
      ],
      "metadata": {
        "colab": {
          "base_uri": "https://localhost:8080/",
          "height": 214
        },
        "id": "vc-bPNzKV_Wo",
        "outputId": "d06934bb-05df-41da-9974-88ce17c340f7"
      },
      "execution_count": null,
      "outputs": [
        {
          "output_type": "display_data",
          "data": {
            "text/plain": [
              "<Figure size 200x200 with 2 Axes>"
            ],
            "image/png": "[encoded data removed]"
          },
          "metadata": {}
        }
      ]
    },
    {
      "cell_type": "code",
      "source": [
        "from sklearn.metrics import accuracy_score, recall_score, precision_score\n",
        "\n",
        "print(f\"Accuracy: {accuracy_score(y_test,y_predic1)}\")\n",
        "print(f\"Recall: {recall_score(y_test,y_predic1)}\")\n",
        "print(f\"Precision: {precision_score(y_test,y_predic1)}\")"
      ],
      "metadata": {
        "id": "r_-mw6TH2G8g",
        "colab": {
          "base_uri": "https://localhost:8080/"
        },
        "outputId": "bded650a-2a42-4b7f-d601-f124bd50fa50"
      },
      "execution_count": null,
      "outputs": [
        {
          "output_type": "stream",
          "name": "stdout",
          "text": [
            "Accuracy: 0.8976744186046511\n",
            "Recall: 0.9734513274336283\n",
            "Precision: 0.8527131782945736\n"
          ]
        }
      ]
    },
    {
      "cell_type": "markdown",
      "source": [
        "## Usando sklearn"
      ],
      "metadata": {
        "id": "qL2ndvSPaHoM"
      }
    },
    {
      "cell_type": "markdown",
      "source": [
        "Usemos la implementación del clasificador Naive-Bayes de scikit-learn: \n",
        "\n",
        "https://scikit-learn.org/stable/modules/generated/sklearn.naive_bayes.MultinomialNB.html\n",
        "\n",
        "Realiza el entrenamiento y obten las predicciones para el conjunto de prueba"
      ],
      "metadata": {
        "id": "tNCBfH_i2rDw"
      }
    },
    {
      "cell_type": "code",
      "source": [
        "from sklearn.naive_bayes import MultinomialNB\n",
        "import numpy as np\n",
        "\n",
        "clf_nb = MultinomialNB()\n",
        "clf_nb.fit(X_train, y_train)\n"
      ],
      "metadata": {
        "id": "f269TEDPVodY",
        "colab": {
          "base_uri": "https://localhost:8080/",
          "height": 75
        },
        "outputId": "f2afd813-5887-49a6-aaa6-7ab9929a2165"
      },
      "execution_count": null,
      "outputs": [
        {
          "output_type": "execute_result",
          "data": {
            "text/plain": [
              "MultinomialNB()"
            ],
            "text/html": [
              "<style>#sk-container-id-1 {color: black;background-color: white;}#sk-container-id-1 pre{padding: 0;}#sk-container-id-1 div.sk-toggleable {background-color: white;}#sk-container-id-1 label.sk-toggleable__label {cursor: pointer;display: block;width: 100%;margin-bottom: 0;padding: 0.3em;box-sizing: border-box;text-align: center;}#sk-container-id-1 label.sk-toggleable__label-arrow:before {content: \"▸\";float: left;margin-right: 0.25em;color: #696969;}#sk-container-id-1 label.sk-toggleable__label-arrow:hover:before {color: black;}#sk-container-id-1 div.sk-estimator:hover label.sk-toggleable__label-arrow:before {color: black;}#sk-container-id-1 div.sk-toggleable__content {max-height: 0;max-width: 0;overflow: hidden;text-align: left;background-color: #f0f8ff;}#sk-container-id-1 div.sk-toggleable__content pre {margin: 0.2em;color: black;border-radius: 0.25em;background-color: #f0f8ff;}#sk-container-id-1 input.sk-toggleable__control:checked~div.sk-toggleable__content {max-height: 200px;max-width: 100%;overflow: auto;}#sk-container-id-1 input.sk-toggleable__control:checked~label.sk-toggleable__label-arrow:before {content: \"▾\";}#sk-container-id-1 div.sk-estimator input.sk-toggleable__control:checked~label.sk-toggleable__label {background-color: #d4ebff;}#sk-container-id-1 div.sk-label input.sk-toggleable__control:checked~label.sk-toggleable__label {background-color: #d4ebff;}#sk-container-id-1 input.sk-hidden--visually {border: 0;clip: rect(1px 1px 1px 1px);clip: rect(1px, 1px, 1px, 1px);height: 1px;margin: -1px;overflow: hidden;padding: 0;position: absolute;width: 1px;}#sk-container-id-1 div.sk-estimator {font-family: monospace;background-color: #f0f8ff;border: 1px dotted black;border-radius: 0.25em;box-sizing: border-box;margin-bottom: 0.5em;}#sk-container-id-1 div.sk-estimator:hover {background-color: #d4ebff;}#sk-container-id-1 div.sk-parallel-item::after {content: \"\";width: 100%;border-bottom: 1px solid gray;flex-grow: 1;}#sk-container-id-1 div.sk-label:hover label.sk-toggleable__label {background-color: #d4ebff;}#sk-container-id-1 div.sk-serial::before {content: \"\";position: absolute;border-left: 1px solid gray;box-sizing: border-box;top: 0;bottom: 0;left: 50%;z-index: 0;}#sk-container-id-1 div.sk-serial {display: flex;flex-direction: column;align-items: center;background-color: white;padding-right: 0.2em;padding-left: 0.2em;position: relative;}#sk-container-id-1 div.sk-item {position: relative;z-index: 1;}#sk-container-id-1 div.sk-parallel {display: flex;align-items: stretch;justify-content: center;background-color: white;position: relative;}#sk-container-id-1 div.sk-item::before, #sk-container-id-1 div.sk-parallel-item::before {content: \"\";position: absolute;border-left: 1px solid gray;box-sizing: border-box;top: 0;bottom: 0;left: 50%;z-index: -1;}#sk-container-id-1 div.sk-parallel-item {display: flex;flex-direction: column;z-index: 1;position: relative;background-color: white;}#sk-container-id-1 div.sk-parallel-item:first-child::after {align-self: flex-end;width: 50%;}#sk-container-id-1 div.sk-parallel-item:last-child::after {align-self: flex-start;width: 50%;}#sk-container-id-1 div.sk-parallel-item:only-child::after {width: 0;}#sk-container-id-1 div.sk-dashed-wrapped {border: 1px dashed gray;margin: 0 0.4em 0.5em 0.4em;box-sizing: border-box;padding-bottom: 0.4em;background-color: white;}#sk-container-id-1 div.sk-label label {font-family: monospace;font-weight: bold;display: inline-block;line-height: 1.2em;}#sk-container-id-1 div.sk-label-container {text-align: center;}#sk-container-id-1 div.sk-container {/* jupyter's `normalize.less` sets `[hidden] { display: none; }` but bootstrap.min.css set `[hidden] { display: none !important; }` so we also need the `!important` here to be able to override the default hidden behavior on the sphinx rendered scikit-learn.org. See: https://github.com/scikit-learn/scikit-learn/issues/21755 */display: inline-block !important;position: relative;}#sk-container-id-1 div.sk-text-repr-fallback {display: none;}</style><div id=\"sk-container-id-1\" class=\"sk-top-container\"><div class=\"sk-text-repr-fallback\"><pre>MultinomialNB()</pre><b>In a Jupyter environment, please rerun this cell to show the HTML representation or trust the notebook. <br />On GitHub, the HTML representation is unable to render, please try loading this page with nbviewer.org.</b></div><div class=\"sk-container\" hidden><div class=\"sk-item\"><div class=\"sk-estimator sk-toggleable\"><input class=\"sk-toggleable__control sk-hidden--visually\" id=\"sk-estimator-id-1\" type=\"checkbox\" checked><label for=\"sk-estimator-id-1\" class=\"sk-toggleable__label sk-toggleable__label-arrow\">MultinomialNB</label><div class=\"sk-toggleable__content\"><pre>MultinomialNB()</pre></div></div></div></div></div>"
            ]
          },
          "metadata": {},
          "execution_count": 35
        }
      ]
    },
    {
      "cell_type": "code",
      "source": [
        "y_predic2 = clf_nb.predict(X_test)\n",
        "print(y_predic2)"
      ],
      "metadata": {
        "colab": {
          "base_uri": "https://localhost:8080/"
        },
        "id": "twL6nu3YWw39",
        "outputId": "71b16ee6-31b0-4278-9258-0f554ef0ae2d"
      },
      "execution_count": null,
      "outputs": [
        {
          "output_type": "stream",
          "name": "stdout",
          "text": [
            "[1 0 0 0 0 1 1 1 1 1 1 1 1 1 0 0 0 0 0 0 0 1 0 1 0 1 1 0 0 0 0 1 1 1 1 1 1\n",
            " 1 1 1 0 0 1 1 0 0 0 1 1 0 1 1 0 1 1 1 0 0 0 0 0 0 1 0 0 1 1 0 1 1 0 0 0 1\n",
            " 1 1 0 1 0 1 1 0 1 0 1 1 1 0 0 0 0 0 0 0 0 1 1 0 0 0 1 1 1 1 0 1 0 1 0 1 0\n",
            " 0 1 1 1 0 1 0 1 0 1 1 1 1 0 1 0 1 1 1 1 1 1 1 0 0 1 0 1 1 0 1 0 0 1 1 1 1\n",
            " 1 0 1 0 1 0 0 1 0 0 1 1 1 0 0 0 0 1 1 1 1 1 0 1 0 1 1 1 0 1 0 1 1 1 0 1 1\n",
            " 1 0 0 0 0 1 1 1 1 1 1 1 0 1 1 1 1 0 1 0 0 1 0 1 0 0 1 1 1 0]\n"
          ]
        }
      ]
    },
    {
      "cell_type": "markdown",
      "source": [
        "Obten las métricas de rendimiento y la matriz de confusión."
      ],
      "metadata": {
        "id": "685dxiEzxDhd"
      }
    },
    {
      "cell_type": "code",
      "source": [
        "from sklearn.metrics import accuracy_score, recall_score, precision_score\n",
        "\n",
        "print(f\"Accuracy: {accuracy_score(y_test,y_predic2)}\")\n",
        "print(f\"Recall: {recall_score(y_test,y_predic2)}\")\n",
        "print(f\"Precision: {precision_score(y_test,y_predic2)}\")"
      ],
      "metadata": {
        "colab": {
          "base_uri": "https://localhost:8080/"
        },
        "outputId": "8bd53c1d-5268-4916-9ed4-922b6dcd1c83",
        "id": "QIJRvsRIOa57"
      },
      "execution_count": null,
      "outputs": [
        {
          "output_type": "stream",
          "name": "stdout",
          "text": [
            "Accuracy: 0.9348837209302325\n",
            "Recall: 0.9734513274336283\n",
            "Precision: 0.9090909090909091\n"
          ]
        }
      ]
    },
    {
      "cell_type": "code",
      "source": [
        "from sklearn.metrics import confusion_matrix\n",
        "\n",
        "cm2 = confusion_matrix(y_test,y_predic2)\n",
        "cm2"
      ],
      "metadata": {
        "colab": {
          "base_uri": "https://localhost:8080/"
        },
        "outputId": "1b6e5714-f2df-44d7-df00-cdcc4120d9fe",
        "id": "y5Rz-W8lOa58"
      },
      "execution_count": null,
      "outputs": [
        {
          "output_type": "execute_result",
          "data": {
            "text/plain": [
              "array([[ 91,  11],\n",
              "       [  3, 110]])"
            ]
          },
          "metadata": {},
          "execution_count": 38
        }
      ]
    },
    {
      "cell_type": "code",
      "source": [
        "import seaborn as sns\n",
        "import matplotlib.pyplot as plt\n",
        "\n",
        "\n",
        "plt.figure(figsize=(2,2))\n",
        "sns.heatmap(cm2,cmap='plasma',annot=True)\n",
        "plt.show()"
      ],
      "metadata": {
        "colab": {
          "base_uri": "https://localhost:8080/",
          "height": 214
        },
        "outputId": "d94e0774-4951-4296-a920-09094cf02363",
        "id": "iZtC7bE8Oa59"
      },
      "execution_count": null,
      "outputs": [
        {
          "output_type": "display_data",
          "data": {
            "text/plain": [
              "<Figure size 200x200 with 2 Axes>"
            ],
            "image/png": "[encoded data removed]"
          },
          "metadata": {}
        }
      ]
    },
    {
      "cell_type": "code",
      "source": [
        "from sklearn.metrics import confusion_matrix, ConfusionMatrixDisplay\n",
        "\n",
        "\n",
        "plt.figure(figsize=(.1,.1))\n",
        "#sns.heatmap(cm,cmap='plasma',annot=True)\n",
        "cm_display = ConfusionMatrixDisplay(confusion_matrix = cm2, display_labels = ['autos', 'ateísmo' ])\n",
        "cm_display.plot()\n",
        "plt.show()"
      ],
      "metadata": {
        "colab": {
          "base_uri": "https://localhost:8080/",
          "height": 467
        },
        "id": "zC4rF8puf2f-",
        "outputId": "0235e32c-56cb-4154-f2ff-23a5ed86cb57"
      },
      "execution_count": null,
      "outputs": [
        {
          "output_type": "display_data",
          "data": {
            "text/plain": [
              "<Figure size 10x10 with 0 Axes>"
            ]
          },
          "metadata": {}
        },
        {
          "output_type": "display_data",
          "data": {
            "text/plain": [
              "<Figure size 640x480 with 2 Axes>"
            ],
            "image/png": "[encoded data removed]"
          },
          "metadata": {}
        }
      ]
    }
  ],
  "metadata": {
    "kernelspec": {
      "display_name": "Python 3",
      "language": "python",
      "name": "python3"
    },
    "language_info": {
      "codemirror_mode": {
        "name": "ipython",
        "version": 3
      },
      "file_extension": ".py",
      "mimetype": "text/x-python",
      "name": "python",
      "nbconvert_exporter": "python",
      "pygments_lexer": "ipython3",
      "version": "3.7.4"
    },
    "colab": {
      "provenance": []
    }
  },
  "nbformat": 4,
  "nbformat_minor": 0
}