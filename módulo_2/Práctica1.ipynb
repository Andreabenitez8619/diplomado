{
  "nbformat": 4,
  "nbformat_minor": 0,
  "metadata": {
    "colab": {
      "provenance": []
    },
    "kernelspec": {
      "name": "python3",
      "display_name": "Python 3"
    },
    "language_info": {
      "name": "python"
    }
  },
  "cells": [
    {
      "cell_type": "markdown",
      "source": [
        "#  Práctica 1. Regresión Lineal y Polinomial\n",
        "Andrea Benítez Pineda"
      ],
      "metadata": {
        "id": "KDYQ0DY0-aBF"
      }
    },
    {
      "cell_type": "markdown",
      "source": [
        "Usaremos el siguiente dataset de datos de peces. Hay un total de 159 filas (muestras de entrenamiento) y 7 columnas en el conjunto de datos. \n",
        "\n",
        "Los detalles de cada columna son los siguientes\n",
        "\n",
        "![fishes.png](data:image/png;base64,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)"
      ],
      "metadata": {
        "id": "mLYg0H4SSGG2"
      }
    },
    {
      "cell_type": "markdown",
      "source": [
        "* Las variables independientes son \"Especie\", \"Longitud1\", \"Longitud2\", \"Longitud3\", \"Altura\" y \"Anchura\".\n",
        "* La variable dependiente es \"Peso\".\n",
        "\n",
        "Tenemos que estimar el peso del pez basándonos en sus valores de medición."
      ],
      "metadata": {
        "id": "lYdh1ysxS_b9"
      }
    },
    {
      "cell_type": "markdown",
      "source": [
        "## Importamos las librerias requeridas para la práctica.\n"
      ],
      "metadata": {
        "id": "tjlohwL-tcde"
      }
    },
    {
      "cell_type": "code",
      "source": [
        "# Data manipulation libraries\n",
        "import numpy as np\n",
        "import pandas as pd \n",
        "\n",
        "\n",
        "# Data visualization \n",
        "import seaborn as sns\n",
        "import matplotlib.pyplot as plt\n",
        "import matplotlib as mpl\n",
        "\n",
        "\n"
      ],
      "metadata": {
        "id": "NjKssYzrtbqu"
      },
      "execution_count": 1,
      "outputs": []
    },
    {
      "cell_type": "markdown",
      "source": [
        "## Carga de conjunto de datos"
      ],
      "metadata": {
        "id": "IPX-rGMxK0VN"
      }
    },
    {
      "cell_type": "code",
      "source": [
        "#import pandas as pd\n",
        "\n",
        "url = 'https://github.com/DCDPUAEM/DCDP/raw/main/02-Machine-Learning/data/fishes.csv'\n",
        "df = pd.read_csv(url)\n",
        "df"
      ],
      "metadata": {
        "id": "ibZ_qoLb-a1s",
        "colab": {
          "base_uri": "https://localhost:8080/",
          "height": 424
        },
        "outputId": "2fa3f0db-fb90-40e2-bfa3-c2e960b5a3cd"
      },
      "execution_count": 2,
      "outputs": [
        {
          "output_type": "execute_result",
          "data": {
            "text/plain": [
              "    Species  Weight  Length1  Length2  Length3   Height   Width\n",
              "0     Bream   242.0     23.2     25.4     30.0  11.5200  4.0200\n",
              "1     Bream   290.0     24.0     26.3     31.2  12.4800  4.3056\n",
              "2     Bream   340.0     23.9     26.5     31.1  12.3778  4.6961\n",
              "3     Bream   363.0     26.3     29.0     33.5  12.7300  4.4555\n",
              "4     Bream   430.0     26.5     29.0     34.0  12.4440  5.1340\n",
              "..      ...     ...      ...      ...      ...      ...     ...\n",
              "154   Smelt    12.2     11.5     12.2     13.4   2.0904  1.3936\n",
              "155   Smelt    13.4     11.7     12.4     13.5   2.4300  1.2690\n",
              "156   Smelt    12.2     12.1     13.0     13.8   2.2770  1.2558\n",
              "157   Smelt    19.7     13.2     14.3     15.2   2.8728  2.0672\n",
              "158   Smelt    19.9     13.8     15.0     16.2   2.9322  1.8792\n",
              "\n",
              "[159 rows x 7 columns]"
            ],
            "text/html": [
              "\n",
              "  <div id=\"df-15629f78-afb1-496b-9fd1-6a1edb402e0a\">\n",
              "    <div class=\"colab-df-container\">\n",
              "      <div>\n",
              "<style scoped>\n",
              "    .dataframe tbody tr th:only-of-type {\n",
              "        vertical-align: middle;\n",
              "    }\n",
              "\n",
              "    .dataframe tbody tr th {\n",
              "        vertical-align: top;\n",
              "    }\n",
              "\n",
              "    .dataframe thead th {\n",
              "        text-align: right;\n",
              "    }\n",
              "</style>\n",
              "<table border=\"1\" class=\"dataframe\">\n",
              "  <thead>\n",
              "    <tr style=\"text-align: right;\">\n",
              "      <th></th>\n",
              "      <th>Species</th>\n",
              "      <th>Weight</th>\n",
              "      <th>Length1</th>\n",
              "      <th>Length2</th>\n",
              "      <th>Length3</th>\n",
              "      <th>Height</th>\n",
              "      <th>Width</th>\n",
              "    </tr>\n",
              "  </thead>\n",
              "  <tbody>\n",
              "    <tr>\n",
              "      <th>0</th>\n",
              "      <td>Bream</td>\n",
              "      <td>242.0</td>\n",
              "      <td>23.2</td>\n",
              "      <td>25.4</td>\n",
              "      <td>30.0</td>\n",
              "      <td>11.5200</td>\n",
              "      <td>4.0200</td>\n",
              "    </tr>\n",
              "    <tr>\n",
              "      <th>1</th>\n",
              "      <td>Bream</td>\n",
              "      <td>290.0</td>\n",
              "      <td>24.0</td>\n",
              "      <td>26.3</td>\n",
              "      <td>31.2</td>\n",
              "      <td>12.4800</td>\n",
              "      <td>4.3056</td>\n",
              "    </tr>\n",
              "    <tr>\n",
              "      <th>2</th>\n",
              "      <td>Bream</td>\n",
              "      <td>340.0</td>\n",
              "      <td>23.9</td>\n",
              "      <td>26.5</td>\n",
              "      <td>31.1</td>\n",
              "      <td>12.3778</td>\n",
              "      <td>4.6961</td>\n",
              "    </tr>\n",
              "    <tr>\n",
              "      <th>3</th>\n",
              "      <td>Bream</td>\n",
              "      <td>363.0</td>\n",
              "      <td>26.3</td>\n",
              "      <td>29.0</td>\n",
              "      <td>33.5</td>\n",
              "      <td>12.7300</td>\n",
              "      <td>4.4555</td>\n",
              "    </tr>\n",
              "    <tr>\n",
              "      <th>4</th>\n",
              "      <td>Bream</td>\n",
              "      <td>430.0</td>\n",
              "      <td>26.5</td>\n",
              "      <td>29.0</td>\n",
              "      <td>34.0</td>\n",
              "      <td>12.4440</td>\n",
              "      <td>5.1340</td>\n",
              "    </tr>\n",
              "    <tr>\n",
              "      <th>...</th>\n",
              "      <td>...</td>\n",
              "      <td>...</td>\n",
              "      <td>...</td>\n",
              "      <td>...</td>\n",
              "      <td>...</td>\n",
              "      <td>...</td>\n",
              "      <td>...</td>\n",
              "    </tr>\n",
              "    <tr>\n",
              "      <th>154</th>\n",
              "      <td>Smelt</td>\n",
              "      <td>12.2</td>\n",
              "      <td>11.5</td>\n",
              "      <td>12.2</td>\n",
              "      <td>13.4</td>\n",
              "      <td>2.0904</td>\n",
              "      <td>1.3936</td>\n",
              "    </tr>\n",
              "    <tr>\n",
              "      <th>155</th>\n",
              "      <td>Smelt</td>\n",
              "      <td>13.4</td>\n",
              "      <td>11.7</td>\n",
              "      <td>12.4</td>\n",
              "      <td>13.5</td>\n",
              "      <td>2.4300</td>\n",
              "      <td>1.2690</td>\n",
              "    </tr>\n",
              "    <tr>\n",
              "      <th>156</th>\n",
              "      <td>Smelt</td>\n",
              "      <td>12.2</td>\n",
              "      <td>12.1</td>\n",
              "      <td>13.0</td>\n",
              "      <td>13.8</td>\n",
              "      <td>2.2770</td>\n",
              "      <td>1.2558</td>\n",
              "    </tr>\n",
              "    <tr>\n",
              "      <th>157</th>\n",
              "      <td>Smelt</td>\n",
              "      <td>19.7</td>\n",
              "      <td>13.2</td>\n",
              "      <td>14.3</td>\n",
              "      <td>15.2</td>\n",
              "      <td>2.8728</td>\n",
              "      <td>2.0672</td>\n",
              "    </tr>\n",
              "    <tr>\n",
              "      <th>158</th>\n",
              "      <td>Smelt</td>\n",
              "      <td>19.9</td>\n",
              "      <td>13.8</td>\n",
              "      <td>15.0</td>\n",
              "      <td>16.2</td>\n",
              "      <td>2.9322</td>\n",
              "      <td>1.8792</td>\n",
              "    </tr>\n",
              "  </tbody>\n",
              "</table>\n",
              "<p>159 rows × 7 columns</p>\n",
              "</div>\n",
              "      <button class=\"colab-df-convert\" onclick=\"convertToInteractive('df-15629f78-afb1-496b-9fd1-6a1edb402e0a')\"\n",
              "              title=\"Convert this dataframe to an interactive table.\"\n",
              "              style=\"display:none;\">\n",
              "        \n",
              "  <svg xmlns=\"http://www.w3.org/2000/svg\" height=\"24px\"viewBox=\"0 0 24 24\"\n",
              "       width=\"24px\">\n",
              "    <path d=\"M0 0h24v24H0V0z\" fill=\"none\"/>\n",
              "    <path d=\"M18.56 5.44l.94 2.06.94-2.06 2.06-.94-2.06-.94-.94-2.06-.94 2.06-2.06.94zm-11 1L8.5 8.5l.94-2.06 2.06-.94-2.06-.94L8.5 2.5l-.94 2.06-2.06.94zm10 10l.94 2.06.94-2.06 2.06-.94-2.06-.94-.94-2.06-.94 2.06-2.06.94z\"/><path d=\"M17.41 7.96l-1.37-1.37c-.4-.4-.92-.59-1.43-.59-.52 0-1.04.2-1.43.59L10.3 9.45l-7.72 7.72c-.78.78-.78 2.05 0 2.83L4 21.41c.39.39.9.59 1.41.59.51 0 1.02-.2 1.41-.59l7.78-7.78 2.81-2.81c.8-.78.8-2.07 0-2.86zM5.41 20L4 18.59l7.72-7.72 1.47 1.35L5.41 20z\"/>\n",
              "  </svg>\n",
              "      </button>\n",
              "      \n",
              "  <style>\n",
              "    .colab-df-container {\n",
              "      display:flex;\n",
              "      flex-wrap:wrap;\n",
              "      gap: 12px;\n",
              "    }\n",
              "\n",
              "    .colab-df-convert {\n",
              "      background-color: #E8F0FE;\n",
              "      border: none;\n",
              "      border-radius: 50%;\n",
              "      cursor: pointer;\n",
              "      display: none;\n",
              "      fill: #1967D2;\n",
              "      height: 32px;\n",
              "      padding: 0 0 0 0;\n",
              "      width: 32px;\n",
              "    }\n",
              "\n",
              "    .colab-df-convert:hover {\n",
              "      background-color: #E2EBFA;\n",
              "      box-shadow: 0px 1px 2px rgba(60, 64, 67, 0.3), 0px 1px 3px 1px rgba(60, 64, 67, 0.15);\n",
              "      fill: #174EA6;\n",
              "    }\n",
              "\n",
              "    [theme=dark] .colab-df-convert {\n",
              "      background-color: #3B4455;\n",
              "      fill: #D2E3FC;\n",
              "    }\n",
              "\n",
              "    [theme=dark] .colab-df-convert:hover {\n",
              "      background-color: #434B5C;\n",
              "      box-shadow: 0px 1px 3px 1px rgba(0, 0, 0, 0.15);\n",
              "      filter: drop-shadow(0px 1px 2px rgba(0, 0, 0, 0.3));\n",
              "      fill: #FFFFFF;\n",
              "    }\n",
              "  </style>\n",
              "\n",
              "      <script>\n",
              "        const buttonEl =\n",
              "          document.querySelector('#df-15629f78-afb1-496b-9fd1-6a1edb402e0a button.colab-df-convert');\n",
              "        buttonEl.style.display =\n",
              "          google.colab.kernel.accessAllowed ? 'block' : 'none';\n",
              "\n",
              "        async function convertToInteractive(key) {\n",
              "          const element = document.querySelector('#df-15629f78-afb1-496b-9fd1-6a1edb402e0a');\n",
              "          const dataTable =\n",
              "            await google.colab.kernel.invokeFunction('convertToInteractive',\n",
              "                                                     [key], {});\n",
              "          if (!dataTable) return;\n",
              "\n",
              "          const docLinkHtml = 'Like what you see? Visit the ' +\n",
              "            '<a target=\"_blank\" href=https://colab.research.google.com/notebooks/data_table.ipynb>data table notebook</a>'\n",
              "            + ' to learn more about interactive tables.';\n",
              "          element.innerHTML = '';\n",
              "          dataTable['output_type'] = 'display_data';\n",
              "          await google.colab.output.renderOutput(dataTable, element);\n",
              "          const docLink = document.createElement('div');\n",
              "          docLink.innerHTML = docLinkHtml;\n",
              "          element.appendChild(docLink);\n",
              "        }\n",
              "      </script>\n",
              "    </div>\n",
              "  </div>\n",
              "  "
            ]
          },
          "metadata": {},
          "execution_count": 2
        }
      ]
    },
    {
      "cell_type": "markdown",
      "source": [
        "⭕ Práctica\n",
        "\n",
        "Construye un modelo de Regresión Lineal (Polinomial) para predecir el peso de un pez en función de las variables predictoras.\n",
        "\n",
        "**Preprocesamiento**\n",
        "\n",
        "* Cambia el nombre de las columnas por nombres relacionados con su interpretación.\n",
        "* Verifica si hay valores faltantes\n",
        "* Verifica la correlación entre variables usando el método [corr()](https://pandas.pydata.org/docs/reference/api/pandas.DataFrame.corr.html) del dataframe. Considera eliminar las variables con correlación para evitar la colinearidad.\n",
        "* Verifica si hay datos faltantes o invalidos.\n",
        "* Explora la relación entre pares de variables usando [pairplot](https://seaborn.pydata.org/generated/seaborn.pairplot.html) de seaborn.\n",
        "* Considera usar PolinomialFeatures en función de tus observaciones del punto anterior.\n",
        "* Considera la codificación one-hot para la(s) variable(s) categórica(s).\n",
        "\n",
        "**Regresión Lineal**\n",
        "Entrena un modelo de RL separando una parte para entrenamiento y reporta la métrica de rendimiento r2score y [MSE](https://scikit-learn.org/stable/modules/generated/sklearn.metrics.mean_squared_error.html).\n",
        "\n",
        "Considera varios modelos para mejorar tus métricas."
      ],
      "metadata": {
        "id": "7N9f-krrUCCW"
      }
    },
    {
      "cell_type": "markdown",
      "source": [
        "##Preprocesamiento"
      ],
      "metadata": {
        "id": "12Fn2NcWn20E"
      }
    },
    {
      "cell_type": "markdown",
      "source": [
        "*  **Cambia el nombre de las columnas por nombres relacionados con su interpretación.**"
      ],
      "metadata": {
        "id": "-03C4Hupn5ju"
      }
    },
    {
      "cell_type": "code",
      "source": [
        "df.columns=[ \"Especie\", \"Peso\", \"Longitud1\", \"Longitud2\", \"Longitud3\", \"Altura\" , \"Anchura\"]\n",
        "df"
      ],
      "metadata": {
        "colab": {
          "base_uri": "https://localhost:8080/",
          "height": 424
        },
        "id": "aE_Fz-Eemsbo",
        "outputId": "6e54baf3-24ae-4382-d591-a54dc3e30bf2"
      },
      "execution_count": 3,
      "outputs": [
        {
          "output_type": "execute_result",
          "data": {
            "text/plain": [
              "    Especie   Peso  Longitud1  Longitud2  Longitud3   Altura  Anchura\n",
              "0     Bream  242.0       23.2       25.4       30.0  11.5200   4.0200\n",
              "1     Bream  290.0       24.0       26.3       31.2  12.4800   4.3056\n",
              "2     Bream  340.0       23.9       26.5       31.1  12.3778   4.6961\n",
              "3     Bream  363.0       26.3       29.0       33.5  12.7300   4.4555\n",
              "4     Bream  430.0       26.5       29.0       34.0  12.4440   5.1340\n",
              "..      ...    ...        ...        ...        ...      ...      ...\n",
              "154   Smelt   12.2       11.5       12.2       13.4   2.0904   1.3936\n",
              "155   Smelt   13.4       11.7       12.4       13.5   2.4300   1.2690\n",
              "156   Smelt   12.2       12.1       13.0       13.8   2.2770   1.2558\n",
              "157   Smelt   19.7       13.2       14.3       15.2   2.8728   2.0672\n",
              "158   Smelt   19.9       13.8       15.0       16.2   2.9322   1.8792\n",
              "\n",
              "[159 rows x 7 columns]"
            ],
            "text/html": [
              "\n",
              "  <div id=\"df-0889a33f-5b61-4346-9ea6-26844d36dc31\">\n",
              "    <div class=\"colab-df-container\">\n",
              "      <div>\n",
              "<style scoped>\n",
              "    .dataframe tbody tr th:only-of-type {\n",
              "        vertical-align: middle;\n",
              "    }\n",
              "\n",
              "    .dataframe tbody tr th {\n",
              "        vertical-align: top;\n",
              "    }\n",
              "\n",
              "    .dataframe thead th {\n",
              "        text-align: right;\n",
              "    }\n",
              "</style>\n",
              "<table border=\"1\" class=\"dataframe\">\n",
              "  <thead>\n",
              "    <tr style=\"text-align: right;\">\n",
              "      <th></th>\n",
              "      <th>Especie</th>\n",
              "      <th>Peso</th>\n",
              "      <th>Longitud1</th>\n",
              "      <th>Longitud2</th>\n",
              "      <th>Longitud3</th>\n",
              "      <th>Altura</th>\n",
              "      <th>Anchura</th>\n",
              "    </tr>\n",
              "  </thead>\n",
              "  <tbody>\n",
              "    <tr>\n",
              "      <th>0</th>\n",
              "      <td>Bream</td>\n",
              "      <td>242.0</td>\n",
              "      <td>23.2</td>\n",
              "      <td>25.4</td>\n",
              "      <td>30.0</td>\n",
              "      <td>11.5200</td>\n",
              "      <td>4.0200</td>\n",
              "    </tr>\n",
              "    <tr>\n",
              "      <th>1</th>\n",
              "      <td>Bream</td>\n",
              "      <td>290.0</td>\n",
              "      <td>24.0</td>\n",
              "      <td>26.3</td>\n",
              "      <td>31.2</td>\n",
              "      <td>12.4800</td>\n",
              "      <td>4.3056</td>\n",
              "    </tr>\n",
              "    <tr>\n",
              "      <th>2</th>\n",
              "      <td>Bream</td>\n",
              "      <td>340.0</td>\n",
              "      <td>23.9</td>\n",
              "      <td>26.5</td>\n",
              "      <td>31.1</td>\n",
              "      <td>12.3778</td>\n",
              "      <td>4.6961</td>\n",
              "    </tr>\n",
              "    <tr>\n",
              "      <th>3</th>\n",
              "      <td>Bream</td>\n",
              "      <td>363.0</td>\n",
              "      <td>26.3</td>\n",
              "      <td>29.0</td>\n",
              "      <td>33.5</td>\n",
              "      <td>12.7300</td>\n",
              "      <td>4.4555</td>\n",
              "    </tr>\n",
              "    <tr>\n",
              "      <th>4</th>\n",
              "      <td>Bream</td>\n",
              "      <td>430.0</td>\n",
              "      <td>26.5</td>\n",
              "      <td>29.0</td>\n",
              "      <td>34.0</td>\n",
              "      <td>12.4440</td>\n",
              "      <td>5.1340</td>\n",
              "    </tr>\n",
              "    <tr>\n",
              "      <th>...</th>\n",
              "      <td>...</td>\n",
              "      <td>...</td>\n",
              "      <td>...</td>\n",
              "      <td>...</td>\n",
              "      <td>...</td>\n",
              "      <td>...</td>\n",
              "      <td>...</td>\n",
              "    </tr>\n",
              "    <tr>\n",
              "      <th>154</th>\n",
              "      <td>Smelt</td>\n",
              "      <td>12.2</td>\n",
              "      <td>11.5</td>\n",
              "      <td>12.2</td>\n",
              "      <td>13.4</td>\n",
              "      <td>2.0904</td>\n",
              "      <td>1.3936</td>\n",
              "    </tr>\n",
              "    <tr>\n",
              "      <th>155</th>\n",
              "      <td>Smelt</td>\n",
              "      <td>13.4</td>\n",
              "      <td>11.7</td>\n",
              "      <td>12.4</td>\n",
              "      <td>13.5</td>\n",
              "      <td>2.4300</td>\n",
              "      <td>1.2690</td>\n",
              "    </tr>\n",
              "    <tr>\n",
              "      <th>156</th>\n",
              "      <td>Smelt</td>\n",
              "      <td>12.2</td>\n",
              "      <td>12.1</td>\n",
              "      <td>13.0</td>\n",
              "      <td>13.8</td>\n",
              "      <td>2.2770</td>\n",
              "      <td>1.2558</td>\n",
              "    </tr>\n",
              "    <tr>\n",
              "      <th>157</th>\n",
              "      <td>Smelt</td>\n",
              "      <td>19.7</td>\n",
              "      <td>13.2</td>\n",
              "      <td>14.3</td>\n",
              "      <td>15.2</td>\n",
              "      <td>2.8728</td>\n",
              "      <td>2.0672</td>\n",
              "    </tr>\n",
              "    <tr>\n",
              "      <th>158</th>\n",
              "      <td>Smelt</td>\n",
              "      <td>19.9</td>\n",
              "      <td>13.8</td>\n",
              "      <td>15.0</td>\n",
              "      <td>16.2</td>\n",
              "      <td>2.9322</td>\n",
              "      <td>1.8792</td>\n",
              "    </tr>\n",
              "  </tbody>\n",
              "</table>\n",
              "<p>159 rows × 7 columns</p>\n",
              "</div>\n",
              "      <button class=\"colab-df-convert\" onclick=\"convertToInteractive('df-0889a33f-5b61-4346-9ea6-26844d36dc31')\"\n",
              "              title=\"Convert this dataframe to an interactive table.\"\n",
              "              style=\"display:none;\">\n",
              "        \n",
              "  <svg xmlns=\"http://www.w3.org/2000/svg\" height=\"24px\"viewBox=\"0 0 24 24\"\n",
              "       width=\"24px\">\n",
              "    <path d=\"M0 0h24v24H0V0z\" fill=\"none\"/>\n",
              "    <path d=\"M18.56 5.44l.94 2.06.94-2.06 2.06-.94-2.06-.94-.94-2.06-.94 2.06-2.06.94zm-11 1L8.5 8.5l.94-2.06 2.06-.94-2.06-.94L8.5 2.5l-.94 2.06-2.06.94zm10 10l.94 2.06.94-2.06 2.06-.94-2.06-.94-.94-2.06-.94 2.06-2.06.94z\"/><path d=\"M17.41 7.96l-1.37-1.37c-.4-.4-.92-.59-1.43-.59-.52 0-1.04.2-1.43.59L10.3 9.45l-7.72 7.72c-.78.78-.78 2.05 0 2.83L4 21.41c.39.39.9.59 1.41.59.51 0 1.02-.2 1.41-.59l7.78-7.78 2.81-2.81c.8-.78.8-2.07 0-2.86zM5.41 20L4 18.59l7.72-7.72 1.47 1.35L5.41 20z\"/>\n",
              "  </svg>\n",
              "      </button>\n",
              "      \n",
              "  <style>\n",
              "    .colab-df-container {\n",
              "      display:flex;\n",
              "      flex-wrap:wrap;\n",
              "      gap: 12px;\n",
              "    }\n",
              "\n",
              "    .colab-df-convert {\n",
              "      background-color: #E8F0FE;\n",
              "      border: none;\n",
              "      border-radius: 50%;\n",
              "      cursor: pointer;\n",
              "      display: none;\n",
              "      fill: #1967D2;\n",
              "      height: 32px;\n",
              "      padding: 0 0 0 0;\n",
              "      width: 32px;\n",
              "    }\n",
              "\n",
              "    .colab-df-convert:hover {\n",
              "      background-color: #E2EBFA;\n",
              "      box-shadow: 0px 1px 2px rgba(60, 64, 67, 0.3), 0px 1px 3px 1px rgba(60, 64, 67, 0.15);\n",
              "      fill: #174EA6;\n",
              "    }\n",
              "\n",
              "    [theme=dark] .colab-df-convert {\n",
              "      background-color: #3B4455;\n",
              "      fill: #D2E3FC;\n",
              "    }\n",
              "\n",
              "    [theme=dark] .colab-df-convert:hover {\n",
              "      background-color: #434B5C;\n",
              "      box-shadow: 0px 1px 3px 1px rgba(0, 0, 0, 0.15);\n",
              "      filter: drop-shadow(0px 1px 2px rgba(0, 0, 0, 0.3));\n",
              "      fill: #FFFFFF;\n",
              "    }\n",
              "  </style>\n",
              "\n",
              "      <script>\n",
              "        const buttonEl =\n",
              "          document.querySelector('#df-0889a33f-5b61-4346-9ea6-26844d36dc31 button.colab-df-convert');\n",
              "        buttonEl.style.display =\n",
              "          google.colab.kernel.accessAllowed ? 'block' : 'none';\n",
              "\n",
              "        async function convertToInteractive(key) {\n",
              "          const element = document.querySelector('#df-0889a33f-5b61-4346-9ea6-26844d36dc31');\n",
              "          const dataTable =\n",
              "            await google.colab.kernel.invokeFunction('convertToInteractive',\n",
              "                                                     [key], {});\n",
              "          if (!dataTable) return;\n",
              "\n",
              "          const docLinkHtml = 'Like what you see? Visit the ' +\n",
              "            '<a target=\"_blank\" href=https://colab.research.google.com/notebooks/data_table.ipynb>data table notebook</a>'\n",
              "            + ' to learn more about interactive tables.';\n",
              "          element.innerHTML = '';\n",
              "          dataTable['output_type'] = 'display_data';\n",
              "          await google.colab.output.renderOutput(dataTable, element);\n",
              "          const docLink = document.createElement('div');\n",
              "          docLink.innerHTML = docLinkHtml;\n",
              "          element.appendChild(docLink);\n",
              "        }\n",
              "      </script>\n",
              "    </div>\n",
              "  </div>\n",
              "  "
            ]
          },
          "metadata": {},
          "execution_count": 3
        }
      ]
    },
    {
      "cell_type": "markdown",
      "source": [
        "*  **Verifica si hay valores faltantes.**"
      ],
      "metadata": {
        "id": "4svENPtVoTFm"
      }
    },
    {
      "cell_type": "code",
      "source": [
        "df.info()"
      ],
      "metadata": {
        "colab": {
          "base_uri": "https://localhost:8080/"
        },
        "id": "4ozBMtlToQfJ",
        "outputId": "83ef8a38-55e0-4bd7-8679-1c7b43d45df4"
      },
      "execution_count": 4,
      "outputs": [
        {
          "output_type": "stream",
          "name": "stdout",
          "text": [
            "<class 'pandas.core.frame.DataFrame'>\n",
            "RangeIndex: 159 entries, 0 to 158\n",
            "Data columns (total 7 columns):\n",
            " #   Column     Non-Null Count  Dtype  \n",
            "---  ------     --------------  -----  \n",
            " 0   Especie    159 non-null    object \n",
            " 1   Peso       159 non-null    float64\n",
            " 2   Longitud1  159 non-null    float64\n",
            " 3   Longitud2  159 non-null    float64\n",
            " 4   Longitud3  159 non-null    float64\n",
            " 5   Altura     159 non-null    float64\n",
            " 6   Anchura    159 non-null    float64\n",
            "dtypes: float64(6), object(1)\n",
            "memory usage: 8.8+ KB\n"
          ]
        }
      ]
    },
    {
      "cell_type": "code",
      "source": [
        "df.isna().sum()"
      ],
      "metadata": {
        "colab": {
          "base_uri": "https://localhost:8080/"
        },
        "id": "jCkbKVXWpOlh",
        "outputId": "d8bc14eb-c7ac-41d3-f054-078d766370c5"
      },
      "execution_count": 5,
      "outputs": [
        {
          "output_type": "execute_result",
          "data": {
            "text/plain": [
              "Especie      0\n",
              "Peso         0\n",
              "Longitud1    0\n",
              "Longitud2    0\n",
              "Longitud3    0\n",
              "Altura       0\n",
              "Anchura      0\n",
              "dtype: int64"
            ]
          },
          "metadata": {},
          "execution_count": 5
        }
      ]
    },
    {
      "cell_type": "markdown",
      "source": [
        "No se encuentran datos faltantes."
      ],
      "metadata": {
        "id": "WELp64_LMsaK"
      }
    },
    {
      "cell_type": "markdown",
      "source": [
        "* **Verifica la correlación entre variables usando el método corr() del dataframe. Considera eliminar las variables con correlación para evitar la colinearidad.**"
      ],
      "metadata": {
        "id": "MebA7lqwqZY-"
      }
    },
    {
      "cell_type": "markdown",
      "source": [
        "Para visualizar la correlación entre las variables independientes y la dependiente, utilizamos un mapa de calor con un azul más fuerte que indica una correlación más alta."
      ],
      "metadata": {
        "id": "L4xrDA26PiOp"
      }
    },
    {
      "cell_type": "code",
      "source": [
        "\"\"\"\n",
        "import seaborn as sns\n",
        "import matplotlib.pyplot as plt\n",
        "import numpy as np\n",
        "\"\"\"\n",
        "\n",
        "my_corr = df.corr()\n",
        "mask = np.zeros_like(my_corr) \n",
        "## Esta parte es para llenar la diagonal superior de espacios en blanco!\n",
        "mask[np.triu_indices_from(mask)] = True \n",
        "with sns.axes_style(\"white\"):\n",
        "     ax = sns.heatmap(my_corr, mask=mask, square=True, cmap=sns.color_palette('Blues'), vmax=np.max(np.sort(my_corr.values)[:,-2]), linewidths=0.3,annot=True)\n",
        "\n",
        "\n"
      ],
      "metadata": {
        "colab": {
          "base_uri": "https://localhost:8080/",
          "height": 540
        },
        "id": "q7Uv611XucqE",
        "outputId": "6eaea824-c0b1-4c6f-b605-b68b5dd49aab"
      },
      "execution_count": 6,
      "outputs": [
        {
          "output_type": "stream",
          "name": "stderr",
          "text": [
            "<ipython-input-6-e60de1b5a21f>:7: FutureWarning: The default value of numeric_only in DataFrame.corr is deprecated. In a future version, it will default to False. Select only valid columns or specify the value of numeric_only to silence this warning.\n",
            "  my_corr = df.corr()\n"
          ]
        },
        {
          "output_type": "display_data",
          "data": {
            "text/plain": [
              "<Figure size 640x480 with 2 Axes>"
            ],
            "image/png": "[encoded data removed]"
          },
          "metadata": {}
        }
      ]
    },
    {
      "cell_type": "markdown",
      "source": [
        "* **Verifica si hay datos faltantes o inválidos.**"
      ],
      "metadata": {
        "id": "wHINkFkQkP0X"
      }
    },
    {
      "cell_type": "code",
      "source": [
        "df.sort_values(\"Peso\")"
      ],
      "metadata": {
        "colab": {
          "base_uri": "https://localhost:8080/",
          "height": 424
        },
        "id": "DFL23pAJqDD0",
        "outputId": "e22eec8f-98a5-4d23-b2d8-a97d93abaa5b"
      },
      "execution_count": 7,
      "outputs": [
        {
          "output_type": "execute_result",
          "data": {
            "text/plain": [
              "    Especie    Peso  Longitud1  Longitud2  Longitud3   Altura  Anchura\n",
              "40    Roach     0.0       19.0       20.5       22.8   6.4752   3.3516\n",
              "72    Perch     5.9        7.5        8.4        8.8   2.1120   1.4080\n",
              "145   Smelt     6.7        9.3        9.8       10.8   1.7388   1.0476\n",
              "147   Smelt     7.0       10.1       10.6       11.6   1.7284   1.1484\n",
              "146   Smelt     7.5       10.0       10.5       11.6   1.9720   1.1600\n",
              "..      ...     ...        ...        ...        ...      ...      ...\n",
              "125   Perch  1100.0       40.1       43.0       45.5  12.5125   7.4165\n",
              "141    Pike  1250.0       52.0       56.0       59.7  10.6863   6.9849\n",
              "143    Pike  1550.0       56.0       60.0       64.0   9.6000   6.1440\n",
              "142    Pike  1600.0       56.0       60.0       64.0   9.6000   6.1440\n",
              "144    Pike  1650.0       59.0       63.4       68.0  10.8120   7.4800\n",
              "\n",
              "[159 rows x 7 columns]"
            ],
            "text/html": [
              "\n",
              "  <div id=\"df-37f95f61-ae63-46c8-9c2f-e2d82077ea3a\">\n",
              "    <div class=\"colab-df-container\">\n",
              "      <div>\n",
              "<style scoped>\n",
              "    .dataframe tbody tr th:only-of-type {\n",
              "        vertical-align: middle;\n",
              "    }\n",
              "\n",
              "    .dataframe tbody tr th {\n",
              "        vertical-align: top;\n",
              "    }\n",
              "\n",
              "    .dataframe thead th {\n",
              "        text-align: right;\n",
              "    }\n",
              "</style>\n",
              "<table border=\"1\" class=\"dataframe\">\n",
              "  <thead>\n",
              "    <tr style=\"text-align: right;\">\n",
              "      <th></th>\n",
              "      <th>Especie</th>\n",
              "      <th>Peso</th>\n",
              "      <th>Longitud1</th>\n",
              "      <th>Longitud2</th>\n",
              "      <th>Longitud3</th>\n",
              "      <th>Altura</th>\n",
              "      <th>Anchura</th>\n",
              "    </tr>\n",
              "  </thead>\n",
              "  <tbody>\n",
              "    <tr>\n",
              "      <th>40</th>\n",
              "      <td>Roach</td>\n",
              "      <td>0.0</td>\n",
              "      <td>19.0</td>\n",
              "      <td>20.5</td>\n",
              "      <td>22.8</td>\n",
              "      <td>6.4752</td>\n",
              "      <td>3.3516</td>\n",
              "    </tr>\n",
              "    <tr>\n",
              "      <th>72</th>\n",
              "      <td>Perch</td>\n",
              "      <td>5.9</td>\n",
              "      <td>7.5</td>\n",
              "      <td>8.4</td>\n",
              "      <td>8.8</td>\n",
              "      <td>2.1120</td>\n",
              "      <td>1.4080</td>\n",
              "    </tr>\n",
              "    <tr>\n",
              "      <th>145</th>\n",
              "      <td>Smelt</td>\n",
              "      <td>6.7</td>\n",
              "      <td>9.3</td>\n",
              "      <td>9.8</td>\n",
              "      <td>10.8</td>\n",
              "      <td>1.7388</td>\n",
              "      <td>1.0476</td>\n",
              "    </tr>\n",
              "    <tr>\n",
              "      <th>147</th>\n",
              "      <td>Smelt</td>\n",
              "      <td>7.0</td>\n",
              "      <td>10.1</td>\n",
              "      <td>10.6</td>\n",
              "      <td>11.6</td>\n",
              "      <td>1.7284</td>\n",
              "      <td>1.1484</td>\n",
              "    </tr>\n",
              "    <tr>\n",
              "      <th>146</th>\n",
              "      <td>Smelt</td>\n",
              "      <td>7.5</td>\n",
              "      <td>10.0</td>\n",
              "      <td>10.5</td>\n",
              "      <td>11.6</td>\n",
              "      <td>1.9720</td>\n",
              "      <td>1.1600</td>\n",
              "    </tr>\n",
              "    <tr>\n",
              "      <th>...</th>\n",
              "      <td>...</td>\n",
              "      <td>...</td>\n",
              "      <td>...</td>\n",
              "      <td>...</td>\n",
              "      <td>...</td>\n",
              "      <td>...</td>\n",
              "      <td>...</td>\n",
              "    </tr>\n",
              "    <tr>\n",
              "      <th>125</th>\n",
              "      <td>Perch</td>\n",
              "      <td>1100.0</td>\n",
              "      <td>40.1</td>\n",
              "      <td>43.0</td>\n",
              "      <td>45.5</td>\n",
              "      <td>12.5125</td>\n",
              "      <td>7.4165</td>\n",
              "    </tr>\n",
              "    <tr>\n",
              "      <th>141</th>\n",
              "      <td>Pike</td>\n",
              "      <td>1250.0</td>\n",
              "      <td>52.0</td>\n",
              "      <td>56.0</td>\n",
              "      <td>59.7</td>\n",
              "      <td>10.6863</td>\n",
              "      <td>6.9849</td>\n",
              "    </tr>\n",
              "    <tr>\n",
              "      <th>143</th>\n",
              "      <td>Pike</td>\n",
              "      <td>1550.0</td>\n",
              "      <td>56.0</td>\n",
              "      <td>60.0</td>\n",
              "      <td>64.0</td>\n",
              "      <td>9.6000</td>\n",
              "      <td>6.1440</td>\n",
              "    </tr>\n",
              "    <tr>\n",
              "      <th>142</th>\n",
              "      <td>Pike</td>\n",
              "      <td>1600.0</td>\n",
              "      <td>56.0</td>\n",
              "      <td>60.0</td>\n",
              "      <td>64.0</td>\n",
              "      <td>9.6000</td>\n",
              "      <td>6.1440</td>\n",
              "    </tr>\n",
              "    <tr>\n",
              "      <th>144</th>\n",
              "      <td>Pike</td>\n",
              "      <td>1650.0</td>\n",
              "      <td>59.0</td>\n",
              "      <td>63.4</td>\n",
              "      <td>68.0</td>\n",
              "      <td>10.8120</td>\n",
              "      <td>7.4800</td>\n",
              "    </tr>\n",
              "  </tbody>\n",
              "</table>\n",
              "<p>159 rows × 7 columns</p>\n",
              "</div>\n",
              "      <button class=\"colab-df-convert\" onclick=\"convertToInteractive('df-37f95f61-ae63-46c8-9c2f-e2d82077ea3a')\"\n",
              "              title=\"Convert this dataframe to an interactive table.\"\n",
              "              style=\"display:none;\">\n",
              "        \n",
              "  <svg xmlns=\"http://www.w3.org/2000/svg\" height=\"24px\"viewBox=\"0 0 24 24\"\n",
              "       width=\"24px\">\n",
              "    <path d=\"M0 0h24v24H0V0z\" fill=\"none\"/>\n",
              "    <path d=\"M18.56 5.44l.94 2.06.94-2.06 2.06-.94-2.06-.94-.94-2.06-.94 2.06-2.06.94zm-11 1L8.5 8.5l.94-2.06 2.06-.94-2.06-.94L8.5 2.5l-.94 2.06-2.06.94zm10 10l.94 2.06.94-2.06 2.06-.94-2.06-.94-.94-2.06-.94 2.06-2.06.94z\"/><path d=\"M17.41 7.96l-1.37-1.37c-.4-.4-.92-.59-1.43-.59-.52 0-1.04.2-1.43.59L10.3 9.45l-7.72 7.72c-.78.78-.78 2.05 0 2.83L4 21.41c.39.39.9.59 1.41.59.51 0 1.02-.2 1.41-.59l7.78-7.78 2.81-2.81c.8-.78.8-2.07 0-2.86zM5.41 20L4 18.59l7.72-7.72 1.47 1.35L5.41 20z\"/>\n",
              "  </svg>\n",
              "      </button>\n",
              "      \n",
              "  <style>\n",
              "    .colab-df-container {\n",
              "      display:flex;\n",
              "      flex-wrap:wrap;\n",
              "      gap: 12px;\n",
              "    }\n",
              "\n",
              "    .colab-df-convert {\n",
              "      background-color: #E8F0FE;\n",
              "      border: none;\n",
              "      border-radius: 50%;\n",
              "      cursor: pointer;\n",
              "      display: none;\n",
              "      fill: #1967D2;\n",
              "      height: 32px;\n",
              "      padding: 0 0 0 0;\n",
              "      width: 32px;\n",
              "    }\n",
              "\n",
              "    .colab-df-convert:hover {\n",
              "      background-color: #E2EBFA;\n",
              "      box-shadow: 0px 1px 2px rgba(60, 64, 67, 0.3), 0px 1px 3px 1px rgba(60, 64, 67, 0.15);\n",
              "      fill: #174EA6;\n",
              "    }\n",
              "\n",
              "    [theme=dark] .colab-df-convert {\n",
              "      background-color: #3B4455;\n",
              "      fill: #D2E3FC;\n",
              "    }\n",
              "\n",
              "    [theme=dark] .colab-df-convert:hover {\n",
              "      background-color: #434B5C;\n",
              "      box-shadow: 0px 1px 3px 1px rgba(0, 0, 0, 0.15);\n",
              "      filter: drop-shadow(0px 1px 2px rgba(0, 0, 0, 0.3));\n",
              "      fill: #FFFFFF;\n",
              "    }\n",
              "  </style>\n",
              "\n",
              "      <script>\n",
              "        const buttonEl =\n",
              "          document.querySelector('#df-37f95f61-ae63-46c8-9c2f-e2d82077ea3a button.colab-df-convert');\n",
              "        buttonEl.style.display =\n",
              "          google.colab.kernel.accessAllowed ? 'block' : 'none';\n",
              "\n",
              "        async function convertToInteractive(key) {\n",
              "          const element = document.querySelector('#df-37f95f61-ae63-46c8-9c2f-e2d82077ea3a');\n",
              "          const dataTable =\n",
              "            await google.colab.kernel.invokeFunction('convertToInteractive',\n",
              "                                                     [key], {});\n",
              "          if (!dataTable) return;\n",
              "\n",
              "          const docLinkHtml = 'Like what you see? Visit the ' +\n",
              "            '<a target=\"_blank\" href=https://colab.research.google.com/notebooks/data_table.ipynb>data table notebook</a>'\n",
              "            + ' to learn more about interactive tables.';\n",
              "          element.innerHTML = '';\n",
              "          dataTable['output_type'] = 'display_data';\n",
              "          await google.colab.output.renderOutput(dataTable, element);\n",
              "          const docLink = document.createElement('div');\n",
              "          docLink.innerHTML = docLinkHtml;\n",
              "          element.appendChild(docLink);\n",
              "        }\n",
              "      </script>\n",
              "    </div>\n",
              "  </div>\n",
              "  "
            ]
          },
          "metadata": {},
          "execution_count": 7
        }
      ]
    },
    {
      "cell_type": "markdown",
      "source": [
        "Observamos que hay un pez con peso=0, pero que si tiene registrados los otros datos, por lo que se considera como un dato inválido y procederemos a eliminarlo del dataframe"
      ],
      "metadata": {
        "id": "qh6nBCI2SqwX"
      }
    },
    {
      "cell_type": "code",
      "source": [
        "#Cambiamos el dato por nan\n",
        "df.loc[df['Peso'] == 0, 'Peso'] = np.nan"
      ],
      "metadata": {
        "id": "dbzSQRGPnolI"
      },
      "execution_count": 8,
      "outputs": []
    },
    {
      "cell_type": "code",
      "source": [
        "#Verificamos\n",
        "df.isnull().sum()"
      ],
      "metadata": {
        "colab": {
          "base_uri": "https://localhost:8080/"
        },
        "id": "ElkzJoN7poDc",
        "outputId": "44f27230-5ee4-43e5-d54d-072d697258d9"
      },
      "execution_count": 9,
      "outputs": [
        {
          "output_type": "execute_result",
          "data": {
            "text/plain": [
              "Especie      0\n",
              "Peso         1\n",
              "Longitud1    0\n",
              "Longitud2    0\n",
              "Longitud3    0\n",
              "Altura       0\n",
              "Anchura      0\n",
              "dtype: int64"
            ]
          },
          "metadata": {},
          "execution_count": 9
        }
      ]
    },
    {
      "cell_type": "code",
      "source": [
        "#Eliminamos el dato\n",
        "df = df.dropna(axis=0)\n",
        "     "
      ],
      "metadata": {
        "id": "YDX33sfXqiVw"
      },
      "execution_count": 10,
      "outputs": []
    },
    {
      "cell_type": "code",
      "source": [
        "#df sin datos faltantes o inválidos\n",
        "df.isnull().sum()"
      ],
      "metadata": {
        "colab": {
          "base_uri": "https://localhost:8080/"
        },
        "id": "nkd7DqZGrWqz",
        "outputId": "3761372d-c79e-465c-8677-c6c60852b776"
      },
      "execution_count": 11,
      "outputs": [
        {
          "output_type": "execute_result",
          "data": {
            "text/plain": [
              "Especie      0\n",
              "Peso         0\n",
              "Longitud1    0\n",
              "Longitud2    0\n",
              "Longitud3    0\n",
              "Altura       0\n",
              "Anchura      0\n",
              "dtype: int64"
            ]
          },
          "metadata": {},
          "execution_count": 11
        }
      ]
    },
    {
      "cell_type": "markdown",
      "source": [
        "* **Explora la relación entre pares de variables usando pairplot de seaborn.**"
      ],
      "metadata": {
        "id": "IBpewNVfsvUN"
      }
    },
    {
      "cell_type": "code",
      "source": [
        "\"\"\"\n",
        "import seaborn as sns\n",
        "import matplotlib.pyplot as plt\n",
        "\"\"\"\n",
        "\n",
        "\n",
        "sns.pairplot(df, x_vars=[\"Longitud1\", \"Longitud2\", \"Longitud3\", \"Altura\" , \"Anchura\"], y_vars=['Peso'], height=5, aspect=1, kind='reg')\n",
        "plt.show()"
      ],
      "metadata": {
        "colab": {
          "base_uri": "https://localhost:8080/",
          "height": 259
        },
        "id": "5kkGe979wiYf",
        "outputId": "a4a8403f-f6e5-4154-da5c-02a4897403a3"
      },
      "execution_count": 12,
      "outputs": [
        {
          "output_type": "display_data",
          "data": {
            "text/plain": [
              "<Figure size 2500x500 with 5 Axes>"
            ],
            "image/png": "[encoded data removed]"
          },
          "metadata": {}
        }
      ]
    },
    {
      "cell_type": "markdown",
      "source": [
        "De los datos obtenidos con el método corr() y de las observaciones de la relación entre pares se considera no incluir la columna Altura en el análisis, ya que es la que tiene menor correclación con la variable dependiente Peso."
      ],
      "metadata": {
        "id": "2vnF7_sUUJEo"
      }
    },
    {
      "cell_type": "markdown",
      "source": [
        "* **Considera usar PolinomialFeatures en función de tus observaciones del punto anterior.**"
      ],
      "metadata": {
        "id": "5HJym0ULuRDL"
      }
    },
    {
      "cell_type": "code",
      "source": [
        "y=df['Peso']\n",
        "y.shape"
      ],
      "metadata": {
        "colab": {
          "base_uri": "https://localhost:8080/"
        },
        "id": "RhqIHgAQdc0P",
        "outputId": "7f2d3098-66fd-44db-ecb6-a2b347094b97"
      },
      "execution_count": 13,
      "outputs": [
        {
          "output_type": "execute_result",
          "data": {
            "text/plain": [
              "(158,)"
            ]
          },
          "metadata": {},
          "execution_count": 13
        }
      ]
    },
    {
      "cell_type": "code",
      "source": [
        "df.drop(columns=['Peso', 'Altura'],inplace=True)\n",
        "\n"
      ],
      "metadata": {
        "id": "gHfVl_3n2gg7",
        "colab": {
          "base_uri": "https://localhost:8080/"
        },
        "outputId": "1c755e55-5797-456a-d4cc-d096757ce01d"
      },
      "execution_count": 14,
      "outputs": [
        {
          "output_type": "stream",
          "name": "stderr",
          "text": [
            "<ipython-input-14-3e055bf5391e>:1: SettingWithCopyWarning: \n",
            "A value is trying to be set on a copy of a slice from a DataFrame\n",
            "\n",
            "See the caveats in the documentation: https://pandas.pydata.org/pandas-docs/stable/user_guide/indexing.html#returning-a-view-versus-a-copy\n",
            "  df.drop(columns=['Peso', 'Altura'],inplace=True)\n"
          ]
        }
      ]
    },
    {
      "cell_type": "code",
      "source": [
        "df"
      ],
      "metadata": {
        "colab": {
          "base_uri": "https://localhost:8080/",
          "height": 424
        },
        "id": "CdIgn0Gene-f",
        "outputId": "aa210a06-7e1d-46c8-e368-f95e883e64a2"
      },
      "execution_count": 15,
      "outputs": [
        {
          "output_type": "execute_result",
          "data": {
            "text/plain": [
              "    Especie  Longitud1  Longitud2  Longitud3  Anchura\n",
              "0     Bream       23.2       25.4       30.0   4.0200\n",
              "1     Bream       24.0       26.3       31.2   4.3056\n",
              "2     Bream       23.9       26.5       31.1   4.6961\n",
              "3     Bream       26.3       29.0       33.5   4.4555\n",
              "4     Bream       26.5       29.0       34.0   5.1340\n",
              "..      ...        ...        ...        ...      ...\n",
              "154   Smelt       11.5       12.2       13.4   1.3936\n",
              "155   Smelt       11.7       12.4       13.5   1.2690\n",
              "156   Smelt       12.1       13.0       13.8   1.2558\n",
              "157   Smelt       13.2       14.3       15.2   2.0672\n",
              "158   Smelt       13.8       15.0       16.2   1.8792\n",
              "\n",
              "[158 rows x 5 columns]"
            ],
            "text/html": [
              "\n",
              "  <div id=\"df-0a897c64-b833-4ac1-b070-7e6cf6a0ca5b\">\n",
              "    <div class=\"colab-df-container\">\n",
              "      <div>\n",
              "<style scoped>\n",
              "    .dataframe tbody tr th:only-of-type {\n",
              "        vertical-align: middle;\n",
              "    }\n",
              "\n",
              "    .dataframe tbody tr th {\n",
              "        vertical-align: top;\n",
              "    }\n",
              "\n",
              "    .dataframe thead th {\n",
              "        text-align: right;\n",
              "    }\n",
              "</style>\n",
              "<table border=\"1\" class=\"dataframe\">\n",
              "  <thead>\n",
              "    <tr style=\"text-align: right;\">\n",
              "      <th></th>\n",
              "      <th>Especie</th>\n",
              "      <th>Longitud1</th>\n",
              "      <th>Longitud2</th>\n",
              "      <th>Longitud3</th>\n",
              "      <th>Anchura</th>\n",
              "    </tr>\n",
              "  </thead>\n",
              "  <tbody>\n",
              "    <tr>\n",
              "      <th>0</th>\n",
              "      <td>Bream</td>\n",
              "      <td>23.2</td>\n",
              "      <td>25.4</td>\n",
              "      <td>30.0</td>\n",
              "      <td>4.0200</td>\n",
              "    </tr>\n",
              "    <tr>\n",
              "      <th>1</th>\n",
              "      <td>Bream</td>\n",
              "      <td>24.0</td>\n",
              "      <td>26.3</td>\n",
              "      <td>31.2</td>\n",
              "      <td>4.3056</td>\n",
              "    </tr>\n",
              "    <tr>\n",
              "      <th>2</th>\n",
              "      <td>Bream</td>\n",
              "      <td>23.9</td>\n",
              "      <td>26.5</td>\n",
              "      <td>31.1</td>\n",
              "      <td>4.6961</td>\n",
              "    </tr>\n",
              "    <tr>\n",
              "      <th>3</th>\n",
              "      <td>Bream</td>\n",
              "      <td>26.3</td>\n",
              "      <td>29.0</td>\n",
              "      <td>33.5</td>\n",
              "      <td>4.4555</td>\n",
              "    </tr>\n",
              "    <tr>\n",
              "      <th>4</th>\n",
              "      <td>Bream</td>\n",
              "      <td>26.5</td>\n",
              "      <td>29.0</td>\n",
              "      <td>34.0</td>\n",
              "      <td>5.1340</td>\n",
              "    </tr>\n",
              "    <tr>\n",
              "      <th>...</th>\n",
              "      <td>...</td>\n",
              "      <td>...</td>\n",
              "      <td>...</td>\n",
              "      <td>...</td>\n",
              "      <td>...</td>\n",
              "    </tr>\n",
              "    <tr>\n",
              "      <th>154</th>\n",
              "      <td>Smelt</td>\n",
              "      <td>11.5</td>\n",
              "      <td>12.2</td>\n",
              "      <td>13.4</td>\n",
              "      <td>1.3936</td>\n",
              "    </tr>\n",
              "    <tr>\n",
              "      <th>155</th>\n",
              "      <td>Smelt</td>\n",
              "      <td>11.7</td>\n",
              "      <td>12.4</td>\n",
              "      <td>13.5</td>\n",
              "      <td>1.2690</td>\n",
              "    </tr>\n",
              "    <tr>\n",
              "      <th>156</th>\n",
              "      <td>Smelt</td>\n",
              "      <td>12.1</td>\n",
              "      <td>13.0</td>\n",
              "      <td>13.8</td>\n",
              "      <td>1.2558</td>\n",
              "    </tr>\n",
              "    <tr>\n",
              "      <th>157</th>\n",
              "      <td>Smelt</td>\n",
              "      <td>13.2</td>\n",
              "      <td>14.3</td>\n",
              "      <td>15.2</td>\n",
              "      <td>2.0672</td>\n",
              "    </tr>\n",
              "    <tr>\n",
              "      <th>158</th>\n",
              "      <td>Smelt</td>\n",
              "      <td>13.8</td>\n",
              "      <td>15.0</td>\n",
              "      <td>16.2</td>\n",
              "      <td>1.8792</td>\n",
              "    </tr>\n",
              "  </tbody>\n",
              "</table>\n",
              "<p>158 rows × 5 columns</p>\n",
              "</div>\n",
              "      <button class=\"colab-df-convert\" onclick=\"convertToInteractive('df-0a897c64-b833-4ac1-b070-7e6cf6a0ca5b')\"\n",
              "              title=\"Convert this dataframe to an interactive table.\"\n",
              "              style=\"display:none;\">\n",
              "        \n",
              "  <svg xmlns=\"http://www.w3.org/2000/svg\" height=\"24px\"viewBox=\"0 0 24 24\"\n",
              "       width=\"24px\">\n",
              "    <path d=\"M0 0h24v24H0V0z\" fill=\"none\"/>\n",
              "    <path d=\"M18.56 5.44l.94 2.06.94-2.06 2.06-.94-2.06-.94-.94-2.06-.94 2.06-2.06.94zm-11 1L8.5 8.5l.94-2.06 2.06-.94-2.06-.94L8.5 2.5l-.94 2.06-2.06.94zm10 10l.94 2.06.94-2.06 2.06-.94-2.06-.94-.94-2.06-.94 2.06-2.06.94z\"/><path d=\"M17.41 7.96l-1.37-1.37c-.4-.4-.92-.59-1.43-.59-.52 0-1.04.2-1.43.59L10.3 9.45l-7.72 7.72c-.78.78-.78 2.05 0 2.83L4 21.41c.39.39.9.59 1.41.59.51 0 1.02-.2 1.41-.59l7.78-7.78 2.81-2.81c.8-.78.8-2.07 0-2.86zM5.41 20L4 18.59l7.72-7.72 1.47 1.35L5.41 20z\"/>\n",
              "  </svg>\n",
              "      </button>\n",
              "      \n",
              "  <style>\n",
              "    .colab-df-container {\n",
              "      display:flex;\n",
              "      flex-wrap:wrap;\n",
              "      gap: 12px;\n",
              "    }\n",
              "\n",
              "    .colab-df-convert {\n",
              "      background-color: #E8F0FE;\n",
              "      border: none;\n",
              "      border-radius: 50%;\n",
              "      cursor: pointer;\n",
              "      display: none;\n",
              "      fill: #1967D2;\n",
              "      height: 32px;\n",
              "      padding: 0 0 0 0;\n",
              "      width: 32px;\n",
              "    }\n",
              "\n",
              "    .colab-df-convert:hover {\n",
              "      background-color: #E2EBFA;\n",
              "      box-shadow: 0px 1px 2px rgba(60, 64, 67, 0.3), 0px 1px 3px 1px rgba(60, 64, 67, 0.15);\n",
              "      fill: #174EA6;\n",
              "    }\n",
              "\n",
              "    [theme=dark] .colab-df-convert {\n",
              "      background-color: #3B4455;\n",
              "      fill: #D2E3FC;\n",
              "    }\n",
              "\n",
              "    [theme=dark] .colab-df-convert:hover {\n",
              "      background-color: #434B5C;\n",
              "      box-shadow: 0px 1px 3px 1px rgba(0, 0, 0, 0.15);\n",
              "      filter: drop-shadow(0px 1px 2px rgba(0, 0, 0, 0.3));\n",
              "      fill: #FFFFFF;\n",
              "    }\n",
              "  </style>\n",
              "\n",
              "      <script>\n",
              "        const buttonEl =\n",
              "          document.querySelector('#df-0a897c64-b833-4ac1-b070-7e6cf6a0ca5b button.colab-df-convert');\n",
              "        buttonEl.style.display =\n",
              "          google.colab.kernel.accessAllowed ? 'block' : 'none';\n",
              "\n",
              "        async function convertToInteractive(key) {\n",
              "          const element = document.querySelector('#df-0a897c64-b833-4ac1-b070-7e6cf6a0ca5b');\n",
              "          const dataTable =\n",
              "            await google.colab.kernel.invokeFunction('convertToInteractive',\n",
              "                                                     [key], {});\n",
              "          if (!dataTable) return;\n",
              "\n",
              "          const docLinkHtml = 'Like what you see? Visit the ' +\n",
              "            '<a target=\"_blank\" href=https://colab.research.google.com/notebooks/data_table.ipynb>data table notebook</a>'\n",
              "            + ' to learn more about interactive tables.';\n",
              "          element.innerHTML = '';\n",
              "          dataTable['output_type'] = 'display_data';\n",
              "          await google.colab.output.renderOutput(dataTable, element);\n",
              "          const docLink = document.createElement('div');\n",
              "          docLink.innerHTML = docLinkHtml;\n",
              "          element.appendChild(docLink);\n",
              "        }\n",
              "      </script>\n",
              "    </div>\n",
              "  </div>\n",
              "  "
            ]
          },
          "metadata": {},
          "execution_count": 15
        }
      ]
    },
    {
      "cell_type": "markdown",
      "source": [
        "* **Considera la codificación one-hot para la(s) variable(s) categórica(s).**"
      ],
      "metadata": {
        "id": "t_rKEWW9mIY7"
      }
    },
    {
      "cell_type": "markdown",
      "source": [
        "Inspeccionemos las *features* que contienen datos no numéricos (Especie)."
      ],
      "metadata": {
        "id": "Rhf9kslbZCRR"
      }
    },
    {
      "cell_type": "code",
      "source": [
        "columns_object = df.select_dtypes('object').columns.to_list()\n",
        "len(columns_object),columns_object"
      ],
      "metadata": {
        "id": "xzoE12YVYn37",
        "colab": {
          "base_uri": "https://localhost:8080/"
        },
        "outputId": "3ecc47f8-a66d-4fff-93f7-dfe6cac18333"
      },
      "execution_count": 16,
      "outputs": [
        {
          "output_type": "execute_result",
          "data": {
            "text/plain": [
              "(1, ['Especie'])"
            ]
          },
          "metadata": {},
          "execution_count": 16
        }
      ]
    },
    {
      "cell_type": "markdown",
      "source": [
        "Hagamos un conteo de los valores únicos en cada una de las *features* categóricas"
      ],
      "metadata": {
        "id": "hX6hfC_EdLS_"
      }
    },
    {
      "cell_type": "code",
      "source": [
        "import matplotlib.pyplot as plt\n",
        "import seaborn as sns \n",
        "\n",
        "fig = plt.figure(figsize=(15,15))\n",
        "for idx,col_name in enumerate(columns_object):\n",
        "    plt.subplot(3,3,idx+1)\n",
        "    sns.countplot(x=df.loc[:,col_name])\n",
        "plt.tight_layout()\n",
        "plt.show()"
      ],
      "metadata": {
        "id": "WqUWwEjPcvOp",
        "colab": {
          "base_uri": "https://localhost:8080/",
          "height": 531
        },
        "outputId": "cc9d4206-d443-4fb1-e60e-3ed672d786bb"
      },
      "execution_count": 17,
      "outputs": [
        {
          "output_type": "display_data",
          "data": {
            "text/plain": [
              "<Figure size 1500x1500 with 1 Axes>"
            ],
            "image/png": "[encoded data removed]"
          },
          "metadata": {}
        }
      ]
    },
    {
      "cell_type": "markdown",
      "source": [
        "Hacemos la codificación one-hot para las variable **Especie**."
      ],
      "metadata": {
        "id": "wn1OrZzpZUD4"
      }
    },
    {
      "cell_type": "code",
      "source": [
        "x = pd.get_dummies(df)\n",
        "x\n"
      ],
      "metadata": {
        "colab": {
          "base_uri": "https://localhost:8080/",
          "height": 468
        },
        "id": "oXhzrEa2GfaT",
        "outputId": "5d238bae-eae8-45e0-8cdf-8ceddfb92bce"
      },
      "execution_count": 18,
      "outputs": [
        {
          "output_type": "execute_result",
          "data": {
            "text/plain": [
              "     Longitud1  Longitud2  Longitud3  Anchura  Especie_Bream  Especie_Parkki  \\\n",
              "0         23.2       25.4       30.0   4.0200              1               0   \n",
              "1         24.0       26.3       31.2   4.3056              1               0   \n",
              "2         23.9       26.5       31.1   4.6961              1               0   \n",
              "3         26.3       29.0       33.5   4.4555              1               0   \n",
              "4         26.5       29.0       34.0   5.1340              1               0   \n",
              "..         ...        ...        ...      ...            ...             ...   \n",
              "154       11.5       12.2       13.4   1.3936              0               0   \n",
              "155       11.7       12.4       13.5   1.2690              0               0   \n",
              "156       12.1       13.0       13.8   1.2558              0               0   \n",
              "157       13.2       14.3       15.2   2.0672              0               0   \n",
              "158       13.8       15.0       16.2   1.8792              0               0   \n",
              "\n",
              "     Especie_Perch  Especie_Pike  Especie_Roach  Especie_Smelt  \\\n",
              "0                0             0              0              0   \n",
              "1                0             0              0              0   \n",
              "2                0             0              0              0   \n",
              "3                0             0              0              0   \n",
              "4                0             0              0              0   \n",
              "..             ...           ...            ...            ...   \n",
              "154              0             0              0              1   \n",
              "155              0             0              0              1   \n",
              "156              0             0              0              1   \n",
              "157              0             0              0              1   \n",
              "158              0             0              0              1   \n",
              "\n",
              "     Especie_Whitefish  \n",
              "0                    0  \n",
              "1                    0  \n",
              "2                    0  \n",
              "3                    0  \n",
              "4                    0  \n",
              "..                 ...  \n",
              "154                  0  \n",
              "155                  0  \n",
              "156                  0  \n",
              "157                  0  \n",
              "158                  0  \n",
              "\n",
              "[158 rows x 11 columns]"
            ],
            "text/html": [
              "\n",
              "  <div id=\"df-eb0e2d99-2838-48ec-9244-43f5a804f8b4\">\n",
              "    <div class=\"colab-df-container\">\n",
              "      <div>\n",
              "<style scoped>\n",
              "    .dataframe tbody tr th:only-of-type {\n",
              "        vertical-align: middle;\n",
              "    }\n",
              "\n",
              "    .dataframe tbody tr th {\n",
              "        vertical-align: top;\n",
              "    }\n",
              "\n",
              "    .dataframe thead th {\n",
              "        text-align: right;\n",
              "    }\n",
              "</style>\n",
              "<table border=\"1\" class=\"dataframe\">\n",
              "  <thead>\n",
              "    <tr style=\"text-align: right;\">\n",
              "      <th></th>\n",
              "      <th>Longitud1</th>\n",
              "      <th>Longitud2</th>\n",
              "      <th>Longitud3</th>\n",
              "      <th>Anchura</th>\n",
              "      <th>Especie_Bream</th>\n",
              "      <th>Especie_Parkki</th>\n",
              "      <th>Especie_Perch</th>\n",
              "      <th>Especie_Pike</th>\n",
              "      <th>Especie_Roach</th>\n",
              "      <th>Especie_Smelt</th>\n",
              "      <th>Especie_Whitefish</th>\n",
              "    </tr>\n",
              "  </thead>\n",
              "  <tbody>\n",
              "    <tr>\n",
              "      <th>0</th>\n",
              "      <td>23.2</td>\n",
              "      <td>25.4</td>\n",
              "      <td>30.0</td>\n",
              "      <td>4.0200</td>\n",
              "      <td>1</td>\n",
              "      <td>0</td>\n",
              "      <td>0</td>\n",
              "      <td>0</td>\n",
              "      <td>0</td>\n",
              "      <td>0</td>\n",
              "      <td>0</td>\n",
              "    </tr>\n",
              "    <tr>\n",
              "      <th>1</th>\n",
              "      <td>24.0</td>\n",
              "      <td>26.3</td>\n",
              "      <td>31.2</td>\n",
              "      <td>4.3056</td>\n",
              "      <td>1</td>\n",
              "      <td>0</td>\n",
              "      <td>0</td>\n",
              "      <td>0</td>\n",
              "      <td>0</td>\n",
              "      <td>0</td>\n",
              "      <td>0</td>\n",
              "    </tr>\n",
              "    <tr>\n",
              "      <th>2</th>\n",
              "      <td>23.9</td>\n",
              "      <td>26.5</td>\n",
              "      <td>31.1</td>\n",
              "      <td>4.6961</td>\n",
              "      <td>1</td>\n",
              "      <td>0</td>\n",
              "      <td>0</td>\n",
              "      <td>0</td>\n",
              "      <td>0</td>\n",
              "      <td>0</td>\n",
              "      <td>0</td>\n",
              "    </tr>\n",
              "    <tr>\n",
              "      <th>3</th>\n",
              "      <td>26.3</td>\n",
              "      <td>29.0</td>\n",
              "      <td>33.5</td>\n",
              "      <td>4.4555</td>\n",
              "      <td>1</td>\n",
              "      <td>0</td>\n",
              "      <td>0</td>\n",
              "      <td>0</td>\n",
              "      <td>0</td>\n",
              "      <td>0</td>\n",
              "      <td>0</td>\n",
              "    </tr>\n",
              "    <tr>\n",
              "      <th>4</th>\n",
              "      <td>26.5</td>\n",
              "      <td>29.0</td>\n",
              "      <td>34.0</td>\n",
              "      <td>5.1340</td>\n",
              "      <td>1</td>\n",
              "      <td>0</td>\n",
              "      <td>0</td>\n",
              "      <td>0</td>\n",
              "      <td>0</td>\n",
              "      <td>0</td>\n",
              "      <td>0</td>\n",
              "    </tr>\n",
              "    <tr>\n",
              "      <th>...</th>\n",
              "      <td>...</td>\n",
              "      <td>...</td>\n",
              "      <td>...</td>\n",
              "      <td>...</td>\n",
              "      <td>...</td>\n",
              "      <td>...</td>\n",
              "      <td>...</td>\n",
              "      <td>...</td>\n",
              "      <td>...</td>\n",
              "      <td>...</td>\n",
              "      <td>...</td>\n",
              "    </tr>\n",
              "    <tr>\n",
              "      <th>154</th>\n",
              "      <td>11.5</td>\n",
              "      <td>12.2</td>\n",
              "      <td>13.4</td>\n",
              "      <td>1.3936</td>\n",
              "      <td>0</td>\n",
              "      <td>0</td>\n",
              "      <td>0</td>\n",
              "      <td>0</td>\n",
              "      <td>0</td>\n",
              "      <td>1</td>\n",
              "      <td>0</td>\n",
              "    </tr>\n",
              "    <tr>\n",
              "      <th>155</th>\n",
              "      <td>11.7</td>\n",
              "      <td>12.4</td>\n",
              "      <td>13.5</td>\n",
              "      <td>1.2690</td>\n",
              "      <td>0</td>\n",
              "      <td>0</td>\n",
              "      <td>0</td>\n",
              "      <td>0</td>\n",
              "      <td>0</td>\n",
              "      <td>1</td>\n",
              "      <td>0</td>\n",
              "    </tr>\n",
              "    <tr>\n",
              "      <th>156</th>\n",
              "      <td>12.1</td>\n",
              "      <td>13.0</td>\n",
              "      <td>13.8</td>\n",
              "      <td>1.2558</td>\n",
              "      <td>0</td>\n",
              "      <td>0</td>\n",
              "      <td>0</td>\n",
              "      <td>0</td>\n",
              "      <td>0</td>\n",
              "      <td>1</td>\n",
              "      <td>0</td>\n",
              "    </tr>\n",
              "    <tr>\n",
              "      <th>157</th>\n",
              "      <td>13.2</td>\n",
              "      <td>14.3</td>\n",
              "      <td>15.2</td>\n",
              "      <td>2.0672</td>\n",
              "      <td>0</td>\n",
              "      <td>0</td>\n",
              "      <td>0</td>\n",
              "      <td>0</td>\n",
              "      <td>0</td>\n",
              "      <td>1</td>\n",
              "      <td>0</td>\n",
              "    </tr>\n",
              "    <tr>\n",
              "      <th>158</th>\n",
              "      <td>13.8</td>\n",
              "      <td>15.0</td>\n",
              "      <td>16.2</td>\n",
              "      <td>1.8792</td>\n",
              "      <td>0</td>\n",
              "      <td>0</td>\n",
              "      <td>0</td>\n",
              "      <td>0</td>\n",
              "      <td>0</td>\n",
              "      <td>1</td>\n",
              "      <td>0</td>\n",
              "    </tr>\n",
              "  </tbody>\n",
              "</table>\n",
              "<p>158 rows × 11 columns</p>\n",
              "</div>\n",
              "      <button class=\"colab-df-convert\" onclick=\"convertToInteractive('df-eb0e2d99-2838-48ec-9244-43f5a804f8b4')\"\n",
              "              title=\"Convert this dataframe to an interactive table.\"\n",
              "              style=\"display:none;\">\n",
              "        \n",
              "  <svg xmlns=\"http://www.w3.org/2000/svg\" height=\"24px\"viewBox=\"0 0 24 24\"\n",
              "       width=\"24px\">\n",
              "    <path d=\"M0 0h24v24H0V0z\" fill=\"none\"/>\n",
              "    <path d=\"M18.56 5.44l.94 2.06.94-2.06 2.06-.94-2.06-.94-.94-2.06-.94 2.06-2.06.94zm-11 1L8.5 8.5l.94-2.06 2.06-.94-2.06-.94L8.5 2.5l-.94 2.06-2.06.94zm10 10l.94 2.06.94-2.06 2.06-.94-2.06-.94-.94-2.06-.94 2.06-2.06.94z\"/><path d=\"M17.41 7.96l-1.37-1.37c-.4-.4-.92-.59-1.43-.59-.52 0-1.04.2-1.43.59L10.3 9.45l-7.72 7.72c-.78.78-.78 2.05 0 2.83L4 21.41c.39.39.9.59 1.41.59.51 0 1.02-.2 1.41-.59l7.78-7.78 2.81-2.81c.8-.78.8-2.07 0-2.86zM5.41 20L4 18.59l7.72-7.72 1.47 1.35L5.41 20z\"/>\n",
              "  </svg>\n",
              "      </button>\n",
              "      \n",
              "  <style>\n",
              "    .colab-df-container {\n",
              "      display:flex;\n",
              "      flex-wrap:wrap;\n",
              "      gap: 12px;\n",
              "    }\n",
              "\n",
              "    .colab-df-convert {\n",
              "      background-color: #E8F0FE;\n",
              "      border: none;\n",
              "      border-radius: 50%;\n",
              "      cursor: pointer;\n",
              "      display: none;\n",
              "      fill: #1967D2;\n",
              "      height: 32px;\n",
              "      padding: 0 0 0 0;\n",
              "      width: 32px;\n",
              "    }\n",
              "\n",
              "    .colab-df-convert:hover {\n",
              "      background-color: #E2EBFA;\n",
              "      box-shadow: 0px 1px 2px rgba(60, 64, 67, 0.3), 0px 1px 3px 1px rgba(60, 64, 67, 0.15);\n",
              "      fill: #174EA6;\n",
              "    }\n",
              "\n",
              "    [theme=dark] .colab-df-convert {\n",
              "      background-color: #3B4455;\n",
              "      fill: #D2E3FC;\n",
              "    }\n",
              "\n",
              "    [theme=dark] .colab-df-convert:hover {\n",
              "      background-color: #434B5C;\n",
              "      box-shadow: 0px 1px 3px 1px rgba(0, 0, 0, 0.15);\n",
              "      filter: drop-shadow(0px 1px 2px rgba(0, 0, 0, 0.3));\n",
              "      fill: #FFFFFF;\n",
              "    }\n",
              "  </style>\n",
              "\n",
              "      <script>\n",
              "        const buttonEl =\n",
              "          document.querySelector('#df-eb0e2d99-2838-48ec-9244-43f5a804f8b4 button.colab-df-convert');\n",
              "        buttonEl.style.display =\n",
              "          google.colab.kernel.accessAllowed ? 'block' : 'none';\n",
              "\n",
              "        async function convertToInteractive(key) {\n",
              "          const element = document.querySelector('#df-eb0e2d99-2838-48ec-9244-43f5a804f8b4');\n",
              "          const dataTable =\n",
              "            await google.colab.kernel.invokeFunction('convertToInteractive',\n",
              "                                                     [key], {});\n",
              "          if (!dataTable) return;\n",
              "\n",
              "          const docLinkHtml = 'Like what you see? Visit the ' +\n",
              "            '<a target=\"_blank\" href=https://colab.research.google.com/notebooks/data_table.ipynb>data table notebook</a>'\n",
              "            + ' to learn more about interactive tables.';\n",
              "          element.innerHTML = '';\n",
              "          dataTable['output_type'] = 'display_data';\n",
              "          await google.colab.output.renderOutput(dataTable, element);\n",
              "          const docLink = document.createElement('div');\n",
              "          docLink.innerHTML = docLinkHtml;\n",
              "          element.appendChild(docLink);\n",
              "        }\n",
              "      </script>\n",
              "    </div>\n",
              "  </div>\n",
              "  "
            ]
          },
          "metadata": {},
          "execution_count": 18
        }
      ]
    },
    {
      "cell_type": "markdown",
      "source": [
        "## Entrenamiento"
      ],
      "metadata": {
        "id": "_b1t1YSEaU8y"
      }
    },
    {
      "cell_type": "code",
      "source": [
        "from sklearn.model_selection import train_test_split\n",
        "\n",
        "x_train, x_test, y_train, y_test = train_test_split(x,y, train_size=0.75, random_state=4595) \n",
        "\n",
        "print(f\"Entrenamiento: {x.shape,y.shape}\")\n",
        "print(f\"Prueba: {x_test.shape,y_test.shape}\")"
      ],
      "metadata": {
        "colab": {
          "base_uri": "https://localhost:8080/"
        },
        "id": "A6TBsAmGZBnY",
        "outputId": "994d901f-85d1-4368-91ac-0a69c6cf45a0"
      },
      "execution_count": 19,
      "outputs": [
        {
          "output_type": "stream",
          "name": "stdout",
          "text": [
            "Entrenamiento: ((158, 11), (158,))\n",
            "Prueba: ((40, 11), (40,))\n"
          ]
        }
      ]
    },
    {
      "cell_type": "markdown",
      "source": [
        "## Pipeline"
      ],
      "metadata": {
        "id": "MbY363JNapuo"
      }
    },
    {
      "cell_type": "code",
      "source": [
        "from sklearn.pipeline import Pipeline\n",
        "from sklearn.preprocessing import PolynomialFeatures\n",
        "from sklearn.linear_model import LinearRegression\n",
        "from sklearn.preprocessing import StandardScaler, MinMaxScaler\n",
        "\n",
        "pl = Pipeline([('scl',MinMaxScaler()),\n",
        "    ('pf',PolynomialFeatures(degree=2,include_bias=False)),\n",
        "               ('lr',LinearRegression())])\n",
        "\"\"\"\n",
        "pl = Pipeline([\n",
        "    ('pf',PolynomialFeatures(degree=2,include_bias=False)),\n",
        "               ('lr',LinearRegression())])   \n",
        "\"\"\"         "
      ],
      "metadata": {
        "id": "l_w3PaCbj6WT",
        "colab": {
          "base_uri": "https://localhost:8080/",
          "height": 35
        },
        "outputId": "84549618-88a4-4017-d74f-caf2012b8661"
      },
      "execution_count": 33,
      "outputs": [
        {
          "output_type": "execute_result",
          "data": {
            "text/plain": [
              "\"\\npl = Pipeline([\\n    ('pf',PolynomialFeatures(degree=2,include_bias=False)),\\n               ('lr',LinearRegression())])   \\n\""
            ],
            "application/vnd.google.colaboratory.intrinsic+json": {
              "type": "string"
            }
          },
          "metadata": {},
          "execution_count": 33
        }
      ]
    },
    {
      "cell_type": "code",
      "source": [
        "pl.fit(x_train,y_train)"
      ],
      "metadata": {
        "id": "7uvaHxmj6K35",
        "colab": {
          "base_uri": "https://localhost:8080/",
          "height": 161
        },
        "outputId": "ef396bcb-d6f6-4c4f-828a-1c7069c9f0d4"
      },
      "execution_count": 34,
      "outputs": [
        {
          "output_type": "execute_result",
          "data": {
            "text/plain": [
              "Pipeline(steps=[('scl', MinMaxScaler()),\n",
              "                ('pf', PolynomialFeatures(include_bias=False)),\n",
              "                ('lr', LinearRegression())])"
            ],
            "text/html": [
              "<style>#sk-container-id-2 {color: black;background-color: white;}#sk-container-id-2 pre{padding: 0;}#sk-container-id-2 div.sk-toggleable {background-color: white;}#sk-container-id-2 label.sk-toggleable__label {cursor: pointer;display: block;width: 100%;margin-bottom: 0;padding: 0.3em;box-sizing: border-box;text-align: center;}#sk-container-id-2 label.sk-toggleable__label-arrow:before {content: \"▸\";float: left;margin-right: 0.25em;color: #696969;}#sk-container-id-2 label.sk-toggleable__label-arrow:hover:before {color: black;}#sk-container-id-2 div.sk-estimator:hover label.sk-toggleable__label-arrow:before {color: black;}#sk-container-id-2 div.sk-toggleable__content {max-height: 0;max-width: 0;overflow: hidden;text-align: left;background-color: #f0f8ff;}#sk-container-id-2 div.sk-toggleable__content pre {margin: 0.2em;color: black;border-radius: 0.25em;background-color: #f0f8ff;}#sk-container-id-2 input.sk-toggleable__control:checked~div.sk-toggleable__content {max-height: 200px;max-width: 100%;overflow: auto;}#sk-container-id-2 input.sk-toggleable__control:checked~label.sk-toggleable__label-arrow:before {content: \"▾\";}#sk-container-id-2 div.sk-estimator input.sk-toggleable__control:checked~label.sk-toggleable__label {background-color: #d4ebff;}#sk-container-id-2 div.sk-label input.sk-toggleable__control:checked~label.sk-toggleable__label {background-color: #d4ebff;}#sk-container-id-2 input.sk-hidden--visually {border: 0;clip: rect(1px 1px 1px 1px);clip: rect(1px, 1px, 1px, 1px);height: 1px;margin: -1px;overflow: hidden;padding: 0;position: absolute;width: 1px;}#sk-container-id-2 div.sk-estimator {font-family: monospace;background-color: #f0f8ff;border: 1px dotted black;border-radius: 0.25em;box-sizing: border-box;margin-bottom: 0.5em;}#sk-container-id-2 div.sk-estimator:hover {background-color: #d4ebff;}#sk-container-id-2 div.sk-parallel-item::after {content: \"\";width: 100%;border-bottom: 1px solid gray;flex-grow: 1;}#sk-container-id-2 div.sk-label:hover label.sk-toggleable__label {background-color: #d4ebff;}#sk-container-id-2 div.sk-serial::before {content: \"\";position: absolute;border-left: 1px solid gray;box-sizing: border-box;top: 0;bottom: 0;left: 50%;z-index: 0;}#sk-container-id-2 div.sk-serial {display: flex;flex-direction: column;align-items: center;background-color: white;padding-right: 0.2em;padding-left: 0.2em;position: relative;}#sk-container-id-2 div.sk-item {position: relative;z-index: 1;}#sk-container-id-2 div.sk-parallel {display: flex;align-items: stretch;justify-content: center;background-color: white;position: relative;}#sk-container-id-2 div.sk-item::before, #sk-container-id-2 div.sk-parallel-item::before {content: \"\";position: absolute;border-left: 1px solid gray;box-sizing: border-box;top: 0;bottom: 0;left: 50%;z-index: -1;}#sk-container-id-2 div.sk-parallel-item {display: flex;flex-direction: column;z-index: 1;position: relative;background-color: white;}#sk-container-id-2 div.sk-parallel-item:first-child::after {align-self: flex-end;width: 50%;}#sk-container-id-2 div.sk-parallel-item:last-child::after {align-self: flex-start;width: 50%;}#sk-container-id-2 div.sk-parallel-item:only-child::after {width: 0;}#sk-container-id-2 div.sk-dashed-wrapped {border: 1px dashed gray;margin: 0 0.4em 0.5em 0.4em;box-sizing: border-box;padding-bottom: 0.4em;background-color: white;}#sk-container-id-2 div.sk-label label {font-family: monospace;font-weight: bold;display: inline-block;line-height: 1.2em;}#sk-container-id-2 div.sk-label-container {text-align: center;}#sk-container-id-2 div.sk-container {/* jupyter's `normalize.less` sets `[hidden] { display: none; }` but bootstrap.min.css set `[hidden] { display: none !important; }` so we also need the `!important` here to be able to override the default hidden behavior on the sphinx rendered scikit-learn.org. See: https://github.com/scikit-learn/scikit-learn/issues/21755 */display: inline-block !important;position: relative;}#sk-container-id-2 div.sk-text-repr-fallback {display: none;}</style><div id=\"sk-container-id-2\" class=\"sk-top-container\"><div class=\"sk-text-repr-fallback\"><pre>Pipeline(steps=[(&#x27;scl&#x27;, MinMaxScaler()),\n",
              "                (&#x27;pf&#x27;, PolynomialFeatures(include_bias=False)),\n",
              "                (&#x27;lr&#x27;, LinearRegression())])</pre><b>In a Jupyter environment, please rerun this cell to show the HTML representation or trust the notebook. <br />On GitHub, the HTML representation is unable to render, please try loading this page with nbviewer.org.</b></div><div class=\"sk-container\" hidden><div class=\"sk-item sk-dashed-wrapped\"><div class=\"sk-label-container\"><div class=\"sk-label sk-toggleable\"><input class=\"sk-toggleable__control sk-hidden--visually\" id=\"sk-estimator-id-5\" type=\"checkbox\" ><label for=\"sk-estimator-id-5\" class=\"sk-toggleable__label sk-toggleable__label-arrow\">Pipeline</label><div class=\"sk-toggleable__content\"><pre>Pipeline(steps=[(&#x27;scl&#x27;, MinMaxScaler()),\n",
              "                (&#x27;pf&#x27;, PolynomialFeatures(include_bias=False)),\n",
              "                (&#x27;lr&#x27;, LinearRegression())])</pre></div></div></div><div class=\"sk-serial\"><div class=\"sk-item\"><div class=\"sk-estimator sk-toggleable\"><input class=\"sk-toggleable__control sk-hidden--visually\" id=\"sk-estimator-id-6\" type=\"checkbox\" ><label for=\"sk-estimator-id-6\" class=\"sk-toggleable__label sk-toggleable__label-arrow\">MinMaxScaler</label><div class=\"sk-toggleable__content\"><pre>MinMaxScaler()</pre></div></div></div><div class=\"sk-item\"><div class=\"sk-estimator sk-toggleable\"><input class=\"sk-toggleable__control sk-hidden--visually\" id=\"sk-estimator-id-7\" type=\"checkbox\" ><label for=\"sk-estimator-id-7\" class=\"sk-toggleable__label sk-toggleable__label-arrow\">PolynomialFeatures</label><div class=\"sk-toggleable__content\"><pre>PolynomialFeatures(include_bias=False)</pre></div></div></div><div class=\"sk-item\"><div class=\"sk-estimator sk-toggleable\"><input class=\"sk-toggleable__control sk-hidden--visually\" id=\"sk-estimator-id-8\" type=\"checkbox\" ><label for=\"sk-estimator-id-8\" class=\"sk-toggleable__label sk-toggleable__label-arrow\">LinearRegression</label><div class=\"sk-toggleable__content\"><pre>LinearRegression()</pre></div></div></div></div></div></div></div>"
            ]
          },
          "metadata": {},
          "execution_count": 34
        }
      ]
    },
    {
      "cell_type": "code",
      "source": [
        "b0 = pl['lr'].intercept_\n",
        "b1 = pl['lr'].coef_[0]\n",
        "b2 = pl['lr'].coef_[1]\n",
        "print(b0,b1,b2)"
      ],
      "metadata": {
        "colab": {
          "base_uri": "https://localhost:8080/"
        },
        "id": "gVqcTwarVZYz",
        "outputId": "a5b2e39a-6e61-4277-8259-6c283cf74f42"
      },
      "execution_count": 35,
      "outputs": [
        {
          "output_type": "stream",
          "name": "stdout",
          "text": [
            "-66.56100536281775 -112242573630217.19 1766.078125\n"
          ]
        }
      ]
    },
    {
      "cell_type": "markdown",
      "source": [
        "## Predicciones"
      ],
      "metadata": {
        "id": "COqnho0AbyPj"
      }
    },
    {
      "cell_type": "markdown",
      "source": [
        "Veamos las predicciones en el conjunto de entrenamiento."
      ],
      "metadata": {
        "id": "iRwIorB-aX8s"
      }
    },
    {
      "cell_type": "code",
      "source": [
        "y_pred_train = pl.predict(x_train)\n"
      ],
      "metadata": {
        "id": "VdqrDsCW8HyJ"
      },
      "execution_count": 36,
      "outputs": []
    },
    {
      "cell_type": "code",
      "source": [
        "print(f\"Valores de prueba:\\n{y_train[:5]}\")\n",
        "print(f\"Valores predichos:\\n{np.round(y_pred_train[:5],2)}\")"
      ],
      "metadata": {
        "colab": {
          "base_uri": "https://localhost:8080/"
        },
        "id": "HUXXPMYNPfkm",
        "outputId": "4a3c3037-65ac-4da9-cd18-d7b969e0ed38"
      },
      "execution_count": 37,
      "outputs": [
        {
          "output_type": "stream",
          "name": "stdout",
          "text": [
            "Valores de prueba:\n",
            "108    320.0\n",
            "103    260.0\n",
            "31     955.0\n",
            "136    540.0\n",
            "93     145.0\n",
            "Name: Peso, dtype: float64\n",
            "Valores predichos:\n",
            "[352.57 257.82 917.7  554.1  144.2 ]\n"
          ]
        }
      ]
    },
    {
      "cell_type": "markdown",
      "source": [
        "Comparemos las predicciones y los valores reales"
      ],
      "metadata": {
        "id": "1I-hKMnGbJEy"
      }
    },
    {
      "cell_type": "code",
      "source": [
        "xaxis = np.linspace(np.min(y_train),np.max(y_train),200)\n",
        "plt.figure()\n",
        "plt.scatter(y_train, y_pred_train, label='Valores predichos')\n",
        "plt.ylabel(\"Predicciones\")\n",
        "plt.xlabel(\"Valores reales\")\n",
        "plt.plot(xaxis,xaxis,'k--')\n",
        "plt.show()"
      ],
      "metadata": {
        "id": "epa4rwzW82oz",
        "colab": {
          "base_uri": "https://localhost:8080/",
          "height": 449
        },
        "outputId": "2649d558-796a-4223-90b9-e89117beb760"
      },
      "execution_count": 38,
      "outputs": [
        {
          "output_type": "display_data",
          "data": {
            "text/plain": [
              "<Figure size 640x480 with 1 Axes>"
            ],
            "image/png": "[encoded data removed]"
          },
          "metadata": {}
        }
      ]
    },
    {
      "cell_type": "markdown",
      "source": [
        "Veamos las predicciones en el conjunto de prueba."
      ],
      "metadata": {
        "id": "H0md8_SybVx3"
      }
    },
    {
      "cell_type": "code",
      "source": [
        "y_pred_test = pl.predict(x_test)\n"
      ],
      "metadata": {
        "id": "WzGD2b0K9K0l"
      },
      "execution_count": 39,
      "outputs": []
    },
    {
      "cell_type": "code",
      "source": [
        "print(f\"Valores de prueba:\\n{y_test[:5]}\")\n",
        "print(f\"Valores predichos:\\n{np.round(y_pred_test[:5],2)}\")"
      ],
      "metadata": {
        "colab": {
          "base_uri": "https://localhost:8080/"
        },
        "id": "vZASKJ1iewCY",
        "outputId": "011f8678-34bc-4172-9afb-753a9496a803"
      },
      "execution_count": 40,
      "outputs": [
        {
          "output_type": "stream",
          "name": "stdout",
          "text": [
            "Valores de prueba:\n",
            "22     620.0\n",
            "113    700.0\n",
            "75      51.5\n",
            "54     390.0\n",
            "138    567.0\n",
            "Name: Peso, dtype: float64\n",
            "Valores predichos:\n",
            "[655.53 701.6   13.56 488.76 655.91]\n"
          ]
        }
      ]
    },
    {
      "cell_type": "markdown",
      "source": [
        "Comparamos usando los valores de entrenamiento."
      ],
      "metadata": {
        "id": "_Iak4IlzEg2R"
      }
    },
    {
      "cell_type": "code",
      "source": [
        "xaxis = np.linspace(np.min(y),np.max(y),100)\n",
        "\n",
        "plt.figure(dpi=100)\n",
        "plt.scatter(y_test, y_pred_test, c='red',alpha=0.5)\n",
        "plt.scatter(y_train, y_pred_train, c='blue',alpha=0.5)\n",
        "plt.plot(xaxis,xaxis,'k--')\n",
        "plt.legend(['Prediction on Test Data', 'Prediction on Training Data'])\n",
        "plt.xlabel(\"Valores reales\")\n",
        "plt.ylabel(\"Valores predichos\")\n",
        "plt.show()"
      ],
      "metadata": {
        "colab": {
          "base_uri": "https://localhost:8080/",
          "height": 449
        },
        "id": "U2NgKC09gFpV",
        "outputId": "b702ab62-11fa-40d1-f7b1-e5812e6a8171"
      },
      "execution_count": 41,
      "outputs": [
        {
          "output_type": "display_data",
          "data": {
            "text/plain": [
              "<Figure size 640x480 with 1 Axes>"
            ],
            "image/png": "[encoded data removed]"
          },
          "metadata": {}
        }
      ]
    },
    {
      "cell_type": "markdown",
      "source": [
        "* **Reporta la métrica de rendimiento r2score y MSE.**"
      ],
      "metadata": {
        "id": "bXX8qcw3cJO0"
      }
    },
    {
      "cell_type": "markdown",
      "source": [
        "Evaluamos el score."
      ],
      "metadata": {
        "id": "wr47ryyOOa9z"
      }
    },
    {
      "cell_type": "code",
      "source": [
        "\n",
        "print(f\"Entrenamiento: {pl.score(x_train,y_train)}\")\n",
        "print(f\"Prueba: {pl.score(x_test,y_test)}\")#R2score\n",
        "\n"
      ],
      "metadata": {
        "colab": {
          "base_uri": "https://localhost:8080/"
        },
        "id": "gWfdSDowOVnV",
        "outputId": "9fccf19c-a757-462e-850e-bec1495b1c33"
      },
      "execution_count": 42,
      "outputs": [
        {
          "output_type": "stream",
          "name": "stdout",
          "text": [
            "Entrenamiento: 0.9884391875300735\n",
            "Prueba: 0.9685276015848441\n"
          ]
        }
      ]
    },
    {
      "cell_type": "code",
      "source": [
        "\n",
        "from sklearn.metrics import mean_absolute_error, mean_squared_error\n",
        "#Promedio del error absoluto y cuadrático medio\n",
        "#print(mean_absolute_error(y_test,y_pred))\n",
        "print(f\" MSE: {mean_squared_error(y_test,y_pred_test)}\")"
      ],
      "metadata": {
        "colab": {
          "base_uri": "https://localhost:8080/"
        },
        "id": "lkiTZHceedKZ",
        "outputId": "b20c6bf5-bc45-4750-89fb-7a946f441bec"
      },
      "execution_count": 43,
      "outputs": [
        {
          "output_type": "stream",
          "name": "stdout",
          "text": [
            " MSE: 2512.223519788119\n"
          ]
        }
      ]
    },
    {
      "cell_type": "markdown",
      "source": [
        "### Interpretación de los resultados"
      ],
      "metadata": {
        "id": "Q308hPdwTegf"
      }
    },
    {
      "cell_type": "markdown",
      "source": [
        "Coeficientes de la regresión. Vemos que hay un coeficiente por cada feature. "
      ],
      "metadata": {
        "id": "PVAiHbgSUjY3"
      }
    },
    {
      "cell_type": "code",
      "source": [
        "#pl['lr'].intercept_ #regresion lineal intercepto\n",
        "print(pl['lr'].coef_.shape) #regresion lineal coeficientes\n",
        "print(pl['lr'].coef_)"
      ],
      "metadata": {
        "id": "gAod1U3HUQxe",
        "colab": {
          "base_uri": "https://localhost:8080/"
        },
        "outputId": "bbe8e558-c427-4939-f5bd-ac01c2aa7ae2"
      },
      "execution_count": 44,
      "outputs": [
        {
          "output_type": "stream",
          "name": "stdout",
          "text": [
            "(77,)\n",
            "[-1.12242574e+14  1.76607812e+03  4.45898047e+03  1.10326562e+03\n",
            " -3.87480469e+02  1.99218750e+01  2.82812500e+01  6.48314453e+02\n",
            " -3.09218750e+01  8.24394531e+01 -3.27333984e+02  3.54071922e+05\n",
            " -7.76658656e+05  8.31681328e+04 -5.33300000e+03  1.12242574e+14\n",
            "  1.12242574e+14  1.12242574e+14  1.12242574e+14  1.12242574e+14\n",
            "  1.12242574e+14  1.12242574e+14  3.16919891e+05  1.53565656e+05\n",
            " -5.60156250e+00 -1.79227031e+04 -1.01318906e+04 -3.29825000e+03\n",
            " -7.15949219e+03 -4.95125000e+03  3.76731250e+03  4.14797812e+04\n",
            " -1.18884078e+05 -7.02506250e+03  1.68629531e+04  5.90925781e+02\n",
            "  2.88714844e+02 -5.72083203e+03  2.61590625e+03 -2.84125000e+03\n",
            " -7.32557812e+03  4.11245312e+03  1.23869141e+02  1.64633789e+02\n",
            " -7.94773438e+02  3.50408594e+03 -3.07308594e+02 -5.27945312e+02\n",
            " -1.04689648e+03 -3.87667480e+02  0.00000000e+00  0.00000000e+00\n",
            "  0.00000000e+00  0.00000000e+00  0.00000000e+00  0.00000000e+00\n",
            " -6.91210938e+00  0.00000000e+00  0.00000000e+00  0.00000000e+00\n",
            "  0.00000000e+00  0.00000000e+00  2.24023438e+01  0.00000000e+00\n",
            "  0.00000000e+00  0.00000000e+00  0.00000000e+00  6.54294922e+02\n",
            "  0.00000000e+00  0.00000000e+00  0.00000000e+00 -3.08300781e+01\n",
            "  0.00000000e+00  0.00000000e+00  6.97504883e+01  0.00000000e+00\n",
            " -3.32675781e+02]\n"
          ]
        }
      ]
    },
    {
      "cell_type": "markdown",
      "source": [
        "Veamos cuales variables tienen más peso."
      ],
      "metadata": {
        "id": "dDo6GtVfXEEM"
      }
    },
    {
      "cell_type": "code",
      "source": [
        "columns = x.columns.to_list()\n",
        "coefs_dict = dict(zip(columns,pl['lr'].coef_))\n",
        "dict(sorted(coefs_dict.items(),key=lambda x:x[1],reverse=True))\n"
      ],
      "metadata": {
        "id": "783tAAkqWt8N",
        "colab": {
          "base_uri": "https://localhost:8080/"
        },
        "outputId": "bf608c85-44b5-4ae9-f9c4-852bef5f299c"
      },
      "execution_count": 45,
      "outputs": [
        {
          "output_type": "execute_result",
          "data": {
            "text/plain": [
              "{'Longitud3': 4458.98046875,\n",
              " 'Longitud2': 1766.078125,\n",
              " 'Anchura': 1103.265625,\n",
              " 'Especie_Pike': 648.314453125,\n",
              " 'Especie_Smelt': 82.439453125,\n",
              " 'Especie_Perch': 28.28125,\n",
              " 'Especie_Parkki': 19.921875,\n",
              " 'Especie_Roach': -30.921875,\n",
              " 'Especie_Whitefish': -327.333984375,\n",
              " 'Especie_Bream': -387.48046875,\n",
              " 'Longitud1': -112242573630217.19}"
            ]
          },
          "metadata": {},
          "execution_count": 45
        }
      ]
    },
    {
      "cell_type": "markdown",
      "source": [
        "## Comparación de resultados"
      ],
      "metadata": {
        "id": "FH7-ZasGeOcI"
      }
    },
    {
      "cell_type": "markdown",
      "source": [
        "**Polinomio grado=2** \\\n",
        "\n",
        "Incluyendo la variable **Altura** los resultados obtenidos, train 0.75:\n",
        "\n",
        "\\begin{array}{|c|c|} \\hline\n",
        " & Entrenamiento & Prueba & MSE \\\\ \\hline\n",
        "S/escalador & 0.9924750423 & 0.9648310661 & 2807.2923 \\\\ \\hline\n",
        "StandarScaler & 0.9924750743& 0.9648444292 & 2806.2256 \\\\\\hline\n",
        "MinMax & 0.9924749634 & 0.9648210685 & 2808.0903 \\\\ \\hline\n",
        "\\end{array}\n",
        "\n",
        "\n",
        "Sin la variable **Altura**, train 0.75:\n",
        "\n",
        "\\begin{array}{|c|c|} \\hline\n",
        " & Entrenamiento & Prueba & MSE \\\\ \\hline\n",
        "S/escalador & 0.9884385613 & 0.9685067289 & 2807.2923 \\\\ \\hline\n",
        "StandarScaler & 0.9884377618 & 0.9684418531 & 2513.8896 \\\\\\hline\n",
        "MinMax & 0.9884391875 & 0.9685276015 & 2512.2235 \\\\ \\hline\n",
        "\\end{array}\n",
        "\n",
        "\n",
        "\n"
      ],
      "metadata": {
        "id": "fddUflqOY1q_"
      }
    },
    {
      "cell_type": "markdown",
      "source": [
        "De los resultados el módelo (train 0.75) con mejor precisión de la predicción lo obtenemos, no incluyendo la variable **Altura** y utilizando el scalador **MinMax**.\n",
        "\\begin{array}{|c|c|} \\hline\n",
        "  Variable & Peso \\\\ \\hline\n",
        "  Longitud3 & 4458.98046875 \\\\ \n",
        " Longitud2 &1766.078125\\\\\n",
        " Anchura&1103.265625\\\\\n",
        " Especie_ Pike&648.314453125\\\\\n",
        " Especie_Smelt&82.439453125\\\\\n",
        " Especie_Perch&28.28125\\\\\n",
        " Especie_Parkki&19.921875\\\\\n",
        " Especie_Roach&-30.921875\\\\\n",
        " Especie_Whitefish& -327.333984375\\\\\n",
        " Especie_Bream&-387.48046875\\\\\n",
        " Longitud1&-112242573630217.1\\\\\n",
        " \\end{array}"
      ],
      "metadata": {
        "id": "Pd5OykCWhKZP"
      }
    }
  ]
}